{
 "cells": [
  {
   "cell_type": "markdown",
   "id": "6c835910-a864-4e17-8114-2e00b494c965",
   "metadata": {},
   "source": [
    "# QA VACs DC2 e DP0\n",
    "\n",
    "### Andressa Wille \n",
    "\n",
    "#### Universidade Tecnológica Federal do Paraná (UTFPR)\n",
    "#### Laboratório Interinstitucional de e-Astronomia (LIneA)"
   ]
  },
  {
   "cell_type": "markdown",
   "id": "64335389-270c-4c0f-8681-641ebda89f32",
   "metadata": {},
   "source": [
    "Plots: photo-z (zphot vs zspec, N(z)),  vac (footprint (ra x dec), mag dist, photo-z N(z), mag vs photo-z)."
   ]
  },
  {
   "cell_type": "markdown",
   "id": "e7757d28-45c5-4991-9526-4d8ab1cd166b",
   "metadata": {},
   "source": [
    "---------------------------------------------------------------------------------"
   ]
  },
  {
   "cell_type": "markdown",
   "id": "a4d67e23-e58a-49da-a62b-d48efee5b154",
   "metadata": {},
   "source": [
    "Links para processos no Portal:\n",
    "* Photo-z training: https://des-portal.linea.org.br/VP/getViewProcessCon?process_id=7028\n",
    "* Photo-z compute: https://des-portal.linea.org.br/VP/getViewProcessCon?process_id=7030 \n",
    "* VAC cosmo DC2 (?): https://des-portal.linea.org.br/VP/getViewProcessCon?process_id=7011\n",
    "* VAC DP0: https://des-portal.linea.org.br/VP/getViewProcessCon?process_id=7032"
   ]
  },
  {
   "cell_type": "markdown",
   "id": "b400d68a-b4f4-47f9-9051-6ead9b8d387b",
   "metadata": {},
   "source": [
    "_______________________________________________________________________________________"
   ]
  },
  {
   "cell_type": "markdown",
   "id": "49562c87-081e-4d4a-81fa-b88fe0f44e1a",
   "metadata": {},
   "source": [
    "#### Imports"
   ]
  },
  {
   "cell_type": "code",
   "execution_count": 8,
   "id": "3feb5a0b-126b-4528-bd4c-a56f4baa46f6",
   "metadata": {},
   "outputs": [],
   "source": [
    "import numpy as np \n",
    "import matplotlib.pyplot as plt\n",
    "import sqlalchemy\n",
    "import pandas as pd\n",
    "import gavodb\n",
    "from gavodb import DBManager"
   ]
  },
  {
   "cell_type": "markdown",
   "id": "66444887-a234-4634-9253-2c9e2feba414",
   "metadata": {},
   "source": [
    "#### Data"
   ]
  },
  {
   "cell_type": "code",
   "execution_count": 9,
   "id": "11365383-9f91-4d82-80f9-a39a547a54f5",
   "metadata": {},
   "outputs": [],
   "source": [
    "dbm = DBManager()"
   ]
  },
  {
   "cell_type": "markdown",
   "id": "9c9c7f5d-38dc-4a24-be9c-a436e95e1baf",
   "metadata": {},
   "source": [
    "#### Photo-z training"
   ]
  },
  {
   "cell_type": "code",
   "execution_count": 3,
   "id": "28c71962-1a93-4dec-acf8-4bf9b82aa9e0",
   "metadata": {},
   "outputs": [],
   "source": [
    "photoz_training = dbm.get_tablelist_from_pid('7028')"
   ]
  },
  {
   "cell_type": "code",
   "execution_count": 4,
   "id": "60d19c93-dfaa-4acb-ba7a-7d26092dc6ca",
   "metadata": {},
   "outputs": [
    {
     "data": {
      "text/plain": [
       "[]"
      ]
     },
     "execution_count": 4,
     "metadata": {},
     "output_type": "execute_result"
    }
   ],
   "source": [
    "photoz_training"
   ]
  },
  {
   "cell_type": "markdown",
   "id": "795b38b4-6bc7-4320-b379-ea8ec1eca73a",
   "metadata": {},
   "source": [
    "#### Photo-z compute"
   ]
  },
  {
   "cell_type": "code",
   "execution_count": 5,
   "id": "97997117-9635-4a3b-8cc2-bdd834e86f2a",
   "metadata": {},
   "outputs": [],
   "source": [
    "photoz_comp = dbm.get_tablelist_from_pid('7030')"
   ]
  },
  {
   "cell_type": "code",
   "execution_count": 6,
   "id": "11010ecc-f233-4d0f-8bea-4d813f615bb9",
   "metadata": {},
   "outputs": [
    {
     "data": {
      "text/plain": [
       "['photoz_compute.dnf_7030']"
      ]
     },
     "execution_count": 6,
     "metadata": {},
     "output_type": "execute_result"
    }
   ],
   "source": [
    "photoz_comp"
   ]
  },
  {
   "cell_type": "code",
   "execution_count": null,
   "id": "1dbacd07-fc3e-4644-9a76-727a241f03c8",
   "metadata": {},
   "outputs": [],
   "source": [
    "columns = ['z_best','err_z']\n",
    "photoz_comp = dbm.get_db_table('photoz_compute.dnf_7030', columns)"
   ]
  },
  {
   "cell_type": "markdown",
   "id": "9957aba6-738d-449f-88c2-e235379c6e85",
   "metadata": {},
   "source": [
    "#### VAC DC2"
   ]
  },
  {
   "cell_type": "code",
   "execution_count": 10,
   "id": "2afa2b24-d99f-4a31-8f0d-cc88dc743c0f",
   "metadata": {},
   "outputs": [],
   "source": [
    "vac_dc2_tables = dbm.get_tablelist_from_pid('7011')"
   ]
  },
  {
   "cell_type": "code",
   "execution_count": 11,
   "id": "986943ff-ae48-4d8e-86e0-5e4f97f63351",
   "metadata": {},
   "outputs": [
    {
     "data": {
      "text/plain": [
       "['vac_cluster_simulation.footprint_7011',\n",
       " 'vac_cluster_simulation.catalog_7011']"
      ]
     },
     "execution_count": 11,
     "metadata": {},
     "output_type": "execute_result"
    }
   ],
   "source": [
    "vac_dc2_tables"
   ]
  },
  {
   "cell_type": "code",
   "execution_count": 12,
   "id": "4367162b-8387-4203-96fb-3724ba9cc0c9",
   "metadata": {},
   "outputs": [],
   "source": [
    "vac_dc2 = dbm.get_db_table('vac_cluster_simulation.footprint_7011', ['ra', 'dec'])"
   ]
  },
  {
   "cell_type": "code",
   "execution_count": null,
   "id": "bf842388-89e5-4aa2-a689-8de43b76a919",
   "metadata": {},
   "outputs": [],
   "source": [
    "vac2_dc2 = dbm.get_db_table('vac_cluster_simulation.catalog_7011', ['ra', 'dec', 'mag_g', 'mag_r', 'mag_i', 'mag_z', 'mag_y'])"
   ]
  },
  {
   "cell_type": "code",
   "execution_count": 13,
   "id": "49f77267-f347-4447-b1ef-c63449d1cb01",
   "metadata": {},
   "outputs": [
    {
     "data": {
      "text/plain": [
       "array([[ 50.40527344,  51.28417969,  50.5480957 , ...,  74.63012695,\n",
       "         61.66625977,  65.22172949],\n",
       "       [-34.42082925, -37.46203997, -35.27306975, ..., -29.35598753,\n",
       "        -35.3645019 , -42.27282242]])"
      ]
     },
     "execution_count": 13,
     "metadata": {},
     "output_type": "execute_result"
    }
   ],
   "source": [
    "vac_dc2"
   ]
  },
  {
   "cell_type": "code",
   "execution_count": 14,
   "id": "17c738b0-3de7-45d1-86e1-371149d5a163",
   "metadata": {},
   "outputs": [],
   "source": [
    "vac_dataframe = pd.DataFrame(data=vac_dc2)"
   ]
  },
  {
   "cell_type": "code",
   "execution_count": 15,
   "id": "5f430a63-935a-46c4-aac3-415699676810",
   "metadata": {},
   "outputs": [],
   "source": [
    "vac_dataframe = vac_dataframe.T"
   ]
  },
  {
   "cell_type": "code",
   "execution_count": 16,
   "id": "e879faab-007f-4d8b-8087-315b63bac07a",
   "metadata": {},
   "outputs": [],
   "source": [
    "vac_dataframe.columns = ['ra', 'dec']"
   ]
  },
  {
   "cell_type": "code",
   "execution_count": 17,
   "id": "1d89d508-afdc-40bf-ad57-e9a41c31af9d",
   "metadata": {},
   "outputs": [
    {
     "data": {
      "text/html": [
       "<div>\n",
       "<style scoped>\n",
       "    .dataframe tbody tr th:only-of-type {\n",
       "        vertical-align: middle;\n",
       "    }\n",
       "\n",
       "    .dataframe tbody tr th {\n",
       "        vertical-align: top;\n",
       "    }\n",
       "\n",
       "    .dataframe thead th {\n",
       "        text-align: right;\n",
       "    }\n",
       "</style>\n",
       "<table border=\"1\" class=\"dataframe\">\n",
       "  <thead>\n",
       "    <tr style=\"text-align: right;\">\n",
       "      <th></th>\n",
       "      <th>ra</th>\n",
       "      <th>dec</th>\n",
       "    </tr>\n",
       "  </thead>\n",
       "  <tbody>\n",
       "    <tr>\n",
       "      <th>0</th>\n",
       "      <td>50.405273</td>\n",
       "      <td>-34.420829</td>\n",
       "    </tr>\n",
       "    <tr>\n",
       "      <th>1</th>\n",
       "      <td>51.284180</td>\n",
       "      <td>-37.462040</td>\n",
       "    </tr>\n",
       "    <tr>\n",
       "      <th>2</th>\n",
       "      <td>50.548096</td>\n",
       "      <td>-35.273070</td>\n",
       "    </tr>\n",
       "    <tr>\n",
       "      <th>3</th>\n",
       "      <td>52.404785</td>\n",
       "      <td>-37.697382</td>\n",
       "    </tr>\n",
       "    <tr>\n",
       "      <th>4</th>\n",
       "      <td>49.592285</td>\n",
       "      <td>-35.238809</td>\n",
       "    </tr>\n",
       "    <tr>\n",
       "      <th>...</th>\n",
       "      <td>...</td>\n",
       "      <td>...</td>\n",
       "    </tr>\n",
       "    <tr>\n",
       "      <th>2149849</th>\n",
       "      <td>49.416504</td>\n",
       "      <td>-39.777742</td>\n",
       "    </tr>\n",
       "    <tr>\n",
       "      <th>2149850</th>\n",
       "      <td>73.081055</td>\n",
       "      <td>-28.599121</td>\n",
       "    </tr>\n",
       "    <tr>\n",
       "      <th>2149851</th>\n",
       "      <td>74.630127</td>\n",
       "      <td>-29.355988</td>\n",
       "    </tr>\n",
       "    <tr>\n",
       "      <th>2149852</th>\n",
       "      <td>61.666260</td>\n",
       "      <td>-35.364502</td>\n",
       "    </tr>\n",
       "    <tr>\n",
       "      <th>2149853</th>\n",
       "      <td>65.221729</td>\n",
       "      <td>-42.272822</td>\n",
       "    </tr>\n",
       "  </tbody>\n",
       "</table>\n",
       "<p>2149854 rows × 2 columns</p>\n",
       "</div>"
      ],
      "text/plain": [
       "                ra        dec\n",
       "0        50.405273 -34.420829\n",
       "1        51.284180 -37.462040\n",
       "2        50.548096 -35.273070\n",
       "3        52.404785 -37.697382\n",
       "4        49.592285 -35.238809\n",
       "...            ...        ...\n",
       "2149849  49.416504 -39.777742\n",
       "2149850  73.081055 -28.599121\n",
       "2149851  74.630127 -29.355988\n",
       "2149852  61.666260 -35.364502\n",
       "2149853  65.221729 -42.272822\n",
       "\n",
       "[2149854 rows x 2 columns]"
      ]
     },
     "execution_count": 17,
     "metadata": {},
     "output_type": "execute_result"
    }
   ],
   "source": [
    "vac_dataframe"
   ]
  },
  {
   "cell_type": "code",
   "execution_count": 18,
   "id": "6f4d1355-cad4-4ea6-bb47-a8dba5232808",
   "metadata": {},
   "outputs": [],
   "source": [
    "dc2 = vac_dataframe"
   ]
  },
  {
   "cell_type": "markdown",
   "id": "3d7d5e23-e1d0-4746-85ce-44eb19d21813",
   "metadata": {},
   "source": [
    "#### DP0"
   ]
  },
  {
   "cell_type": "code",
   "execution_count": null,
   "id": "e8778059-4d70-4585-8d7a-07994d8076de",
   "metadata": {},
   "outputs": [],
   "source": [
    "vac_dc2_tables = dbm.get_tablelist_from_pid('7032')"
   ]
  },
  {
   "cell_type": "code",
   "execution_count": null,
   "id": "8e8eb326-373f-4936-96c2-e5036bc9fcad",
   "metadata": {},
   "outputs": [],
   "source": []
  },
  {
   "cell_type": "markdown",
   "id": "7bc04945-70cc-4d3c-9deb-47341ef41a58",
   "metadata": {},
   "source": [
    "#### Photo-z x spec-z"
   ]
  },
  {
   "cell_type": "code",
   "execution_count": null,
   "id": "05532803-96cd-45d4-9fa9-22765b02c8bf",
   "metadata": {},
   "outputs": [],
   "source": [
    "plt.plot(dc2['z_photo'], dc2['z_spec'], 'k.')\n",
    "plt.xlabel(\"photo-z\")\n",
    "plt.ylabel(\"spec-z\")\n",
    "plt.title(\"Redshift\")\n",
    "plt.grid(True)\n",
    "plt.tight_layout()"
   ]
  },
  {
   "cell_type": "markdown",
   "id": "d73cbddb-ca9c-485b-9537-0fe114006c7c",
   "metadata": {},
   "source": [
    "#### Footprint RA x DEC"
   ]
  },
  {
   "cell_type": "code",
   "execution_count": 19,
   "id": "36c5262b-8f38-48c4-b5dd-0e797087a78c",
   "metadata": {},
   "outputs": [
    {
     "data": {
      "image/png": "[encoded data removed]",
      "text/plain": [
       "<Figure size 640x480 with 2 Axes>"
      ]
     },
     "metadata": {},
     "output_type": "display_data"
    }
   ],
   "source": [
    "#Area = 441.41\n",
    "\n",
    "ra = dc2['ra']\n",
    "ra[ra >180.0] -= 360\n",
    "dec = dc2['dec']\n",
    "plt.hist2d(ra, dec, bins=100, weights=None, cmin=0.5, cmax=None, cmap='cool')\n",
    "plt.xlabel(\"RA (deg)\", fontsize=14)\n",
    "plt.ylabel(\"Dec (deg)\", fontsize=14)\n",
    "plt.colorbar(label=\"density of points\")\n",
    "ylims=[-60, -10]\n",
    "plt.ylim(ylims)\n",
    "xlims=[0, 100]\n",
    "plt.xlim(xlims)\n",
    "#plt.grid()\n",
    "plt.xticks(fontsize=12)\n",
    "plt.yticks(fontsize=12)\n",
    "plt.title('Footprint cosmoDC2', fontsize=12)\n",
    "plt.tight_layout()"
   ]
  },
  {
   "cell_type": "markdown",
   "id": "b0bebd88-78cc-4dd0-92a9-7478bf56e2a4",
   "metadata": {},
   "source": [
    "#### N(z)"
   ]
  },
  {
   "cell_type": "code",
   "execution_count": null,
   "id": "75ec2e56-89ab-4ece-80ef-7c0032cb5908",
   "metadata": {},
   "outputs": [],
   "source": [
    "plt.hist(dc2['z_best'], bins='auto', ec=\"cornflowerblue\", fc=\"cornflowerblue\")\n",
    "plt.xlabel(\"z\")\n",
    "plt.ylabel(\"Counts\")\n",
    "plt.title(\"Redshift Distribution\")\n",
    "plt.grid(True)\n",
    "plt.tight_layout()"
   ]
  },
  {
   "cell_type": "markdown",
   "id": "9bd55075-cba0-49cd-b51a-bc71b446e07e",
   "metadata": {},
   "source": [
    "#### Mags dis"
   ]
  },
  {
   "cell_type": "code",
   "execution_count": null,
   "id": "5acdfa9d-0c1c-41f8-96cf-ff8aae238e31",
   "metadata": {},
   "outputs": [],
   "source": [
    "bands = ['g', 'r', 'i', 'z', 'y']\n",
    "\n",
    "for i, band in enumerate(bands):\n",
    "    plt.figure()\n",
    "    plt.hist(dc2[f'mag_{band}'], histtype='bar', bins='auto', ec=\"cornflowerblue\")\n",
    "    plt.xlabel(\"mag \"+band)\n",
    "    plt.ylabel(\"Counts\")\n",
    "    plt.xlim(10, 40)\n",
    "    plt.yscale('log')\n",
    "    plt.grid(True)\n",
    "    plt.tight_layout()"
   ]
  },
  {
   "cell_type": "markdown",
   "id": "ac670b96-4844-429c-a3b8-fbcf87df7934",
   "metadata": {},
   "source": [
    "#### Mag x z"
   ]
  },
  {
   "cell_type": "code",
   "execution_count": null,
   "id": "eec6310c-4c11-4615-bceb-f6f9f5b8b0b3",
   "metadata": {},
   "outputs": [],
   "source": [
    "for i, band in enumerate(bands):\n",
    "    pl.figure(figsize=[10,4])\n",
    "    pl.subplot(121) \n",
    "    mag = np.array(dc2[f'mag_{band}'])\n",
    "    z = np.array(dc2['z_best'])\n",
    "    mask = (mag>14)&(mag<32)&(z<=2)\n",
    "    pl.hexbin(z[mask], mag[mask], None,  mincnt=1, cmap='viridis', gridsize=[200,100], bins='log')\n",
    "    cbar = pl.colorbar()\n",
    "    pl.xlabel(\"mag \"+band)\n",
    "    pl.ylabel(\"redshift\")\n",
    "    pl.grid(True)\n",
    "    pl.tight_layout()"
   ]
  }
 ],
 "metadata": {
  "kernelspec": {
   "display_name": "Python 3 (ipykernel)",
   "language": "python",
   "name": "python3"
  },
  "language_info": {
   "codemirror_mode": {
    "name": "ipython",
    "version": 3
   },
   "file_extension": ".py",
   "mimetype": "text/x-python",
   "name": "python",
   "nbconvert_exporter": "python",
   "pygments_lexer": "ipython3",
   "version": "3.10.6"
  }
 },
 "nbformat": 4,
 "nbformat_minor": 5
}
