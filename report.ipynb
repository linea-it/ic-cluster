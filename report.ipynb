{
 "cells": [
  {
   "cell_type": "markdown",
   "id": "3c68a482-7a74-42ec-ae8c-d8746f68404a",
   "metadata": {},
   "source": [
    "# Evolution of red sequence on WaZP DP0 clusters\n",
    "\n",
    "### Andressa Wille \n",
    "\n",
    "#### Universidade Tecnológica Federal do Paraná (UTFPR)\n",
    "#### Laboratório Interinstitucional de e-Astronomia (LIneA)\n"
   ]
  },
  {
   "cell_type": "markdown",
   "id": "a794dbd8-90d3-4cf6-a682-0794181e7576",
   "metadata": {},
   "source": [
    "## Objectives & Research Question:\n",
    "* Study the red fraction evolution of members of WaZP clusters on DP0;\n",
    "* Evaluate the performance of the WaZP algorithm, depending on input data;\n",
    "* What is the impact of photo-z uncertainties on the red sequence evolution?  \n",
    "\n",
    "## Background:\n",
    "The Wavelet Z Photometric (WaZP) is an optical cluster finder that detects clusters using photometric redshift information. The algorithm can be used to select cluster members to study different aspects in cluster evolution, as the color-magnitude diagram feature named red sequence.\n",
    "\n",
    "https://github.com/linea-it/wazp"
   ]
  },
  {
   "cell_type": "markdown",
   "id": "9ce3b5c2-412c-4678-b6ef-53a668bff53b",
   "metadata": {},
   "source": [
    "\n",
    "## Methodology:"
   ]
  },
  {
   "cell_type": "markdown",
   "id": "9bc48131-7fbe-4e1a-81cb-98623e97e856",
   "metadata": {},
   "source": [
    "Imports"
   ]
  },
  {
   "cell_type": "code",
   "execution_count": null,
   "id": "e5f1a219-9358-421a-9927-72f8294d8fc8",
   "metadata": {
    "tags": []
   },
   "outputs": [],
   "source": [
    "import numpy as np \n",
    "import matplotlib.pyplot as plt\n",
    "from astropy.table import Table\n",
    "import pandas as pd\n",
    "from scipy.optimize import curve_fit\n",
    "import sys\n",
    "from scipy.interpolate import InterpolatedUnivariateSpline as spline\n",
    "from scipy.integrate import quad\n",
    "from scipy.special import erf\n",
    "import sqlalchemy\n",
    "from gavodb import DBManager\n",
    "\n",
    "%matplotlib inline"
   ]
  },
  {
   "cell_type": "markdown",
   "id": "2d8ced65-52cf-4b7a-9068-696431dfcb56",
   "metadata": {},
   "source": [
    "### VAC QAs:"
   ]
  },
  {
   "cell_type": "markdown",
   "id": "a2243802-e408-4e89-9241-e5f00ab3ad91",
   "metadata": {},
   "source": [
    "Processes on DES Science Portal:\n",
    "\n",
    "| Pipeline | Product Log|\n",
    "|---|:--:|\n",
    "| Photo-z Training   | [7028](https://des-portal.linea.org.br/VP/getViewProcessCon?process_id=7028) |\n",
    "| Photo-z Compute    | [7030](https://des-portal.linea.org.br/VP/getViewProcessCon?process_id=7030) |\n",
    "| VAC DP0            | [7032](https://des-portal.linea.org.br/VP/getViewProcessCon?process_id=7032) |\n",
    "| VAC DC2            | [7011](https://des-portal.linea.org.br/VP/getViewProcessCon?process_id=7011) |\n"
   ]
  },
  {
   "cell_type": "code",
   "execution_count": null,
   "id": "01382e31-793b-4b75-97cd-1afe036fe517",
   "metadata": {},
   "outputs": [],
   "source": [
    "dbm = DBManager()"
   ]
  },
  {
   "cell_type": "markdown",
   "id": "07e56463-0207-4afc-83fc-04cbfb03a78e",
   "metadata": {
    "tags": []
   },
   "source": [
    "#### VAC DC2"
   ]
  },
  {
   "cell_type": "code",
   "execution_count": null,
   "id": "3be252d9-2971-4aff-88af-c495250f092d",
   "metadata": {},
   "outputs": [],
   "source": [
    "vac_dc2_tables = dbm.get_tablelist_from_pid('7011')"
   ]
  },
  {
   "cell_type": "code",
   "execution_count": null,
   "id": "98cc204a-be14-4f96-b443-6bcf9d804966",
   "metadata": {},
   "outputs": [],
   "source": [
    "vac_dc2_tables"
   ]
  },
  {
   "cell_type": "code",
   "execution_count": null,
   "id": "015f5d6d-438e-45f7-bdd6-c4f3cb614b55",
   "metadata": {},
   "outputs": [],
   "source": [
    "vac_dc2 = dbm.get_db_table('vac_cluster_simulation.footprint_7011', ['ra', 'dec'])"
   ]
  },
  {
   "cell_type": "code",
   "execution_count": null,
   "id": "00509ded-36bd-4220-9c80-9ed9b24938a2",
   "metadata": {},
   "outputs": [],
   "source": [
    "vac_dataframe = pd.DataFrame(data=vac_dc2)\n",
    "vac_dataframe = vac_dataframe.T\n",
    "vac_dataframe.columns = ['ra', 'dec']\n",
    "dc2 = vac_dataframe\n",
    "dc2"
   ]
  },
  {
   "cell_type": "markdown",
   "id": "855b85b1-8d00-43a8-9d29-b5294d98fe3f",
   "metadata": {},
   "source": [
    "#### VAC DP0"
   ]
  },
  {
   "cell_type": "code",
   "execution_count": null,
   "id": "b3df6245-7350-42cb-a4cb-ea6d54445b9a",
   "metadata": {},
   "outputs": [],
   "source": [
    "vac_dp0_tables = dbm.get_tablelist_from_pid('7032')\n",
    "vac_dp0_tables"
   ]
  },
  {
   "cell_type": "code",
   "execution_count": null,
   "id": "cbb10465-36b8-4eb8-9f1d-4ce213ccda94",
   "metadata": {},
   "outputs": [],
   "source": [
    "vac_dp0 = dbm.get_db_table('vac_cluster_simulation.catalog_7032', ['z_best'])"
   ]
  },
  {
   "cell_type": "code",
   "execution_count": null,
   "id": "a99bfc52-03e0-4816-86b2-a720f822403e",
   "metadata": {},
   "outputs": [],
   "source": [
    "vac_dp0 = pd.DataFrame(data=vac_dp0)\n",
    "vac_dp0 = vac_dp0.T\n",
    "vac_dp0.columns = ['z_best']\n",
    "vac_dp0"
   ]
  },
  {
   "cell_type": "markdown",
   "id": "edf6843d-341e-4bbb-abde-20d918a15be7",
   "metadata": {},
   "source": [
    "#### N(z)"
   ]
  },
  {
   "cell_type": "code",
   "execution_count": null,
   "id": "b2dff226-7178-4372-bb31-c5826fc82442",
   "metadata": {},
   "outputs": [],
   "source": [
    "bins = np.linspace(0,3,61)\n",
    "plt.grid(True)\n",
    "plt.hist(vac_dp0['z_best'], bins=bins, histtype='step', color=\"darkblue\")\n",
    "plt.xlabel(\"z\")\n",
    "plt.ylabel(\"Counts\")\n",
    "#plt.title(\"Redshift Distribution\")\n",
    "plt.xlim(0,3)\n",
    "plt.tight_layout()\n",
    "plt.savefig('photozbest.png')"
   ]
  },
  {
   "cell_type": "markdown",
   "id": "288303be-b464-49c4-8c18-ad0fe6781288",
   "metadata": {},
   "source": [
    "\n",
    "### Data: \n",
    "   #### Catalogs\n",
    "* Catalogs of WaZP cluster members in DC2 (truth mags, truth z) and DP0 (\"observed\" mags, photo-z DNF);\n",
    "* Truth DC2 halo members catalog, used as reference.\n"
   ]
  },
  {
   "cell_type": "code",
   "execution_count": null,
   "id": "2e2b89e7-cb93-4da1-a19b-0049e2210b7d",
   "metadata": {},
   "outputs": [],
   "source": [
    "#DP0 catalog\n",
    "wazp_dp0 = Table.read('/archive/user/aguena/cats/dp0/wazp/7038/wazp_membership.fits', format='fits')\n",
    "#wazp_dp0\n",
    "print(wazp_dp0.colnames)"
   ]
  },
  {
   "cell_type": "code",
   "execution_count": null,
   "id": "c894cf7f-70b4-4939-85d3-9e9bd94db361",
   "metadata": {},
   "outputs": [],
   "source": [
    "#DC2 catalog\n",
    "wazp_dc2 = Table.read('/archive/user/aguena/cats/dc2/cosmoDC2_v1.1.4/extragal/full/wazp/6948/wazp_membership.fits', format='fits')\n",
    "#wazp_dc2\n",
    "print(wazp_dc2.colnames)"
   ]
  },
  {
   "cell_type": "markdown",
   "id": "b4df1d99-9642-4907-95b7-1c0a188a0d03",
   "metadata": {},
   "source": [
    "______________________________"
   ]
  },
  {
   "cell_type": "markdown",
   "id": "403f40db-e8b7-4919-be60-50c809ea1ac5",
   "metadata": {},
   "source": [
    "The truth catalog is a matching between the WaZP clusters catalog and the halos catalog.\n",
    "For this part of the work, we used ClEvaR, a library to validate cluster detection, to match the catalogs."
   ]
  },
  {
   "cell_type": "code",
   "execution_count": null,
   "id": "8f9a83ff-21b7-40a3-be8a-36f51dc7910f",
   "metadata": {},
   "outputs": [],
   "source": [
    "from clevar import ClCatalog\n",
    "from clevar.match import MembershipMatch"
   ]
  },
  {
   "cell_type": "code",
   "execution_count": null,
   "id": "f0619856-637e-4e43-b31f-bcd4d03ab852",
   "metadata": {},
   "outputs": [],
   "source": [
    "# read catalogs\n",
    "wazp = ClCatalog.read('/archive/user/aguena/cats/dc2/cosmoDC2_v1.1.4/extragal/full/wazp/6948/wazp_cluster.fits', \n",
    "                      'wazp', tags={'id':'id','ngals':'ngals','zp_bright':'zp_bright'}, full=False)\n",
    "halo = ClCatalog.read('/archive/user/aguena/cats/dc2/cosmoDC2_v1.1.4/extragal/full/halos/halos_m200c_13.0.fits', \n",
    "                      'halo', tags={'id':'halo_id'}, full=False)\n",
    "mt = MembershipMatch()\n",
    "# read matching info\n",
    "mt.load_matches(wazp, halo, '/archive/user/aguena/notebooks_backup/wazp/dc2/6948/mem_pmem')"
   ]
  },
  {
   "cell_type": "markdown",
   "id": "2b33be44-fd53-44eb-b018-1785aec6e0e6",
   "metadata": {},
   "source": [
    "Select richness interval."
   ]
  },
  {
   "cell_type": "code",
   "execution_count": null,
   "id": "2c8ec73e-c091-4757-bd2b-d2d4bec043d2",
   "metadata": {},
   "outputs": [],
   "source": [
    "mask_25_truth = (wazp['NGALS']>25)&(wazp['NGALS']<35)\n",
    "mask_35_truth = (wazp['NGALS']>35)&(wazp['NGALS']<50)\n",
    "mask_50_truth = (wazp['NGALS']>50)\n",
    "\n",
    "richness_truth = [mask_25_truth, mask_35_truth, mask_50_truth]"
   ]
  },
  {
   "cell_type": "markdown",
   "id": "272e0a0b-861c-47a3-a681-c980ba4a61a1",
   "metadata": {},
   "source": [
    "Do the matching."
   ]
  },
  {
   "cell_type": "code",
   "execution_count": null,
   "id": "297ad04e-e047-43f9-a995-036a8c5713ce",
   "metadata": {},
   "outputs": [],
   "source": [
    "from clevar.match import get_matched_pairs\n",
    "for i, richness in enumerate(richness_truth):\n",
    "    wazp_matched, halos_matched = get_matched_pairs(wazp, halo, 'cross', mask1=richness)\n",
    "    if i == 0:\n",
    "        halos_matched_25 = halos_matched\n",
    "    if i == 1:\n",
    "        halos_matched_35 = halos_matched\n",
    "    if i == 2:\n",
    "        halos_matched_50 = halos_matched\n",
    "        \n",
    "print(f'25<Ngals<35:{halos_matched_25}\\n35<Ngals<50:{halos_matched_35}\\nNgals>50:{halos_matched_50}')"
   ]
  },
  {
   "cell_type": "markdown",
   "id": "ff52abb1-8033-4c35-9534-62153ace564c",
   "metadata": {},
   "source": [
    "Nice. We have the halos. Now we need the halo members."
   ]
  },
  {
   "cell_type": "code",
   "execution_count": null,
   "id": "a07a57ba-e3c3-48f4-aae5-296ea1fe517a",
   "metadata": {},
   "outputs": [],
   "source": [
    "halo_members_path = '/archive/user/aguena/cats/dc2/cosmoDC2_v1.1.4/extragal/full/halos/'\n",
    "halo_members = Table.read(halo_members_path + 'halos_m200c_13.0_members_nfwpmem.fits', format='fits')"
   ]
  },
  {
   "cell_type": "code",
   "execution_count": null,
   "id": "4638aca8-119b-4d04-8fce-c45d8d3f5bbb",
   "metadata": {},
   "outputs": [],
   "source": [
    "halo_members['halo_id'] = halo_members['halo_id'].astype(str)"
   ]
  },
  {
   "cell_type": "code",
   "execution_count": null,
   "id": "407458ef-f5e1-4662-bab1-983366924356",
   "metadata": {},
   "outputs": [],
   "source": [
    "mem_mask = [HALO_ID in halos_matched_25.id_dict for HALO_ID in halo_members['halo_id']]\n",
    "truth_25 = halo_members[mem_mask]\n",
    "print(truth_25.colnames)\n",
    "#truth_25\n",
    "\n",
    "mem_mask = [HALO_ID in halos_matched_35.id_dict for HALO_ID in halo_members['halo_id']]\n",
    "truth_35 = halo_members[mem_mask]\n",
    "#truth_35\n",
    "\n",
    "mem_mask = [HALO_ID in halos_matched_50.id_dict for HALO_ID in halo_members['halo_id']]\n",
    "truth_50 = halo_members[mem_mask]\n",
    "#truth_50"
   ]
  },
  {
   "cell_type": "code",
   "execution_count": null,
   "id": "174cece5-d077-4f66-bf93-703e41d4a4ce",
   "metadata": {},
   "outputs": [],
   "source": [
    "truth_richness = [truth_25, truth_35, truth_50]"
   ]
  },
  {
   "cell_type": "markdown",
   "id": "b7278fe9-b291-499a-a65b-d7e2b25d2274",
   "metadata": {},
   "source": [
    "_______"
   ]
  },
  {
   "cell_type": "markdown",
   "id": "f690db46-7afd-4fce-9ca8-5c2bef7f484a",
   "metadata": {},
   "source": [
    "#### Data selection"
   ]
  },
  {
   "cell_type": "markdown",
   "id": "92507b20-21bc-42c2-9743-a22f3b8ae47a",
   "metadata": {},
   "source": [
    "Select the catalog (wazp_dc2, wazp_dp0 or truth) and the magnitude bands to plot examples of CMDs and color histograms."
   ]
  },
  {
   "cell_type": "code",
   "execution_count": null,
   "id": "1ea4e6cb-754a-4edc-b912-641bd7c6b5b3",
   "metadata": {},
   "outputs": [],
   "source": [
    "catalog = wazp_dp0\n",
    "\n",
    "mag1 = 'r'\n",
    "mag2 = 'i'"
   ]
  },
  {
   "cell_type": "markdown",
   "id": "abd3c4b5-27bb-43b1-bca4-d2bde01cade8",
   "metadata": {},
   "source": [
    "Magnitude cut $m_{r}^{*}$"
   ]
  },
  {
   "cell_type": "code",
   "execution_count": null,
   "id": "bec2759c-aa47-48b0-8e18-57d311497b59",
   "metadata": {},
   "outputs": [],
   "source": [
    "data = np.loadtxt('/archive/user/aguena/cats/dc2/mstar/DC2_z_star.dat')\n",
    "mstar = spline(*data[data[:,0]<2].T)"
   ]
  },
  {
   "cell_type": "code",
   "execution_count": null,
   "id": "fc5d4aa4-7923-44eb-85eb-fa60c84635f3",
   "metadata": {},
   "outputs": [],
   "source": [
    "mask_mag = (catalog['mag_z']<=mstar(catalog['ZP'])+1.5)"
   ]
  },
  {
   "cell_type": "markdown",
   "id": "6025b9fb-5cad-4a48-b498-d5eba15718b8",
   "metadata": {},
   "source": [
    "Select the richness intervals."
   ]
  },
  {
   "cell_type": "code",
   "execution_count": null,
   "id": "2e29e5d7-200e-4a0d-9691-61dd605c0fa8",
   "metadata": {},
   "outputs": [],
   "source": [
    "mask_25 = (catalog['NGALS']>25)&(catalog['NGALS']<35)\n",
    "mask_35 = (catalog['NGALS']>35)&(catalog['NGALS']<50)\n",
    "mask_50 = (catalog['NGALS']>50)\n",
    "\n",
    "richness = [mask_25, mask_35, mask_50]"
   ]
  },
  {
   "cell_type": "markdown",
   "id": "d9691aa8-769d-4048-9f4f-d71a82e2d513",
   "metadata": {},
   "source": [
    "### Redshift distribution"
   ]
  },
  {
   "cell_type": "code",
   "execution_count": null,
   "id": "b2dabdad-6575-450f-8e38-5c46a6a3ca22",
   "metadata": {},
   "outputs": [],
   "source": [
    "plt.rcParams['font.size'] = 14\n",
    "\n",
    "bins = np.linspace(0,1.5,16)\n",
    "plt.hist(catalog['ZP'], bins=bins, ec=\"black\", fc=\"mediumseagreen\")\n",
    "plt.xlabel(\"z\")\n",
    "plt.ylabel(\"Counts\")\n",
    "#plt.title(\"Redshift Distribution\")\n",
    "#plt.grid(True)\n",
    "plt.tight_layout()\n",
    "plt.savefig('z_dp0.png')\n",
    "\n",
    "print(min(catalog['ZP']))\n",
    "print(max(catalog['ZP']))"
   ]
  },
  {
   "cell_type": "markdown",
   "id": "69ef3305-1279-4f6c-b984-214c4c14274d",
   "metadata": {},
   "source": [
    "### Spacial distribution\n",
    "Let's compare DP0 and DC2 spacial distribution."
   ]
  },
  {
   "cell_type": "code",
   "execution_count": null,
   "id": "83f169c5-820b-4c5b-84f5-7e3bf432a8db",
   "metadata": {},
   "outputs": [],
   "source": [
    "plt.rcParams['font.size'] = 10\n",
    "\n",
    "fig, (ax1, ax2) = plt.subplots(1, 2)\n",
    "#fig.suptitle('        Spacial distribution of DC2 and DP0')\n",
    "\n",
    "ra = wazp_dc2['RA']\n",
    "ra[ra >180.0] -= 360\n",
    "dec = wazp_dc2['DEC']\n",
    "\n",
    "im1 = ax1.hexbin(ra, dec, None,  mincnt=1, cmap='summer', gridsize=[200,100])\n",
    "ax1.set_title('DC2 catalog')\n",
    "\n",
    "ra2 = wazp_dp0['RA']\n",
    "ra2[ra2 >180.0] -= 360\n",
    "dec2 = wazp_dp0['DEC']\n",
    "\n",
    "im2 = ax2.hexbin(ra2, dec2, None,  mincnt=1, cmap='summer', gridsize=[200,100])\n",
    "ax2.set_title('DP0 catalog')\n",
    "\n",
    "for ax in fig.get_axes():\n",
    "    ax.set_xlabel(\"R.A. (deg)\")  \n",
    "    ax.set_ylabel(\"Dec. (deg)\")\n",
    "    ax.set_xlim(43,80)\n",
    "    ax.set_ylim(-50,-20)\n",
    "    ax.label_outer()\n",
    "\n",
    "#fig.subplots_adjust(right=0.9)\n",
    "cax = fig.add_axes([1.0, 0.15, 0.025, 0.66])\n",
    "cbar = fig.colorbar(im1, cax=cax, cmap='summer', orientation='vertical')\n",
    "\n",
    "plt.tight_layout()\n",
    "fig.savefig('ra_x_dec_dp0.png')"
   ]
  },
  {
   "cell_type": "markdown",
   "id": "21c5c675-5c83-4958-a019-96e3e8f69572",
   "metadata": {},
   "source": [
    "### Color magnitude diagrams"
   ]
  },
  {
   "cell_type": "markdown",
   "id": "6e284d0a-ac36-44f8-af71-5c48c5a081b9",
   "metadata": {},
   "source": [
    "Select the redshift interval to plot CMDs of the selected catalog.\n",
    "The name of the columns can vary according the catalog."
   ]
  },
  {
   "cell_type": "code",
   "execution_count": null,
   "id": "8b42deb0-8195-467f-a05b-56041c17bfde",
   "metadata": {
    "tags": []
   },
   "outputs": [],
   "source": [
    "plt.rcParams['font.size'] = 14\n",
    "\n",
    "zpmax = 0.6\n",
    "zpmin = 0.5\n",
    "\n",
    "Nbins = 1\n",
    "dz = (zpmax - zpmin)/Nbins\n",
    "\n",
    "for j in range(0, Nbins):\n",
    "    z1 = zpmin + (j * dz)\n",
    "    z2 = z1 + dz\n",
    "    round(z1,1)\n",
    "    round(z2,1)\n",
    "    #print(z1, z2)\n",
    "    \n",
    "    for i, richness_bins in enumerate(richness):\n",
    "\n",
    "        mask_z = (catalog['ZP']>z1)&(catalog['ZP']<z2)\n",
    "        mask = (richness_bins)&(mask_z)&(mask_mag) \n",
    "\n",
    "        plt.figure()#, dpi=300)\n",
    "        catalog_color = catalog[f'mag_{mag1}'][mask] - catalog[f'mag_{mag2}'][mask]\n",
    "        color = np.array(catalog_color)\n",
    "        mag = np.array(catalog[f'mag_{mag2}'][mask])\n",
    "        pmem = np.array(catalog['PMEM'][mask])\n",
    "        plt.hist2d(mag, color, bins=70, weights=pmem, cmin=0.1, cmax=None, cmap='viridis')\n",
    "        cbar = pl.colorbar(label=\"density\")\n",
    "\n",
    "        plt.xlim(18.5, 22.6)\n",
    "        plt.ylim(-0.1, 1.6)\n",
    "        plt.clim(2.0, 30.0)\n",
    "        \n",
    "        if i == 0:\n",
    "             text = '25<$N_{gals}$<35'\n",
    "        if i == 1:\n",
    "             text='35<$N_{gals}$<50'\n",
    "        if i == 2:\n",
    "            text='$N_{gals}$>50'\n",
    "            \n",
    "        #plt.title(f'Color-magnitude diagram \\nWaZP members in DP0 ({round(z1,1)}<$z$<{round(z2,1)}, {text})', fontsize = 13)\n",
    "        plt.text(19, 1.45, text, fontsize=13,\n",
    "                 bbox=dict(facecolor='white', alpha=0.6, boxstyle=\"round\"))\n",
    "        plt.xlabel('mag '+mag2)\n",
    "        plt.ylabel(f'color {mag1}-{mag2}')\n",
    "        plt.grid(True)\n",
    "        plt.tight_layout()\n",
    "        plt.savefig(f'cmd_dp0_{i}.png')"
   ]
  },
  {
   "cell_type": "markdown",
   "id": "218d4cf2-94b2-4205-a604-d75b51d2ba6d",
   "metadata": {},
   "source": [
    "### Color histograms (DC2 and DP0)\n",
    "* After selecting the richness range and the magnitudes, we have to separate the data in redshift bins.\n",
    "* The red and blue populations were characterized by Gaussian distributions on color histograms. We chose the colors that envelop the 4000 Å break. The 4000 Å break is caused by the absorption of high energy radiation from metals in stellar atmospheres and by a deficiency of hot, blue stars. That implies the presence of old stellar populations.\n",
    "    We have the following distribution of colors: $0.1 < z < 0.2$ in g-r, $0.3 < z < 0.6$ in r-i, $0.7 < z < 1.0$ in i-z, $1.1 < z < 1.4$ in z-y.\n",
    "\n",
    "* We integrated the curves to find the number of red and total members and calculate the red fraction in each redshift bin."
   ]
  },
  {
   "cell_type": "markdown",
   "id": "01cf813b-1a4c-4174-b2d8-df034f0e0b95",
   "metadata": {},
   "source": [
    "Define gaussian fit and integral."
   ]
  },
  {
   "cell_type": "markdown",
   "id": "1f7170c2-ef0f-40e5-b8cd-11634f1d097b",
   "metadata": {},
   "source": [
    "Gaussian params: A, $\\mu$ and $\\sigma$ are the height, the mean and the standard deviation, respectively."
   ]
  },
  {
   "cell_type": "code",
   "execution_count": null,
   "id": "9a15add0-181e-4193-9a92-1e8c16d976f3",
   "metadata": {},
   "outputs": [],
   "source": [
    "def gauss(x, mu, sigma, A):\n",
    "    return A*np.exp(-(x-mu)**2/2/sigma**2)\n",
    "\n",
    "def bimodal(x, mu1, sigma1, A1, mu2, sigma2, A2):\n",
    "    return gauss(x,mu1,sigma1,A1)+gauss(x,mu2,sigma2,A2)"
   ]
  },
  {
   "cell_type": "code",
   "execution_count": null,
   "id": "61db4a85-d2c7-4b7c-a35f-ad1090d57330",
   "metadata": {},
   "outputs": [],
   "source": [
    "def gauss_integral(y):\n",
    "    return A2*np.exp(-(y-mu2)**2/2/sigma2**2)\n",
    "def gauss2_integral(y):\n",
    "    return (A1*np.exp(-(y-mu1)**2/2/sigma1**2)+A2*np.exp(-(y-mu2)**2/2/sigma2**2))"
   ]
  },
  {
   "cell_type": "markdown",
   "id": "8289eaec-69c6-4de2-817b-08e50d090d27",
   "metadata": {},
   "source": [
    "Define error propagation."
   ]
  },
  {
   "cell_type": "markdown",
   "id": "9e72afed-e125-42c3-acbe-b4855f8bea2c",
   "metadata": {},
   "source": [
    "This propagation was made according to the general equation:\n",
    "$err_{w}^2 = \\left(\\frac{\\partial w}{\\partial x}\\right)^2 err_{x}^2 + \\left(\\frac{\\partial w}{\\partial y}\\right)^2 err_{y}^2 + \\left(\\frac{\\partial w}{\\partial z}\\right)^2 err_{z}^2 + ...$\n",
    "\n",
    "\n",
    "erro1 -> $\\left(\\frac{\\partial w}{\\partial x}\\right)^2 err_{x}^2 = \\left(\\frac{\\partial}{\\partial A}  \\int_{x_{min}}^{x_{max}} A e^{\\frac{-(x-\\mu)^2}{2\\sigma ^2}}\\right)^2 err_{A}^2 =\\left(\\sqrt{\\frac{\\pi}{2}}\\, \\sigma \\, erf\\left(\\frac{x-\\mu}{\\sigma \\sqrt{2}}\\right)\\right)^2 err_{A}^2$\n",
    "\n",
    "\n",
    "erro2 -> $\\left(\\frac{\\partial w}{\\partial y}\\right)^2 err_{y}^2 = \\left(\\frac{\\partial}{\\partial \\mu}  \\int_{x_{min}}^{x_{max}} A e^{\\frac{-(x-\\mu)^2}{2\\sigma ^2}}\\right)^2 err_{\\mu}^2 = \\left(-A e^{\\frac{-(\\mu-x)^2}{2\\sigma ^2}}\\right)^2 \\, err_{\\mu}^2$\n",
    "\n",
    "erro3 -> $\\left(\\frac{\\partial w}{\\partial z}\\right)^2 err_{z}^2 =\n",
    "     \\left(\\frac{\\partial}{\\partial \\sigma}  \\int_{x_{min}}^{x_{max}} A e^{\\frac{-(x-\\mu)^2}{2\\sigma ^2}}\\right)^2 err_{\\sigma}^2 = \\left(\\frac{A(\\mu - x) e^{\\frac{-(x-\\mu)^2}{2\\sigma ^2}}}{\\sigma} - \\sqrt{\\frac{\\pi}{2}} \\, A \\, erf\\left(\\frac{\\mu - x}{\\sigma \\sqrt{2}}\\right)\\right)^2 err_{\\sigma}^2$\n",
    "     \n"
   ]
  },
  {
   "cell_type": "code",
   "execution_count": null,
   "id": "b920a947-78b9-46fc-a127-f06d11aaec40",
   "metadata": {},
   "outputs": [],
   "source": [
    "def error(mu1, sigma1, A1, mu2, sigma2, A2, mu1_err, sigma1_err, A1_err, mu2_err, sigma2_err, A2_err):\n",
    "    erro1 = ((np.sqrt(np.pi/2))*sigma2*erf((mu2-x.max())/(sigma2*np.sqrt(2)))) - ((np.sqrt(np.pi/2))*sigma2*erf((mu2-x.min())/(sigma2*np.sqrt(2))))\n",
    "    erro1 = (erro1**2) * (A2_err)**2\n",
    "\n",
    "    erro2 = (-A2* np.exp(-(mu2-x.max())**2/2/sigma2**2)) - (-A2* np.exp(-(mu2-x.min())**2/2/sigma2**2))\n",
    "    erro2 = (erro2**2) * (mu2_err)**2\n",
    "\n",
    "    erro3_1 = ((A2*(mu2-x.max()* np.exp(-(mu2-x.max())**2/2/sigma2**2)))/(sigma2) -A2*np.sqrt(np.pi/2)*erf((mu2-x.max())/(sigma2*np.sqrt(2))))\n",
    "    erro3_2 = ((A2*(mu2-x.min()* np.exp(-(mu2-x.min())**2/2/sigma2**2)))/(sigma2) -A2*np.sqrt(np.pi/2)*erf((mu2-x.min())/(sigma2*np.sqrt(2))))\n",
    "    erro3 = erro3_1 - erro3_2\n",
    "    erro3 = (erro3**2) * (sigma2_err)**2\n",
    "\n",
    "    #erro gaussiana vermelha\n",
    "    erro_r = np.sqrt(erro1+erro2+erro3)\n",
    "    #print(erro_r)\n",
    "\n",
    "    erro4 = ((np.sqrt(np.pi/2))*sigma1*erf((mu1-x.max())/(sigma1*np.sqrt(2)))) - ((np.sqrt(np.pi/2))*sigma1*erf((mu1-x.min())/(sigma1*np.sqrt(2))))\n",
    "    erro4 = (erro4**2) * (A1_err)**2\n",
    "\n",
    "    erro5 = (-A1* np.exp(-(mu1-x.max())**2/2/sigma1**2)) - (-A1* np.exp(-(mu1-x.min())**2/2/sigma1**2))\n",
    "    erro5 = (erro5**2) * (mu1_err)**2\n",
    "\n",
    "    erro6_1 = ((A1*(mu1-x.max()* np.exp(-(mu1-x.max())**2/2/sigma1**2)))/(sigma1) -A1*np.sqrt(np.pi/2)*erf((mu1-x.max())/(sigma1*np.sqrt(2))))\n",
    "    erro6_2 = ((A1*(mu1-x.min()* np.exp(-(mu1-x.min())**2/2/sigma1**2)))/(sigma1) -A1*np.sqrt(np.pi/2)*erf((mu1-x.min())/(sigma1*np.sqrt(2))))\n",
    "    erro6 = erro6_1 - erro6_2\n",
    "    erro6 = (erro6**2) * (sigma1_err)**2\n",
    "\n",
    "    #erro gaussiana azul\n",
    "    erro_b = np.sqrt(erro4+erro4+erro6)\n",
    "    #print(erro_b)\n",
    "\n",
    "    #erro gaussiana total\n",
    "    erro = np.sqrt(erro1+erro2+erro3+erro4+erro4+erro6)\n",
    "    #print(erro)\n",
    "\n",
    "    return erro_r, erro"
   ]
  },
  {
   "cell_type": "markdown",
   "id": "60c96264-bcae-447b-b7f7-97c3643c0e66",
   "metadata": {},
   "source": [
    "Select redshift interval for the example."
   ]
  },
  {
   "cell_type": "code",
   "execution_count": null,
   "id": "84a4564e-9ad2-4cb8-97dd-560edb2950cb",
   "metadata": {},
   "outputs": [],
   "source": [
    "z1 = 0.5\n",
    "z2 = 0.6"
   ]
  },
  {
   "cell_type": "markdown",
   "id": "9737a4d1-41d4-4b9d-83ec-7931bbd02a3e",
   "metadata": {},
   "source": [
    "Example:"
   ]
  },
  {
   "cell_type": "code",
   "execution_count": null,
   "id": "ba80f733-92ca-4938-99a5-693c865f79a6",
   "metadata": {},
   "outputs": [],
   "source": [
    "catalog_color = catalog[f'mag_{mag1}'] - catalog[f'mag_{mag2}']\n",
    "mask_z = (catalog['ZP']>z1)&(catalog['ZP']<z2)\n",
    "\n",
    "for i, richness_bins in enumerate(richness): \n",
    "    \n",
    "    mask = (richness_bins)&(mask_z)&(mask_mag) \n",
    "    \n",
    "    color = np.array(catalog_color[mask])\n",
    "    pmem = np.array(catalog['PMEM'][mask])\n",
    "\n",
    "    plt.figure(figsize=[7,5])\n",
    "    y,x,_=plt.hist(color, bins=30, weights=pmem, fc=\"moccasin\", ec='sandybrown', label='color distribution')\n",
    "    x=(x[1:]+x[:-1])/2\n",
    "\n",
    "    expected = (0.6, 0.2, 1000.0, 0.9, 0.1, 3000.0)\n",
    "    params, cov = curve_fit(bimodal, x, y, expected)\n",
    "    sigma=np.sqrt(np.diag(cov))\n",
    "    x_fit = np.linspace(x.min(), x.max(), 500)\n",
    "\n",
    "    plt.plot(x_fit, bimodal(x_fit, *params), color='black', lw=3, label='total')\n",
    "    plt.plot(x_fit, gauss(x_fit, *params[0:3]), color='blue', lw=2, ls=\"--\", label='blue population')\n",
    "    plt.plot(x_fit, gauss(x_fit, *params[3:6]), color='red', lw=2, ls=\"--\", label='red population')\n",
    "\n",
    "    if i == 0:\n",
    "        text = '25<$N_{gals}$<35'\n",
    "    if i == 1:\n",
    "        text='35<$N_{gals}$<50'\n",
    "    if i == 2:\n",
    "        text='$N_{gals}$>50'\n",
    "            \n",
    "    #plt.title(f'Color histogram \\nWaZP members in DP0 ({round(z1,1)}<$z$<{round(z2,1)}, {text})', fontsize=14)\n",
    "    plt.text(1.2, 1300, text, fontsize=13,\n",
    "                 bbox=dict(facecolor='white', alpha=0.6, boxstyle=\"round\"))\n",
    "    plt.legend(loc='upper left', fontsize=11)\n",
    "    plt.ylabel('number of galaxies')\n",
    "    plt.xlim(0.0, 1.6)\n",
    "    plt.ylim(0.0, 1450)\n",
    "    plt.xlabel(f'{mag1}-{mag2}')\n",
    "    plt.grid(True)\n",
    "    data = pd.DataFrame(data={'params': params, 'err': sigma}, index=bimodal.__code__.co_varnames[1:])\n",
    "    print(data)\n",
    "\n",
    "    plt.savefig(f'color_hist_{i}.png')\n",
    "    plt.show() "
   ]
  },
  {
   "cell_type": "markdown",
   "id": "5db94f40-a76a-494f-b23b-a7d9e05fcb08",
   "metadata": {},
   "source": [
    "For other redshift bins (and other colors), repeat the process below."
   ]
  },
  {
   "cell_type": "markdown",
   "id": "6a14e886-32e2-4d5c-a3ed-9cf0e47716b3",
   "metadata": {},
   "source": [
    "Select color."
   ]
  },
  {
   "cell_type": "code",
   "execution_count": null,
   "id": "0fc5daa6-75a6-4a82-89b4-bb92e03281b4",
   "metadata": {},
   "outputs": [],
   "source": [
    "mag1 = 'g'\n",
    "mag2 = 'r'"
   ]
  },
  {
   "cell_type": "markdown",
   "id": "eb86081f-1fe8-4202-b43b-43161dfa0e4e",
   "metadata": {},
   "source": [
    "Select the richness bin."
   ]
  },
  {
   "cell_type": "code",
   "execution_count": null,
   "id": "61c4d465-2dc6-45ae-a62a-759d1ce15192",
   "metadata": {},
   "outputs": [],
   "source": [
    "richness_bin = mask_50"
   ]
  },
  {
   "cell_type": "markdown",
   "id": "c9ed386e-cbea-48a0-ab88-dcf0e768c476",
   "metadata": {},
   "source": [
    "Here you should put a csv file with the expected params for the Gaussian fit. Remember to look for the file with information for the catalog, richness and color that you choose."
   ]
  },
  {
   "cell_type": "code",
   "execution_count": null,
   "id": "c8164b05-5bb6-4df3-90b6-0a6e5672a870",
   "metadata": {},
   "outputs": [],
   "source": [
    "arquivo = pd.read_csv('expected_params/dp0_50_all.csv')"
   ]
  },
  {
   "cell_type": "code",
   "execution_count": null,
   "id": "c427bd15-7ad6-48dc-965f-8e2bb34b27f4",
   "metadata": {},
   "outputs": [],
   "source": [
    "arquivo"
   ]
  },
  {
   "cell_type": "markdown",
   "id": "73730a4d-984c-440a-947e-affe3b8214e5",
   "metadata": {},
   "source": [
    "Arrays to save fractions and error."
   ]
  },
  {
   "cell_type": "markdown",
   "id": "136835eb-6a30-45c9-9b7d-884c3726be01",
   "metadata": {},
   "source": [
    "Don't forget to re-run the cell with the arrays when you change the catalog or the richness."
   ]
  },
  {
   "cell_type": "code",
   "execution_count": null,
   "id": "98c6b172-54c7-4d11-b9ba-795260a99e1b",
   "metadata": {},
   "outputs": [],
   "source": [
    "fraction = []\n",
    "fraction_err = []\n",
    "photozs = []"
   ]
  },
  {
   "cell_type": "code",
   "execution_count": null,
   "id": "bef37541-2aec-477e-b609-241c17516c06",
   "metadata": {},
   "outputs": [],
   "source": [
    "plt.rcParams['font.size'] = 14\n",
    "\n",
    "zpmax = 1.4\n",
    "zpmin = 0.1\n",
    "\n",
    "dz = 0.1\n",
    "\n",
    "for z1 in np.arange(zpmin, zpmax, dz):\n",
    "    \n",
    "    z1 = round(z1,1)\n",
    "    z2 = round(z1+dz,1)\n",
    "    photoz = (z1+z2)/2\n",
    "    \n",
    "    #_______________________#\n",
    "    #use this part for the all colors analysis\n",
    "    if z1 <= 0.2 :\n",
    "        mag1 = 'g'\n",
    "        mag2 = 'r'\n",
    "    if z1 > 0.2 and z1 <= 0.6:\n",
    "        mag1 = 'r'\n",
    "        mag2 = 'i'\n",
    "    if z1 > 0.6 and z1 <= 1.0:\n",
    "        mag1 = 'i'\n",
    "        mag2 = 'z'\n",
    "    if z1 > 1.0 and z1 <= 1.3:\n",
    "        mag1 = 'z'\n",
    "        mag2 = 'y'\n",
    "    #_______________________#\n",
    "    \n",
    "    catalog_color = catalog[f'mag_{mag1}'] - catalog[f'mag_{mag2}']\n",
    "\n",
    "    mask_z = (catalog['ZP']>z1)&(catalog['ZP']<z2)\n",
    "    mask = (richness_bin)&(mask_z)&(mask_mag) \n",
    "\n",
    "    color = np.array(catalog_color[mask])\n",
    "    pmem = np.array(catalog['PMEM'][mask])\n",
    "\n",
    "    plt.figure(figsize=[7,5])\n",
    "    y,x,_=plt.hist(color, bins=30, weights=pmem, fc=\"moccasin\", ec='sandybrown', label='color distribution')\n",
    "    x=(x[1:]+x[:-1])/2\n",
    "    \n",
    "    mask_params = (arquivo['z']==z1)\n",
    "\n",
    "    mu1 = float(arquivo['mu1'][mask_params])\n",
    "    sigma1 = float(arquivo['sigma1'][mask_params])\n",
    "    A1 = float(arquivo['A1'][mask_params])\n",
    "    mu2 = float(arquivo['mu2'][mask_params])\n",
    "    sigma2 = float(arquivo['sigma2'][mask_params])\n",
    "    A2 = float(arquivo['A2'][mask_params])\n",
    "    \n",
    "    expected = (mu1, sigma1, A1, mu2, sigma2, A2)\n",
    "    params, cov = curve_fit(bimodal, x, y, expected)\n",
    "    sigma=np.sqrt(np.diag(cov))\n",
    "    x_fit = np.linspace(x.min(), x.max(), 500)\n",
    "\n",
    "    plt.plot(x_fit, bimodal(x_fit, *params), color='black', lw=3, label='total')\n",
    "    plt.plot(x_fit, gauss(x_fit, *params[0:3]), color='blue', lw=2, ls=\"--\", label='blue population')\n",
    "    plt.plot(x_fit, gauss(x_fit, *params[3:6]), color='red', lw=2, ls=\"--\", label='red population')\n",
    "    plt.title(f'Color histogram \\nWaZP members in DC2 ({round(z1,1)}<$z$<{round(z2,1)})', fontsize=14)\n",
    "    \n",
    "    #text = '25<$N_{gals}$<35'\n",
    "    #plt.text(-0.4, 2250, text, fontsize=13,bbox=dict(facecolor='white', alpha=0.6, boxstyle=\"round\"))\n",
    "    \n",
    "    plt.legend(fontsize=11)\n",
    "    plt.ylabel('number of galaxies')\n",
    "    plt.xlabel(f'{mag1}-{mag2}')\n",
    "    plt.grid(True)\n",
    "    data = pd.DataFrame(data={'params': params, 'err': sigma}, index=bimodal.__code__.co_varnames[1:])\n",
    "    print(data)\n",
    "    plt.show() \n",
    "\n",
    "    mu1 = data.to_numpy()[0][0]\n",
    "    sigma1 = data.to_numpy()[1][0]\n",
    "    A1 = data.to_numpy()[2][0]\n",
    "    mu2 = data.to_numpy()[3][0]\n",
    "    sigma2 = data.to_numpy()[4][0]\n",
    "    A2 = data.to_numpy()[5][0]\n",
    "\n",
    "    mu1_err = data.to_numpy()[0][1]\n",
    "    sigma1_err = data.to_numpy()[1][1]\n",
    "    A1_err = data.to_numpy()[2][1]\n",
    "    mu2_err = data.to_numpy()[3][1]\n",
    "    sigma2_err = data.to_numpy()[4][1]\n",
    "    A2_err = data.to_numpy()[5][1]\n",
    "\n",
    "    erro_r, erro = error(mu1, sigma1, A1, mu2, sigma2, A2, mu1_err, sigma1_err, A1_err, mu2_err, sigma2_err, A2_err)\n",
    "    \n",
    "    print(f'{round(z1,1)}<z<{round(z2,1)}')\n",
    "    n_red_galaxies, n_red_galaxies_err = quad(gauss_integral, x.min(), x.max())\n",
    "    print(f'number of red galaxies:{n_red_galaxies} +- {erro_r}')\n",
    "    n_galaxies, n_galaxies_err = quad(gauss2_integral, x.min(), x.max())\n",
    "    print(f'number of galaxies:{n_galaxies} +- {erro}')\n",
    "    red_fraction = n_red_galaxies/n_galaxies\n",
    "    red_fraction_err = (n_red_galaxies/n_galaxies)* np.sqrt((erro_r/n_red_galaxies)**2+(erro/n_galaxies)**2)\n",
    "    print(f'red fraction:{red_fraction} +- {red_fraction_err}')\n",
    "    \n",
    "    fraction.append(red_fraction)\n",
    "    fraction_err.append(red_fraction_err)\n",
    "    photozs.append(photoz)\n",
    "    \n",
    "out = np.transpose([photozs, fraction, fraction_err])\n",
    "name = 'dp0_50_all.txt' #change the name of the catalog.\n",
    "np.savetxt(name, out, header='redshift   fractions   errors', fmt='%1.6e')"
   ]
  },
  {
   "cell_type": "markdown",
   "id": "7951f13b-b7d1-4507-9ace-7b5738f68e68",
   "metadata": {},
   "source": [
    "### Color histograms (truth catalog)"
   ]
  },
  {
   "cell_type": "markdown",
   "id": "20cf3f4d-9693-47e9-83a6-6b1200d6731a",
   "metadata": {},
   "source": [
    "The color histogram of the truth catalog is a bit different, because the red population in this case is the Gaussian that characterizes the \"is on red sequence\" column. "
   ]
  },
  {
   "cell_type": "markdown",
   "id": "8d1a4555-4370-42b3-b448-d07baa0f9d70",
   "metadata": {},
   "source": [
    "Define gaussian integral and error propagation."
   ]
  },
  {
   "cell_type": "code",
   "execution_count": null,
   "id": "d83cad04-9254-48ce-96ee-41732d4f56f7",
   "metadata": {},
   "outputs": [],
   "source": [
    "def gauss_integral_red(y):\n",
    "    return A*np.exp(-(y-mu)**2/2/sigma**2)"
   ]
  },
  {
   "cell_type": "code",
   "execution_count": null,
   "id": "3cfd8c71-cb37-47f8-8482-a5ff42d6c6d8",
   "metadata": {},
   "outputs": [],
   "source": [
    "def error_truth_total(mu1, sigma1, A1, mu2, sigma2, A2, mu1_err, sigma1_err, A1_err, mu2_err, sigma2_err, A2_err):\n",
    "    erro1 = ((np.sqrt(np.pi/2))*sigma2*erf((mu2-x.max())/(sigma2*np.sqrt(2)))) - ((np.sqrt(np.pi/2))*sigma2*erf((mu2-x.min())/(sigma2*np.sqrt(2))))\n",
    "    erro1 = (erro1**2) * (A2_err)**2\n",
    "\n",
    "    erro2 = (-A2* np.exp(-(mu2-x.max())**2/2/sigma2**2)) - (-A2* np.exp(-(mu2-x.min())**2/2/sigma2**2))\n",
    "    erro2 = (erro2**2) * (mu2_err)**2\n",
    "\n",
    "    erro3_1 = ((A2*(mu2-x.max()* np.exp(-(mu2-x.max())**2/2/sigma2**2)))/(sigma2) -A2*np.sqrt(np.pi/2)*erf((mu2-x.max())/(sigma2*np.sqrt(2))))\n",
    "    erro3_2 = ((A2*(mu2-x.min()* np.exp(-(mu2-x.min())**2/2/sigma2**2)))/(sigma2) -A2*np.sqrt(np.pi/2)*erf((mu2-x.min())/(sigma2*np.sqrt(2))))\n",
    "    erro3 = erro3_1 - erro3_2\n",
    "    erro3 = (erro3**2) * (sigma2_err)**2\n",
    "\n",
    "    erro4 = ((np.sqrt(np.pi/2))*sigma1*erf((mu1-x.max())/(sigma1*np.sqrt(2)))) - ((np.sqrt(np.pi/2))*sigma1*erf((mu1-x.min())/(sigma1*np.sqrt(2))))\n",
    "    erro4 = (erro4**2) * (A1_err)**2\n",
    "\n",
    "    erro5 = (-A1* np.exp(-(mu1-x.max())**2/2/sigma1**2)) - (-A1* np.exp(-(mu1-x.min())**2/2/sigma1**2))\n",
    "    erro5 = (erro5**2) * (mu1_err)**2\n",
    "\n",
    "    erro6_1 = ((A1*(mu1-x.max()* np.exp(-(mu1-x.max())**2/2/sigma1**2)))/(sigma1) -A1*np.sqrt(np.pi/2)*erf((mu1-x.max())/(sigma1*np.sqrt(2))))\n",
    "    erro6_2 = ((A1*(mu1-x.min()* np.exp(-(mu1-x.min())**2/2/sigma1**2)))/(sigma1) -A1*np.sqrt(np.pi/2)*erf((mu1-x.min())/(sigma1*np.sqrt(2))))\n",
    "    erro6 = erro6_1 - erro6_2\n",
    "    erro6 = (erro6**2) * (sigma1_err)**2\n",
    "\n",
    "    #erro gaussiana total\n",
    "    erro = np.sqrt(erro1+erro2+erro3+erro4+erro4+erro6)\n",
    "    #print(erro)\n",
    "\n",
    "    return erro"
   ]
  },
  {
   "cell_type": "code",
   "execution_count": null,
   "id": "ccaa2c59-33f9-4f42-a34f-bd1f937094e1",
   "metadata": {},
   "outputs": [],
   "source": [
    "def error_truth(mu, sigma, A):\n",
    "    \n",
    "    erro7 = ((np.sqrt(np.pi/2))*sigma*erf((mu-x.max())/(sigma*np.sqrt(2)))) - ((np.sqrt(np.pi/2))*sigma*erf((mu-x.min())/(sigma*np.sqrt(2))))\n",
    "    erro7 = (erro7**2) * (A_err)**2\n",
    "\n",
    "    erro8 = (-A* np.exp(-(mu-x.max())**2/2/sigma**2)) - (-A* np.exp(-(mu-x.min())**2/2/sigma**2))\n",
    "    erro8 = (erro8**2) * (mu_err)**2\n",
    "\n",
    "    erro9_1 = ((A*(mu-x.max()* np.exp(-(mu-x.max())**2/2/sigma**2)))/(sigma) -A*np.sqrt(np.pi/2)*erf((mu-x.max())/(sigma*np.sqrt(2))))\n",
    "    erro9_2 = ((A*(mu-x.min()* np.exp(-(mu-x.min())**2/2/sigma**2)))/(sigma) -A*np.sqrt(np.pi/2)*erf((mu-x.min())/(sigma*np.sqrt(2))))\n",
    "    erro9 = erro9_1 - erro9_2\n",
    "    erro9 = (erro9**2) * (sigma_err)**2\n",
    "    \n",
    "    #erro gaussiana vermelha truth\n",
    "    erro_r = np.sqrt(erro7+erro8+erro9)\n",
    "    #print(erro_r)\n",
    "\n",
    "    return erro_r"
   ]
  },
  {
   "cell_type": "markdown",
   "id": "555ca286-69c2-423a-8192-d528eca59212",
   "metadata": {},
   "source": [
    "Again, first let's see some examples."
   ]
  },
  {
   "cell_type": "code",
   "execution_count": null,
   "id": "213c51b0-9fdb-4686-ae69-0ec204c61b7e",
   "metadata": {},
   "outputs": [],
   "source": [
    "mag1 = 'r'\n",
    "mag2 = 'i'\n",
    "z1 = 1.3\n",
    "z2 = 1.4"
   ]
  },
  {
   "cell_type": "code",
   "execution_count": null,
   "id": "a1020b26-e676-40af-8b98-ac42d12a3459",
   "metadata": {},
   "outputs": [],
   "source": [
    "for i, truth in enumerate(truth_richness): \n",
    "\n",
    "    mask_z = (truth['redshift_true']>z1)&(truth['redshift_true']<z2)\n",
    "    mask_isred = (truth[f'is_on_red_sequence_{mag1}{mag2}']==True)\n",
    "    mask = (mask_z)\n",
    "    mask2 = (mask_z)&(mask_isred)\n",
    "\n",
    "    truth_color = truth[f'mag_true_{mag1}'][mask] - truth[f'mag_true_{mag2}'][mask]\n",
    "    color = np.array(truth_color)\n",
    "    pmem = np.array(truth['pmem_nfw2d'][mask])\n",
    "\n",
    "    truth_color2 = truth[f'mag_true_{mag1}'][mask2] - truth[f'mag_true_{mag2}'][mask2]\n",
    "    color2 = np.array(truth_color2)\n",
    "    pmem2 = np.array(truth['pmem_nfw2d'][mask2])\n",
    "\n",
    "    plt.figure(figsize=[8,5])\n",
    "    y,x,_=plt.hist(color, bins=20, weights=pmem, fc=\"moccasin\", ec='sandybrown')\n",
    "    x=(x[1:]+x[:-1])/2\n",
    "    expected = (0.25, 0.2, 20.0, 1.4, 0.2, 400.0)\n",
    "    params, cov = curve_fit(bimodal, x, y, expected)\n",
    "    sigma=np.sqrt(np.diag(cov))\n",
    "    x_fit = np.linspace(x.min(), x.max(), 500)\n",
    "\n",
    "\n",
    "    y2,x2,_2=plt.hist(color2, bins=20, weights=pmem2, fc='floralwhite', ec='sandybrown')\n",
    "    x2=(x2[1:]+x2[:-1])/2\n",
    "    expected2 = (1.0, 0.2, 4000.0)\n",
    "    params2, cov2 = curve_fit(gauss, x2, y2, expected2)\n",
    "    sigma2=np.sqrt(np.diag(cov2))\n",
    "    x_fit2 = np.linspace(x2.min(), x2.max(), 500)\n",
    "    \n",
    "    if i == 0:\n",
    "        text ='25<$N_{gals}$<35'\n",
    "    if i == 1:\n",
    "        text='35<$N_{gals}$<50'\n",
    "    if i == 2:\n",
    "        text='$N_{gals}$>50'\n",
    "\n",
    "    plt.plot(x_fit, bimodal(x_fit, *params), color='black', lw=3, label='all members matched')\n",
    "    plt.plot(x_fit2, gauss(x_fit2, *params2), color='red', lw=3, label=f'is_on_red_sequence_{mag1}{mag2}')\n",
    "    plt.title(f'Color histogram \\nTruth catalog ({round(z1,1)}<$z$<{round(z2,1)}, {text})', fontsize=14)\n",
    "    plt.text(-0.1, 900, text, fontsize=13, bbox=dict(facecolor='white', alpha=0.6, boxstyle=\"round\"))\n",
    "    plt.legend(fontsize=11)\n",
    "    plt.ylabel('number of galaxies')\n",
    "    plt.xlabel(f'{mag1}-{mag2}')\n",
    "    #plt.xlim(0.0, 1.6)\n",
    "    #plt.ylim(0.0, 2500)\n",
    "    plt.grid(True)\n",
    "\n",
    "    plt.savefig(f'color_hist_halos_{i}.png')\n",
    "    plt.show() \n",
    "\n",
    "    data = pd.DataFrame(data={'params': params, 'err': sigma}, index=bimodal.__code__.co_varnames[1:])\n",
    "    print(data)\n",
    "\n",
    "    mu1 = data.to_numpy()[0][0]\n",
    "    sigma1 = data.to_numpy()[1][0]\n",
    "    A1 = data.to_numpy()[2][0]\n",
    "    mu2 = data.to_numpy()[3][0]\n",
    "    sigma2 = data.to_numpy()[4][0]\n",
    "    A2 = data.to_numpy()[5][0]\n",
    "\n",
    "    mu1_err = data.to_numpy()[0][1]\n",
    "    sigma1_err = data.to_numpy()[1][1]\n",
    "    A1_err = data.to_numpy()[2][1]\n",
    "    mu2_err = data.to_numpy()[3][1]\n",
    "    sigma2_err = data.to_numpy()[4][1]\n",
    "    A2_err = data.to_numpy()[5][1]\n",
    "\n",
    "    data2 = pd.DataFrame(data={'params red': params2, 'err red': sigma2}, index=gauss.__code__.co_varnames[1:])\n",
    "    print(data2)\n",
    "\n",
    "    mu = data.to_numpy()[0][0]\n",
    "    sigma = data.to_numpy()[1][0]\n",
    "    A = data.to_numpy()[2][0]\n",
    "\n",
    "    mu_err = data.to_numpy()[0][1]\n",
    "    sigma_err = data.to_numpy()[1][1]\n",
    "    A_err = data.to_numpy()[2][1]"
   ]
  },
  {
   "cell_type": "code",
   "execution_count": null,
   "id": "a0438882-d997-4ef7-898a-2ea4db19ee1b",
   "metadata": {},
   "outputs": [],
   "source": []
  },
  {
   "cell_type": "markdown",
   "id": "c62fbc7c-55bc-4035-a18f-145c8eda0c80",
   "metadata": {},
   "source": [
    "For the complete analysis of truth catalog, follow the instructions below."
   ]
  },
  {
   "cell_type": "markdown",
   "id": "a58ed830-0e0c-4b1c-80f0-394883d74488",
   "metadata": {},
   "source": [
    "Select the color (is_on_red_sequence is available only for g-r and r-i)"
   ]
  },
  {
   "cell_type": "code",
   "execution_count": null,
   "id": "cc9914fe-783c-41a9-8d3f-bc7c3da124d4",
   "metadata": {},
   "outputs": [],
   "source": [
    "mag1 = 'r'\n",
    "mag2 = 'i'"
   ]
  },
  {
   "cell_type": "markdown",
   "id": "9d13a256-18ec-43f3-a853-e0e26108493f",
   "metadata": {},
   "source": [
    "Select the richness."
   ]
  },
  {
   "cell_type": "code",
   "execution_count": null,
   "id": "68124a58-5046-430a-a4d2-fec18f90a660",
   "metadata": {},
   "outputs": [],
   "source": [
    "truth = truth_50"
   ]
  },
  {
   "cell_type": "markdown",
   "id": "544c12a0-bb84-4745-a5d9-6b6b105b5df0",
   "metadata": {},
   "source": [
    "Change the csv file with the expected params for the gaussian fit."
   ]
  },
  {
   "cell_type": "code",
   "execution_count": null,
   "id": "8d4d4c85-cc27-4c7d-a6cf-0bf5211b4254",
   "metadata": {},
   "outputs": [],
   "source": [
    "arquivo = pd.read_csv('truth_50_all.csv')"
   ]
  },
  {
   "cell_type": "code",
   "execution_count": null,
   "id": "e0ee2e69-8914-40bc-80ca-d15237f82eef",
   "metadata": {},
   "outputs": [],
   "source": [
    "arquivo"
   ]
  },
  {
   "cell_type": "markdown",
   "id": "70089c61-131d-4f8f-86f3-3d2b9f9d4ca3",
   "metadata": {},
   "source": [
    "Arrays to save fractions and errors."
   ]
  },
  {
   "cell_type": "code",
   "execution_count": null,
   "id": "85b72198-a098-4561-a48d-d08f703dccfa",
   "metadata": {},
   "outputs": [],
   "source": [
    "fractions = []\n",
    "fractions_err = []\n",
    "photozs = []"
   ]
  },
  {
   "cell_type": "markdown",
   "id": "fd333b78-57c4-4afd-aa53-d01c7c90aa14",
   "metadata": {},
   "source": [
    "Total fit"
   ]
  },
  {
   "cell_type": "code",
   "execution_count": null,
   "id": "88b96194-fa9a-4ee2-a3c9-9ffde0ce31c8",
   "metadata": {},
   "outputs": [],
   "source": [
    "total = []\n",
    "total_err = []"
   ]
  },
  {
   "cell_type": "code",
   "execution_count": null,
   "id": "72086de9-4bc2-4439-8d5a-cb6b15676fac",
   "metadata": {},
   "outputs": [],
   "source": [
    "plt.rcParams['font.size'] = 14\n",
    "\n",
    "zpmax = 0.7\n",
    "zpmin = 0.1\n",
    "\n",
    "dz = 0.1\n",
    "\n",
    "for z1 in np.arange(zpmin, zpmax, dz):\n",
    "    \n",
    "    z1 = round(z1,1)\n",
    "    z2 = round(z1+dz,1)\n",
    "    photoz = (z1+z2)/2\n",
    "    \n",
    "    #_______________________#\n",
    "    #use this part for the all colors analysis and change zpmax = 0.7.\n",
    "    if z1 <= 0.2 :\n",
    "        mag1 = 'g'\n",
    "        mag2 = 'r'\n",
    "    if z1 > 0.2 and z1 <= 0.6:\n",
    "        mag1 = 'r'\n",
    "        mag2 = 'i'\n",
    "    #_______________________#\n",
    "    \n",
    "    catalog_color = truth[f'mag_true_{mag1}'] - truth[f'mag_true_{mag2}']\n",
    "\n",
    "    mask_z = (truth['redshift_true']>z1)&(truth['redshift_true']<z2)\n",
    "    mask = (mask_z) \n",
    "\n",
    "    color = np.array(catalog_color[mask])\n",
    "    pmem = np.array(truth['pmem_nfw2d'][mask])\n",
    "\n",
    "    plt.figure(figsize=[7,5])\n",
    "    y,x,_=plt.hist(color, bins=30, weights=pmem, fc=\"moccasin\", ec='sandybrown', label='color distribution')\n",
    "    x=(x[1:]+x[:-1])/2\n",
    "    \n",
    "    mask_params = (arquivo['z']==z1)\n",
    "\n",
    "    mu1 = float(arquivo['mu1'][mask_params])\n",
    "    sigma1 = float(arquivo['sigma1'][mask_params])\n",
    "    A1 = float(arquivo['A1'][mask_params])\n",
    "    mu2 = float(arquivo['mu2'][mask_params])\n",
    "    sigma2 = float(arquivo['sigma2'][mask_params])\n",
    "    A2 = float(arquivo['A2'][mask_params])\n",
    "    \n",
    "    expected = (mu1, sigma1, A1, mu2, sigma2, A2)\n",
    "    params, cov = curve_fit(bimodal, x, y, expected)\n",
    "    sigma=np.sqrt(np.diag(cov))\n",
    "    x_fit = np.linspace(x.min(), x.max(), 500)\n",
    "\n",
    "    plt.plot(x_fit, bimodal(x_fit, *params), color='black', lw=3, label='total')\n",
    "    #plt.plot(x_fit, gauss(x_fit, *params[0:3]), color='blue', lw=2, ls=\"--\", label='blue population')\n",
    "    #plt.plot(x_fit, gauss(x_fit, *params[3:6]), color='red', lw=2, ls=\"--\", label='red population')\n",
    "    plt.title(f'Color histogram \\nWaZP members in truth catalog ({round(z1,1)}<$z$<{round(z2,1)})', fontsize=14)\n",
    "    \n",
    "    #text = '25<$N_{gals}$<35'\n",
    "    #plt.text(-0.4, 2250, text, fontsize=13,bbox=dict(facecolor='white', alpha=0.6, boxstyle=\"round\"))\n",
    "    \n",
    "    plt.legend(fontsize=11)\n",
    "    plt.ylabel('number of galaxies')\n",
    "    plt.xlabel(f'{mag1}-{mag2}')\n",
    "    plt.grid(True)\n",
    "    data = pd.DataFrame(data={'params': params, 'err': sigma}, index=bimodal.__code__.co_varnames[1:])\n",
    "    print(data)\n",
    "    plt.show() \n",
    "\n",
    "    mu1 = data.to_numpy()[0][0]\n",
    "    sigma1 = data.to_numpy()[1][0]\n",
    "    A1 = data.to_numpy()[2][0]\n",
    "    mu2 = data.to_numpy()[3][0]\n",
    "    sigma2 = data.to_numpy()[4][0]\n",
    "    A2 = data.to_numpy()[5][0]\n",
    "\n",
    "    mu1_err = data.to_numpy()[0][1]\n",
    "    sigma1_err = data.to_numpy()[1][1]\n",
    "    A1_err = data.to_numpy()[2][1]\n",
    "    mu2_err = data.to_numpy()[3][1]\n",
    "    sigma2_err = data.to_numpy()[4][1]\n",
    "    A2_err = data.to_numpy()[5][1]\n",
    "\n",
    "    erro = error_truth_total(mu1, sigma1, A1, mu2, sigma2, A2, mu1_err, sigma1_err, A1_err, mu2_err, sigma2_err, A2_err)\n",
    "    \n",
    "    print(f'{round(z1,1)}<z<{round(z2,1)}')\n",
    "    n_galaxies, n_galaxies_err = quad(gauss2_integral, x.min(), x.max())\n",
    "    print(f'number of galaxies:{n_galaxies} +- {erro}')\n",
    "    \n",
    "    total.append(n_galaxies)\n",
    "    total_err.append(erro)\n",
    "    photozs.append(photoz)"
   ]
  },
  {
   "cell_type": "code",
   "execution_count": null,
   "id": "28d99e20-b325-4c2a-a7df-72bba6b091d8",
   "metadata": {},
   "outputs": [],
   "source": [
    "total, total_err"
   ]
  },
  {
   "cell_type": "markdown",
   "id": "012a6729-786a-46b7-a7d8-1e63eb48636d",
   "metadata": {},
   "source": [
    "\"Is on red sequence\" fit"
   ]
  },
  {
   "cell_type": "code",
   "execution_count": null,
   "id": "821a4dcb-fb82-4945-b755-336995b83251",
   "metadata": {},
   "outputs": [],
   "source": [
    "red = []\n",
    "red_err = []"
   ]
  },
  {
   "cell_type": "code",
   "execution_count": null,
   "id": "7576a3ec-9ae2-46e2-b5d4-cbc1968a95c3",
   "metadata": {},
   "outputs": [],
   "source": [
    "plt.rcParams['font.size'] = 14\n",
    "\n",
    "zpmax = 0.7\n",
    "zpmin = 0.1\n",
    "\n",
    "dz = 0.1\n",
    "\n",
    "for z1 in np.arange(zpmin, zpmax, dz):\n",
    "    \n",
    "    z1 = round(z1,1)\n",
    "    z2 = round(z1+dz,1)\n",
    "    \n",
    "    #_______________________#\n",
    "    #use this part for the all colors analysis and change zpmax = 0.7.\n",
    "    if z1 <= 0.2 :\n",
    "        mag1 = 'g'\n",
    "        mag2 = 'r'\n",
    "    if z1 > 0.2 and z1 <= 0.6:\n",
    "        mag1 = 'r'\n",
    "        mag2 = 'i'\n",
    "    #_______________________#\n",
    "    \n",
    "    catalog_color = truth[f'mag_true_{mag1}'] - truth[f'mag_true_{mag2}']\n",
    "\n",
    "    mask_z = (truth['redshift_true']>z1)&(truth['redshift_true']<z2)\n",
    "    mask_isred = (truth[f'is_on_red_sequence_{mag1}{mag2}']==True)\n",
    "    mask2 = (mask_z)&(mask_isred)\n",
    "\n",
    "    color = np.array(catalog_color[mask2])\n",
    "    pmem = np.array(truth['pmem_nfw2d'][mask2])\n",
    "\n",
    "    plt.figure(figsize=[7,5])\n",
    "    y,x,_=plt.hist(color, bins=30, weights=pmem, fc=\"moccasin\", ec='sandybrown', label='color distribution')\n",
    "    x=(x[1:]+x[:-1])/2\n",
    "    \n",
    "    mask_params = (arquivo['z']==z1)\n",
    "\n",
    "    mu = float(arquivo['mu2'][mask_params])\n",
    "    sigma = float(arquivo['sigma2'][mask_params])\n",
    "    A = float(arquivo['A2'][mask_params])\n",
    "    \n",
    "    expected = (mu, sigma, A)\n",
    "    params, cov = curve_fit(gauss, x, y, expected)\n",
    "    sigma=np.sqrt(np.diag(cov))\n",
    "    x_fit = np.linspace(x.min(), x.max(), 500)\n",
    "\n",
    "    plt.plot(x_fit, gauss(x_fit, *params), color='red', lw=3, label='is on red sequence')\n",
    "    plt.title(f'Color histogram \\nWaZP members in truth catalog ({round(z1,1)}<$z$<{round(z2,1)})', fontsize=14)\n",
    "    \n",
    "    #text = '25<$N_{gals}$<35'\n",
    "    #plt.text(-0.4, 2250, text, fontsize=13,bbox=dict(facecolor='white', alpha=0.6, boxstyle=\"round\"))\n",
    "    \n",
    "    plt.legend(fontsize=11)\n",
    "    plt.ylabel('number of galaxies')\n",
    "    plt.xlabel(f'{mag1}-{mag2}')\n",
    "    plt.grid(True)\n",
    "    data = pd.DataFrame(data={'params red': params, 'err red': sigma}, index=gauss.__code__.co_varnames[1:])\n",
    "    print(data)\n",
    "    plt.show() \n",
    "    \n",
    "    mu = data.to_numpy()[0][0]\n",
    "    sigma = data.to_numpy()[1][0]\n",
    "    A = data.to_numpy()[2][0]\n",
    "\n",
    "    mu_err = data.to_numpy()[0][1]\n",
    "    sigma_err = data.to_numpy()[1][1]\n",
    "    A_err = data.to_numpy()[2][1]\n",
    "\n",
    "    erro_r = error_truth(mu, sigma, A)\n",
    "    \n",
    "    print(f'{round(z1,1)}<z<{round(z2,1)}')\n",
    "    n_red_galaxies, n_red_xies_err = quad(gauss_integral_red, x.min(), x.max())\n",
    "    print(f'number of galaxies:{n_red_galaxies} +- {erro_r}')\n",
    "    \n",
    "    red.append(n_red_galaxies)\n",
    "    red_err.append(erro_r)\n",
    "    "
   ]
  },
  {
   "cell_type": "code",
   "execution_count": null,
   "id": "bbcd3fac-8330-4569-bfac-d3b7655ef5ea",
   "metadata": {},
   "outputs": [],
   "source": [
    "red, red_err"
   ]
  },
  {
   "cell_type": "markdown",
   "id": "3cb114fe-ba5d-4b7c-a75a-003b41ff5679",
   "metadata": {},
   "source": [
    "Calculate fractions and errors."
   ]
  },
  {
   "cell_type": "code",
   "execution_count": null,
   "id": "9ff7a13b-3536-4572-b637-4839e01f4680",
   "metadata": {},
   "outputs": [],
   "source": [
    "for i in range(0, 6, 1):\n",
    "    fraction = red[i]/total[i]\n",
    "    fractions.append(fraction)\n",
    "    fraction_err = (red[i]/total[i])* np.sqrt((red_err[i]/red[i])**2+(total_err[i]/total[i])**2)\n",
    "    fractions_err.append(fraction_err)"
   ]
  },
  {
   "cell_type": "code",
   "execution_count": null,
   "id": "b9c413c9-e66c-40eb-853f-7dd1ef6508fe",
   "metadata": {},
   "outputs": [],
   "source": [
    "fractions"
   ]
  },
  {
   "cell_type": "code",
   "execution_count": null,
   "id": "5096ac07-def9-441d-8a1a-c2df99b06887",
   "metadata": {},
   "outputs": [],
   "source": [
    "fractions_err"
   ]
  },
  {
   "cell_type": "code",
   "execution_count": null,
   "id": "e5528693-4e16-422b-8a57-a6d5ae72e52c",
   "metadata": {},
   "outputs": [],
   "source": [
    "photozs"
   ]
  },
  {
   "cell_type": "code",
   "execution_count": null,
   "id": "a515cdcd-ecbe-4f1d-80da-9c141872dbf0",
   "metadata": {},
   "outputs": [],
   "source": [
    "out = np.transpose([photozs, fractions, fractions_err])\n",
    "name = 'truth_50_all.txt' #change the name of the catalog.\n",
    "np.savetxt(name, out, header='redshift   fractions   errors', fmt='%1.6e')"
   ]
  },
  {
   "cell_type": "markdown",
   "id": "7b6f5029-3a41-40e2-9770-a17e245c2fd4",
   "metadata": {},
   "source": [
    "## Results:\n",
    "\n",
    "Plot figures to see the evolution of red fraction with redshift for the sample analyzed.\n"
   ]
  },
  {
   "cell_type": "code",
   "execution_count": null,
   "id": "08b505a9-653f-455c-9ed3-6e11318be3d8",
   "metadata": {},
   "outputs": [],
   "source": [
    "rich = ['25', '35', '50']\n",
    "colors = ['ri', 'all']"
   ]
  },
  {
   "cell_type": "code",
   "execution_count": null,
   "id": "f1c96991-fbb5-4c21-9e9e-b5fca003c9d9",
   "metadata": {},
   "outputs": [],
   "source": [
    "for i in rich:\n",
    "    for j in colors:\n",
    "        \n",
    "        doc = f'dp0_{i}_{j}.txt'\n",
    "        redshifts1, fractions1, fractions_err1= np.loadtxt(doc, usecols=(0,1,2), unpack=True)\n",
    "        doc2 = f'dc2_{i}_{j}.txt'\n",
    "        redshifts2, fractions2, fractions_err2= np.loadtxt(doc2, usecols=(0,1,2), unpack=True)\n",
    "        doc3 = f'truth_{i}_{j}.txt'\n",
    "        redshifts3, fractions3, fractions_err3= np.loadtxt(doc3, usecols=(0,1,2), unpack=True)\n",
    "\n",
    "        plt.rcParams['font.size'] = 15\n",
    "\n",
    "        plt.figure(figsize=[6,6], dpi=300)\n",
    "\n",
    "        plt.plot(redshifts1, fractions1, 'o', color='green', label='WaZP in DP0')\n",
    "        plt.errorbar(redshifts1, fractions1, yerr=fractions_err1, color='green', fmt='.')\n",
    "        plt.plot(redshifts2, fractions2, 's', color='orangered', label='WaZP in DC2')\n",
    "        plt.errorbar(redshifts2, fractions2, yerr=fractions_err2, color='orangered', fmt='.')\n",
    "        plt.plot(redshifts3, fractions3, '^', color='teal', label='Truth catalog')\n",
    "        plt.errorbar(redshifts3, fractions3, yerr=fractions_err3, color='teal', fmt='.')\n",
    "        \n",
    "        if j == 'all':\n",
    "            plt.vlines(0.3, -0.2, 1.3, linestyles='dotted', color='black')\n",
    "            plt.vlines(0.7, -0.2, 1.3, linestyles='dotted', color='black')\n",
    "            plt.vlines(1.1, -0.2, 1.3, linestyles='dotted', color='black')\n",
    "            plt.text(0.2, 0.0, 'g-r', fontsize=12)\n",
    "            plt.text(0.5, 0.0, 'r-i', fontsize=12)\n",
    "            plt.text(0.9, 0.0, 'i-z', fontsize=12)\n",
    "            plt.text(1.23, 0.0, 'z-y', fontsize=12)\n",
    "            \n",
    "        plt.xlabel(\"redshift\")\n",
    "        plt.ylabel(\"red fraction\")\n",
    "        plt.ylim(-0.1, 1.2)\n",
    "        plt.xlim(0.1, 1.4)\n",
    "        plt.xticks([0.1, 0.3, 0.5, 0.7, 0.9, 1.1, 1.3])\n",
    "        plt.yticks([0.0, 0.2, 0.4, 0.6, 0.8, 1.0])\n",
    "        \n",
    "        if i == '25':\n",
    "            text ='25<$N_{gals}$<35'\n",
    "        if i == '35':\n",
    "            text='35<$N_{gals}$<50'\n",
    "        if i == '50':\n",
    "            text='$N_{gals}$>50'\n",
    "            \n",
    "        if i == '25' and j == 'ri':\n",
    "            text ='25<$N_{gals}$<35\\n color r-i'\n",
    "        if i == '35'and j == 'ri':\n",
    "            text='35<$N_{gals}$<50\\n color r-i'\n",
    "        if i == '50' and j == 'ri':\n",
    "            text='$N_{gals}$>50\\n color r-i'\n",
    "        \n",
    "        plt.text(0.15, 1.05, text, fontsize=12, bbox=dict(facecolor='white', alpha=0.6, boxstyle=\"round\"))\n",
    "        #plt.title(f\"Red fraction evolution {i}, {j}\", fontsize=14)\n",
    "        plt.legend(fontsize=12)\n",
    "        plt.tight_layout()\n",
    "        plt.savefig(f'frac_evol_{i}_{j}.png')"
   ]
  },
  {
   "cell_type": "code",
   "execution_count": null,
   "id": "a7f8ad68-44c6-4eb1-ad76-1f6004be0c81",
   "metadata": {},
   "outputs": [],
   "source": []
  },
  {
   "cell_type": "markdown",
   "id": "09be40f3-4b45-4d97-a3de-5cf0237e4d1a",
   "metadata": {},
   "source": [
    "\n",
    "## Discussion and Conclusions:\n",
    "* The first and last redshift bins have larger error bars because fewer objects are selected and the gaussian fit is not so precise.\n",
    "* The red fraction evolution observed in wazp cluster members recovers the overall trend of the galaxies marked as \"is on red sequence\" in the truth catalog for color r-iin intermediate redshifts. The \"truth\" catalog results are less reliable at the most extreme redshifts because of the extrapolation of the redshift range in which the r-i band is valid. It seems necessary to separate the sample by considering the colors that envelope the 4000 A break.\n",
    "* It is noticeable that the results of the three catalogs with richness $N_{gals} > 50$ are more concordant: the higher the richness, the better the capability of wazp to identify populations in the proportions in which they actually occur.\n",
    "* The reasonable agreement between DC2 and DP0 results shows that introducing photo-z-related uncertainties in the WaZP cluster detection does not change the overall trend of red fraction evolution.\n",
    "* As WaZP does not rely on the red sequence information, its good performance in detecting clusters with a low fraction of red galaxies makes the algorithm suitable for studies of cluster properties at high redshifts."
   ]
  },
  {
   "cell_type": "markdown",
   "id": "30c01d69-ca49-4f83-8c08-2062b7af731b",
   "metadata": {},
   "source": [
    "## Future Works:\n"
   ]
  },
  {
   "cell_type": "markdown",
   "id": "4a4172fc-f104-4dee-a7e6-0228e5889fea",
   "metadata": {},
   "source": [
    "We have some preliminar code for the investigation of the inclination of the red sequence - the red slope."
   ]
  },
  {
   "cell_type": "code",
   "execution_count": null,
   "id": "f932b3ed-04ab-49ea-b6f7-5edc15b78637",
   "metadata": {},
   "outputs": [],
   "source": [
    "def green_valley(mu1, sigma1, A1, mu2, sigma2, A2):\n",
    "    g_pos = ((mu1*sigma2**2 - mu2*sigma1**2)+np.sqrt((mu1*sigma2**2 - mu2*sigma1**2)**2 - (sigma2**2-sigma1**2)*(sigma2**2*mu1**2 - sigma1**2*mu2**2 -2*sigma1**2*sigma2**2*np.log(A1/A2))))/(sigma2**2-sigma1**2)\n",
    "    g_neg = ((mu1*sigma2**2 - mu2*sigma1**2)-np.sqrt((mu1*sigma2**2 - mu2*sigma1**2)**2 - (sigma2**2-sigma1**2)*(sigma2**2*mu1**2 - sigma1**2*mu2**2 -2*sigma1**2*sigma2**2*np.log(A1/A2))))/(sigma2**2-sigma1**2)\n",
    "    \n",
    "    return (g_pos, g_neg)\n",
    "\n",
    "def redseq_fit(mag, color):\n",
    "    fit_result = stats.linregress(mag, color)\n",
    "    a = fit_result.slope\n",
    "    b = fit_result.intercept\n",
    "    a_err = fit_result.stderr\n",
    "    xfit = np.arange(10, 30, 1)\n",
    "    yfit = a*xfit + b\n",
    "    \n",
    "    return a, b, a_err, xfit, yfit\n",
    "\n",
    "wazp_membership_color = wazp_membership[f'mag_true_{mag1}'][mask] - wazp_membership[f'mag_true_{mag2}'][mask]\n",
    "color = np.array(wazp_membership_color)\n",
    "mag = np.array(wazp_membership[f'mag_true_{mag2}'][mask])\n",
    "pmem = np.array(wazp_membership['pmem_nfw2d'][mask])\n",
    "\n",
    "x = color.reshape(-1, 1)\n",
    "\n",
    "green_line1, green_line2 = green_valley(mu1, sigma1, A1, mu2, sigma2, A2)\n",
    "green_line = green_line1\n",
    "\n",
    "plt.rcParams['font.size'] = 15\n",
    "\n",
    "plt.figure(figsize=[6,6], dpi=300) \n",
    "plt.hist2d(mag, color, bins=70, weights=pmem, cmin=0.5, cmax=None, cmap='viridis')\n",
    "cbar = pl.colorbar()\n",
    "\n",
    "red = (color>=green_line)\n",
    "# first fit\n",
    "a1, b1, a1_err, xfit1, yfit1 = redseq_fit(mag[red], color[red])\n",
    "c1 = np.mean(mag)\n",
    "b2 = green_line - a1*c1\n",
    "y2 = a1*xfit1 + b2\n",
    "plt.plot(xfit1, yfit1, 'r--', lw=1.0)\n",
    "plt.plot(xfit1, y2, 'g-', lw=1.0)\n",
    "\n",
    "red2 = (color>=((a1*mag)+b2))\n",
    "# second fit\n",
    "a, b, a_err, xfit, yfit = redseq_fit(mag[red2], color[red2])\n",
    "slope.append(a)\n",
    "slope_err.append(a_err)\n",
    "plt.plot(xfit, yfit, 'r-', lw=1.5, label=f'red slope {round(a,5)} +- {round(a_err,5)}')\n",
    "plt.hlines(green_line, 16.5, 24.5, linestyles='dashed', color='green')\n",
    "    \n",
    "plt.title(f'Red sequence fit for {round(z1,1)}<z<{round(z2,1)}')\n",
    "plt.xlabel('mag '+mag2)\n",
    "plt.ylabel(f'{mag1}-{mag2}')\n",
    "plt.grid()\n",
    "plt.legend(loc='lower left')\n",
    "plt.tight_layout()"
   ]
  },
  {
   "cell_type": "markdown",
   "id": "7b22e3d6-ea32-4aa5-ac60-b87a621b55b3",
   "metadata": {
    "tags": []
   },
   "source": [
    "## Acknowledgement: \n",
    "I would like to thank J. Gschwend, M. Aguena, C. Benoist and L. da Costa for the supervision and LSST Corporation and LIneA for the financial support."
   ]
  }
 ],
 "metadata": {
  "kernelspec": {
   "display_name": "Python 3 (ipykernel)",
   "language": "python",
   "name": "python3"
  },
  "language_info": {
   "codemirror_mode": {
    "name": "ipython",
    "version": 3
   },
   "file_extension": ".py",
   "mimetype": "text/x-python",
   "name": "python",
   "nbconvert_exporter": "python",
   "pygments_lexer": "ipython3",
   "version": "3.10.6"
  }
 },
 "nbformat": 4,
 "nbformat_minor": 5
}
