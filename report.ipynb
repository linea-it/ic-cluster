{
 "cells": [
  {
   "cell_type": "markdown",
   "id": "3c68a482-7a74-42ec-ae8c-d8746f68404a",
   "metadata": {},
   "source": [
    "# Evolution of red sequence on WaZP DP0 clusters\n",
    "\n",
    "### Andressa Wille \n",
    "\n",
    "#### Universidade Tecnológica Federal do Paraná (UTFPR)\n",
    "#### Laboratório Interinstitucional de e-Astronomia (LIneA)\n"
   ]
  },
  {
   "cell_type": "markdown",
   "id": "a794dbd8-90d3-4cf6-a682-0794181e7576",
   "metadata": {},
   "source": [
    "## Objectives & Research Question:\n",
    "* Study the red fraction evolution of members of WaZP clusters on DP0;\n",
    "* Evaluate the performance of the WaZP algorithm, depending on input data;\n",
    "* What is the impact of photo-z uncertainties on the red sequence evolution?  \n",
    "\n",
    "## Background:\n",
    "The Wavelet Z Photometric (WaZP) is an optical cluster finder that detects clusters using photometric redshift information. The algorithm can be used to select cluster members to study different aspects in cluster evolution, as the color-magnitude diagram feature named red sequence."
   ]
  },
  {
   "cell_type": "markdown",
   "id": "9ce3b5c2-412c-4678-b6ef-53a668bff53b",
   "metadata": {},
   "source": [
    "\n",
    "## Methodology:"
   ]
  },
  {
   "cell_type": "markdown",
   "id": "9bc48131-7fbe-4e1a-81cb-98623e97e856",
   "metadata": {},
   "source": [
    "Imports"
   ]
  },
  {
   "cell_type": "code",
   "execution_count": 40,
   "id": "e5f1a219-9358-421a-9927-72f8294d8fc8",
   "metadata": {
    "tags": []
   },
   "outputs": [],
   "source": [
    "import numpy as np \n",
    "import matplotlib.pyplot as plt\n",
    "import pylab as pl\n",
    "import scipy.stats as stats\n",
    "from astropy.table import Table\n",
    "import pandas as pd\n",
    "from scipy.optimize import curve_fit\n",
    "import sys\n",
    "from sklearn.mixture import GaussianMixture\n",
    "from scipy.stats import norm\n",
    "from scipy.interpolate import InterpolatedUnivariateSpline as spline\n",
    "from scipy.integrate import quad\n",
    "from scipy.special import erf\n",
    "import sqlalchemy\n",
    "from gavodb import DBManager\n",
    "\n",
    "%matplotlib inline"
   ]
  },
  {
   "cell_type": "markdown",
   "id": "2d8ced65-52cf-4b7a-9068-696431dfcb56",
   "metadata": {},
   "source": [
    "### QAs"
   ]
  },
  {
   "cell_type": "markdown",
   "id": "7ad116e4-4f4e-4b99-b07d-835d10832e26",
   "metadata": {},
   "source": [
    "Links para processos no Portal:\n",
    "* Photo-z training: https://des-portal.linea.org.br/VP/getViewProcessCon?process_id=7028\n",
    "* Photo-z compute: https://des-portal.linea.org.br/VP/getViewProcessCon?process_id=7030 \n",
    "* VAC cosmo DC2: https://des-portal.linea.org.br/VP/getViewProcessCon?process_id=7011\n",
    "* VAC DP0: https://des-portal.linea.org.br/VP/getViewProcessCon?process_id=7032"
   ]
  },
  {
   "cell_type": "markdown",
   "id": "cb1ed1da-134b-41a6-8f00-6e44d5f9acfb",
   "metadata": {},
   "source": [
    "Plots: photo-z (zphot vs zspec, N(z)),  vac (footprint (ra x dec), mag dist, photo-z N(z), mag vs photo-z)."
   ]
  },
  {
   "cell_type": "code",
   "execution_count": null,
   "id": "01382e31-793b-4b75-97cd-1afe036fe517",
   "metadata": {},
   "outputs": [],
   "source": [
    "dbm = DBManager()"
   ]
  },
  {
   "cell_type": "markdown",
   "id": "ae78ed52-d066-4e99-b920-42f8e38969ac",
   "metadata": {},
   "source": [
    "#### Photo-z training"
   ]
  },
  {
   "cell_type": "code",
   "execution_count": 3,
   "id": "f19ab69d-2d23-49c0-9e3a-c34055cf44e7",
   "metadata": {},
   "outputs": [],
   "source": [
    "photoz_training = dbm.get_tablelist_from_pid('7028')"
   ]
  },
  {
   "cell_type": "code",
   "execution_count": 4,
   "id": "b42da2eb-9481-4835-bcab-e72fd31f086c",
   "metadata": {},
   "outputs": [
    {
     "data": {
      "text/plain": [
       "[]"
      ]
     },
     "execution_count": 4,
     "metadata": {},
     "output_type": "execute_result"
    }
   ],
   "source": [
    "photoz_training"
   ]
  },
  {
   "cell_type": "markdown",
   "id": "ecebc2eb-0cbd-47eb-afd8-d82a6b786147",
   "metadata": {},
   "source": [
    "#### Photo-z compute"
   ]
  },
  {
   "cell_type": "code",
   "execution_count": 5,
   "id": "1f4e3c2e-1640-42e9-aa5d-3b1c8d230870",
   "metadata": {},
   "outputs": [],
   "source": [
    "photoz_comp = dbm.get_tablelist_from_pid('7030')"
   ]
  },
  {
   "cell_type": "code",
   "execution_count": 6,
   "id": "1a92fa10-f404-410f-a772-44ce17e974cb",
   "metadata": {},
   "outputs": [
    {
     "data": {
      "text/plain": [
       "['photoz_compute.dnf_7030']"
      ]
     },
     "execution_count": 6,
     "metadata": {},
     "output_type": "execute_result"
    }
   ],
   "source": [
    "photoz_comp"
   ]
  },
  {
   "cell_type": "code",
   "execution_count": null,
   "id": "365a42e7-9afc-47fe-becc-6f2b0b8f0928",
   "metadata": {},
   "outputs": [],
   "source": [
    "columns = ['z_best','err_z']\n",
    "photoz_comp = dbm.get_db_table('photoz_compute.dnf_7030', columns)"
   ]
  },
  {
   "cell_type": "markdown",
   "id": "07e56463-0207-4afc-83fc-04cbfb03a78e",
   "metadata": {},
   "source": [
    "#### VAC DC2"
   ]
  },
  {
   "cell_type": "code",
   "execution_count": 10,
   "id": "3be252d9-2971-4aff-88af-c495250f092d",
   "metadata": {},
   "outputs": [],
   "source": [
    "vac_dc2_tables = dbm.get_tablelist_from_pid('7011')"
   ]
  },
  {
   "cell_type": "code",
   "execution_count": 11,
   "id": "98cc204a-be14-4f96-b443-6bcf9d804966",
   "metadata": {},
   "outputs": [
    {
     "data": {
      "text/plain": [
       "['vac_cluster_simulation.footprint_7011',\n",
       " 'vac_cluster_simulation.catalog_7011']"
      ]
     },
     "execution_count": 11,
     "metadata": {},
     "output_type": "execute_result"
    }
   ],
   "source": [
    "vac_dc2_tables"
   ]
  },
  {
   "cell_type": "code",
   "execution_count": 12,
   "id": "015f5d6d-438e-45f7-bdd6-c4f3cb614b55",
   "metadata": {},
   "outputs": [],
   "source": [
    "vac_dc2 = dbm.get_db_table('vac_cluster_simulation.footprint_7011', ['ra', 'dec'])"
   ]
  },
  {
   "cell_type": "code",
   "execution_count": null,
   "id": "0df0119f-4cc6-4eae-9f4a-574d6cfc3323",
   "metadata": {},
   "outputs": [],
   "source": [
    "vac2_dc2 = dbm.get_db_table('vac_cluster_simulation.catalog_7011', ['ra', 'dec', 'mag_g', 'mag_r', 'mag_i', 'mag_z', 'mag_y'])"
   ]
  },
  {
   "cell_type": "code",
   "execution_count": 13,
   "id": "98538a4e-ec62-45a0-80b1-6490b108fa90",
   "metadata": {},
   "outputs": [
    {
     "data": {
      "text/plain": [
       "array([[ 50.40527344,  51.28417969,  50.5480957 , ...,  74.63012695,\n",
       "         61.66625977,  65.22172949],\n",
       "       [-34.42082925, -37.46203997, -35.27306975, ..., -29.35598753,\n",
       "        -35.3645019 , -42.27282242]])"
      ]
     },
     "execution_count": 13,
     "metadata": {},
     "output_type": "execute_result"
    }
   ],
   "source": [
    "vac_dc2"
   ]
  },
  {
   "cell_type": "code",
   "execution_count": 14,
   "id": "00509ded-36bd-4220-9c80-9ed9b24938a2",
   "metadata": {},
   "outputs": [],
   "source": [
    "vac_dataframe = pd.DataFrame(data=vac_dc2)"
   ]
  },
  {
   "cell_type": "code",
   "execution_count": 15,
   "id": "7e98d77c-12cf-43f7-b416-e37c12a4adf4",
   "metadata": {},
   "outputs": [],
   "source": [
    "vac_dataframe = vac_dataframe.T"
   ]
  },
  {
   "cell_type": "code",
   "execution_count": 16,
   "id": "99caa6cc-3b82-4cfb-8454-93717b2dc90b",
   "metadata": {},
   "outputs": [],
   "source": [
    "vac_dataframe.columns = ['ra', 'dec']"
   ]
  },
  {
   "cell_type": "code",
   "execution_count": 17,
   "id": "c2f9aef0-e3ef-48b7-832b-a5ffdd49c0ad",
   "metadata": {},
   "outputs": [
    {
     "data": {
      "text/html": [
       "<div>\n",
       "<style scoped>\n",
       "    .dataframe tbody tr th:only-of-type {\n",
       "        vertical-align: middle;\n",
       "    }\n",
       "\n",
       "    .dataframe tbody tr th {\n",
       "        vertical-align: top;\n",
       "    }\n",
       "\n",
       "    .dataframe thead th {\n",
       "        text-align: right;\n",
       "    }\n",
       "</style>\n",
       "<table border=\"1\" class=\"dataframe\">\n",
       "  <thead>\n",
       "    <tr style=\"text-align: right;\">\n",
       "      <th></th>\n",
       "      <th>ra</th>\n",
       "      <th>dec</th>\n",
       "    </tr>\n",
       "  </thead>\n",
       "  <tbody>\n",
       "    <tr>\n",
       "      <th>0</th>\n",
       "      <td>50.405273</td>\n",
       "      <td>-34.420829</td>\n",
       "    </tr>\n",
       "    <tr>\n",
       "      <th>1</th>\n",
       "      <td>51.284180</td>\n",
       "      <td>-37.462040</td>\n",
       "    </tr>\n",
       "    <tr>\n",
       "      <th>2</th>\n",
       "      <td>50.548096</td>\n",
       "      <td>-35.273070</td>\n",
       "    </tr>\n",
       "    <tr>\n",
       "      <th>3</th>\n",
       "      <td>52.404785</td>\n",
       "      <td>-37.697382</td>\n",
       "    </tr>\n",
       "    <tr>\n",
       "      <th>4</th>\n",
       "      <td>49.592285</td>\n",
       "      <td>-35.238809</td>\n",
       "    </tr>\n",
       "    <tr>\n",
       "      <th>...</th>\n",
       "      <td>...</td>\n",
       "      <td>...</td>\n",
       "    </tr>\n",
       "    <tr>\n",
       "      <th>2149849</th>\n",
       "      <td>49.416504</td>\n",
       "      <td>-39.777742</td>\n",
       "    </tr>\n",
       "    <tr>\n",
       "      <th>2149850</th>\n",
       "      <td>73.081055</td>\n",
       "      <td>-28.599121</td>\n",
       "    </tr>\n",
       "    <tr>\n",
       "      <th>2149851</th>\n",
       "      <td>74.630127</td>\n",
       "      <td>-29.355988</td>\n",
       "    </tr>\n",
       "    <tr>\n",
       "      <th>2149852</th>\n",
       "      <td>61.666260</td>\n",
       "      <td>-35.364502</td>\n",
       "    </tr>\n",
       "    <tr>\n",
       "      <th>2149853</th>\n",
       "      <td>65.221729</td>\n",
       "      <td>-42.272822</td>\n",
       "    </tr>\n",
       "  </tbody>\n",
       "</table>\n",
       "<p>2149854 rows × 2 columns</p>\n",
       "</div>"
      ],
      "text/plain": [
       "                ra        dec\n",
       "0        50.405273 -34.420829\n",
       "1        51.284180 -37.462040\n",
       "2        50.548096 -35.273070\n",
       "3        52.404785 -37.697382\n",
       "4        49.592285 -35.238809\n",
       "...            ...        ...\n",
       "2149849  49.416504 -39.777742\n",
       "2149850  73.081055 -28.599121\n",
       "2149851  74.630127 -29.355988\n",
       "2149852  61.666260 -35.364502\n",
       "2149853  65.221729 -42.272822\n",
       "\n",
       "[2149854 rows x 2 columns]"
      ]
     },
     "execution_count": 17,
     "metadata": {},
     "output_type": "execute_result"
    }
   ],
   "source": [
    "vac_dataframe"
   ]
  },
  {
   "cell_type": "code",
   "execution_count": 18,
   "id": "5605dcfc-13f9-467b-a516-dd460e44fcee",
   "metadata": {},
   "outputs": [],
   "source": [
    "dc2 = vac_dataframe"
   ]
  },
  {
   "cell_type": "markdown",
   "id": "855b85b1-8d00-43a8-9d29-b5294d98fe3f",
   "metadata": {},
   "source": [
    "#### DP0"
   ]
  },
  {
   "cell_type": "code",
   "execution_count": null,
   "id": "b3df6245-7350-42cb-a4cb-ea6d54445b9a",
   "metadata": {},
   "outputs": [],
   "source": [
    "vac_dc2_tables = dbm.get_tablelist_from_pid('7032')"
   ]
  },
  {
   "cell_type": "code",
   "execution_count": null,
   "id": "cbb10465-36b8-4eb8-9f1d-4ce213ccda94",
   "metadata": {},
   "outputs": [],
   "source": []
  },
  {
   "cell_type": "markdown",
   "id": "bea7d6d2-1913-47c7-a7ce-0aa003fc0c36",
   "metadata": {},
   "source": [
    "#### Photo-z x spec-z"
   ]
  },
  {
   "cell_type": "code",
   "execution_count": null,
   "id": "241e3585-3b22-4085-adda-e09727f4444b",
   "metadata": {},
   "outputs": [],
   "source": [
    "plt.plot(dc2['z_photo'], dc2['z_spec'], 'k.')\n",
    "plt.xlabel(\"photo-z\")\n",
    "plt.ylabel(\"spec-z\")\n",
    "plt.title(\"Redshift\")\n",
    "plt.grid(True)\n",
    "plt.tight_layout()"
   ]
  },
  {
   "cell_type": "markdown",
   "id": "f21f05c2-a867-44e2-8cf4-0454c11a898c",
   "metadata": {},
   "source": [
    "#### Footprint RA x DEC"
   ]
  },
  {
   "cell_type": "code",
   "execution_count": 19,
   "id": "e13d1bd6-6605-4e10-97cc-569b47d850ad",
   "metadata": {},
   "outputs": [
    {
     "data": {
      "image/png": "[encoded data removed]",
      "text/plain": [
       "<Figure size 640x480 with 2 Axes>"
      ]
     },
     "metadata": {},
     "output_type": "display_data"
    }
   ],
   "source": [
    "#Area = 441.41\n",
    "\n",
    "ra = dc2['ra']\n",
    "ra[ra >180.0] -= 360\n",
    "dec = dc2['dec']\n",
    "plt.hist2d(ra, dec, bins=100, weights=None, cmin=0.5, cmax=None, cmap='cool')\n",
    "plt.xlabel(\"RA (deg)\", fontsize=14)\n",
    "plt.ylabel(\"Dec (deg)\", fontsize=14)\n",
    "plt.colorbar(label=\"density of points\")\n",
    "ylims=[-60, -10]\n",
    "plt.ylim(ylims)\n",
    "xlims=[0, 100]\n",
    "plt.xlim(xlims)\n",
    "#plt.grid()\n",
    "plt.xticks(fontsize=12)\n",
    "plt.yticks(fontsize=12)\n",
    "plt.title('Footprint cosmoDC2', fontsize=12)\n",
    "plt.tight_layout()"
   ]
  },
  {
   "cell_type": "markdown",
   "id": "edf6843d-341e-4bbb-abde-20d918a15be7",
   "metadata": {},
   "source": [
    "#### N(z)"
   ]
  },
  {
   "cell_type": "code",
   "execution_count": null,
   "id": "b2dff226-7178-4372-bb31-c5826fc82442",
   "metadata": {},
   "outputs": [],
   "source": [
    "plt.hist(dc2['z_best'], bins='auto', ec=\"cornflowerblue\", fc=\"cornflowerblue\")\n",
    "plt.xlabel(\"z\")\n",
    "plt.ylabel(\"Counts\")\n",
    "plt.title(\"Redshift Distribution\")\n",
    "plt.grid(True)\n",
    "plt.tight_layout()"
   ]
  },
  {
   "cell_type": "markdown",
   "id": "487c4dce-9a9f-46f6-9208-d18dffdcc38a",
   "metadata": {},
   "source": [
    "#### Mags dis"
   ]
  },
  {
   "cell_type": "code",
   "execution_count": null,
   "id": "b3c67a02-7237-4259-99ab-14ef2f6c2fe6",
   "metadata": {},
   "outputs": [],
   "source": [
    "bands = ['g', 'r', 'i', 'z', 'y']\n",
    "\n",
    "for i, band in enumerate(bands):\n",
    "    plt.figure()\n",
    "    plt.hist(dc2[f'mag_{band}'], histtype='bar', bins='auto', ec=\"cornflowerblue\")\n",
    "    plt.xlabel(\"mag \"+band)\n",
    "    plt.ylabel(\"Counts\")\n",
    "    plt.xlim(10, 40)\n",
    "    plt.yscale('log')\n",
    "    plt.grid(True)\n",
    "    plt.tight_layout()"
   ]
  },
  {
   "cell_type": "markdown",
   "id": "5b4838db-e212-4e9c-8bc9-a94309ea4b60",
   "metadata": {},
   "source": [
    "#### Mag x z"
   ]
  },
  {
   "cell_type": "code",
   "execution_count": null,
   "id": "ae974494-fb7b-43e9-b210-66adcc876292",
   "metadata": {},
   "outputs": [],
   "source": [
    "for i, band in enumerate(bands):\n",
    "    pl.figure(figsize=[10,4])\n",
    "    pl.subplot(121) \n",
    "    mag = np.array(dc2[f'mag_{band}'])\n",
    "    z = np.array(dc2['z_best'])\n",
    "    mask = (mag>14)&(mag<32)&(z<=2)\n",
    "    pl.hexbin(z[mask], mag[mask], None,  mincnt=1, cmap='viridis', gridsize=[200,100], bins='log')\n",
    "    cbar = pl.colorbar()\n",
    "    pl.xlabel(\"mag \"+band)\n",
    "    pl.ylabel(\"redshift\")\n",
    "    pl.grid(True)\n",
    "    pl.tight_layout()"
   ]
  },
  {
   "cell_type": "markdown",
   "id": "288303be-b464-49c4-8c18-ad0fe6781288",
   "metadata": {},
   "source": [
    "\n",
    "### Data: \n",
    "* Catalogs of WaZP cluster members in DC2 (truth mags, truth z) and DP0 (\"observed\" mags, photo-z DNF);\n",
    "* Truth DC2 halo members catalog, used as reference.\n"
   ]
  },
  {
   "cell_type": "markdown",
   "id": "c16e7fa6-eeb1-4b61-b06e-9efa87908ef1",
   "metadata": {},
   "source": [
    "_______________________________________\n",
    "^ a análise do catálogo truth é um pouco diferente, achei melhor deixar em outro notebook.\n",
    "___________________________________________"
   ]
  },
  {
   "cell_type": "markdown",
   "id": "beeb24b4-5a2b-4176-9776-aa9476f6f131",
   "metadata": {},
   "source": [
    "Choose one of the catalogs to start the analysis."
   ]
  },
  {
   "cell_type": "code",
   "execution_count": 41,
   "id": "2e2b89e7-cb93-4da1-a19b-0049e2210b7d",
   "metadata": {},
   "outputs": [],
   "source": [
    "#DP0 catalog\n",
    "wazp_membership = Table.read('/archive/user/aguena/cats/dp0/wazp/7038/wazp_membership.fits', format='fits')\n",
    "#print(wazp_membership.colnames)"
   ]
  },
  {
   "cell_type": "code",
   "execution_count": 35,
   "id": "c894cf7f-70b4-4939-85d3-9e9bd94db361",
   "metadata": {},
   "outputs": [],
   "source": [
    "#DC2 catalog\n",
    "wazp_membership = Table.read('/archive/user/aguena/cats/dc2/cosmoDC2_v1.1.4/extragal/full/wazp/6948/wazp_membership.fits', format='fits')"
   ]
  },
  {
   "cell_type": "code",
   "execution_count": null,
   "id": "ab946c5d-f9f8-401c-9f99-ae7675e83dab",
   "metadata": {},
   "outputs": [],
   "source": [
    "#truth catalog\n",
    "halos = Table.read('/archive/user/aguena/cats/dc2/cosmoDC2_v1.1.4/extragal/full/halos/halos_m200c_13.0_members_nfwpmem.fits', format='fits')\n",
    "print(halos.colnames)"
   ]
  },
  {
   "cell_type": "markdown",
   "id": "abd3c4b5-27bb-43b1-bca4-d2bde01cade8",
   "metadata": {},
   "source": [
    "Magnitude cut $m_{r}^{*}$"
   ]
  },
  {
   "cell_type": "code",
   "execution_count": 42,
   "id": "bec2759c-aa47-48b0-8e18-57d311497b59",
   "metadata": {},
   "outputs": [],
   "source": [
    "data = np.loadtxt('/archive/user/aguena/cats/dc2/mstar/DC2_z_star.dat')\n",
    "mstar = spline(*data[data[:,0]<2].T)"
   ]
  },
  {
   "cell_type": "markdown",
   "id": "c86cac42-b165-4418-b840-ad8d55a24acd",
   "metadata": {},
   "source": [
    "Data selection"
   ]
  },
  {
   "cell_type": "markdown",
   "id": "92507b20-21bc-42c2-9743-a22f3b8ae47a",
   "metadata": {},
   "source": [
    "Select magnitude bands and richness."
   ]
  },
  {
   "cell_type": "code",
   "execution_count": 43,
   "id": "f36870ae-f3fb-4842-a7ca-55a42dbe6ab1",
   "metadata": {},
   "outputs": [],
   "source": [
    "mag1 = 'r'\n",
    "mag2 = 'i'\n",
    "\n",
    "ngals_min = 25\n",
    "#ngals_max = 25\n",
    "\n",
    "mask_mag = (wazp_membership['mag_z']<=mstar(wazp_membership['ZP'])+1.5)\n",
    "mask_rich = (wazp_membership['NGALS']>ngals_min)#&(wazp_membership['NGALS']<ngals_max)"
   ]
  },
  {
   "cell_type": "markdown",
   "id": "6eb4f034-9b7f-4ce1-8e23-77625be2e05c",
   "metadata": {},
   "source": [
    "Arrays to save red fractions and errors"
   ]
  },
  {
   "cell_type": "code",
   "execution_count": 44,
   "id": "7ea25655-26d1-41a3-833c-0f852824e3d4",
   "metadata": {
    "tags": []
   },
   "outputs": [],
   "source": [
    "fraction = []\n",
    "fraction_err = []\n",
    "photozs = []"
   ]
  },
  {
   "cell_type": "markdown",
   "id": "21c5c675-5c83-4958-a019-96e3e8f69572",
   "metadata": {},
   "source": [
    "### Color magnitude diagrams:"
   ]
  },
  {
   "cell_type": "markdown",
   "id": "6e284d0a-ac36-44f8-af71-5c48c5a081b9",
   "metadata": {},
   "source": [
    "Select the redshift interval to plot CMDs."
   ]
  },
  {
   "cell_type": "code",
   "execution_count": 49,
   "id": "8b42deb0-8195-467f-a05b-56041c17bfde",
   "metadata": {
    "tags": []
   },
   "outputs": [
    {
     "data": {
      "image/png": "[encoded data removed]",
      "text/plain": [
       "<Figure size 1800x1500 with 2 Axes>"
      ]
     },
     "metadata": {},
     "output_type": "display_data"
    }
   ],
   "source": [
    "plt.rcParams['font.size'] = 15\n",
    "\n",
    "plt.figure(figsize=[6,5], dpi=300)\n",
    "\n",
    "zpmax = 0.6\n",
    "zpmin = 0.5\n",
    "\n",
    "Nbins = 1 #int(10*(zpmax-zpmin))\n",
    "dz = (zpmax - zpmin)/Nbins\n",
    "\n",
    "#print(dz)\n",
    "\n",
    "for j in range(0, Nbins):\n",
    "    z1 = zpmin + (j * dz)\n",
    "    z2 = z1 + dz\n",
    "    round(z1,1)\n",
    "    round(z2,1)\n",
    "    #print(z1, z2)\n",
    "    \n",
    "    mask_z = (wazp_membership['ZP']>z1)&(wazp_membership['ZP']<z2)\n",
    "    mask = (mask_rich)&(mask_z)&(mask_mag) \n",
    "\n",
    "\n",
    "    #plt.figure(figsize=[8,5])#, dpi=300)\n",
    "    wazp_membership_color = wazp_membership[f'mag_{mag1}'][mask] - wazp_membership[f'mag_{mag2}'][mask]\n",
    "    color = np.array(wazp_membership_color)\n",
    "    mag = np.array(wazp_membership[f'mag_{mag2}'][mask])\n",
    "    pmem = np.array(wazp_membership['PMEM'][mask])\n",
    "    plt.hist2d(mag, color, bins=70, weights=pmem, cmin=0.1, cmax=None, cmap='viridis')\n",
    "    cbar = pl.colorbar(label=\"density\")\n",
    "    \n",
    "    #plt.xlim()\n",
    "    plt.ylim(-0.1, 1.6)\n",
    "\n",
    "    plt.title(f'Color-magnitude diagram \\nWaZP members on DP0 with {round(z1,1)}<$z$<{round(z2,1)}', fontsize=16)\n",
    "    plt.xlabel('mag '+mag2)\n",
    "    plt.ylabel(f'color {mag1}-{mag2}')\n",
    "    plt.grid(True)\n",
    "    #plt.legend()\n",
    "    #plt.savefig('fig1.png')\n",
    "    plt.tight_layout()"
   ]
  },
  {
   "cell_type": "markdown",
   "id": "218d4cf2-94b2-4205-a604-d75b51d2ba6d",
   "metadata": {},
   "source": [
    "### Analysis:\n",
    "* After selecting the richness range and the magnitudes, we have to separate the data in redshift bins.\n",
    "* The red and blue populations were characterized by Gaussian distributions on color histograms. We chose the colors that envelop the 4000 Å break. The 4000 Å break is caused by the absorption of high energy radiation from metals in stellar atmospheres and by a deficiency of hot, blue stars. That implies the presence of old stellar populations.\n",
    "    We have the following distribution of colors: $0.1 < z < 0.2$ in g-r, $0.3 < z < 0.6$ in r-i, $0.7 < z < 1.0$ in i-z, $1.1 < z < 1.4$ in z-y.\n",
    "\n",
    "* We integrated the curves to find the number of red and total members and calculate the red fraction in each redshift bin."
   ]
  },
  {
   "cell_type": "markdown",
   "id": "7d9f37dc-73a3-4db8-8b80-361e1681082e",
   "metadata": {},
   "source": [
    "Select color."
   ]
  },
  {
   "cell_type": "code",
   "execution_count": 50,
   "id": "a20d528c-2305-45e3-bdd2-63d89e82d3c1",
   "metadata": {},
   "outputs": [],
   "source": [
    "mag1 = 'r'\n",
    "mag2 = 'i'"
   ]
  },
  {
   "cell_type": "markdown",
   "id": "01cf813b-1a4c-4174-b2d8-df034f0e0b95",
   "metadata": {},
   "source": [
    "Define gaussian fit and integral."
   ]
  },
  {
   "cell_type": "markdown",
   "id": "1f7170c2-ef0f-40e5-b8cd-11634f1d097b",
   "metadata": {},
   "source": [
    "Gaussian params: A, $\\mu$ and $\\sigma$ are the height, width and center of the gaussians, respectively."
   ]
  },
  {
   "cell_type": "code",
   "execution_count": 51,
   "id": "9a15add0-181e-4193-9a92-1e8c16d976f3",
   "metadata": {},
   "outputs": [],
   "source": [
    "def gauss(x, mu, sigma, A):\n",
    "    return A*np.exp(-(x-mu)**2/2/sigma**2)\n",
    "\n",
    "def bimodal(x, mu1, sigma1, A1, mu2, sigma2, A2):\n",
    "    return gauss(x,mu1,sigma1,A1)+gauss(x,mu2,sigma2,A2)"
   ]
  },
  {
   "cell_type": "code",
   "execution_count": 52,
   "id": "61db4a85-d2c7-4b7c-a35f-ad1090d57330",
   "metadata": {},
   "outputs": [],
   "source": [
    "def gauss_integral(y):\n",
    "    return A2*np.exp(-(y-mu2)**2/2/sigma2**2)\n",
    "def gauss2_integral(y):\n",
    "    return (A1*np.exp(-(y-mu1)**2/2/sigma1**2)+A2*np.exp(-(y-mu2)**2/2/sigma2**2))"
   ]
  },
  {
   "cell_type": "markdown",
   "id": "60c96264-bcae-447b-b7f7-97c3643c0e66",
   "metadata": {},
   "source": [
    "Select redshift interval."
   ]
  },
  {
   "cell_type": "code",
   "execution_count": 53,
   "id": "84a4564e-9ad2-4cb8-97dd-560edb2950cb",
   "metadata": {},
   "outputs": [],
   "source": [
    "z1 = 0.5\n",
    "z2 = 0.6\n",
    "photoz = (z1 + z2)/2"
   ]
  },
  {
   "cell_type": "markdown",
   "id": "b318d722-010b-4dec-a9e4-c10eb17486a0",
   "metadata": {},
   "source": [
    "Plot color histograms and fit gaussians for selected redshift bin.\n",
    "See expected_params.txt to complete the values in \"expected\" array."
   ]
  },
  {
   "cell_type": "code",
   "execution_count": null,
   "id": "fee9ef28-b0b6-4e87-b1d0-2836444f4f8e",
   "metadata": {},
   "outputs": [],
   "source": [
    "mask_z = (wazp_membership['ZP']>z1)&(wazp_membership['ZP']<z2)\n",
    "mask = (mask_rich)&(mask_z)&(mask_mag) \n",
    "\n",
    "wazp_membership_color = wazp_membership[f'mag_{mag1}'] - wazp_membership[f'mag_{mag2}']\n",
    "color = np.array(wazp_membership_color[mask])\n",
    "pmem = np.array(wazp_membership['PMEM'][mask])\n",
    "\n",
    "plt.figure(figsize=[8,5])\n",
    "y,x,_=plt.hist(color, bins=30, weights=pmem, density=True, fc=\"moccasin\", ec='sandybrown', label='color distribution')\n",
    "x=(x[1:]+x[:-1])/2\n",
    "x=x.reshape(-1, 1)\n",
    "\n",
    "expected = (0.6, 0.1, 10.0, 0.95, 0.15, 50.0)\n",
    "params, cov = curve_fit(bimodal, x, y, expected)\n",
    "sigma=np.sqrt(np.diag(cov))\n",
    "x_fit = np.linspace(x.min(), x.max(), 500)\n",
    "\n",
    "plt.plot(x_fit, bimodal(x_fit, *params), color='black', lw=3, label='model')\n",
    "plt.plot(x_fit, gauss(x_fit, *params[0:3]), color='blue', lw=2, ls=\"--\", label='blue population')\n",
    "plt.plot(x_fit, gauss(x_fit, *params[3:6]), color='red', lw=2, ls=\"--\", label='red population')\n",
    "plt.title(f'Color histogram ({round(z1,1)}<$z$<{round(z2,1)})', fontsize=12)\n",
    "plt.legend(fontsize=11)\n",
    "plt.ylabel('number of galaxies')\n",
    "plt.xlabel(f'{mag1}-{mag2}')\n",
    "plt.grid(True)\n",
    "data = pd.DataFrame(data={'params': params, 'err': sigma}, index=bimodal.__code__.co_varnames[1:])\n",
    "print(data)\n",
    "plt.show() \n",
    "\n",
    "print(data.to_numpy())\n",
    "mu1 = data.to_numpy()[0][0]\n",
    "sigma1 = data.to_numpy()[1][0]\n",
    "A1 = data.to_numpy()[2][0]\n",
    "mu2 = data.to_numpy()[3][0]\n",
    "sigma2 = data.to_numpy()[4][0]\n",
    "A2 = data.to_numpy()[5][0]\n",
    "\n",
    "mu1_err = data.to_numpy()[0][1]\n",
    "sigma1_err = data.to_numpy()[1][1]\n",
    "A1_err = data.to_numpy()[2][1]\n",
    "mu2_err = data.to_numpy()[3][1]\n",
    "sigma2_err = data.to_numpy()[4][1]\n",
    "A2_err = data.to_numpy()[5][1]"
   ]
  },
  {
   "cell_type": "markdown",
   "id": "1d145f2d-3de5-4627-a493-f3beceee908f",
   "metadata": {},
   "source": [
    "Propagating errors according to the general equation: \n",
    "$\\sigma_{w}^2 = (\\frac{\\partial w}{\\partial x})^2 \\sigma_{x}^2 + (\\frac{\\partial w}{\\partial y})^2 \\sigma_{y}^2 + (\\frac{\\partial w}{\\partial z})^2 \\sigma_{z}^2 + ...$\n",
    "\n",
    "\n",
    "$(\\frac{\\partial w}{\\partial x})^2 \\sigma_{x}^2 = (\\frac{\\partial}{\\partial A}  \\int_{x_{min}}^{x_{max}} A e^{\\frac{-(x-\\mu)^2}{2\\sigma ^2}})^2 \\sigma_{A}^2 = (\\sqrt{\\frac{\\pi}{2}}\\, \\sigma \\, erf(\\frac{x-\\mu}{\\sigma \\sqrt{2}}))^2 \\sigma_{A}^2$ -> erro 1\n",
    "\n",
    "\n",
    "$(\\frac{\\partial w}{\\partial y})^2 \\sigma_{y}^2 = (\\frac{\\partial}{\\partial \\mu}  \\int_{x_{min}}^{x_{max}} A e^{\\frac{-(x-\\mu)^2}{2\\sigma ^2}})^2 \\sigma_{\\mu}^2 = (-A e^{\\frac{-(\\mu-x)^2}{2\\sigma ^2}})^2 \\, \\sigma_{\\mu}^2$ -> erro 2\n",
    "\n",
    "\n",
    "$(\\frac{\\partial w}{\\partial z})^2 \\sigma_{z}^2 = (\\frac{\\partial}{\\partial \\sigma}  \\int_{x_{min}}^{x_{max}} A e^{\\frac{-(x-\\mu)^2}{2\\sigma ^2}})^2 \\sigma_{\\sigma}^2 = (\\frac{A(\\mu - x) e^{\\frac{-(x-\\mu)^2}{2\\sigma ^2}}}{\\sigma} - \\sqrt{\\frac{\\pi}{2}} \\, A \\, erf(\\frac{\\mu - x}{\\sigma \\sqrt{2}}))^2 \\sigma_{\\sigma}^2$ -> erro 3"
   ]
  },
  {
   "cell_type": "code",
   "execution_count": null,
   "id": "c18e4710-85d4-41b8-8e2b-e6829227e798",
   "metadata": {},
   "outputs": [],
   "source": [
    "erro1 = ((np.sqrt(np.pi/2))*sigma2*erf((mu2-x.max())/(sigma2*np.sqrt(2)))) - ((np.sqrt(np.pi/2))*sigma2*erf((mu2-x.min())/(sigma2*np.sqrt(2))))\n",
    "erro1 = (erro1**2) * (A2_err)**2\n",
    "print(erro1)\n",
    "\n",
    "erro2 = (-A2* np.exp(-(mu2-x.max())**2/2/sigma2**2)) - (-A2* np.exp(-(mu2-x.min())**2/2/sigma2**2))\n",
    "erro2 = (erro2**2) * (mu2_err)**2\n",
    "print(erro2)\n",
    "\n",
    "erro3_1 = ((A2*(mu2-x.max()* np.exp(-(mu2-x.max())**2/2/sigma2**2)))/(sigma2) -A2*np.sqrt(np.pi/2)*erf((mu2-x.max())/(sigma2*np.sqrt(2))))\n",
    "erro3_2 = ((A2*(mu2-x.min()* np.exp(-(mu2-x.min())**2/2/sigma2**2)))/(sigma2) -A2*np.sqrt(np.pi/2)*erf((mu2-x.min())/(sigma2*np.sqrt(2))))\n",
    "erro3 = erro3_1 - erro3_2\n",
    "erro3 = (erro3**2) * (sigma2_err)**2\n",
    "print(erro3)\n",
    "\n",
    "#erro gaussiana vermelha\n",
    "erro_r = np.sqrt(erro1+erro2+erro3)\n",
    "print(erro_r)\n",
    "\n",
    "erro4 = ((np.sqrt(np.pi/2))*sigma1*erf((mu1-x.max())/(sigma1*np.sqrt(2)))) - ((np.sqrt(np.pi/2))*sigma1*erf((mu1-x.min())/(sigma1*np.sqrt(2))))\n",
    "erro4 = (erro4**2) * (A1_err)**2\n",
    "print(erro4)\n",
    "\n",
    "erro5 = (-A1* np.exp(-(mu1-x.max())**2/2/sigma1**2)) - (-A1* np.exp(-(mu1-x.min())**2/2/sigma1**2))\n",
    "erro5 = (erro5**2) * (mu1_err)**2\n",
    "print(erro2)\n",
    "\n",
    "erro6_1 = ((A1*(mu1-x.max()* np.exp(-(mu1-x.max())**2/2/sigma1**2)))/(sigma1) -A1*np.sqrt(np.pi/2)*erf((mu1-x.max())/(sigma1*np.sqrt(2))))\n",
    "erro6_2 = ((A1*(mu1-x.min()* np.exp(-(mu1-x.min())**2/2/sigma1**2)))/(sigma1) -A1*np.sqrt(np.pi/2)*erf((mu1-x.min())/(sigma1*np.sqrt(2))))\n",
    "erro6 = erro6_1 - erro6_2\n",
    "erro6 = (erro6**2) * (sigma1_err)**2\n",
    "print(erro6)\n",
    "\n",
    "#erro gaussiana azul\n",
    "erro_b = np.sqrt(erro4+erro4+erro6)\n",
    "print(erro_b)\n",
    "\n",
    "#erro gaussiana total\n",
    "erro = np.sqrt(erro1+erro2+erro3+erro4+erro4+erro6)\n",
    "print(erro)"
   ]
  },
  {
   "cell_type": "markdown",
   "id": "a00ab9b0-6e9a-4889-bbab-49e0f7fc807e",
   "metadata": {},
   "source": [
    "General results:"
   ]
  },
  {
   "cell_type": "code",
   "execution_count": null,
   "id": "52cdcde1-4729-4283-8ee4-033b3c7fdf39",
   "metadata": {},
   "outputs": [],
   "source": [
    "print(f'{round(z1,1)}<z<{round(z2,1)}')\n",
    "n_red_galaxies, n_red_galaxies_err = quad(gauss_integral, x.min(), x.max())\n",
    "print(f'number of red galaxies:{n_red_galaxies} +- {erro_v}')\n",
    "n_galaxies, n_galaxies_err = quad(gauss2_integral, x.min(), x.max())\n",
    "print(f'number of galaxies:{n_galaxies} +- {erro}')\n",
    "red_fraction = n_red_galaxies/n_galaxies\n",
    "red_fraction_err = (n_red_galaxies/n_galaxies)* np.sqrt((erro_v/n_red_galaxies)**2+(erro/n_galaxies)**2)\n",
    "print(f'red fraction:{red_fraction} +- {red_fraction_err}')"
   ]
  },
  {
   "cell_type": "markdown",
   "id": "fbd7d0c5-a951-4210-a91f-8bfb4b72f9c5",
   "metadata": {},
   "source": [
    "Save fractions in a txt file."
   ]
  },
  {
   "cell_type": "code",
   "execution_count": null,
   "id": "e49cc753-b245-49e9-8c44-4e75e5305868",
   "metadata": {},
   "outputs": [],
   "source": [
    "fraction.append(red_fraction)\n",
    "fraction_err.append(red_fraction_err)\n",
    "photozs.append(photoz)"
   ]
  },
  {
   "cell_type": "code",
   "execution_count": null,
   "id": "e871f924-006d-455f-a565-f8a478e61d18",
   "metadata": {},
   "outputs": [],
   "source": [
    "out = np.transpose([photozs, fraction, fraction_err])\n",
    "name = 'dp0_fractions.txt' #change the name of the catalog.\n",
    "np.savetxt(name, out, header='redshift   fractions   errors', fmt='%1.6e')"
   ]
  },
  {
   "cell_type": "markdown",
   "id": "7b6f5029-3a41-40e2-9770-a17e245c2fd4",
   "metadata": {},
   "source": [
    "## Preliminary Results:\n",
    "\n",
    "Plot a figure to see the evolution of red fraction with redshift for the sample analyzed.\n"
   ]
  },
  {
   "cell_type": "code",
   "execution_count": null,
   "id": "f1c96991-fbb5-4c21-9e9e-b5fca003c9d9",
   "metadata": {},
   "outputs": [],
   "source": [
    "#read file\n",
    "doc = 'dp0_fractions.txt'\n",
    "redshifts1, fractions1, fractions_err1= np.loadtxt(doc, usecols=(0,1,2), unpack=True)\n",
    "doc2 = 'dp0_fractions_35.txt'\n",
    "redshifts2, fractions2, fractions_err2= np.loadtxt(doc2, usecols=(0,1,2), unpack=True)\n",
    "doc3 = 'dp0_fractions_50.txt'\n",
    "redshifts3, fractions3, fractions_err3= np.loadtxt(doc3, usecols=(0,1,2), unpack=True)\n",
    "\n",
    "#dados do is_on_red_sequence\n",
    "fractions = [0.5921440352216439,\n",
    " 0.4642129461578483,\n",
    " 0.4789826401939994,\n",
    " 0.6606916236992021,\n",
    " 0.641815640391323,\n",
    " 0.44747444997980507,\n",
    " 0.651031839816072,\n",
    " 0.5323493468171591,\n",
    " 0.5322468325080284,\n",
    " 0.4176714023569384,\n",
    " 0.4403604511825388,\n",
    " 0.42375264278427704,\n",
    " 0.3133637322335352]\n",
    "\n",
    "fractions_err = [0.1472829857276373,\n",
    " 0.03801613952846332,\n",
    " 0.04836953657826101,\n",
    " 0.026204572223403992,\n",
    " 0.022289734202544854,\n",
    " 0.02229797364575938,\n",
    " 0.03471092178715547,\n",
    " 0.03341395373284115,\n",
    " 0.022290112387518414,\n",
    " 0.01901494321516365,\n",
    " 0.030791916110973,\n",
    " 0.01509076032375121,\n",
    " 0.024954069152175483]\n",
    "\n",
    "plt.rcParams['font.size'] = 15\n",
    "\n",
    "plt.figure(figsize=[6,6], dpi=300)\n",
    "\n",
    "plt.plot(redshifts1, fractions1, 'o', color='green', label='25<Ngals<35')\n",
    "plt.errorbar(redshifts1, fractions1, yerr=fractions_err1, color='green', fmt='.')\n",
    "plt.plot(redshifts2, fractions2, 's', color='yellowgreen', label='35<Ngals<50')\n",
    "plt.errorbar(redshifts2, fractions2, yerr=fractions_err2, color='yellowgreen', fmt='.')\n",
    "plt.plot(redshifts3, fractions3, 'x', color='teal', label='Ngals>50')\n",
    "plt.errorbar(redshifts3, fractions3, yerr=fractions_err3, color='teal', fmt='.')\n",
    "plt.plot(redshifts3, fractions, '^', color='black', label='\"is_on_red_sequence_ri\"')\n",
    "plt.errorbar(redshifts3, fractions, yerr=fractions_err, color='black', fmt='.')\n",
    "plt.xlabel(\"redshift\")\n",
    "plt.ylabel(\"red fraction\")\n",
    "plt.ylim(-0.1, 1.2)\n",
    "plt.xlim(0.1, 1.4)\n",
    "plt.xticks([0.1, 0.3, 0.5, 0.7, 0.9, 1.1, 1.3])\n",
    "plt.yticks([0.0, 0.4, 0.8, 1.2])\n",
    "plt.title(\"Red fraction in WaZP DP0 clusters (color r-i)\", fontsize=14)\n",
    "plt.legend(fontsize=12)\n",
    "plt.tight_layout()\n",
    "plt.savefig('dp0.png')"
   ]
  },
  {
   "cell_type": "markdown",
   "id": "09be40f3-4b45-4d97-a3de-5cf0237e4d1a",
   "metadata": {},
   "source": [
    "\n",
    "## Discussion:\n",
    "* The first and last redshift bins have larger error bars because fewer objects are selected and the gaussian fit is not so precise.\n",
    "* The red fraction evolution observed in wazp cluster members recovers the overall trend of the galaxies marked as \"is on red sequence\" in the truth catalog for color r-i.\n",
    "* The reasonable agreement between DC2 and DP0 results shows that introducing photo-z-related uncertainties in the WaZP cluster detection does not change the overall trend of red fraction evolution.\n",
    "\n",
    "## Conclusions:\n",
    "\n",
    "* As WaZP does not rely on the red sequence information, its good performance in detecting clusters with a low fraction of red galaxies makes the algorithm suitable for studies of cluster properties at high redshifts.\n",
    "* In future works, we intend to investigate the evolution of the red slope."
   ]
  },
  {
   "cell_type": "markdown",
   "id": "30c01d69-ca49-4f83-8c08-2062b7af731b",
   "metadata": {},
   "source": [
    "## Future Works:\n"
   ]
  },
  {
   "cell_type": "markdown",
   "id": "4a4172fc-f104-4dee-a7e6-0228e5889fea",
   "metadata": {},
   "source": [
    "We have some preliminar results in the investigation of the inclination of the red sequence - the red slope."
   ]
  },
  {
   "cell_type": "code",
   "execution_count": null,
   "id": "f932b3ed-04ab-49ea-b6f7-5edc15b78637",
   "metadata": {},
   "outputs": [],
   "source": [
    "def green_valley(mu1, sigma1, A1, mu2, sigma2, A2):\n",
    "    g_pos = ((mu1*sigma2**2 - mu2*sigma1**2)+np.sqrt((mu1*sigma2**2 - mu2*sigma1**2)**2 - (sigma2**2-sigma1**2)*(sigma2**2*mu1**2 - sigma1**2*mu2**2 -2*sigma1**2*sigma2**2*np.log(A1/A2))))/(sigma2**2-sigma1**2)\n",
    "    g_neg = ((mu1*sigma2**2 - mu2*sigma1**2)-np.sqrt((mu1*sigma2**2 - mu2*sigma1**2)**2 - (sigma2**2-sigma1**2)*(sigma2**2*mu1**2 - sigma1**2*mu2**2 -2*sigma1**2*sigma2**2*np.log(A1/A2))))/(sigma2**2-sigma1**2)\n",
    "    \n",
    "    return (g_pos, g_neg)\n",
    "\n",
    "def redseq_fit(mag, color):\n",
    "    fit_result = stats.linregress(mag, color)\n",
    "    a = fit_result.slope\n",
    "    b = fit_result.intercept\n",
    "    a_err = fit_result.stderr\n",
    "    xfit = np.arange(10, 30, 1)\n",
    "    yfit = a*xfit + b\n",
    "    \n",
    "    return a, b, a_err, xfit, yfit\n",
    "\n",
    "wazp_membership_color = wazp_membership[f'mag_true_{mag1}'][mask] - wazp_membership[f'mag_true_{mag2}'][mask]\n",
    "color = np.array(wazp_membership_color)\n",
    "mag = np.array(wazp_membership[f'mag_true_{mag2}'][mask])\n",
    "pmem = np.array(wazp_membership['pmem_nfw2d'][mask])\n",
    "\n",
    "x = color.reshape(-1, 1)\n",
    "\n",
    "green_line1, green_line2 = green_valley(mu1, sigma1, A1, mu2, sigma2, A2)\n",
    "#if z1==1.0 or z1==1.1 or z1==1.2 or z1==1.3:\n",
    "#    green_line = green_line2\n",
    "#else:\n",
    "green_line = green_line1\n",
    "\n",
    "plt.rcParams['font.size'] = 15\n",
    "\n",
    "plt.figure(figsize=[6,6], dpi=300)\n",
    "#plt.subplot(121) \n",
    "plt.hist2d(mag, color, bins=70, weights=pmem, cmin=0.5, cmax=None, cmap='viridis')\n",
    "cbar = pl.colorbar()\n",
    "\n",
    "red = (color>=green_line)\n",
    "# first fit\n",
    "a1, b1, a1_err, xfit1, yfit1 = redseq_fit(mag[red], color[red])\n",
    "c1 = np.mean(mag)\n",
    "b2 = green_line - a1*c1\n",
    "y2 = a1*xfit1 + b2\n",
    "plt.plot(xfit1, yfit1, 'r--', lw=1.0)\n",
    "plt.plot(xfit1, y2, 'g-', lw=1.0)\n",
    "\n",
    "red2 = (color>=((a1*mag)+b2))\n",
    "# second fit\n",
    "a, b, a_err, xfit, yfit = redseq_fit(mag[red2], color[red2])\n",
    "slope.append(a)\n",
    "slope_err.append(a_err)\n",
    "plt.plot(xfit, yfit, 'r-', lw=1.5, label=f'red slope {round(a,5)} +- {round(a_err,5)}')\n",
    "plt.hlines(green_line, 16.5, 24.5, linestyles='dashed', color='green')\n",
    "    \n",
    "plt.title(f'Red sequence fit for {round(z1,1)}<z<{round(z2,1)}')\n",
    "plt.xlabel('mag '+mag2)\n",
    "plt.ylabel(f'{mag1}-{mag2}')\n",
    "plt.grid()\n",
    "plt.legend(loc='lower left')\n",
    "plt.tight_layout()"
   ]
  },
  {
   "cell_type": "code",
   "execution_count": null,
   "id": "6c627c3f-b180-4cf9-b9a3-71f518edaeaf",
   "metadata": {},
   "outputs": [],
   "source": []
  },
  {
   "cell_type": "markdown",
   "id": "7b22e3d6-ea32-4aa5-ac60-b87a621b55b3",
   "metadata": {
    "tags": []
   },
   "source": [
    "## Acknowledgement: \n",
    "I would like to thank J. Gschwend, M. Aguena, C. Benoist and L. da Costa for the supervision and LSST Corporation for the financial support."
   ]
  },
  {
   "cell_type": "markdown",
   "id": "19659364-f0a1-4943-938f-9348fab870a5",
   "metadata": {},
   "source": [
    "___________________________________________________________________________________\n",
    "To-do:\n",
    "    \n",
    "    * Incluir análise do catálogo truth -> outro notebook\n",
    "    * Arrumar o expected_params.txt para os bins de richness\n",
    "    * Adicionar seção de Future Works com a análise inicial da red slope\n",
    "    * Verificar quais bibliotecas nos imports não são necessárias"
   ]
  }
 ],
 "metadata": {
  "kernelspec": {
   "display_name": "Python 3 (ipykernel)",
   "language": "python",
   "name": "python3"
  },
  "language_info": {
   "codemirror_mode": {
    "name": "ipython",
    "version": 3
   },
   "file_extension": ".py",
   "mimetype": "text/x-python",
   "name": "python",
   "nbconvert_exporter": "python",
   "pygments_lexer": "ipython3",
   "version": "3.10.6"
  }
 },
 "nbformat": 4,
 "nbformat_minor": 5
}
