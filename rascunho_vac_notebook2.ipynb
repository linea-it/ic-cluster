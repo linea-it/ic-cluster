{
 "cells": [
  {
   "cell_type": "markdown",
   "metadata": {},
   "source": [
    "# Rascunho Notebook 2\n",
    "\n",
    "### Andressa Wille\n",
    "#### Notebook 2: object selection\n",
    "Plots:  Distribuições de magnitudes;\n",
    "Distribuições de magnitude errors;\n",
    "Distribuições de cores;\n",
    "Distribuições de photo-z;\n",
    "Distribuições de photo-z error;\n",
    "Number counts normalizados com referências da literatura (vide product log);\n",
    "Plot magnitude X error;\n",
    "Plot magnitude X redshift;\n",
    "Color-magnitude diagrams;\n",
    "Color-color diagrams.\n",
    "\n",
    "\n",
    "Dados: VAC 6850"
   ]
  },
  {
   "cell_type": "code",
   "execution_count": null,
   "metadata": {},
   "outputs": [],
   "source": [
    "import numpy as np \n",
    "import matplotlib.pyplot as plt\n",
    "import pylab as pl\n",
    "from astropy.table import Table\n",
    "import sys\n",
    "from funcs import * "
   ]
  },
  {
   "cell_type": "code",
   "execution_count": null,
   "metadata": {},
   "outputs": [],
   "source": [
    "vac = get_vac(pid='6850',\n",
    "            vac_schema='cluster', \n",
    "            bands=['g', 'r', 'i', 'z', 'y'],\n",
    "            sample_frac = 0.1)"
   ]
  },
  {
   "cell_type": "code",
   "execution_count": null,
   "metadata": {},
   "outputs": [],
   "source": [
    "vac.describe()"
   ]
  },
  {
   "cell_type": "code",
   "execution_count": null,
   "metadata": {},
   "outputs": [],
   "source": [
    "bands = ['g', 'r', 'i', 'z', 'y']\n",
    "colors = ['g-r', 'r-i', 'i-z', 'z-y']"
   ]
  },
  {
   "cell_type": "markdown",
   "metadata": {},
   "source": [
    "### Distribuição de magnitudes"
   ]
  },
  {
   "cell_type": "code",
   "execution_count": null,
   "metadata": {},
   "outputs": [],
   "source": [
    "for i, band in enumerate(bands):\n",
    "    plt.figure()\n",
    "    plt.hist(vac[f'mag_{band}'], histtype='bar', bins='auto', ec=\"cornflowerblue\")\n",
    "    plt.xlabel(\"mag \"+band)\n",
    "    plt.ylabel(\"Counts\")\n",
    "    plt.xlim(10, 40)\n",
    "    plt.yscale('log')\n",
    "plt.tight_layout()"
   ]
  },
  {
   "cell_type": "markdown",
   "metadata": {},
   "source": [
    "### Distribuição de erros nas magnitudes"
   ]
  },
  {
   "cell_type": "code",
   "execution_count": null,
   "metadata": {},
   "outputs": [],
   "source": [
    "# mag y??\n",
    "for i, band in enumerate(bands):\n",
    "    plt.figure()\n",
    "    plt.hist(vac[f'magerr_{band}'], bins=200, ec=\"cornflowerblue\", fc=\"cornflowerblue\")\n",
    "    plt.xlabel(\"mag err \"+band)\n",
    "    plt.ylabel(\"Counts\")\n",
    "    plt.xlim(10, 40)\n",
    "    plt.yscale('log')\n",
    "    plt.grid(True)\n",
    "pl.tight_layout()"
   ]
  },
  {
   "cell_type": "markdown",
   "metadata": {},
   "source": [
    "### Distribuição de cores"
   ]
  },
  {
   "cell_type": "code",
   "execution_count": null,
   "metadata": {},
   "outputs": [],
   "source": [
    "for i, band in enumerate(colors):\n",
    "    plt.figure() \n",
    "    vac[colors[i]] = vac[f'mag_{bands[i]}'] - vac[f'mag_{bands[i+1]}']\n",
    "    plt.hist(vac[colors[i]], bins='auto', ec=\"cornflowerblue\")\n",
    "    plt.xlabel(band)\n",
    "    plt.ylabel(\"Counts\")\n",
    "    plt.yscale('log')\n",
    "    #plt.grid(True)\n",
    "plt.tight_layout()"
   ]
  },
  {
   "cell_type": "markdown",
   "metadata": {},
   "source": [
    "### Distribuição de photo z"
   ]
  },
  {
   "cell_type": "code",
   "execution_count": null,
   "metadata": {},
   "outputs": [],
   "source": [
    "plt.hist(vac['z_best'], bins='auto', ec=\"cornflowerblue\", fc=\"cornflowerblue\")\n",
    "plt.xlabel(\"$z$-spec\")\n",
    "plt.ylabel(\"Counts\")\n",
    "plt.title(\"Redshift Distribution\")\n",
    "plt.tight_layout()"
   ]
  },
  {
   "cell_type": "markdown",
   "metadata": {},
   "source": [
    "### Distribuição de erro no photo z"
   ]
  },
  {
   "cell_type": "code",
   "execution_count": null,
   "metadata": {},
   "outputs": [],
   "source": [
    "plt.hist(vac['err_z'], bins='auto', ec=\"cornflowerblue\", fc=\"cornflowerblue\")\n",
    "plt.xlabel(\"err $z$-spec\")\n",
    "plt.ylabel(\"Counts\")\n",
    "plt.xlim(0, 2)\n",
    "plt.title(\"Redshift Error Distribution\")\n",
    "plt.tight_layout()"
   ]
  },
  {
   "cell_type": "markdown",
   "metadata": {},
   "source": [
    "### Number counts"
   ]
  },
  {
   "cell_type": "code",
   "execution_count": null,
   "metadata": {},
   "outputs": [],
   "source": [
    "#??\n",
    "#Footprint area [sq deg] = 29.05\n",
    "area = 29.05\n",
    "mag = 0.5\n",
    "mag_area = area * mag\n",
    "for i, band in enumerate(bands):\n",
    "    plt.figure()\n",
    "    plt.hist(vac[f'mag_{band}'], histtype='step', bins=50, color='black')\n",
    "    plt.xlabel(\"mag \"+band)\n",
    "    plt.ylabel(\"$N_{gal} deg^{-2}0.5mag^{-1}$\")\n",
    "    plt.xlim(15, 25)\n",
    "    plt.ylim(10e-1, 10e5)\n",
    "    plt.yscale('log')\n",
    "plt.tight_layout()"
   ]
  },
  {
   "cell_type": "markdown",
   "metadata": {},
   "source": [
    "### Plot magnitudes x erro "
   ]
  },
  {
   "cell_type": "code",
   "execution_count": null,
   "metadata": {},
   "outputs": [],
   "source": [
    "for i, band in enumerate(bands):\n",
    "    pl.figure(figsize=[10,5])\n",
    "    pl.subplot(121) \n",
    "    mag = np.array(vac[f'mag_{band}'])\n",
    "    err = np.array(vac[f'magerr_{band}'])\n",
    "    mask = (mag>14)&(mag<32)&(err<10)\n",
    "    #MASCARA?\n",
    "    pl.hexbin(mag[mask], err[mask],None,  mincnt=1, cmap='viridis', gridsize=[200,100], bins='log')\n",
    "    cbar = pl.colorbar()\n",
    "    pl.xlabel(\"mag \"+band)\n",
    "    pl.ylabel(\"err\")\n",
    "    pl.grid(True)\n",
    "pl.tight_layout()"
   ]
  },
  {
   "cell_type": "markdown",
   "metadata": {},
   "source": [
    "### Plot magnitudes x redshift"
   ]
  },
  {
   "cell_type": "code",
   "execution_count": null,
   "metadata": {},
   "outputs": [],
   "source": [
    "for i, band in enumerate(bands):\n",
    "    pl.figure(figsize=[10,5])\n",
    "    pl.subplot(121) \n",
    "    mag = np.array(vac[f'mag_{band}'])\n",
    "    z = np.array(vac['z_best'])\n",
    "    mask = (mag>14)&(mag<32)&(z<=2)\n",
    "    pl.hexbin(mag[mask], z[mask], None,  mincnt=1, cmap='viridis', gridsize=[200,100], bins='log')\n",
    "    cbar = pl.colorbar()\n",
    "    pl.xlabel(\"mag \"+band)\n",
    "    pl.ylabel(\"redshift\")\n",
    "    pl.grid(True)\n",
    "pl.tight_layout()"
   ]
  },
  {
   "cell_type": "markdown",
   "metadata": {},
   "source": [
    "### CMD"
   ]
  },
  {
   "cell_type": "code",
   "execution_count": null,
   "metadata": {},
   "outputs": [],
   "source": [
    "vacs = [vac]\n",
    "titles = [\"VAC 6850\"]"
   ]
  },
  {
   "cell_type": "code",
   "execution_count": null,
   "metadata": {},
   "outputs": [],
   "source": [
    "x, y = 'mag_i', 'r-i'\n",
    "z_low, z_up = 0.5, 0.6\n",
    "color_cut = 0.65\n",
    "x_range, y_range = [16,25], [-1., 2]\n",
    "\n",
    "\n",
    "plot_loop(vacs, x, y, z_low, z_up, color_cut, x_range, y_range, titles)"
   ]
  },
  {
   "cell_type": "markdown",
   "metadata": {},
   "source": [
    "### CCD"
   ]
  },
  {
   "cell_type": "code",
   "execution_count": null,
   "metadata": {},
   "outputs": [],
   "source": [
    "\n",
    "x, y = 'g-r', 'r-i'\n",
    "z_low, z_up = 0.5, 0.6\n",
    "color_cut = 0.65\n",
    "x_range, y_range = [-1.,3], [-1., 2]\n",
    "x_label, y_label = x, y\n",
    "\n",
    "plot_loop(vacs, x, y, z_low, z_up, color_cut, x_range, y_range, titles)\n"
   ]
  },
  {
   "cell_type": "code",
   "execution_count": null,
   "metadata": {},
   "outputs": [],
   "source": [
    "x, y = 'i-z', 'r-i'\n",
    "z_low, z_up = 0.5, 0.6\n",
    "color_cut = 0.65\n",
    "x_range, y_range = [-2.,2], [-1., 2]\n",
    "x_label, y_label = x, y\n",
    "\n",
    "plot_loop(vacs, x, y, z_low, z_up, color_cut, x_range, y_range, titles)"
   ]
  },
  {
   "cell_type": "code",
   "execution_count": null,
   "metadata": {},
   "outputs": [],
   "source": [
    "x, y = 'z-y', 'r-i'\n",
    "z_low, z_up = 0.5, 0.6\n",
    "color_cut = 0.65\n",
    "x_range, y_range = [-4.,3], [-1., 2]\n",
    "x_label, y_label = x, y\n",
    "\n",
    "plot_loop(vacs, x, y, z_low, z_up, color_cut, x_range, y_range, titles)"
   ]
  },
  {
   "cell_type": "code",
   "execution_count": null,
   "metadata": {},
   "outputs": [],
   "source": []
  }
 ],
 "metadata": {
  "kernelspec": {
   "display_name": "Python 3",
   "language": "python",
   "name": "python3"
  },
  "language_info": {
   "codemirror_mode": {
    "name": "ipython",
    "version": 3
   },
   "file_extension": ".py",
   "mimetype": "text/x-python",
   "name": "python",
   "nbconvert_exporter": "python",
   "pygments_lexer": "ipython3",
   "version": "3.6.8"
  }
 },
 "nbformat": 4,
 "nbformat_minor": 2
}
