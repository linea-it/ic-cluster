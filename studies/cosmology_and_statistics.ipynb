{
 "cells": [
  {
   "cell_type": "markdown",
   "metadata": {},
   "source": [
    "# ***Cosmology and Statistical studies NOTEBOOK***\n",
    "\n",
    "Author: Gabriel Luan Souza de Oliveira.\n",
    "\n",
    "Last update: 02/02/2022."
   ]
  },
  {
   "cell_type": "markdown",
   "metadata": {},
   "source": [
    "## ***Imported Modules***"
   ]
  },
  {
   "cell_type": "code",
   "execution_count": 2,
   "metadata": {},
   "outputs": [],
   "source": [
    "import numpy as np\n",
    "import pylab as plt\n",
    "import seaborn as sns"
   ]
  },
  {
   "cell_type": "markdown",
   "metadata": {},
   "source": [
    "## Creating a map of objects"
   ]
  },
  {
   "cell_type": "code",
   "execution_count": 3,
   "metadata": {},
   "outputs": [],
   "source": [
    "def hexabin_density(table):# Set up figure and axis\n",
    "    fig, ax = plt.subplots(1, figsize=(16, 9))\n",
    "    hb = ax.hexbin(table['x_coord'], table['y_coord'], gridsize=100, linewidths=0,alpha=0.7, cmap='viridis_r')\n",
    "    \n",
    "    # Add colorbar\n",
    "    plt.colorbar(hb)\n",
    "    # Remove axes\n",
    "    ax.set_axis_off()\n"
   ]
  },
  {
   "cell_type": "code",
   "execution_count": null,
   "metadata": {},
   "outputs": [],
   "source": [
    "def coords(number_points, distribution,parameter,seed):\n",
    "    np.random.seed(seed)\n",
    "    if distribution == 'true_random':\n",
    "        x = np.random.rand(number_points)\n",
    "        y = np.random.rand(number_points)\n",
    "    \n",
    "    elif distribution == 'power':\n",
    "        x = np.random.power(parameter,number_points)\n",
    "        y = np.random.power(parameter,number_points)\n",
    "        \n",
    "    return x,y\n",
    "number_points = 10000\n",
    "seed = 3014393\n",
    "x,y = coords(number_points, 'true_random', -1.0,seed)\n",
    "#x2,y2 = coords(number_points, 'power', 3.0,seed)\n",
    "\n",
    "d = []\n",
    "for i in np.arange(0,number_points):\n",
    "    for j in np.arange(0,number_points):\n",
    "        if i!=j and j>i:\n",
    "            dist = ((x[i]-x[j])**2+(y[i]-y[j])**2)**(1/2)\n",
    "            d.append(dist)\n",
    "\n",
    "plt.hist(d)\n",
    "plt.show()\n",
    "        \n",
    "plt.clf()\n",
    "plt.plot(np.arange(0,number_points),x[0:number_points], linewidth = 0.5, color = 'blue')\n",
    "plt.show()\n",
    "\n",
    "plt.clf()\n",
    "fig, ax = plt.subplots(1, figsize = (16,9))\n",
    "sc = ax.scatter(x,y,s=1,linewidth = 1.0, marker = ',', color = 'blue', alpha = 0.5)\n",
    "\n",
    "table = {'x_coord':x, 'y_coord':y}\n",
    "sns.jointplot(x='x_coord', y='y_coord', data=table, s=0.5, height = 9.0);\n",
    "hexabin_density(table)\n",
    "plt.show()"
   ]
  },
  {
   "cell_type": "code",
   "execution_count": null,
   "metadata": {},
   "outputs": [],
   "source": []
  },
  {
   "cell_type": "code",
   "execution_count": null,
   "metadata": {},
   "outputs": [],
   "source": []
  }
 ],
 "metadata": {
  "kernelspec": {
   "display_name": "Python 3",
   "language": "python",
   "name": "python3"
  },
  "language_info": {
   "codemirror_mode": {
    "name": "ipython",
    "version": 3
   },
   "file_extension": ".py",
   "mimetype": "text/x-python",
   "name": "python",
   "nbconvert_exporter": "python",
   "pygments_lexer": "ipython3",
   "version": "3.6.8"
  }
 },
 "nbformat": 4,
 "nbformat_minor": 2
}
