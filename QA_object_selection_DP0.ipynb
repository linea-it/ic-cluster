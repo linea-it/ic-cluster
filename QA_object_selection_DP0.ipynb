{
 "cells": [
  {
   "cell_type": "markdown",
   "id": "69eb0015",
   "metadata": {},
   "source": [
    "### QA notebook - DP0 object selection\n",
    "#### Andressa Wille\n",
    "#### 19/07/22\n",
    "\n",
    "Plots: Plot RA x Dec; Distribuições de magnitudes; Distribuições de cores; Distribuições de photo-z; Distribuições de photo-z error; Number counts normalizados com referências da literatura (vide product log); Plot magnitude X redshift; Color-color diagrams.\n",
    "\n",
    "\n",
    "To do:\n",
    "Plot proj distribution stars, galaxies, highlight bright objects → plot ra x dec (<12, <13, <14..) stars and galaxies separately\n",
    "Number counts without cuts (hist normalized by area, log scale)\n",
    "Create a list of very bright objects to explore on RSP\n",
    "Explore DP0 images - overlay bright objects on images (in prep. for a future foreground objects mask)\n",
    "Color distributions - objects around bright objects might have funny color\n",
    "\n",
    "\n",
    "Dados: DP0\n"
   ]
  },
  {
   "cell_type": "markdown",
   "id": "5e2c86ba",
   "metadata": {},
   "source": [
    "### Imports"
   ]
  },
  {
   "cell_type": "code",
   "execution_count": null,
   "id": "f8fd8d48",
   "metadata": {},
   "outputs": [],
   "source": [
    "import numpy as np \n",
    "import matplotlib.pyplot as plt\n",
    "import pylab as pl\n",
    "from astropy.table import Table\n",
    "from astropy import units as u\n",
    "from astropy.coordinates import SkyCoord\n",
    "import sys\n",
    "from obj_sel_funcs import *\n",
    "from gavodb import DBManager\n",
    "\n",
    "%load_ext autoreload\n",
    "%autoreload 2"
   ]
  },
  {
   "cell_type": "code",
   "execution_count": null,
   "id": "dab176b1-541c-4b49-922c-d9c11a6f6e3d",
   "metadata": {},
   "outputs": [],
   "source": [
    "path = '/archive/user/aguena/cats/dp0/wazp/7038/'"
   ]
  },
  {
   "cell_type": "code",
   "execution_count": null,
   "id": "6367064d-5e73-45cf-975e-7bd742b10aa0",
   "metadata": {},
   "outputs": [],
   "source": [
    "wazp_membership = Table.read(path + 'wazp_membership.fits', format='fits')\n",
    "print(wazp_membership.colnames)"
   ]
  },
  {
   "cell_type": "code",
   "execution_count": null,
   "id": "5e2816b7",
   "metadata": {},
   "outputs": [],
   "source": [
    "bands = ['g', 'r', 'i', 'z', 'y']\n",
    "colors = ['g-r', 'r-i', 'i-z', 'z-y']"
   ]
  },
  {
   "cell_type": "markdown",
   "id": "93f4afb3-f6cb-4ac1-8f01-c89c47665d6d",
   "metadata": {},
   "source": [
    "### Plot RA x Dec"
   ]
  },
  {
   "cell_type": "code",
   "execution_count": null,
   "id": "97a5d3bc-df85-42f3-acf9-123193a7bb6f",
   "metadata": {},
   "outputs": [],
   "source": [
    "mag_min = 14\n",
    "mag_min_mask =  wazp_membership[f'mag_g'] > mag_min\n",
    "#qual banda?\n",
    "#como separar estrelas e galáxias?\n",
    "ra =  wazp_membership['RA'][mag_min_mask]\n",
    "ra[ra >180.0] -= 360\n",
    "dec =  wazp_membership['DEC'][mag_min_mask]\n",
    "plt.hist2d(ra, dec, bins=50, weights=None, cmin=0.5, cmax=None,cmap='viridis')\n",
    "plt.xlabel(\"RA (deg)\", fontsize=14)\n",
    "plt.ylabel(\"Dec (deg)\", fontsize=14)\n",
    "plt.colorbar(label=\"density of points\")\n",
    "ylims=[-60, -10]\n",
    "plt.ylim(ylims)\n",
    "xlims=[0, 100]\n",
    "plt.xlim(xlims)\n",
    "plt.grid()\n",
    "plt.xticks(fontsize=12)\n",
    "plt.yticks(fontsize=12)\n",
    "plt.tight_layout()"
   ]
  },
  {
   "cell_type": "code",
   "execution_count": null,
   "id": "5f6e0417-6b01-4238-8d0c-999ef2133d72",
   "metadata": {},
   "outputs": [],
   "source": [
    "foot_ra, foot_dec = np.loadtxt('des-round17-poly.txt', unpack=True)\n",
    "\n",
    "ra=-np.array(wazp_membership['RA'])*u.degree\n",
    "dec=np.array(wazp_membership['DEC'])*u.degree\n",
    "\n",
    "c = SkyCoord(ra, dec, frame='icrs')\n",
    "ra_rad = c.ra.wrap_at(180 * u.deg).radian\n",
    "dec_rad = c.dec.radian\n",
    "plot_specz_spatial_dist(ra_rad, dec_rad, foot_ra, foot_dec, projection='mollweide', \n",
    "                        cmap='viridis', cbar_label='log(#spec-$z$/deg$^{2}$)')"
   ]
  },
  {
   "cell_type": "markdown",
   "id": "31465863",
   "metadata": {},
   "source": [
    "### Distribuição de magnitudes"
   ]
  },
  {
   "cell_type": "code",
   "execution_count": null,
   "id": "0b51f555",
   "metadata": {},
   "outputs": [],
   "source": [
    "for i, band in enumerate(bands):\n",
    "    plt.figure()\n",
    "    plt.hist(wazp_membership[f'mag_{band}'], histtype='bar', bins='auto', ec=\"cornflowerblue\")\n",
    "    plt.xlabel(\"mag \"+band)\n",
    "    plt.ylabel(\"Counts\")\n",
    "    plt.xlim(10, 40)\n",
    "    plt.yscale('log')\n",
    "    plt.grid(True)\n",
    "    plt.tight_layout()"
   ]
  },
  {
   "cell_type": "markdown",
   "id": "7928eb0a",
   "metadata": {},
   "source": [
    "### Distribuição de cores"
   ]
  },
  {
   "cell_type": "code",
   "execution_count": null,
   "id": "f1d1f1f6",
   "metadata": {},
   "outputs": [],
   "source": [
    "for i, band in enumerate(colors):\n",
    "    plt.figure() \n",
    "    wazp_membership[colors[i]] = wazp_membership[f'mag_{bands[i]}'] - wazp_membership[f'mag_{bands[i+1]}']\n",
    "    plt.hist(wazp_membership[colors[i]], bins='auto', ec=\"cornflowerblue\", fc=\"cornflowerblue\")\n",
    "    plt.xlabel(band)\n",
    "    plt.ylabel(\"Counts\")\n",
    "    plt.yscale('log')\n",
    "    plt.grid(True)\n",
    "    plt.tight_layout()"
   ]
  },
  {
   "cell_type": "markdown",
   "id": "36fafbd7",
   "metadata": {},
   "source": [
    "### Distribuição de redshift"
   ]
  },
  {
   "cell_type": "code",
   "execution_count": null,
   "id": "75cfee0a",
   "metadata": {},
   "outputs": [],
   "source": [
    "plt.hist(wazp_membership['ZP'], bins='auto', ec=\"cornflowerblue\", fc=\"cornflowerblue\")\n",
    "plt.xlabel(\"z\")\n",
    "plt.ylabel(\"Counts\")\n",
    "plt.title(\"Redshift Distribution\")\n",
    "plt.grid(True)\n",
    "plt.tight_layout()"
   ]
  },
  {
   "cell_type": "markdown",
   "id": "950a8d79-5ec2-40da-bf1c-8b0386573048",
   "metadata": {},
   "source": [
    "### Distribuição de riqueza"
   ]
  },
  {
   "cell_type": "code",
   "execution_count": null,
   "id": "66a57271-3cec-4be1-8b46-0c8627faf1c7",
   "metadata": {},
   "outputs": [],
   "source": [
    "plt.hist(wazp_membership['NGALS'], bins='auto', ec=\"cornflowerblue\", fc=\"cornflowerblue\")\n",
    "plt.xlabel(\"$N_{gals}$\")\n",
    "plt.ylabel(\"Counts\")\n",
    "plt.title(\"Richness Distribution\")\n",
    "plt.grid(True)\n",
    "plt.tight_layout()"
   ]
  },
  {
   "cell_type": "markdown",
   "id": "10c5da9e",
   "metadata": {},
   "source": [
    "### Number counts"
   ]
  },
  {
   "cell_type": "code",
   "execution_count": null,
   "id": "e83704ee",
   "metadata": {},
   "outputs": [],
   "source": [
    "area = 300 #??\n",
    "bins = np.linspace(15,25,21)\n",
    "for i, band in enumerate(bands):\n",
    "    plt.figure()\n",
    "    n, bins, patches = plt.hist(wazp_membership[f'mag_{band}'], histtype='step', weights=(wazp_membership[f'mag_{band}']/area),\n",
    "             bins=bins, color='darkblue')\n",
    "    #print(np.argmax(n))\n",
    "    #print(bins)\n",
    "    maximo = (bins[np.argmax(n)] + bins[np.argmax(n)+1])/2\n",
    "    plt.vlines(maximo, 10e-1, 10e6, linestyles='dotted')\n",
    "    plt.text(maximo-1, 10e4, maximo, fontsize=11)\n",
    "    plt.xlabel(\"mag \"+band)\n",
    "    plt.ylabel(\"$N_{gal} deg^{-2}0.5mag^{-1}$\")\n",
    "    plt.xlim(15, 25)\n",
    "    plt.ylim(10e-1, 10e5)\n",
    "    plt.yscale('log')\n",
    "    plt.grid(True)\n",
    "    plt.tight_layout()"
   ]
  },
  {
   "cell_type": "markdown",
   "id": "b6d65eaa",
   "metadata": {},
   "source": [
    "### Magnitude x redshift"
   ]
  },
  {
   "cell_type": "code",
   "execution_count": null,
   "id": "cef30fbe",
   "metadata": {},
   "outputs": [],
   "source": [
    "for i, band in enumerate(bands):\n",
    "    pl.figure(figsize=[10,4])\n",
    "    pl.subplot(121) \n",
    "    mag = np.array(wazp_membership[f'mag_{band}'])\n",
    "    z = np.array(wazp_membership['ZP'])\n",
    "    mask = (mag>14)&(mag<32)&(z<=2)\n",
    "    pl.hexbin(z[mask], mag[mask], None,  mincnt=1, cmap='viridis', gridsize=[200,100], bins='log')\n",
    "    cbar = pl.colorbar()\n",
    "    pl.xlabel(\"mag \"+band)\n",
    "    pl.ylabel(\"redshift\")\n",
    "    pl.grid(True)\n",
    "    pl.tight_layout()"
   ]
  },
  {
   "cell_type": "markdown",
   "id": "42c4bed0",
   "metadata": {},
   "source": [
    "### Diagrama cor-cor"
   ]
  },
  {
   "cell_type": "code",
   "execution_count": null,
   "id": "7bf44d80",
   "metadata": {},
   "outputs": [],
   "source": [
    "CCD(wazp_membership['mag_g'], wazp_membership['mag_r'], wazp_membership['mag_i'], wazp_membership['mag_z'], 'g', 'r', 'i', 'z', 24.)"
   ]
  },
  {
   "cell_type": "code",
   "execution_count": null,
   "id": "314c9cc3",
   "metadata": {},
   "outputs": [],
   "source": []
  }
 ],
 "metadata": {
  "kernelspec": {
   "display_name": "Python 3 (ipykernel)",
   "language": "python",
   "name": "python3"
  },
  "language_info": {
   "codemirror_mode": {
    "name": "ipython",
    "version": 3
   },
   "file_extension": ".py",
   "mimetype": "text/x-python",
   "name": "python",
   "nbconvert_exporter": "python",
   "pygments_lexer": "ipython3",
   "version": "3.9.12"
  }
 },
 "nbformat": 4,
 "nbformat_minor": 5
}
