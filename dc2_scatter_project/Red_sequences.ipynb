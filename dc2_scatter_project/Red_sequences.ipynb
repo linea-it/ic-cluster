{
 "cells": [
  {
   "cell_type": "markdown",
   "id": "a81cf136",
   "metadata": {},
   "source": [
    "# Red Sequences notebook\n",
    "\n",
    "#### Author: Gabriel Luan Souza de Oliveira\n",
    "\n",
    "#### Last update: 23/02/2022 14:09:39"
   ]
  },
  {
   "cell_type": "code",
   "execution_count": null,
   "id": "e54e7daf",
   "metadata": {},
   "outputs": [],
   "source": [
    "from datetime import datetime\n",
    "today = datetime.today()\n",
    "print(\"Today's date:\", today.strftime(\"%d/%m/%Y %H:%M:%S\"))"
   ]
  },
  {
   "cell_type": "markdown",
   "id": "f66d3e92",
   "metadata": {},
   "source": [
    "## Imported Modules"
   ]
  },
  {
   "cell_type": "code",
   "execution_count": null,
   "id": "6ca23d99",
   "metadata": {},
   "outputs": [],
   "source": [
    "import numpy as np\n",
    "import matplotlib.pyplot as plt\n",
    "from matplotlib.widgets import Slider, Button\n",
    "from astropy.table import Table"
   ]
  },
  {
   "cell_type": "markdown",
   "id": "bfad198c",
   "metadata": {},
   "source": [
    "## Loading Data"
   ]
  },
  {
   "cell_type": "code",
   "execution_count": null,
   "id": "0049ef70",
   "metadata": {},
   "outputs": [],
   "source": [
    "cluster_table = Table.read('y1a1_dnf_wazp_v5.0.11.5239+47_clusters.fits', format='fits')\n",
    "member_table = Table.read('y1a1_dnf_wazp_v5.0.11.5239+47_members.fits', format='fits')\n",
    "footprint_table = Table.read('y1a1_dnf_wazp_v5.0.11.5943+39_footprint_zmax_10sigma_4096_ring_fg_edge.fits', format='fits')\n",
    "\n",
    "#cluster_table_reduced = cluster_table[]\n",
    "#np.random.seed(1024)\n",
    "#p_0 = 0.99\n",
    "#p_0 = 0\n",
    "#random_indexs = np.random.choice(2, size=len(catalog), p=[p_0,1-p_0]).astype('bool')\n",
    "#catalog_reduced = catalog[random_indexs]\n",
    "#del catalog"
   ]
  },
  {
   "cell_type": "code",
   "execution_count": null,
   "id": "949dd4c4",
   "metadata": {},
   "outputs": [],
   "source": [
    "mask_cluster = cluster_table['NGALS'] >= 200\n",
    "cluster_table_reduced = cluster_table[mask_cluster]\n",
    "\n",
    "mask_member = np.isin(member_table['NAME_CLUSTER'],cluster_table_reduced['NAME'])\n",
    "member_table_reduced_2 = member_table[mask_member]"
   ]
  },
  {
   "cell_type": "code",
   "execution_count": null,
   "id": "cb961e37",
   "metadata": {},
   "outputs": [],
   "source": [
    "member_table_reduced['color_r_i'] = member_table_reduced['mag_r'] - member_table_reduced['mag_i']"
   ]
  },
  {
   "cell_type": "code",
   "execution_count": null,
   "id": "9ae5969f",
   "metadata": {},
   "outputs": [],
   "source": [
    "#print(member_table_reduced['ID_g', 'NAME_CLUSTER', 'mag_r', 'mag_i', 'color_r_i'])\n",
    "print(member_table_reduced)"
   ]
  },
  {
   "cell_type": "markdown",
   "id": "951f56c5",
   "metadata": {},
   "source": [
    "## First CMD"
   ]
  },
  {
   "cell_type": "code",
   "execution_count": null,
   "id": "dcb50041",
   "metadata": {},
   "outputs": [],
   "source": [
    "members_dict = {}\n",
    "for each in cluster_table_reduced['NAME']:\n",
    "    print(each)\n",
    "    mask = member_table_reduced['NAME_CLUSTER'] == each\n",
    "    members_dict['{}'.format(each)] = member_table_reduced[mask]"
   ]
  },
  {
   "cell_type": "code",
   "execution_count": null,
   "id": "a6cdfea9",
   "metadata": {},
   "outputs": [],
   "source": [
    "#cluster_name = cluster_table_reduced['NAME'][0]\n",
    "for cluster_name in cluster_table_reduced['NAME']:\n",
    "    color = members_dict[cluster_name]['color_r_i']\n",
    "    mag = members_dict[cluster_name]['mag_i']\n",
    "    redshift = members_dict[cluster_name]['ZP']\n",
    "    plt.scatter(mag, color, s = 1.0, marker = ',', c = redshift)\n",
    "    plt.colorbar()\n",
    "    plt.show()\n",
    "    plt.clf()"
   ]
  },
  {
   "cell_type": "code",
   "execution_count": null,
   "id": "b39b5e2c",
   "metadata": {},
   "outputs": [],
   "source": []
  }
 ],
 "metadata": {
  "kernelspec": {
   "display_name": "Python 3 (ipykernel)",
   "language": "python",
   "name": "python3"
  },
  "language_info": {
   "codemirror_mode": {
    "name": "ipython",
    "version": 3
   },
   "file_extension": ".py",
   "mimetype": "text/x-python",
   "name": "python",
   "nbconvert_exporter": "python",
   "pygments_lexer": "ipython3",
   "version": "3.8.12"
  }
 },
 "nbformat": 4,
 "nbformat_minor": 5
}
