{
 "cells": [
  {
   "cell_type": "markdown",
   "metadata": {},
   "source": [
    "### QA notebook - VAC object selection\n",
    "#### Andressa Wille\n",
    "#### 19/02/22\n",
    "\n",
    "Plots: Distribuições de magnitudes; Distribuições de magnitude errors; Distribuições de cores; Distribuições de photo-z; Distribuições de photo-z error; Number counts normalizados com referências da literatura (vide product log); Plot magnitude X error; Plot magnitude X redshift; Color-magnitude diagrams; Color-color diagrams.\n",
    "\n",
    "Dados: VAC 6850\n"
   ]
  },
  {
   "cell_type": "markdown",
   "metadata": {},
   "source": [
    "### Imports"
   ]
  },
  {
   "cell_type": "code",
   "execution_count": null,
   "metadata": {},
   "outputs": [],
   "source": [
    "import numpy as np \n",
    "import matplotlib.pyplot as plt\n",
    "import pylab as pl\n",
    "from astropy.table import Table\n",
    "from statistics import mode\n",
    "from matplotlib.colors import LogNorm\n",
    "import sys\n",
    "from funcs1 import *"
   ]
  },
  {
   "cell_type": "markdown",
   "metadata": {},
   "source": [
    "### VAC"
   ]
  },
  {
   "cell_type": "code",
   "execution_count": null,
   "metadata": {},
   "outputs": [],
   "source": [
    "vac = get_vac(pid='6850',\n",
    "            vac_schema='cluster', \n",
    "            bands=['g', 'r', 'i', 'z', 'y'],\n",
    "            sample_frac = 0.1)"
   ]
  },
  {
   "cell_type": "code",
   "execution_count": null,
   "metadata": {},
   "outputs": [],
   "source": [
    "vac.describe()"
   ]
  },
  {
   "cell_type": "code",
   "execution_count": null,
   "metadata": {},
   "outputs": [],
   "source": [
    "bands = ['g', 'r', 'i', 'z', 'y']\n",
    "colors = ['g-r', 'r-i', 'i-z', 'z-y']"
   ]
  },
  {
   "cell_type": "markdown",
   "metadata": {},
   "source": [
    "### Distribuição de magnitudes"
   ]
  },
  {
   "cell_type": "code",
   "execution_count": null,
   "metadata": {},
   "outputs": [],
   "source": [
    "for i, band in enumerate(bands):\n",
    "    plt.figure()\n",
    "    plt.hist(vac[f'mag_{band}'], histtype='bar', bins='auto', ec=\"cornflowerblue\")\n",
    "    plt.xlabel(\"mag \"+band)\n",
    "    plt.ylabel(\"Counts\")\n",
    "    plt.xlim(10, 40)\n",
    "    plt.yscale('log')\n",
    "    plt.grid(True)\n",
    "plt.tight_layout()"
   ]
  },
  {
   "cell_type": "markdown",
   "metadata": {},
   "source": [
    "### Distribuição de erros nas magnitudes"
   ]
  },
  {
   "cell_type": "code",
   "execution_count": null,
   "metadata": {},
   "outputs": [],
   "source": [
    "#logspace\n",
    "bins = np.linspace(0,40,200)\n",
    "for i, band in enumerate(bands):\n",
    "    plt.figure()\n",
    "    plt.hist(vac[f'magerr_{band}'], bins=bins, ec=\"cornflowerblue\", fc=\"cornflowerblue\")\n",
    "    plt.xlabel(\"mag err \"+band)\n",
    "    plt.ylabel(\"Counts\")\n",
    "    plt.yscale('log')\n",
    "    plt.grid(True)\n",
    "pl.tight_layout()"
   ]
  },
  {
   "cell_type": "markdown",
   "metadata": {},
   "source": [
    "### Distribuição de cores"
   ]
  },
  {
   "cell_type": "code",
   "execution_count": null,
   "metadata": {},
   "outputs": [],
   "source": [
    "for i, band in enumerate(colors):\n",
    "    plt.figure() \n",
    "    vac[colors[i]] = vac[f'mag_{bands[i]}'] - vac[f'mag_{bands[i+1]}']\n",
    "    plt.hist(vac[colors[i]], bins='auto', ec=\"cornflowerblue\")\n",
    "    plt.xlabel(band)\n",
    "    plt.ylabel(\"Counts\")\n",
    "    plt.yscale('log')\n",
    "    plt.grid(True)\n",
    "plt.tight_layout()"
   ]
  },
  {
   "cell_type": "markdown",
   "metadata": {},
   "source": [
    "### Distribuição de redshift"
   ]
  },
  {
   "cell_type": "code",
   "execution_count": null,
   "metadata": {},
   "outputs": [],
   "source": [
    "plt.hist(vac['z_best'], bins='auto', ec=\"cornflowerblue\", fc=\"cornflowerblue\")\n",
    "plt.xlabel(\"photo-$z$\")\n",
    "plt.ylabel(\"Counts\")\n",
    "plt.title(\"Redshift Distribution\")\n",
    "plt.tight_layout()"
   ]
  },
  {
   "cell_type": "markdown",
   "metadata": {},
   "source": [
    "### Distribuição de erro no redshift"
   ]
  },
  {
   "cell_type": "code",
   "execution_count": null,
   "metadata": {},
   "outputs": [],
   "source": [
    "plt.hist(vac['err_z'], bins='auto', ec=\"cornflowerblue\", fc=\"cornflowerblue\")\n",
    "plt.xlabel(\"err photo-$z$\")\n",
    "plt.ylabel(\"Counts\")\n",
    "plt.xlim(0, 2)\n",
    "plt.title(\"Redshift Error Distribution\")\n",
    "plt.tight_layout()"
   ]
  },
  {
   "cell_type": "markdown",
   "metadata": {},
   "source": [
    "### Number counts"
   ]
  },
  {
   "cell_type": "code",
   "execution_count": null,
   "metadata": {},
   "outputs": [],
   "source": [
    "area = 29.05\n",
    "bins = np.linspace(15,25,21)\n",
    "for i, band in enumerate(bands):\n",
    "    plt.figure()\n",
    "    n, bins, patches = plt.hist(vac[f'mag_{band}'], histtype='step', weights=(vac[f'mag_{band}']/area),\n",
    "             bins=bins, color='black')\n",
    "    #print(np.argmax(n))\n",
    "    #print(bins)\n",
    "    maximo = (bins[np.argmax(n)] + bins[np.argmax(n)+1])/2\n",
    "    plt.vlines(maximo, 10e-1, 10e6, linestyles='dotted', label=maximo)\n",
    "    plt.xlabel(\"mag \"+band)\n",
    "    plt.ylabel(\"$N_{gal} deg^{-2}0.5mag^{-1}$\")\n",
    "    plt.xlim(15, 25)\n",
    "    plt.ylim(10e-1, 10e5)\n",
    "    plt.yscale('log')\n",
    "    plt.grid(True)\n",
    "    plt.legend()\n",
    "plt.tight_layout()"
   ]
  },
  {
   "cell_type": "markdown",
   "metadata": {},
   "source": [
    "### Magnitude x erro"
   ]
  },
  {
   "cell_type": "code",
   "execution_count": null,
   "metadata": {},
   "outputs": [],
   "source": [
    "for i, band in enumerate(bands):\n",
    "    #pl.figure()\n",
    "    pl.figure(figsize=[10,4])\n",
    "    pl.subplot(121) \n",
    "    mag = np.array(vac[f'mag_{band}'])\n",
    "    err = np.array(vac[f'magerr_{band}'])\n",
    "    mask = (mag>14)&(mag<32)&(err<10)\n",
    "    #MASCARA?\n",
    "    pl.hexbin(mag[mask], err[mask],None,  mincnt=1, cmap='viridis', gridsize=[200,100], bins='log')\n",
    "    cbar = pl.colorbar()\n",
    "    pl.xlabel(\"mag \"+band)\n",
    "    pl.ylabel(\"err\")\n",
    "    pl.grid(True)\n",
    "pl.tight_layout()"
   ]
  },
  {
   "cell_type": "markdown",
   "metadata": {},
   "source": [
    "### Magnitude x redshift"
   ]
  },
  {
   "cell_type": "code",
   "execution_count": null,
   "metadata": {},
   "outputs": [],
   "source": [
    "for i, band in enumerate(bands):\n",
    "    pl.figure(figsize=[10,4])\n",
    "    pl.subplot(121) \n",
    "    mag = np.array(vac[f'mag_{band}'])\n",
    "    z = np.array(vac['z_best'])\n",
    "    mask = (mag>14)&(mag<32)&(z<=2)\n",
    "    pl.hexbin(mag[mask], z[mask], None,  mincnt=1, cmap='viridis', gridsize=[200,100], bins='log')\n",
    "    cbar = pl.colorbar()\n",
    "    pl.xlabel(\"mag \"+band)\n",
    "    pl.ylabel(\"redshift\")\n",
    "    pl.grid(True)\n",
    "pl.tight_layout()"
   ]
  },
  {
   "cell_type": "markdown",
   "metadata": {},
   "source": [
    "### Diagrama cor-magnitude"
   ]
  },
  {
   "cell_type": "code",
   "execution_count": null,
   "metadata": {},
   "outputs": [],
   "source": [
    "zbin_center, istar = np.loadtxt('istar.asc', unpack=True)\n",
    "istar_dic = {}\n",
    "for i in range(len(istar)):\n",
    "    istar_dic[zbin_center[i]] = istar[i]"
   ]
  },
  {
   "cell_type": "code",
   "execution_count": null,
   "metadata": {},
   "outputs": [],
   "source": [
    "vacs = [vac]\n",
    "titles = [\"VAC 6850\"]"
   ]
  },
  {
   "cell_type": "code",
   "execution_count": null,
   "metadata": {},
   "outputs": [],
   "source": [
    "x, y = 'mag_i', 'r-i'\n",
    "z_low, z_up = 0.5, 0.6\n",
    "color_cut = 0.65\n",
    "x_range, y_range = [16, 24.5], [-1., 2]\n",
    "\n",
    "plot_loop(vacs, x, y, z_low, z_up, color_cut, x_range, y_range, titles, istar_dic=istar_dic)"
   ]
  },
  {
   "cell_type": "markdown",
   "metadata": {},
   "source": [
    "### Diagrama cor-cor"
   ]
  },
  {
   "cell_type": "code",
   "execution_count": null,
   "metadata": {},
   "outputs": [],
   "source": [
    "CC(vac['mag_g'], vac['mag_r'], vac['mag_i'], vac['mag_z'], 'g', 'r', 'i', 'z', 24., 'log')"
   ]
  },
  {
   "cell_type": "code",
   "execution_count": null,
   "metadata": {},
   "outputs": [],
   "source": []
  },
  {
   "cell_type": "code",
   "execution_count": null,
   "metadata": {},
   "outputs": [],
   "source": []
  }
 ],
 "metadata": {
  "kernelspec": {
   "display_name": "Python 3",
   "language": "python",
   "name": "python3"
  },
  "language_info": {
   "codemirror_mode": {
    "name": "ipython",
    "version": 3
   },
   "file_extension": ".py",
   "mimetype": "text/x-python",
   "name": "python",
   "nbconvert_exporter": "python",
   "pygments_lexer": "ipython3",
   "version": "3.6.8"
  }
 },
 "nbformat": 4,
 "nbformat_minor": 5
}
