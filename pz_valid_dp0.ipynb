{
 "cells": [
  {
   "cell_type": "markdown",
   "id": "6c835910-a864-4e17-8114-2e00b494c965",
   "metadata": {},
   "source": [
    "# DP0 Photo-z Validation \n",
    "\n",
    "Ancillary notebook with photo-z exploration to produce additional plots for the IC report. \n"
   ]
  },
  {
   "cell_type": "markdown",
   "id": "e7757d28-45c5-4991-9526-4d8ab1cd166b",
   "metadata": {},
   "source": [
    "---------------------------------------------------------------------------------"
   ]
  },
  {
   "cell_type": "markdown",
   "id": "a4d67e23-e58a-49da-a62b-d48efee5b154",
   "metadata": {},
   "source": [
    "Processes on DES Science Portal:\n",
    "\n",
    "| Pipeline | Product Log|\n",
    "|---|:--:|\n",
    "| Photo-z Training   | [7028](https://des-portal.linea.org.br/VP/getViewProcessCon?process_id=7028) |\n",
    "| Photo-z Compute    | [7030](https://des-portal.linea.org.br/VP/getViewProcessCon?process_id=7030) |\n",
    "| VAC DP0            | [7032](https://des-portal.linea.org.br/VP/getViewProcessCon?process_id=7032) |\n",
    "| VAC DC2 (reference)| [7011](https://des-portal.linea.org.br/VP/getViewProcessCon?process_id=7011) |\n"
   ]
  },
  {
   "cell_type": "markdown",
   "id": "b400d68a-b4f4-47f9-9051-6ead9b8d387b",
   "metadata": {},
   "source": [
    "_______________________________________________________________________________________"
   ]
  },
  {
   "cell_type": "markdown",
   "id": "49562c87-081e-4d4a-81fa-b88fe0f44e1a",
   "metadata": {},
   "source": [
    "#### Imports"
   ]
  },
  {
   "cell_type": "code",
   "execution_count": null,
   "id": "3feb5a0b-126b-4528-bd4c-a56f4baa46f6",
   "metadata": {},
   "outputs": [],
   "source": [
    "import numpy as np \n",
    "import matplotlib.pyplot as plt\n",
    "import sqlalchemy\n",
    "import pandas as pd\n",
    "import gavodb\n",
    "from gavodb import DBManager"
   ]
  },
  {
   "cell_type": "markdown",
   "id": "66444887-a234-4634-9253-2c9e2feba414",
   "metadata": {},
   "source": [
    "#### Data"
   ]
  },
  {
   "cell_type": "code",
   "execution_count": null,
   "id": "b0f9bdf7-b980-49cb-bf13-70771136678b",
   "metadata": {},
   "outputs": [],
   "source": [
    "# provisório\n"
   ]
  },
  {
   "cell_type": "code",
   "execution_count": null,
   "id": "11365383-9f91-4d82-80f9-a39a547a54f5",
   "metadata": {},
   "outputs": [],
   "source": [
    "dbm = DBManager()"
   ]
  },
  {
   "cell_type": "markdown",
   "id": "9c9c7f5d-38dc-4a24-be9c-a436e95e1baf",
   "metadata": {},
   "source": [
    "#### Photo-z training"
   ]
  },
  {
   "cell_type": "code",
   "execution_count": null,
   "id": "28c71962-1a93-4dec-acf8-4bf9b82aa9e0",
   "metadata": {},
   "outputs": [],
   "source": [
    "photoz_training = dbm.get_tablelist_from_pid('7028')"
   ]
  },
  {
   "cell_type": "code",
   "execution_count": null,
   "id": "60d19c93-dfaa-4acb-ba7a-7d26092dc6ca",
   "metadata": {},
   "outputs": [],
   "source": [
    "photoz_training"
   ]
  },
  {
   "cell_type": "markdown",
   "id": "795b38b4-6bc7-4320-b379-ea8ec1eca73a",
   "metadata": {},
   "source": [
    "#### Photo-z compute"
   ]
  },
  {
   "cell_type": "code",
   "execution_count": null,
   "id": "97997117-9635-4a3b-8cc2-bdd834e86f2a",
   "metadata": {},
   "outputs": [],
   "source": [
    "photoz_comp = dbm.get_tablelist_from_pid('7030')"
   ]
  },
  {
   "cell_type": "code",
   "execution_count": null,
   "id": "11010ecc-f233-4d0f-8bea-4d813f615bb9",
   "metadata": {},
   "outputs": [],
   "source": [
    "photoz_comp"
   ]
  },
  {
   "cell_type": "code",
   "execution_count": null,
   "id": "1dbacd07-fc3e-4644-9a76-727a241f03c8",
   "metadata": {},
   "outputs": [],
   "source": [
    "columns = ['z_best','err_z']\n",
    "photoz_comp = dbm.get_db_table('photoz_compute.dnf_7030', columns)"
   ]
  },
  {
   "cell_type": "markdown",
   "id": "9957aba6-738d-449f-88c2-e235379c6e85",
   "metadata": {},
   "source": [
    "#### VAC DC2"
   ]
  },
  {
   "cell_type": "code",
   "execution_count": null,
   "id": "2afa2b24-d99f-4a31-8f0d-cc88dc743c0f",
   "metadata": {},
   "outputs": [],
   "source": [
    "vac_dc2_tables = dbm.get_tablelist_from_pid('7011')"
   ]
  },
  {
   "cell_type": "code",
   "execution_count": null,
   "id": "986943ff-ae48-4d8e-86e0-5e4f97f63351",
   "metadata": {},
   "outputs": [],
   "source": [
    "vac_dc2_tables"
   ]
  },
  {
   "cell_type": "code",
   "execution_count": null,
   "id": "4367162b-8387-4203-96fb-3724ba9cc0c9",
   "metadata": {},
   "outputs": [],
   "source": [
    "vac_dc2 = dbm.get_db_table('vac_cluster_simulation.footprint_7011', ['ra', 'dec'])"
   ]
  },
  {
   "cell_type": "code",
   "execution_count": null,
   "id": "bf842388-89e5-4aa2-a689-8de43b76a919",
   "metadata": {},
   "outputs": [],
   "source": [
    "vac2_dc2 = dbm.get_db_table('vac_cluster_simulation.catalog_7011', ['ra', 'dec', 'mag_g', 'mag_r', 'mag_i', 'mag_z', 'mag_y'])"
   ]
  },
  {
   "cell_type": "code",
   "execution_count": null,
   "id": "49f77267-f347-4447-b1ef-c63449d1cb01",
   "metadata": {},
   "outputs": [],
   "source": [
    "vac_dc2"
   ]
  },
  {
   "cell_type": "code",
   "execution_count": null,
   "id": "17c738b0-3de7-45d1-86e1-371149d5a163",
   "metadata": {},
   "outputs": [],
   "source": [
    "vac_dataframe = pd.DataFrame(data=vac_dc2)"
   ]
  },
  {
   "cell_type": "code",
   "execution_count": null,
   "id": "5f430a63-935a-46c4-aac3-415699676810",
   "metadata": {},
   "outputs": [],
   "source": [
    "vac_dataframe = vac_dataframe.T"
   ]
  },
  {
   "cell_type": "code",
   "execution_count": null,
   "id": "e879faab-007f-4d8b-8087-315b63bac07a",
   "metadata": {},
   "outputs": [],
   "source": [
    "vac_dataframe.columns = ['ra', 'dec']"
   ]
  },
  {
   "cell_type": "code",
   "execution_count": null,
   "id": "1d89d508-afdc-40bf-ad57-e9a41c31af9d",
   "metadata": {},
   "outputs": [],
   "source": [
    "vac_dataframe"
   ]
  },
  {
   "cell_type": "code",
   "execution_count": null,
   "id": "6f4d1355-cad4-4ea6-bb47-a8dba5232808",
   "metadata": {},
   "outputs": [],
   "source": [
    "dc2 = vac_dataframe"
   ]
  },
  {
   "cell_type": "markdown",
   "id": "3d7d5e23-e1d0-4746-85ce-44eb19d21813",
   "metadata": {},
   "source": [
    "#### DP0"
   ]
  },
  {
   "cell_type": "code",
   "execution_count": null,
   "id": "e8778059-4d70-4585-8d7a-07994d8076de",
   "metadata": {},
   "outputs": [],
   "source": [
    "vac_dc2_tables = dbm.get_tablelist_from_pid('7032')"
   ]
  },
  {
   "cell_type": "code",
   "execution_count": null,
   "id": "8e8eb326-373f-4936-96c2-e5036bc9fcad",
   "metadata": {},
   "outputs": [],
   "source": []
  },
  {
   "cell_type": "markdown",
   "id": "7bc04945-70cc-4d3c-9deb-47341ef41a58",
   "metadata": {},
   "source": [
    "#### Photo-z x spec-z"
   ]
  },
  {
   "cell_type": "code",
   "execution_count": null,
   "id": "05532803-96cd-45d4-9fa9-22765b02c8bf",
   "metadata": {},
   "outputs": [],
   "source": [
    "plt.plot(dc2['z_photo'], dc2['z_spec'], 'k.')\n",
    "plt.xlabel(\"photo-z\")\n",
    "plt.ylabel(\"spec-z\")\n",
    "plt.title(\"Redshift\")\n",
    "plt.grid(True)\n",
    "plt.tight_layout()"
   ]
  },
  {
   "cell_type": "markdown",
   "id": "d73cbddb-ca9c-485b-9537-0fe114006c7c",
   "metadata": {},
   "source": [
    "#### Footprint RA x DEC"
   ]
  },
  {
   "cell_type": "code",
   "execution_count": null,
   "id": "36c5262b-8f38-48c4-b5dd-0e797087a78c",
   "metadata": {},
   "outputs": [],
   "source": [
    "ra = dc2['ra']\n",
    "ra[ra >180.0] -= 360\n",
    "dec = dc2['dec']\n",
    "plt.hist2d(ra, dec, bins=100, weights=None, cmin=0.5, cmax=None, cmap='cool')\n",
    "plt.xlabel(\"RA (deg)\", fontsize=14)\n",
    "plt.ylabel(\"Dec (deg)\", fontsize=14)\n",
    "plt.colorbar(label=\"density of points\")\n",
    "ylims=[-60, -10]\n",
    "plt.ylim(ylims)\n",
    "xlims=[0, 100]\n",
    "plt.xlim(xlims)\n",
    "#plt.grid()\n",
    "plt.xticks(fontsize=12)\n",
    "plt.yticks(fontsize=12)\n",
    "plt.title('Footprint cosmoDC2', fontsize=12)\n",
    "plt.tight_layout()"
   ]
  },
  {
   "cell_type": "markdown",
   "id": "b0bebd88-78cc-4dd0-92a9-7478bf56e2a4",
   "metadata": {},
   "source": [
    "#### N(z)"
   ]
  },
  {
   "cell_type": "code",
   "execution_count": null,
   "id": "75ec2e56-89ab-4ece-80ef-7c0032cb5908",
   "metadata": {},
   "outputs": [],
   "source": [
    "plt.hist(dc2['z_best'], bins='auto', ec=\"cornflowerblue\", fc=\"cornflowerblue\")\n",
    "plt.xlabel(\"z\")\n",
    "plt.ylabel(\"Counts\")\n",
    "plt.title(\"Redshift Distribution\")\n",
    "plt.grid(True)\n",
    "plt.tight_layout()"
   ]
  },
  {
   "cell_type": "markdown",
   "id": "9bd55075-cba0-49cd-b51a-bc71b446e07e",
   "metadata": {},
   "source": [
    "#### Mags dis"
   ]
  },
  {
   "cell_type": "code",
   "execution_count": null,
   "id": "5acdfa9d-0c1c-41f8-96cf-ff8aae238e31",
   "metadata": {},
   "outputs": [],
   "source": [
    "bands = ['g', 'r', 'i', 'z', 'y']\n",
    "\n",
    "for i, band in enumerate(bands):\n",
    "    plt.figure()\n",
    "    plt.hist(dc2[f'mag_{band}'], histtype='bar', bins='auto', ec=\"cornflowerblue\")\n",
    "    plt.xlabel(\"mag \"+band)\n",
    "    plt.ylabel(\"Counts\")\n",
    "    plt.xlim(10, 40)\n",
    "    plt.yscale('log')\n",
    "    plt.grid(True)\n",
    "    plt.tight_layout()"
   ]
  },
  {
   "cell_type": "markdown",
   "id": "ac670b96-4844-429c-a3b8-fbcf87df7934",
   "metadata": {},
   "source": [
    "#### Mag x z"
   ]
  },
  {
   "cell_type": "code",
   "execution_count": null,
   "id": "eec6310c-4c11-4615-bceb-f6f9f5b8b0b3",
   "metadata": {},
   "outputs": [],
   "source": [
    "for i, band in enumerate(bands):\n",
    "    pl.figure(figsize=[10,4])\n",
    "    pl.subplot(121) \n",
    "    mag = np.array(dc2[f'mag_{band}'])\n",
    "    z = np.array(dc2['z_best'])\n",
    "    mask = (mag>14)&(mag<32)&(z<=2)\n",
    "    pl.hexbin(z[mask], mag[mask], None,  mincnt=1, cmap='viridis', gridsize=[200,100], bins='log')\n",
    "    cbar = pl.colorbar()\n",
    "    pl.xlabel(\"mag \"+band)\n",
    "    pl.ylabel(\"redshift\")\n",
    "    pl.grid(True)\n",
    "    pl.tight_layout()"
   ]
  }
 ],
 "metadata": {
  "kernelspec": {
   "display_name": "Python 3",
   "language": "python",
   "name": "python3"
  },
  "language_info": {
   "codemirror_mode": {
    "name": "ipython",
    "version": 3
   },
   "file_extension": ".py",
   "mimetype": "text/x-python",
   "name": "python",
   "nbconvert_exporter": "python",
   "pygments_lexer": "ipython3",
   "version": "3.7.9"
  }
 },
 "nbformat": 4,
 "nbformat_minor": 5
}
