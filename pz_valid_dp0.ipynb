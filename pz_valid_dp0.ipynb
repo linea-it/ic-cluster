{
 "cells": [
  {
   "cell_type": "markdown",
   "id": "6c835910-a864-4e17-8114-2e00b494c965",
   "metadata": {},
   "source": [
    "# DP0 Photo-z Validation \n",
    "\n",
    "Ancillary notebook with photo-z exploration to produce additional plots for the IC report. \n"
   ]
  },
  {
   "cell_type": "markdown",
   "id": "e7757d28-45c5-4991-9526-4d8ab1cd166b",
   "metadata": {},
   "source": [
    "---------------------------------------------------------------------------------"
   ]
  },
  {
   "cell_type": "markdown",
   "id": "a4d67e23-e58a-49da-a62b-d48efee5b154",
   "metadata": {},
   "source": [
    "Processes on DES Science Portal:\n",
    "\n",
    "| Pipeline | Product Log|\n",
    "|---|:--:|\n",
    "| Photo-z Training   | [7028](https://des-portal.linea.org.br/VP/getViewProcessCon?process_id=7028) |\n",
    "| Photo-z Compute    | [7030](https://des-portal.linea.org.br/VP/getViewProcessCon?process_id=7030) |\n",
    "| VAC DP0            | [7032](https://des-portal.linea.org.br/VP/getViewProcessCon?process_id=7032) |\n",
    "| VAC DC2 (reference)| [7011](https://des-portal.linea.org.br/VP/getViewProcessCon?process_id=7011) |\n"
   ]
  },
  {
   "cell_type": "markdown",
   "id": "b400d68a-b4f4-47f9-9051-6ead9b8d387b",
   "metadata": {},
   "source": [
    "_______________________________________________________________________________________"
   ]
  },
  {
   "cell_type": "markdown",
   "id": "49562c87-081e-4d4a-81fa-b88fe0f44e1a",
   "metadata": {},
   "source": [
    "#### Imports"
   ]
  },
  {
   "cell_type": "code",
   "execution_count": null,
   "id": "3feb5a0b-126b-4528-bd4c-a56f4baa46f6",
   "metadata": {},
   "outputs": [],
   "source": [
    "import numpy as np \n",
    "import matplotlib.pyplot as plt\n",
    "import tables_io as io\n",
    "%reload_ext autoreload\n",
    "%autoreload 2"
   ]
  },
  {
   "cell_type": "markdown",
   "id": "66444887-a234-4634-9253-2c9e2feba414",
   "metadata": {},
   "source": [
    "### Data\n",
    "#### Photo-z Validation"
   ]
  },
  {
   "cell_type": "code",
   "execution_count": null,
   "id": "b0f9bdf7-b980-49cb-bf13-70771136678b",
   "metadata": {},
   "outputs": [],
   "source": [
    "valid_set_file = \"/home/julia/ic-cluster-data/photoz_valid_1_._dnf_tsm_valid.fits\" # process 7028\n",
    "pz_valid = io.read(valid_set_file).to_pandas().query(\"MAG_R < 25\")\n",
    "pz_valid.columns"
   ]
  },
  {
   "cell_type": "code",
   "execution_count": null,
   "id": "0c00d0b2-5908-41e8-8399-3d0c31070fb1",
   "metadata": {},
   "outputs": [],
   "source": [
    "pz_valid.z_best.count()"
   ]
  },
  {
   "cell_type": "markdown",
   "id": "795b38b4-6bc7-4320-b379-ea8ec1eca73a",
   "metadata": {},
   "source": [
    "#### Photo-z compute"
   ]
  },
  {
   "cell_type": "code",
   "execution_count": null,
   "id": "1dbacd07-fc3e-4644-9a76-727a241f03c8",
   "metadata": {},
   "outputs": [],
   "source": [
    "# query = \"select mag_g, mag_r, mag_i, z_best from vac_cluster_simulation.catalog_7032\"\n",
    "# vac_dp0 = db.fetchall_df(query)\n",
    "# query = \"select mag_g, mag_r, mag_i, z_best from vac_cluster_simulation.catalog_7011\"\n",
    "# vac_dc2 = db.fetchall_df(query)"
   ]
  },
  {
   "cell_type": "markdown",
   "id": "7bc04945-70cc-4d3c-9deb-47341ef41a58",
   "metadata": {},
   "source": [
    "#### Photo-z x spec-z"
   ]
  },
  {
   "cell_type": "code",
   "execution_count": null,
   "id": "cc6e910c-a5df-4458-812f-d067e4388974",
   "metadata": {},
   "outputs": [],
   "source": [
    "%%time\n",
    "plt.figure(figsize=[6,5])#,dpi=300)\n",
    "plt.title(\"DP0 Photo-z Validation - DNF\", fontsize=16)\n",
    "plt.hexbin(pz_valid['Z_SPEC'], pz_valid['z_best'], None, mincnt=1, cmap='viridis', gridsize=[200,200], bins='log')\n",
    "cbar = plt.colorbar()\n",
    "#plt.clim(vmax=10)\n",
    "plt.xlabel(\"$z_{spec}$\", fontsize=16)\n",
    "plt.ylabel(\"$z_{phot}$\", fontsize=16)\n",
    "plt.xlim(0,1.7)\n",
    "plt.ylim(0,1.7)\n",
    "plt.grid(True)\n",
    "plt.tight_layout()"
   ]
  },
  {
   "cell_type": "code",
   "execution_count": null,
   "id": "b0bb2f57-a096-4cdb-b486-74e2bf31aeab",
   "metadata": {},
   "outputs": [],
   "source": [
    "plt.figure(figsize=[12,5])#,dpi=300)\n",
    "plt.suptitle(\"DP0 Photo-z Validation - DNF\", fontsize=16)\n",
    "plt.subplot(121)\n",
    "plt.plot(pz_valid['Z_SPEC'], pz_valid['z_best'], 'k.', alpha=0.4)\n",
    "plt.plot([0,3],[0,3], 'r--', lw=2)\n",
    "plt.xlabel(\"spec-$z$\", fontsize=16)\n",
    "plt.ylabel(\"photo-$z$\", fontsize=16)\n",
    "plt.xlim(0,2)\n",
    "plt.ylim(0,2)\n",
    "plt.grid(True)\n",
    "plt.subplot(122)\n",
    "bins=np.arange(0,2,0.04)\n",
    "plt.hist(pz_valid['Z_SPEC'], bins=bins, label=\"spec-$z$\", color=\"k\", alpha=0.5)\n",
    "plt.hist(pz_valid['z_best'], bins=bins, label=\"photo-$z$\", histtype=\"step\", ec=\"r\", lw=2)\n",
    "plt.xlabel(\"redshift\", fontsize=16)\n",
    "plt.ylabel(\"counts\", fontsize=16)\n",
    "plt.xlim(0,2)\n",
    "#plt.ylim(0,1.1)\n",
    "# plt.xticks(fontsize=14)\n",
    "# plt.yticks(fontsize=14)\n",
    "plt.legend()#ncol=2)\n",
    "plt.grid(True)\n",
    "plt.tight_layout()"
   ]
  },
  {
   "cell_type": "markdown",
   "id": "1b669635-d8d8-4187-9f02-05d42ffbe8fb",
   "metadata": {},
   "source": [
    "### Photo-z Validation Metrics"
   ]
  },
  {
   "cell_type": "code",
   "execution_count": null,
   "id": "d9daacff-b680-4655-aac3-fe161b3640ec",
   "metadata": {},
   "outputs": [],
   "source": [
    "def bias(zp, zs):\n",
    "    return np.round(np.mean((zp-zs)/(1.+zs)), 4) \n",
    "\n",
    "def scatter(zp, zs):\n",
    "    return np.round(np.std((zp-zs)/(1.+zs)) , 4)\n",
    "\n",
    "def metrics(zp, zs):\n",
    "    print(f\"Bias:    {bias(zp, zs)}\")\n",
    "    print(f\"Scatter: {scatter(zp, zs)}\")"
   ]
  },
  {
   "cell_type": "code",
   "execution_count": null,
   "id": "ff3b89cb-b553-4695-b9b3-54581ef44735",
   "metadata": {},
   "outputs": [],
   "source": [
    "metrics(pz_valid['z_best'], pz_valid['Z_SPEC'])"
   ]
  },
  {
   "cell_type": "code",
   "execution_count": null,
   "id": "b94fac09-058d-473e-8a51-538215eae55c",
   "metadata": {},
   "outputs": [],
   "source": [
    "global_bias = bias(pz_valid['z_best'], pz_valid['Z_SPEC'])\n",
    "global_scatter = scatter(pz_valid['z_best'], pz_valid['Z_SPEC'])"
   ]
  },
  {
   "cell_type": "code",
   "execution_count": null,
   "id": "c3d59e90-1659-4c50-937e-83ffdc82944d",
   "metadata": {},
   "outputs": [],
   "source": [
    "zbin = np.arange(0,2,0.1)\n",
    "zmid = np.arange(zbin[0]+((zbin[1]-zbin[0])/2.), zbin[-1]+((zbin[1]-zbin[0])/2.), zbin[1]-zbin[0])\n",
    "zmid"
   ]
  },
  {
   "cell_type": "code",
   "execution_count": null,
   "id": "0b664ab2-a4b2-4e84-8078-379f2fa76ce4",
   "metadata": {},
   "outputs": [],
   "source": [
    "bias_per_z = []\n",
    "scatter_per_z = []\n",
    "for i in range(len(zbin)-1):\n",
    "    mask = (pz_valid['Z_SPEC'] > zbin[i]) & (pz_valid['Z_SPEC'] <= zbin[i+1])\n",
    "    bias_per_z.append(bias(pz_valid['z_best'][mask], pz_valid['Z_SPEC'][mask]))\n",
    "    scatter_per_z.append(scatter(pz_valid['z_best'][mask], pz_valid['Z_SPEC'][mask]))"
   ]
  },
  {
   "cell_type": "code",
   "execution_count": null,
   "id": "2b28ee76-9902-48d4-bc15-3c5ce9eccce9",
   "metadata": {},
   "outputs": [],
   "source": [
    "plt.figure(figsize=[6,5])#,dpi=300)\n",
    "plt.plot(pz_valid['Z_SPEC'], pz_valid['z_best'] - pz_valid['Z_SPEC'], 'k.', alpha=0.4)\n",
    "plt.plot([0,3],[0,0], 'r--', lw=2)\n",
    "plt.xlabel(\"spec-$z$\", fontsize=16)\n",
    "plt.ylabel(\"photo-$z$ - spec-$z$\", fontsize=16)\n",
    "plt.xlim(0,2)\n",
    "plt.ylim(-1, 1)\n",
    "plt.grid(True)\n",
    "plt.tight_layout()"
   ]
  },
  {
   "cell_type": "code",
   "execution_count": null,
   "id": "39f5baef-6ce5-45c8-b10a-5df8b37a5904",
   "metadata": {},
   "outputs": [],
   "source": [
    "plt.figure(figsize=[6, 4], dpi=300)\n",
    "plt.subplot(211)\n",
    "plt.plot(zmid, bias_per_z, \"bo-\", label=\"global $b_{z}$=\"+f\"{global_bias:.4f}\")\n",
    "plt.hlines(0, -1, 2, ls=\":\", color=\"k\")#, label=\"0.0\")\n",
    "plt.legend()\n",
    "plt.xlim(0, 2)\n",
    "#plt.ylim(-0.08, 0.1)\n",
    "plt.ylabel(\"$b_{z}$\", fontsize=14)\n",
    "#plt.text(0.02, -0.07, \"ALL\", fontsize=18)\n",
    "plt.grid(True)\n",
    "\n",
    "plt.subplot(212)\n",
    "#plt.errorbar(zmid, y6_scatter_per_z, np.array(y6_scatter_err_per_z).transpose()*100)\n",
    "plt.plot(zmid, scatter_per_z, \"rs-\", label=\"global $\\sigma_{z}$=\"+f\"{global_scatter:.4f}\")\n",
    "#plt.hlines(0.12, -1, 2, ls=\":\", color=\"k\", label=0.12) \n",
    "plt.legend()\n",
    "plt.xlim(0.0, 2)\n",
    "#plt.ylim(0.02, 0.2)\n",
    "plt.xlabel(\"redshift\", fontsize=14)\n",
    "plt.ylabel(\"$\\sigma_{z}$\", fontsize=14)\n",
    "#plt.text(0.01, 0.03, \"ALL\", fontsize=18)\n",
    "plt.grid(True)\n",
    "\n",
    "plt.tight_layout()\n"
   ]
  },
  {
   "cell_type": "markdown",
   "id": "0670ab79-58b7-41e5-9652-802f1fc1f727",
   "metadata": {},
   "source": [
    "### Subset of low-z objects with wrong photo-z"
   ]
  },
  {
   "cell_type": "code",
   "execution_count": null,
   "id": "02c5aefc-75f6-4f5b-a6b5-05ce3eb58f03",
   "metadata": {},
   "outputs": [],
   "source": [
    "subset = pz_valid.query(\"Z_SPEC < 0.4 & (z_best - Z_SPEC) > 0.2\" )"
   ]
  },
  {
   "cell_type": "code",
   "execution_count": null,
   "id": "3b5231f3-6aed-49ef-aaae-1db55feab94b",
   "metadata": {},
   "outputs": [],
   "source": [
    "plt.figure(figsize=[6,5])#,dpi=300)\n",
    "plt.plot(pz_valid['Z_SPEC'], pz_valid['z_best'] - pz_valid['Z_SPEC'], 'k.', alpha=0.4)\n",
    "plt.plot(subset['Z_SPEC'], subset['z_best'] - subset['Z_SPEC'], 'r.')\n",
    "plt.plot([0,3],[0,0], 'r--', lw=2)\n",
    "plt.xlabel(\"spec-$z$\", fontsize=16)\n",
    "plt.ylabel(\"photo-$z$ - spec-$z$\", fontsize=16)\n",
    "plt.xlim(0,2)\n",
    "plt.ylim(-1, 1)\n",
    "plt.grid(True)\n",
    "plt.tight_layout()"
   ]
  },
  {
   "cell_type": "code",
   "execution_count": null,
   "id": "b806f735-529b-4243-b471-a70f3e031fbc",
   "metadata": {},
   "outputs": [],
   "source": []
  },
  {
   "cell_type": "code",
   "execution_count": null,
   "id": "6c22a488-dbd9-4095-a2c0-936e2e7f1320",
   "metadata": {},
   "outputs": [],
   "source": [
    "plt.figure(figsize=[12,5])#,dpi=300)\n",
    "plt.suptitle(\"DP0 Photo-z Validation - DNF\", fontsize=16)\n",
    "plt.subplot(121)\n",
    "plt.plot(pz_valid['Z_SPEC'], pz_valid['z_best'], 'k.', alpha=0.4)\n",
    "plt.plot(subset['Z_SPEC'], subset['z_best'], 'r.')\n",
    "plt.plot([0,3],[0,3], 'r--', lw=2)\n",
    "plt.xlabel(\"spec-$z$\", fontsize=16)\n",
    "plt.ylabel(\"photo-$z$\", fontsize=16)\n",
    "plt.xlim(0,2)\n",
    "plt.ylim(0,2)\n",
    "plt.grid(True)\n",
    "plt.subplot(122)\n",
    "bins=np.arange(0,2,0.04)\n",
    "plt.hist(pz_valid['Z_SPEC'], bins=bins, label=\"spec-$z$\", color=\"k\", alpha=0.5)\n",
    "plt.hist(pz_valid['z_best'], bins=bins, label=\"photo-$z$\", histtype=\"step\", ec=\"g\", lw=2)\n",
    "plt.hist(subset['z_best'], bins=bins, label=\"$z<0.4$ w/ wrong photo-$z$\", histtype=\"step\", ec=\"r\", lw=2)\n",
    "plt.xlabel(\"redshift\", fontsize=16)\n",
    "plt.ylabel(\"counts\", fontsize=16)\n",
    "plt.xlim(0,2)\n",
    "#plt.ylim(0,1.1)\n",
    "# plt.xticks(fontsize=14)\n",
    "# plt.yticks(fontsize=14)\n",
    "plt.legend()#ncol=2)\n",
    "plt.grid(True)\n",
    "plt.tight_layout()"
   ]
  },
  {
   "cell_type": "code",
   "execution_count": null,
   "id": "b7583b98-ca94-4dfd-8d93-d5dfe0b0b33f",
   "metadata": {},
   "outputs": [],
   "source": [
    "plt.figure(figsize=[6,5])#,dpi=300)\n",
    "plt.plot(pz_valid['MAG_R'], (pz_valid['MAG_R'] - pz_valid['MAG_I']), 'k.', alpha=0.4)\n",
    "plt.plot(subset['MAG_R'], (subset['MAG_R'] - subset['MAG_I']), 'r.')\n",
    "#plt.plot([0,3],[0,3], 'r--', lw=2)\n",
    "plt.xlabel(\"mag $r$\", fontsize=16)\n",
    "plt.ylabel(\"$r-i$\", fontsize=16)\n",
    "plt.xlim(18,25)\n",
    "plt.ylim(-0.5,1.5)\n",
    "plt.grid(True)\n",
    "plt.tight_layout()"
   ]
  },
  {
   "cell_type": "code",
   "execution_count": null,
   "id": "a932e076-0e62-461e-afbd-c2b653008eea",
   "metadata": {},
   "outputs": [],
   "source": []
  },
  {
   "cell_type": "code",
   "execution_count": null,
   "id": "cc9d08e1-dae2-44c5-9aa7-ec787bbd1dfc",
   "metadata": {},
   "outputs": [],
   "source": []
  },
  {
   "cell_type": "code",
   "execution_count": null,
   "id": "7a00c7d8-282e-42b2-a674-fea82e209544",
   "metadata": {},
   "outputs": [],
   "source": []
  },
  {
   "cell_type": "code",
   "execution_count": null,
   "id": "37368625-f384-4179-8197-0970c698e51e",
   "metadata": {},
   "outputs": [],
   "source": []
  },
  {
   "cell_type": "code",
   "execution_count": null,
   "id": "79161afb-6776-41d4-8a6a-50da8c549a2f",
   "metadata": {},
   "outputs": [],
   "source": []
  }
 ],
 "metadata": {
  "kernelspec": {
   "display_name": "Python 3 (ipykernel)",
   "language": "python",
   "name": "python3"
  },
  "language_info": {
   "codemirror_mode": {
    "name": "ipython",
    "version": 3
   },
   "file_extension": ".py",
   "mimetype": "text/x-python",
   "name": "python",
   "nbconvert_exporter": "python",
   "pygments_lexer": "ipython3",
   "version": "3.10.6"
  }
 },
 "nbformat": 4,
 "nbformat_minor": 5
}
