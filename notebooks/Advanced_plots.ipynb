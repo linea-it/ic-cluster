{
 "cells": [
  {
   "cell_type": "markdown",
   "metadata": {
    "tags": []
   },
   "source": [
    "# Advanced plot tools for large datasets\n",
    "#### Author: Gabriel Luan Souza de Oliveira\n",
    "\n",
    "#### Last update: 15/02/2022 11:29:13"
   ]
  },
  {
   "cell_type": "code",
   "execution_count": null,
   "metadata": {},
   "outputs": [],
   "source": [
    "from datetime import datetime\n",
    "today = datetime.today()\n",
    "print(\"Today's date:\", today.strftime(\"%d/%m/%Y %H:%M:%S\"))"
   ]
  },
  {
   "cell_type": "markdown",
   "metadata": {
    "tags": []
   },
   "source": [
    "### **For local installation**:\n",
    "A useful commmand to avoid any import problems (like circular imports) with holoviews, bokh and datashader, use this command on your terminal:\n",
    "`pip install holoviews[all]`"
   ]
  },
  {
   "cell_type": "code",
   "execution_count": null,
   "metadata": {
    "tags": []
   },
   "outputs": [],
   "source": [
    "# General python imports\n",
    "import numpy as np\n",
    "#import pandas as pd\n",
    "#import warnings\n",
    "\n",
    "# Update this option setting as you prefer\n",
    "#pd.set_option('display.max_rows', 5)\n",
    "\n",
    "import healpy as hp\n",
    "\n",
    "# Astropy\n",
    "from astropy.table import Table\n",
    "#from astropy import units as u\n",
    "#from astropy.coordinates import SkyCoord\n",
    "#from astropy.units.quantity import Quantity\n",
    "\n",
    "# LSST imports\n",
    "#from lsst.rsp import get_tap_service\n",
    "\n",
    "# Bokeh and Holoviews for visualization\n",
    "import bokeh\n",
    "from bokeh.io import output_notebook, show\n",
    "#from bokeh.models import ColumnDataSource, Range1d, HoverTool\n",
    "#from bokeh.models import CDSView, GroupFilter\n",
    "#from bokeh.plotting import figure, gridplot\n",
    "#from bokeh.transform import factor_cmap\n",
    "\n",
    "import holoviews as hv\n",
    "#from holoviews import streams, opts\n",
    "from holoviews.operation.datashader import datashade, shade, dynspread, spread, rasterize\n",
    "#from holoviews.plotting.util import process_cmap\n",
    "\n",
    "#import datashader as dsh\n",
    "\n",
    "# Set the holoviews plotting library to be bokeh\n",
    "# You will see the holoviews + bokeh icons displayed when the library is loaded successfully\n",
    "hv.extension('bokeh')\n",
    "\n",
    "# Display bokeh plots inline in the notebook\n",
    "output_notebook()"
   ]
  },
  {
   "cell_type": "markdown",
   "metadata": {},
   "source": [
    "# ***Loading catalog***"
   ]
  },
  {
   "cell_type": "code",
   "execution_count": null,
   "metadata": {},
   "outputs": [],
   "source": [
    "nside=4096\n",
    "steradian_in_degrees = (180./np.pi)**2\n",
    "sky_area = 4*np.pi*steradian_in_degrees   #Area of an sphere measured in degrees^2. Read more on https://www.mathsisfun.com/geometry/steradian.html\n",
    "npixels = hp.nside2npix(nside)            #Númeto de pixeis em um Healpix pixelization scheme => 12.0*(nside)**2.0\n",
    "area_of_each_pixel = sky_area/(npixels)   #In degrees^2.\n",
    "pix_area_arcmin = 3600*area_of_each_pixel #Pixel area in (minutes of degree)²."
   ]
  },
  {
   "cell_type": "code",
   "execution_count": null,
   "metadata": {},
   "outputs": [],
   "source": [
    "catalog = Table.read('catalog_table.csv', format='ascii.csv')\n",
    "np.random.seed(1024)\n",
    "#p_0 = 0.99\n",
    "p_0 = 0\n",
    "random_indexs = np.random.choice(2, size=len(catalog), p=[p_0,1-p_0]).astype('bool')\n",
    "catalog_reduced = catalog[random_indexs]\n",
    "del catalog"
   ]
  },
  {
   "cell_type": "code",
   "execution_count": null,
   "metadata": {},
   "outputs": [],
   "source": [
    "print(catalog_reduced)"
   ]
  },
  {
   "cell_type": "markdown",
   "metadata": {},
   "source": [
    "## Point plot"
   ]
  },
  {
   "cell_type": "code",
   "execution_count": null,
   "metadata": {
    "scrolled": false
   },
   "outputs": [],
   "source": [
    "#hv.help(hv.Points)\n",
    "hv.output(size=150)\n",
    "data_points = zip(catalog_reduced['ra'], catalog_reduced['dec'],\n",
    "                  catalog_reduced['z_best'],catalog_reduced['err_z'])\n",
    "\n",
    "pt_1 = hv.Points(data_points, vdims = ['Redshift', 'err_z'])\n",
    "options_dict = {'title': 'Objects, z and err_z: Point element',\n",
    "                'toolbar':'above',\n",
    "                'cmap': 'viridis',\n",
    "                'color': 'Redshift',\n",
    "                'marker': 'o',\n",
    "                'size':0.5,\n",
    "                'xlabel':'R.A.(degrees)',\n",
    "                'ylabel': 'DEC. (degrees)',\n",
    "                'bgcolor': '#f7f7f7',\n",
    "                'colorbar': True,\n",
    "                'clim': (0,2),\n",
    "                'size': hv.dim('err_z'),\n",
    "                'clabel': 'Redshift'\n",
    "               }\n",
    "\n",
    "options_dict_2 = {'title': 'Objects count',\n",
    "                'toolbar':'above',\n",
    "                'xlabel':'R.A.(degrees)',\n",
    "                'ylabel': 'DEC. (degrees)',\n",
    "                'bgcolor': '#f7f7f7',\n",
    "                'colorbar': True,\n",
    "               }\n",
    "\n",
    "#pt_1.opts(**options_dict)\n",
    "#pt_1.hist(bins = 'fd')"
   ]
  },
  {
   "cell_type": "code",
   "execution_count": null,
   "metadata": {},
   "outputs": [],
   "source": [
    "rasterize(pt_1).opts(cmap=\"hot_r\", cnorm=\"eq_hist\").relabel().opts(**options_dict_2).hist()"
   ]
  },
  {
   "cell_type": "markdown",
   "metadata": {},
   "source": [
    "## Scatter plot"
   ]
  },
  {
   "cell_type": "code",
   "execution_count": null,
   "metadata": {},
   "outputs": [],
   "source": [
    "hv.output(size=150)\n",
    "sc_1 = hv.Scatter((catalog_reduced['ra'], catalog_reduced['dec']), 'R.A.(degrees)','DEC. (degrees)')\n",
    "#sc_1.opts(color='r', marker='o', size = 0.5)"
   ]
  },
  {
   "cell_type": "code",
   "execution_count": null,
   "metadata": {},
   "outputs": [],
   "source": [
    "rasterize(sc_1[34:36,-6:-4]).opts(cmap=\"hot_r\", cnorm=\"eq_hist\").relabel().opts(**options_dict_2).hist()"
   ]
  },
  {
   "cell_type": "code",
   "execution_count": null,
   "metadata": {},
   "outputs": [],
   "source": [
    "#datashade(pt_1.opts(**options_dict), cmap = 'viridis').hist()"
   ]
  },
  {
   "cell_type": "markdown",
   "metadata": {},
   "source": [
    "## Object density plot"
   ]
  },
  {
   "cell_type": "code",
   "execution_count": null,
   "metadata": {},
   "outputs": [],
   "source": [
    "density_table = Table()\n",
    "density_table['pixels'] = np.unique(catalog_reduced['hpix_4096'].astype('int'))\n",
    "\n",
    "count = np.bincount(catalog_reduced['hpix_4096'].astype('int'))\n",
    "n_obj = np.array([count[each] for each in density_table['pixels']])\n",
    "\n",
    "\n",
    "ra,dec = hp.pix2ang(nside=4096, ipix=density_table['pixels'], lonlat = True, nest = True)\n",
    "ra[ra>180] -= 360\n",
    "\n",
    "density_table['ra'] = ra\n",
    "density_table['dec'] = dec\n",
    "density_table['n_obj'] = n_obj\n",
    "\n",
    "#print(density_table)\n",
    "#print(pix_area_arcmin)"
   ]
  },
  {
   "cell_type": "code",
   "execution_count": null,
   "metadata": {},
   "outputs": [],
   "source": [
    "hv.output(size=150)\n",
    "data_points = zip(density_table['ra'],density_table['dec'],density_table['n_obj']/pix_area_arcmin)\n",
    "colormaps = ['YlOrRd', 'hot_r']\n",
    "pt_1 = hv.Points(data_points, vdims = ['N° de objetos'])\n",
    "options_dict = {'title': 'N° de objetos por arcmin²',\n",
    "                'toolbar':'above',\n",
    "                'cmap': colormaps[1],\n",
    "                'color': 'N° de objetos',\n",
    "                'marker': 'o',\n",
    "                'size':0.5,\n",
    "                'xlabel':'R.A.(degrees)',\n",
    "                'ylabel': 'DEC. (degrees)',\n",
    "                'bgcolor': '#f7f7f7',\n",
    "                'logz': False,\n",
    "                'colorbar': True,\n",
    "                'clabel': r'N° de objetos / arcmin²'\n",
    "               }\n",
    "\n",
    "#pt_1.opts(**options_dict)\n",
    "#pt_1.hist(bins = 'fd')\n",
    "\n",
    "#frequencies, edges = np.histogram(density_table['n_obj']/pix_area_arcmin, bins = 'fd')\n",
    "#hv.Histogram((edges,frequencies))"
   ]
  },
  {
   "cell_type": "code",
   "execution_count": null,
   "metadata": {},
   "outputs": [],
   "source": []
  },
  {
   "cell_type": "code",
   "execution_count": null,
   "metadata": {},
   "outputs": [],
   "source": [
    "rasterize(pt_1).opts(cmap=\"hot_r\", cnorm=\"eq_hist\", colorbar = True).relabel().opts(**options_dict_2).hist()"
   ]
  },
  {
   "cell_type": "code",
   "execution_count": null,
   "metadata": {},
   "outputs": [],
   "source": [
    "datashade(pt_1.opts(**options_dict), cmap = 'viridis')"
   ]
  },
  {
   "cell_type": "code",
   "execution_count": null,
   "metadata": {},
   "outputs": [],
   "source": []
  }
 ],
 "metadata": {
  "kernelspec": {
   "display_name": "Python 3",
   "language": "python",
   "name": "python3"
  },
  "language_info": {
   "codemirror_mode": {
    "name": "ipython",
    "version": 3
   },
   "file_extension": ".py",
   "mimetype": "text/x-python",
   "name": "python",
   "nbconvert_exporter": "python",
   "pygments_lexer": "ipython3",
   "version": "3.6.8"
  }
 },
 "nbformat": 4,
 "nbformat_minor": 4
}
