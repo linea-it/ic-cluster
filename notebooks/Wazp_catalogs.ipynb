{
 "cells": [
  {
   "cell_type": "markdown",
   "metadata": {},
   "source": [
    "# ***WaZP catalogs notebook***\n",
    "\n",
    "Author: Gabriel Luan Souza de Oliveira.\n",
    "\n",
    "Last update: 07/03/2022."
   ]
  },
  {
   "cell_type": "markdown",
   "metadata": {},
   "source": [
    "## ***Imported modules***"
   ]
  },
  {
   "cell_type": "code",
   "execution_count": 139,
   "metadata": {},
   "outputs": [
    {
     "name": "stdout",
     "output_type": "stream",
     "text": [
      "The autoreload extension is already loaded. To reload it, use:\n",
      "  %reload_ext autoreload\n"
     ]
    }
   ],
   "source": [
    "%load_ext autoreload\n",
    "%autoreload 2\n",
    "\n",
    "#import numpy as np\n",
    "#import matplotlib.pyplot as plt\n",
    "from matplotlib.pyplot import cm\n",
    "from astropy.table import Table\n",
    "#import healpy as hp\n",
    "#import copy\n",
    "\n",
    "#from gavodb import DBManager\n",
    "#import sqlalchemy"
   ]
  },
  {
   "cell_type": "markdown",
   "metadata": {},
   "source": [
    "## ***Loading data***"
   ]
  },
  {
   "cell_type": "code",
   "execution_count": 140,
   "metadata": {},
   "outputs": [],
   "source": [
    "clusters_table_path = '/archive/user/aguena/cats/dc2/cosmoDC2_v1.1.4/extragal/wazp/6563/wazp_cluster.fits'\n",
    "members_table_path = '/archive/user/aguena/cats/dc2/cosmoDC2_v1.1.4/extragal/wazp/6563/wazp_membership.fits'\n",
    "clusters_table = Table.read(clusters_table_path)\n",
    "members_table = Table.read(members_table_path)"
   ]
  },
  {
   "cell_type": "markdown",
   "metadata": {},
   "source": [
    "## ***Inspecting data***"
   ]
  },
  {
   "cell_type": "code",
   "execution_count": 141,
   "metadata": {},
   "outputs": [
    {
     "name": "stdout",
     "output_type": "stream",
     "text": [
      "Número de clusters:  40389 \n",
      "\n",
      "Número de members:  850995 \n",
      "\n",
      "Keywords de clusters: \n",
      " ['SeqNr', 'DETECTION_TILE', 'IZ_INIT', 'IZ_FINAL', 'PEAK_ID_TILE_IZ', 'ID_IN_TILE', 'RA', 'DEC', 'zp', 'zp_median', 'Z_INIT', 'ZMIN_CL', 'ZMAX_CL', 'ZMIN_95_CL', 'ZMAX_95_CL', 'MSTAR_CL', 'XPEAK', 'YPEAK', 'RADIUS_ISO_MPC', 'RADIUS_SADDLE_MPC', 'MAXWAVE', 'FLUX_WAVE', 'FLAG_MERGE', 'SIGMA_DZ_INIT', 'SIGMA_DZ_EFF', 'FLAG_ZP', 'NGAL_FOR_ZP', 'FLAG_IZ', 'GLOBAL_NBKG_ZM', 'GLOBAL_LBKG_ZM', 'SIG_NBKG_ZM', 'SIG_LBKG_ZM', 'LOCAL_NBKG_ZM', 'LOCAL_LBKG_ZM', 'AREA_LOCAL_BKG', 'MASKED_FRAC_1MPC', 'MASKED_FRAC_05MPC', 'MASKED_FRAC_03MPC', 'SNR', 'SNR_NGALS', 'SNR_LGALS', 'CONTRAST_NGALS', 'CONTRAST_LGALS', 'DMAG_CORE', 'DMAG_BCG', 'DIST_BCG', 'NGALS_TEST', 'NGALS_CEN', 'LGALS_CEN', 'LOCAL_NBKG', 'LOCAL_LBKG', 'GLOBAL_NBKG', 'GLOBAL_LBKG', 'SIG_NBKG', 'SIG_LBKG', 'OUT_OF_CYL', 'CYL_NSL', 'PARENT_CYL_NSL', 'ZMIN_CYL', 'ZMAX_CYL', 'IZ_MIN_CYL', 'IZ_MAX_CYL', 'CONTRAST_CYL', 'NMAX_CYL', 'KING_Rc', 'KING_D0', 'KING_CHI2', 'KING_NFIT', 'RADIUS_MPC', 'RADIUS_AMIN', 'RADIUS_MAX_CONTRAST', 'RADIUS_SCALING', 'NGALS_MODEL_FIT', 'NGALS_MODEL', 'FLAG_DUPLICATE', 'RADIUS_500kpc_amin', 'RADIUS_1Mpc_amin', 'NMEM', 'NGALS', 'NGALS_R300', 'NGALS_R500', 'LGALS', 'LGALS_R300', 'LGALS_R500', 'E_NGALS', 'E_NGALS_R300', 'E_NGALS_R500', 'E_LGALS', 'E_LGALS_R300', 'E_LGALS_R500', 'RA_BCG', 'DEC_BCG', 'ZP_BCG', 'zp_bright', 'zs', 'zs_min', 'zs_max', 'zp_err', 'ID', 'rank'] \n",
      "\n",
      "Keywords de members: \n",
      " ['SeqNr', 'ID_CLUSTER_TILE', 'DETECTION_TILE', 'ID_g', 'NMEM_CL', 'PMEM', 'PMEM_ERR', 'MAG', 'RA', 'DEC', 'RA_CL', 'DEC_CL', 'ZP', 'ZP_CL', 'MSTAR_CL', 'mag_bcg', 'FLAG_BCG', 'mag_bcg_cen', 'FLAG_BCG_CEN', 'DCEN', 'DCEN_NORM', 'SNR', 'NGALS', 'mag_u', 'mag_g', 'mag_r', 'mag_i', 'mag_z', 'mag_y', 'mag_j', 'mag_h', 'mag_k', 'zs', 'zs_flag', 'ID_CLUSTER'] \n",
      "\n",
      "SeqNr DETECTION_TILE IZ_INIT IZ_FINAL ...   zs_max     zp_err     ID   rank\n",
      "----- -------------- ------- -------- ... --------- ----------- ----- -----\n",
      "14333             13      77       78 ... 1.3799999 0.021121796 40389 40389\n",
      "38305              6      66       66 ... 1.1199999 0.025830926 40388 40388\n",
      "29737             13      53       53 ...      0.86 0.020755647 40387 40387\n",
      "26031              4      73       73 ...      1.26 0.018575262 40386 40386\n",
      "33237              5      61       62 ...      1.01 0.018188246 40385 40385\n",
      "26453              4      67       68 ...      1.15 0.022518696 40384 40384\n",
      "23717             12      64       65 ... 1.0899999 0.018322898 40383 40383\n",
      "30982              5      63       63 ...      1.04    0.019162 40382 40382\n",
      "18627              7      26       26 ...      0.38  0.00852626 40381 40381\n",
      "  838              4      74       74 ...      1.29 0.018645173 40380 40380\n",
      "SeqNr ID_CLUSTER_TILE DETECTION_TILE    ID_g    ...  zs  zs_flag ID_CLUSTER\n",
      "----- --------------- -------------- ---------- ... ---- ------- ----------\n",
      "    1               1             14 7062517473 ... -1.0    -1.0      15426\n",
      "    2               1             14 7062517472 ... -1.0    -1.0      15426\n",
      "    3               1             14 7062517475 ... -1.0    -1.0      15426\n",
      "    4               1             14 7062517470 ... -1.0    -1.0      15426\n",
      "    5               1             14 7062517483 ... -1.0    -1.0      15426\n",
      "    6               1             14 7062516991 ... -1.0    -1.0      15426\n",
      "    7               2             14 7062560498 ... -1.0    -1.0       8232\n",
      "    8               2             14 7062541643 ... -1.0    -1.0       8232\n",
      "    9               2             14 7062560495 ... -1.0    -1.0       8232\n",
      "   10               2             14 7062560504 ... -1.0    -1.0       8232\n"
     ]
    }
   ],
   "source": [
    "def inspect_data(clusters_table,members_table):\n",
    "    \n",
    "    clusters_n = len(clusters_table)\n",
    "    members_n = len(members_table)\n",
    "    print('Número de clusters: ', clusters_n, '\\n')\n",
    "    print('Número de members: ', members_n, '\\n')\n",
    "    \n",
    "    cluster_keys = clusters_table.keys()\n",
    "    members_keys = members_table.keys()\n",
    "    \n",
    "    print('Keywords de clusters: \\n', cluster_keys, '\\n')\n",
    "    print('Keywords de members: \\n', members_keys, '\\n')\n",
    "    \n",
    "    print(clusters_table[0:10])\n",
    "    print(members_table[0:10])\n",
    "inspect_data(clusters_table,members_table)"
   ]
  },
  {
   "cell_type": "code",
   "execution_count": 142,
   "metadata": {},
   "outputs": [],
   "source": [
    "def inspect_columns(table, columns):\n",
    "    print(table[columns])\n",
    "    return table[columns]\n",
    "#inspect_columns(clusters_table, ['SeqNr', 'ID'])\n",
    "#inspect_columns(members_table, ['SeqNr', 'ID_CLUSTER'])"
   ]
  },
  {
   "cell_type": "markdown",
   "metadata": {},
   "source": [
    "## ***Selections***"
   ]
  },
  {
   "cell_type": "markdown",
   "metadata": {},
   "source": [
    "### Ngals selection"
   ]
  },
  {
   "cell_type": "code",
   "execution_count": 143,
   "metadata": {},
   "outputs": [
    {
     "name": "stdout",
     "output_type": "stream",
     "text": [
      "Number of NGALS>200 clusters:  6\n",
      "Number of members associated to NGALS>200 clusters:  2211\n"
     ]
    }
   ],
   "source": [
    "clusters_mask = clusters_table['NGALS'] >= 200\n",
    "clusters_table_reduced = clusters_table[clusters_mask]\n",
    "\n",
    "members_mask = np.isin(members_table['ID_CLUSTER'],clusters_table_reduced['ID'])\n",
    "members_table_reduced = members_table[members_mask]\n",
    "\n",
    "print('Number of NGALS>200 clusters: ', len(clusters_table_reduced))\n",
    "print('Number of members associated to NGALS>200 clusters: ', len(members_table_reduced))"
   ]
  },
  {
   "cell_type": "markdown",
   "metadata": {},
   "source": [
    "### Color choice"
   ]
  },
  {
   "cell_type": "code",
   "execution_count": 151,
   "metadata": {},
   "outputs": [
    {
     "name": "stdout",
     "output_type": "stream",
     "text": [
      "mag_u  mag_g   mag_r   mag_i   mag_z   mag_y  mag_j mag_h\n",
      "----- ------- ------- ------- ------- ------- ----- -----\n",
      " 99.0 25.1454 24.5514 23.6175 23.2219 23.1539  99.0  99.0\n",
      " 99.0 25.8951 23.9754 22.9345 22.1337 21.8149  99.0  99.0\n",
      " 99.0 24.3553  24.118 23.4587 23.1324 23.0619  99.0  99.0\n",
      " 99.0 23.7425  23.427 22.7292 22.4265 22.3623  99.0  99.0\n",
      " 99.0 26.0368 24.6875 23.6143 22.9934  22.813  99.0  99.0\n",
      " 99.0 24.0333  23.214 22.2664 21.7301 21.6044  99.0  99.0\n",
      " 99.0 23.6907 22.5816 21.5644 20.9188  20.729  99.0  99.0\n",
      " 99.0  24.369 23.9595 23.1162 22.6973 22.6512  99.0  99.0\n",
      " 99.0 25.1866 24.5481 23.5652 23.2049 23.1545  99.0  99.0\n",
      " 99.0 23.7443 22.9223 21.9737 21.4369  21.311  99.0  99.0\n",
      "  ...     ...     ...     ...     ...     ...   ...   ...\n",
      " 99.0 23.7624 23.1521 22.2245 21.8491 21.7418  99.0  99.0\n",
      " 99.0 23.6237 23.3792 22.6846 22.4468 22.3959  99.0  99.0\n",
      " 99.0 24.4577 23.9702 23.1331 22.7402  22.635  99.0  99.0\n",
      " 99.0 25.2352 23.6206 22.5376 21.8387 21.6135  99.0  99.0\n",
      " 99.0 25.6123 24.3205 23.2094 22.7197 22.5519  99.0  99.0\n",
      " 99.0 25.6178  23.768 22.6889 21.8715 21.6268  99.0  99.0\n",
      " 99.0 22.7856 22.4774 21.7678 21.4854 21.4007  99.0  99.0\n",
      " 99.0 22.9115 22.5669 21.8715 21.5424 21.4451  99.0  99.0\n",
      " 99.0 22.9839 22.6499 21.9617 21.6293 21.5315  99.0  99.0\n",
      " 99.0 25.1934 24.2436 23.1235 22.7635 22.6727  99.0  99.0\n",
      " 99.0 24.7237 24.0183 23.1185 22.5821  22.419  99.0  99.0\n",
      "Length = 2211 rows\n"
     ]
    }
   ],
   "source": [
    "bands = ['u','g','r','i','z','y','j','h','k']\n",
    "aux_bands = bands[1:]+bands[:1]\n",
    "colors_keywords = [i+'-'+j for i,j in zip(bands,aux_bands)]\n",
    "colors_keywords.pop(-1)\n",
    "\n",
    "mag_keywords = ['mag_u', 'mag_g', 'mag_r', 'mag_i', 'mag_z', 'mag_y', 'mag_j', 'mag_h', 'mag_k']\n",
    "aux_mag_keywords = mag_keywords[1:]+mag_keywords[:1]\n",
    "mag_keywords.pop(-1)\n",
    "aux_mag_keywords.pop(-1)\n",
    "\n",
    "for i,j,k in zip(colors_keywords,mag_keywords,aux_mag_keywords):\n",
    "    members_table_reduced[i] = members_table_reduced[j] - members_table_reduced[k]\n",
    "\n",
    "#print(members_table_reduced[colors_keywords])\n",
    "print(members_table_reduced[mag_keywords])"
   ]
  },
  {
   "cell_type": "markdown",
   "metadata": {},
   "source": [
    "### CMD"
   ]
  },
  {
   "cell_type": "code",
   "execution_count": 157,
   "metadata": {},
   "outputs": [
    {
     "data": {
      "image/png": "[encoded data removed]",
      "text/plain": [
       "<Figure size 432x288 with 2 Axes>"
      ]
     },
     "metadata": {},
     "output_type": "display_data"
    },
    {
     "data": {
      "image/png": "[encoded data removed]",
      "text/plain": [
       "<Figure size 432x288 with 2 Axes>"
      ]
     },
     "metadata": {},
     "output_type": "display_data"
    },
    {
     "data": {
      "image/png": "[encoded data removed]",
      "text/plain": [
       "<Figure size 432x288 with 2 Axes>"
      ]
     },
     "metadata": {},
     "output_type": "display_data"
    },
    {
     "data": {
      "image/png": "[encoded data removed]",
      "text/plain": [
       "<Figure size 432x288 with 2 Axes>"
      ]
     },
     "metadata": {},
     "output_type": "display_data"
    },
    {
     "data": {
      "image/png": "[encoded data removed]",
      "text/plain": [
       "<Figure size 432x288 with 2 Axes>"
      ]
     },
     "metadata": {},
     "output_type": "display_data"
    },
    {
     "data": {
      "image/png": "[encoded data removed]",
      "text/plain": [
       "<Figure size 432x288 with 2 Axes>"
      ]
     },
     "metadata": {},
     "output_type": "display_data"
    },
    {
     "data": {
      "text/plain": [
       "<Figure size 432x288 with 0 Axes>"
      ]
     },
     "metadata": {},
     "output_type": "display_data"
    }
   ],
   "source": [
    "clusters_dict = {}\n",
    "for each in clusters_table_reduced['ID']:\n",
    "    cluster_mask = members_table_reduced['ID_CLUSTER'] == each\n",
    "    clusters_dict['{}'.format(each)] = members_table_reduced[cluster_mask]\n",
    "    \n",
    "#plot\n",
    "\n",
    "plt.rcParams['axes.facecolor'] = 'white'\n",
    "band = 3\n",
    "for cluster_id in clusters_table_reduced['ID'].astype(str):\n",
    "    color = clusters_dict[cluster_id][colors_keywords[band]]\n",
    "    mask = color <= 500\n",
    "    mag = clusters_dict[cluster_id][mag_keywords[band+1]]\n",
    "    redshift = clusters_dict[cluster_id]['ZP']\n",
    "    plt.scatter(mag[mask], color[mask], s = 1.0, marker = ',', c = redshift[mask], cmap = cm.hot_r)\n",
    "    cbar = plt.colorbar()\n",
    "    cbar.set_label('Redshift')\n",
    "    plt.xlabel(mag_keywords[band+1])\n",
    "    plt.ylabel(colors_keywords[band])\n",
    "    plt.show()\n",
    "    plt.clf()\n"
   ]
  },
  {
   "cell_type": "markdown",
   "metadata": {},
   "source": [
    "## ***Data information***"
   ]
  },
  {
   "cell_type": "markdown",
   "metadata": {},
   "source": [
    "1) Cluster's ID goes from <b>1</b> to <b>40389</b>.\n",
    "\n",
    "2) Ngals is different from the number of members related to a specific id_cluster"
   ]
  },
  {
   "cell_type": "code",
   "execution_count": 146,
   "metadata": {},
   "outputs": [
    {
     "name": "stdout",
     "output_type": "stream",
     "text": [
      "ID_CLUSTER\n",
      "----------\n",
      "     15426\n",
      "     15426\n",
      "     15426\n",
      "     15426\n",
      "     15426\n",
      "     15426\n",
      "      8232\n",
      "      8232\n",
      "      8232\n",
      "      8232\n",
      "       ...\n",
      "     36529\n",
      "     36529\n",
      "     36529\n",
      "     36529\n",
      "     36529\n",
      "     36529\n",
      "     36529\n",
      "     36529\n",
      "     36529\n",
      "     36529\n",
      "     36529\n",
      "Length = 850995 rows\n",
      "ID_CLUSTER\n",
      "----------\n",
      "     15426\n",
      "     15426\n",
      "     15426\n",
      "     15426\n",
      "     15426\n",
      "     15426\n",
      "      8232\n",
      "      8232\n",
      "      8232\n",
      "      8232\n",
      "       ...\n",
      "     36529\n",
      "     36529\n",
      "     36529\n",
      "     36529\n",
      "     36529\n",
      "     36529\n",
      "     36529\n",
      "     36529\n",
      "     36529\n",
      "     36529\n",
      "     36529\n",
      "Length = 850995 rows\n",
      "1 40389\n"
     ]
    }
   ],
   "source": [
    "#1)\n",
    "print(np.nanmin(inspect_columns(members_table, 'ID_CLUSTER')),\n",
    "      np.nanmax(inspect_columns(members_table, 'ID_CLUSTER')))"
   ]
  },
  {
   "cell_type": "code",
   "execution_count": 147,
   "metadata": {},
   "outputs": [
    {
     "name": "stdout",
     "output_type": "stream",
     "text": [
      " ID   NGALS  \n",
      "--- ---------\n",
      "  7 211.13347\n",
      "  6  207.5023\n",
      "  4  206.5151\n",
      "  3 264.93726\n",
      "  2 233.74692\n",
      "  1 276.63965\n",
      "7 340\n",
      "6 301\n",
      "4 357\n",
      "3 395\n",
      "2 376\n",
      "1 442\n"
     ]
    }
   ],
   "source": [
    "#2)\n",
    "print(clusters_table_reduced['ID','NGALS'])\n",
    "for each in clusters_table_reduced['ID']:\n",
    "    print(each,len(members_table_reduced['ID_CLUSTER'][members_table_reduced['ID_CLUSTER'] == each]))"
   ]
  }
 ],
 "metadata": {
  "kernelspec": {
   "display_name": "Python 3",
   "language": "python",
   "name": "python3"
  },
  "language_info": {
   "codemirror_mode": {
    "name": "ipython",
    "version": 3
   },
   "file_extension": ".py",
   "mimetype": "text/x-python",
   "name": "python",
   "nbconvert_exporter": "python",
   "pygments_lexer": "ipython3",
   "version": "3.6.8"
  }
 },
 "nbformat": 4,
 "nbformat_minor": 2
}
