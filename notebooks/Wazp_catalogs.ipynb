{
 "cells": [
  {
   "cell_type": "markdown",
   "metadata": {},
   "source": [
    "# ***WaZP catalogs notebook***\n",
    "\n",
    "Author: Gabriel Luan Souza de Oliveira.\n",
    "\n",
    "Last update: 07/03/2022."
   ]
  },
  {
   "cell_type": "markdown",
   "metadata": {},
   "source": [
    "## ***Imported modules***"
   ]
  },
  {
   "cell_type": "code",
   "execution_count": null,
   "metadata": {},
   "outputs": [],
   "source": [
    "%load_ext autoreload\n",
    "%autoreload 2\n",
    "\n",
    "#import numpy as np\n",
    "#import matplotlib.pyplot as plt\n",
    "from matplotlib.pyplot import cm\n",
    "from astropy.table import Table\n",
    "#import healpy as hp\n",
    "#import copy\n",
    "\n",
    "#from gavodb import DBManager\n",
    "#import sqlalchemy"
   ]
  },
  {
   "cell_type": "markdown",
   "metadata": {},
   "source": [
    "## ***Loading data***"
   ]
  },
  {
   "cell_type": "code",
   "execution_count": null,
   "metadata": {},
   "outputs": [],
   "source": [
    "clusters_table_path = '/archive/user/aguena/cats/dc2/cosmoDC2_v1.1.4/extragal/wazp/6563/wazp_cluster.fits'\n",
    "members_table_path = '/archive/user/aguena/cats/dc2/cosmoDC2_v1.1.4/extragal/wazp/6563/wazp_membership.fits'\n",
    "clusters_table = Table.read(clusters_table_path)\n",
    "members_table = Table.read(members_table_path)"
   ]
  },
  {
   "cell_type": "markdown",
   "metadata": {},
   "source": [
    "## ***Inspecting data***"
   ]
  },
  {
   "cell_type": "code",
   "execution_count": null,
   "metadata": {},
   "outputs": [],
   "source": [
    "def inspect_data(clusters_table,members_table):\n",
    "    \n",
    "    clusters_n = len(clusters_table)\n",
    "    members_n = len(members_table)\n",
    "    print('Número de clusters: ', clusters_n, '\\n')\n",
    "    print('Número de members: ', members_n, '\\n')\n",
    "    \n",
    "    cluster_keys = clusters_table.keys()\n",
    "    members_keys = members_table.keys()\n",
    "    \n",
    "    print('Keywords de clusters: \\n', cluster_keys, '\\n')\n",
    "    print('Keywords de members: \\n', members_keys, '\\n')\n",
    "    \n",
    "    print(clusters_table[0:10])\n",
    "    print(members_table[0:10])\n",
    "inspect_data(clusters_table,members_table)"
   ]
  },
  {
   "cell_type": "code",
   "execution_count": null,
   "metadata": {},
   "outputs": [],
   "source": [
    "def inspect_columns(table, columns):\n",
    "    print(table[columns])\n",
    "    return table[columns]\n",
    "#inspect_columns(clusters_table, ['SeqNr', 'ID'])\n",
    "#inspect_columns(members_table, ['SeqNr', 'ID_CLUSTER'])"
   ]
  },
  {
   "cell_type": "markdown",
   "metadata": {},
   "source": [
    "## ***Selections***"
   ]
  },
  {
   "cell_type": "markdown",
   "metadata": {},
   "source": [
    "### Ngals selection"
   ]
  },
  {
   "cell_type": "code",
   "execution_count": null,
   "metadata": {},
   "outputs": [],
   "source": [
    "clusters_mask = clusters_table['NGALS'] >= 200\n",
    "clusters_table_reduced = clusters_table[clusters_mask]\n",
    "\n",
    "members_mask = np.isin(members_table['ID_CLUSTER'],clusters_table_reduced['ID'])\n",
    "members_table_reduced = members_table[members_mask]\n",
    "\n",
    "print('Number of NGALS>200 clusters: ', len(clusters_table_reduced))\n",
    "print('Number of members associated to NGALS>200 clusters: ', len(members_table_reduced))"
   ]
  },
  {
   "cell_type": "markdown",
   "metadata": {},
   "source": [
    "### Color choice"
   ]
  },
  {
   "cell_type": "code",
   "execution_count": null,
   "metadata": {},
   "outputs": [],
   "source": [
    "bands = ['u','g','r','i','z','y','j','h','k']\n",
    "aux_bands = bands[1:]+bands[:1]\n",
    "colors_keywords = [i+'-'+j for i,j in zip(bands,aux_bands)]\n",
    "colors_keywords.pop(-1)\n",
    "\n",
    "mag_keywords = ['mag_u', 'mag_g', 'mag_r', 'mag_i', 'mag_z', 'mag_y', 'mag_j', 'mag_h', 'mag_k']\n",
    "aux_mag_keywords = mag_keywords[1:]+mag_keywords[:1]\n",
    "mag_keywords.pop(-1)\n",
    "aux_mag_keywords.pop(-1)\n",
    "\n",
    "for i,j,k in zip(colors_keywords,mag_keywords,aux_mag_keywords):\n",
    "    members_table_reduced[i] = members_table_reduced[j] - members_table_reduced[k]\n",
    "\n",
    "#print(members_table_reduced[colors_keywords])\n",
    "print(members_table_reduced[mag_keywords])"
   ]
  },
  {
   "cell_type": "markdown",
   "metadata": {},
   "source": [
    "### CMD"
   ]
  },
  {
   "cell_type": "code",
   "execution_count": null,
   "metadata": {},
   "outputs": [],
   "source": [
    "clusters_dict = {}\n",
    "for each in clusters_table_reduced['ID']:\n",
    "    cluster_mask = members_table_reduced['ID_CLUSTER'] == each\n",
    "    clusters_dict['{}'.format(each)] = members_table_reduced[cluster_mask]\n",
    "    \n",
    "#plot\n",
    "\n",
    "plt.rcParams['axes.facecolor'] = 'white'\n",
    "band = 3\n",
    "for cluster_id in clusters_table_reduced['ID'].astype(str):\n",
    "    color = clusters_dict[cluster_id][colors_keywords[band]]\n",
    "    mask = color <= 500\n",
    "    mag = clusters_dict[cluster_id][mag_keywords[band+1]]\n",
    "    redshift = clusters_dict[cluster_id]['ZP']\n",
    "    plt.scatter(mag[mask], color[mask], s = 1.0, marker = ',', c = redshift[mask], cmap = cm.hot_r)\n",
    "    cbar = plt.colorbar()\n",
    "    cbar.set_label('Redshift')\n",
    "    plt.xlabel(mag_keywords[band+1])\n",
    "    plt.ylabel(colors_keywords[band])\n",
    "    plt.show()\n",
    "    plt.clf()\n"
   ]
  },
  {
   "cell_type": "markdown",
   "metadata": {},
   "source": [
    "## ***Data information***"
   ]
  },
  {
   "cell_type": "markdown",
   "metadata": {},
   "source": [
    "1) Cluster's ID goes from <b>1</b> to <b>40389</b>.\n",
    "\n",
    "2) Ngals is different from the number of members related to a specific id_cluster"
   ]
  },
  {
   "cell_type": "code",
   "execution_count": null,
   "metadata": {},
   "outputs": [],
   "source": [
    "#1)\n",
    "print(np.nanmin(inspect_columns(members_table, 'ID_CLUSTER')),\n",
    "      np.nanmax(inspect_columns(members_table, 'ID_CLUSTER')))"
   ]
  },
  {
   "cell_type": "code",
   "execution_count": null,
   "metadata": {},
   "outputs": [],
   "source": [
    "#2)\n",
    "print(clusters_table_reduced['ID','NGALS'])\n",
    "for each in clusters_table_reduced['ID']:\n",
    "    print(each,len(members_table_reduced['ID_CLUSTER'][members_table_reduced['ID_CLUSTER'] == each]))"
   ]
  }
 ],
 "metadata": {
  "kernelspec": {
   "display_name": "Python 3",
   "language": "python",
   "name": "python3"
  },
  "language_info": {
   "codemirror_mode": {
    "name": "ipython",
    "version": 3
   },
   "file_extension": ".py",
   "mimetype": "text/x-python",
   "name": "python",
   "nbconvert_exporter": "python",
   "pygments_lexer": "ipython3",
   "version": "3.6.8"
  }
 },
 "nbformat": 4,
 "nbformat_minor": 2
}
