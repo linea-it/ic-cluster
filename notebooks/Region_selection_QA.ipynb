{
 "cells": [
  {
   "cell_type": "markdown",
   "id": "1b2c7e2b",
   "metadata": {},
   "source": [
    "# ***QA-VAC NOTEBOOK - Region Selection Plots***\n",
    "\n",
    "Author: Gabriel Luan Souza de Oliveira.\n",
    "\n",
    "Last update: 18/01/2022."
   ]
  },
  {
   "cell_type": "markdown",
   "id": "d389abcd",
   "metadata": {},
   "source": [
    "## ***Imported Modules***"
   ]
  },
  {
   "cell_type": "code",
   "execution_count": 2,
   "id": "6cad1dd4",
   "metadata": {},
   "outputs": [],
   "source": [
    "%load_ext autoreload\n",
    "%autoreload 2\n",
    "\n",
    "import numpy as np\n",
    "import pylab as plt \n",
    "import matplotlib.pyplot as mplt\n",
    "import healpy as hp\n",
    "from astropy.table import Table\n",
    "from pylab import cm\n",
    "from nice_plot import prep_plot as pp"
   ]
  },
  {
   "cell_type": "markdown",
   "id": "a7eb4dcc",
   "metadata": {},
   "source": [
    "## ***Loading Data***"
   ]
  },
  {
   "cell_type": "code",
   "execution_count": 3,
   "id": "182e43e7",
   "metadata": {},
   "outputs": [],
   "source": [
    "table_det_frac = Table.read('detection_fraction.fits', memmap=True)"
   ]
  },
  {
   "cell_type": "markdown",
   "id": "bae0038b",
   "metadata": {},
   "source": [
    "## ***Detection Fraction Maps (griz bands)***"
   ]
  },
  {
   "cell_type": "code",
   "execution_count": 4,
   "id": "d00687f8",
   "metadata": {},
   "outputs": [
    {
     "ename": "TypeError",
     "evalue": "'Text' object is not callable",
     "output_type": "error",
     "traceback": [
      "\u001b[0;31m---------------------------------------------------------------------------\u001b[0m",
      "\u001b[0;31mTypeError\u001b[0m                                 Traceback (most recent call last)",
      "\u001b[0;32m<timed exec>\u001b[0m in \u001b[0;36m<module>\u001b[0;34m\u001b[0m\n",
      "\u001b[0;32m<timed exec>\u001b[0m in \u001b[0;36mplot_det_frac\u001b[0;34m(nside, indexs, det_frac, verbose)\u001b[0m\n",
      "\u001b[0;31mTypeError\u001b[0m: 'Text' object is not callable"
     ]
    },
    {
     "data": {
      "image/png": "[encoded data removed]",
      "text/plain": [
       "<Figure size 720x720 with 1 Axes>"
      ]
     },
     "metadata": {
      "needs_background": "light"
     },
     "output_type": "display_data"
    }
   ],
   "source": [
    "%%time\n",
    "steradian_in_degrees = (180./np.pi)**2\n",
    "sky_area = 4*np.pi*steradian_in_degrees #Area of an sphere measured in degrees^2\n",
    "#https://www.mathsisfun.com/geometry/steradian.html\n",
    "\n",
    "def plot_det_frac(nside, indexs, det_frac, verbose = False):\n",
    "    ''' Plot a detection fraction map using healpix cartview.'''\n",
    "    \n",
    "    ###-------------------------------------------###\n",
    "    #                Key informations               #\n",
    "    ###-------------------------------------------###\n",
    "    \n",
    "    npixels = hp.nside2npix(nside) #Númeto de pixeis em um Healpix pixelization scheme => 12.0*(nside)**2.0\n",
    "    area_of_each_pixel = sky_area/(npixels) #In degrees^2.\n",
    "    pix_area_arcmin = 3600*area_of_each_pixel #Pixel area in (minutes of degree)².\n",
    "    \n",
    "    ###-------------------------------------------###\n",
    "    #                MAP construction               #\n",
    "    ###-------------------------------------------###\n",
    "    \n",
    "    det_frac_map = -np.inf*np.ones(npixels)\n",
    "    \n",
    "    for i in np.arange(0, len(indexs)):\n",
    "        det_frac_map[indexs[i]] = det_frac[i]\n",
    "    \n",
    "    ra, dec = hp.pix2ang(nside,indexs, lonlat = True)\n",
    "    \n",
    "    ra[ra>180] -= 360\n",
    "    \n",
    "    ###-------------------------------------------###\n",
    "    #                     Plot                      #\n",
    "    ###-------------------------------------------###\n",
    "    \n",
    "    fig, ax = mplt.subplots(1, figsize = (10,10))\n",
    "    ax.scatter(ra,dec)#c = det_frac, vmin = 0, vmax = 1, cmap = cm.gnuplot2_r)\n",
    "    ax.invert_xaxis()\n",
    "    ax.set_xlabel('RA')\n",
    "    ax.set_ylabel('DEC')\n",
    "    ax.title(\"Detection Fraction Map\")\n",
    "    mplt.show()\n",
    "    \n",
    "    '''\n",
    "    kw = {\n",
    "        'figsize': (18, 9),\n",
    "        'nside': nside,\n",
    "        'ralim': [-75, 120],\n",
    "        'declim': [-75, 75],\n",
    "        }\n",
    "    \n",
    "    plt.clf()\n",
    "    fig = pp(*kw['figsize'])\n",
    "    \n",
    "    cmap = cm.gnuplot2_r\n",
    "    cmap.set_under('.7')\n",
    "    \n",
    "    hp.mollview(det_frac_map, min = 0, max = 1, cmap = cmap, title = \"Detection Fraction Map\") #flip = 'geo'\n",
    "    hp.graticule()\n",
    "    \n",
    "    hp_ax = fig.axes[-1]\n",
    "    hp_ax.axis('on')\n",
    "    hp_ax.grid(color='.5', lw=.5, zorder=0)\n",
    "    \n",
    "    hp_ax.set_xlabel('RA')\n",
    "    hp_ax.set_ylabel('DEC')\n",
    "    \n",
    "    if verbose == True:\n",
    "        print('Number of pixels:',npixels,\n",
    "            '\\nSky area:', sky_area,'degrees²',\n",
    "            '\\nArea of each pixel:', area_of_each_pixel, 'degrees²;', pix_area_arcmin,'min^2')'''\n",
    "\n",
    "indexs = table_det_frac['pixel']\n",
    "det_frac = table_det_frac['detfrac_i']\n",
    "\n",
    "plot_det_frac(4096, indexs, det_frac,True)\n"
   ]
  },
  {
   "cell_type": "markdown",
   "id": "3d55ddbd",
   "metadata": {},
   "source": [
    " Visualização dos systematic maps\n",
    "[ ] Detection Fraction (cada linha da tabela é um pixel, para griz bands).\n",
    "[ ] N-images\n",
    " Visualização dos depth mapas (por bandas (griz), e por SN (5,10)).\n",
    "Valores de magnitudes limites (seleciona o pixel com o problema, e não o objeto).\n",
    " Visualização da foreground objects mask (código bitmap, descrição no gold catalog)\n",
    "Remove diversos objetos (estrelas, aglomerados globulares, galáxias anãs próximas) e a área próxima a eles.\n",
    " Visualização do footprint map (é 0 ou 1 )\n",
    "É o mapa resultante a partir dos cortes feitos nos mapas anteriores.\n",
    " Cálculo da área efetiva (depende dos cortes feitos)\n",
    "Cada pixel tem que ter area ponderada pelo detection fraction (somatório dos detection fractions).\n",
    "Usando datashadder (ser interativo, inclusive os valores de densidade):\n",
    "\n",
    " Distribuição espacial dos objetos (mapa de densidades)\n",
    " Distribuição espacial do redshift médio/mediano\n",
    " Distribuição espacial do erro no redshift (erro médio)"
   ]
  }
 ],
 "metadata": {
  "kernelspec": {
   "display_name": "Python 3 (ipykernel)",
   "language": "python",
   "name": "python3"
  },
  "language_info": {
   "codemirror_mode": {
    "name": "ipython",
    "version": 3
   },
   "file_extension": ".py",
   "mimetype": "text/x-python",
   "name": "python",
   "nbconvert_exporter": "python",
   "pygments_lexer": "ipython3",
   "version": "3.9.7"
  }
 },
 "nbformat": 4,
 "nbformat_minor": 5
}
