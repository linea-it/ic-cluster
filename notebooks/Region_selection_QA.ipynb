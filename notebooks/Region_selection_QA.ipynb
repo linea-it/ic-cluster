{
 "cells": [
  {
   "cell_type": "markdown",
   "id": "8eee22a0",
   "metadata": {},
   "source": [
    "# ***QA-VAC NOTEBOOK - Region Selection Plots***\n",
    "\n",
    "Author: Gabriel Luan Souza de Oliveira.\n",
    "\n",
    "Last update: 16/03/2022."
   ]
  },
  {
   "cell_type": "markdown",
   "id": "5a50d4c0",
   "metadata": {},
   "source": [
    "## ***Imported Modules***"
   ]
  },
  {
   "cell_type": "code",
   "execution_count": null,
   "id": "be4a5c94",
   "metadata": {},
   "outputs": [],
   "source": [
    "%load_ext autoreload\n",
    "%autoreload 2\n",
    "\n",
    "import numpy as np\n",
    "import matplotlib.pyplot as plt\n",
    "from matplotlib.pyplot import cm\n",
    "from astropy.table import Table\n",
    "import healpy as hp\n",
    "import copy\n",
    "from gavodb import DBManager"
   ]
  },
  {
   "cell_type": "markdown",
   "id": "ed9444d8",
   "metadata": {},
   "source": [
    "## ***Loading Data***"
   ]
  },
  {
   "cell_type": "markdown",
   "id": "abc0afed",
   "metadata": {},
   "source": [
    "### Calling DBManager"
   ]
  },
  {
   "cell_type": "code",
   "execution_count": null,
   "id": "03aadb25",
   "metadata": {},
   "outputs": [],
   "source": [
    "dbm = DBManager()"
   ]
  },
  {
   "cell_type": "markdown",
   "id": "57e6b22f",
   "metadata": {},
   "source": [
    "### Detection fraction table"
   ]
  },
  {
   "cell_type": "code",
   "execution_count": null,
   "id": "e01fc001",
   "metadata": {},
   "outputs": [],
   "source": [
    "%%time\n",
    "pids = ['6617', '6618', '6619', '6620', '6621'] # grizY bands\n",
    "det_frac_table = dbm.table_loading(pids[2],0,None,False,False)"
   ]
  },
  {
   "cell_type": "markdown",
   "id": "6f7d97dc",
   "metadata": {},
   "source": [
    "### N-images table"
   ]
  },
  {
   "cell_type": "code",
   "execution_count": null,
   "id": "88092fb3",
   "metadata": {},
   "outputs": [],
   "source": [
    "%%time\n",
    "pids = ['6622', '6623', '6624', '6625', '6626'] # grizY bands\n",
    "n_images_table = dbm.table_loading(pids[2],0,None,False, False)"
   ]
  },
  {
   "cell_type": "markdown",
   "id": "340e8087",
   "metadata": {},
   "source": [
    "### Foreground objects mask table"
   ]
  },
  {
   "cell_type": "code",
   "execution_count": null,
   "id": "632e4574",
   "metadata": {},
   "outputs": [],
   "source": [
    "%%time\n",
    "pid = '6627'\n",
    "fore_obj_mask_table = dbm.table_loading(pid,0,None,False,False)\n",
    "#1 - Gaia bright stars; #2 - Yale bright stars; #4 - 2MASS bright stars; #8 - Gaia mid stars; \n",
    "#16 - 2MASS faint stars; #32 - Large nearby galaxy (HyperLEDA catalog); #64 - Globular clusters; #128 - Near the LMC "
   ]
  },
  {
   "cell_type": "markdown",
   "id": "f0322a8a",
   "metadata": {},
   "source": [
    "### Footprint table"
   ]
  },
  {
   "cell_type": "code",
   "execution_count": null,
   "id": "1e777807",
   "metadata": {},
   "outputs": [],
   "source": [
    "%%time\n",
    "pid = '6838'\n",
    "footprint_table = dbm.table_loading(pid,0,None,False,False)\n",
    "\n",
    "ra,dec = hp.pix2ang(nside=4096, ipix=footprint_table['pixel'], lonlat = True, nest = True)\n",
    "ra[ra>180] -= 360\n",
    "\n",
    "footprint_table['ra'] = ra\n",
    "footprint_table['dec'] = dec"
   ]
  },
  {
   "cell_type": "markdown",
   "id": "8d520398",
   "metadata": {},
   "source": [
    "### Depth tables"
   ]
  },
  {
   "cell_type": "code",
   "execution_count": null,
   "id": "12e0ddd8",
   "metadata": {},
   "outputs": [],
   "source": [
    "%%time\n",
    "footprint_table_name = dbm.get_tablelist_from_pid('6838')[0]\n",
    "sorting_column = 'pixel'\n",
    "depth_band = 'z'\n",
    "depth_band_dict = {'i': 0, 'r': 1, 'z': 2}\n",
    "\n",
    "#sn5\n",
    "pid = '6710'\n",
    "depth_table_sn5 = dbm.table_loading(pid, depth_band_dict[depth_band], columns = None, verbose = False,\n",
    "                               footprint_table_name = footprint_table_name, sorting_columns = [sorting_column,sorting_column])\n",
    "\n",
    "ra,dec = hp.pix2ang(nside=4096, ipix=depth_table_sn5['pixel'].astype(int), lonlat = True, nest = True)\n",
    "ra[ra>180] -= 360\n",
    "\n",
    "depth_table_sn5['ra'] = ra\n",
    "depth_table_sn5['dec'] = dec\n",
    "\n",
    "#sn10\n",
    "pid = '6787'\n",
    "depth_table_sn10 = dbm.table_loading(pid, depth_band_dict[depth_band], columns = None, verbose = False,\n",
    "                               footprint_table_name = footprint_table_name, sorting_columns = [sorting_column,sorting_column])\n",
    "\n",
    "ra_2,dec_2 = hp.pix2ang(nside=4096, ipix=depth_table_sn5['pixel'].astype(int), lonlat = True, nest = True)\n",
    "ra_2[ra_2>180] -= 360\n",
    "\n",
    "depth_table_sn10['ra'] = ra_2\n",
    "depth_table_sn10['dec'] = dec_2"
   ]
  },
  {
   "cell_type": "markdown",
   "id": "478949d6",
   "metadata": {},
   "source": [
    "### Effective Area"
   ]
  },
  {
   "cell_type": "code",
   "execution_count": null,
   "id": "29e2f929",
   "metadata": {},
   "outputs": [],
   "source": [
    "%%time\n",
    "nside = 4096\n",
    "steradian_in_degrees = (180./np.pi)**2\n",
    "sky_area = 4*np.pi*steradian_in_degrees   #Area of an sphere measured in degrees^2. Read more on https://www.mathsisfun.com/geometry/steradian.html\n",
    "npixels = hp.nside2npix(nside)            #Númeto de pixeis em um Healpix pixelization scheme => 12.0*(nside)**2.0\n",
    "area_of_each_pixel = sky_area/(npixels)   #In degrees^2.\n",
    "pix_area_arcmin = 3600*area_of_each_pixel\n",
    "\n",
    "pixel_effective_area_dummy = np.ones_like(det_frac_table['pixel'])*pix_area_arcmin\n",
    "pixel_effective_area = pixel_effective_area_dummy*np.array(det_frac_table['signal'])\n",
    "\n",
    "det_frac_table['effective_pixel_area'] = pixel_effective_area"
   ]
  },
  {
   "cell_type": "markdown",
   "id": "ad6b6178",
   "metadata": {},
   "source": [
    "## ***Plots***"
   ]
  },
  {
   "cell_type": "markdown",
   "id": "a1536da9",
   "metadata": {},
   "source": [
    "### Plot Functions"
   ]
  },
  {
   "cell_type": "code",
   "execution_count": null,
   "id": "c29f6273",
   "metadata": {},
   "outputs": [],
   "source": [
    "%reload_ext autoreload\n",
    "def mask_func(signal,mask_dict):\n",
    "    if mask_dict != None:\n",
    "        assert mask_dict['relation'] in ('less','greater','equal'), 'Input key is not a valid string.'\n",
    "        #assert type(signal).__name__ == 'ndarray', 'signal must be an numpy array (ndarray)'\n",
    "\n",
    "        if mask_dict['relation'] == 'less':\n",
    "            mask = signal < mask_dict['value']\n",
    "\n",
    "        elif mask_dict['relation'] == 'greater':\n",
    "            mask = signal > mask_dict['value']\n",
    "\n",
    "        elif mask_dict['relation'] == 'equal':\n",
    "            mask = signal == mask_dict['value']\n",
    "    else:\n",
    "         mask = signal == signal   \n",
    "    return mask\n",
    "\n",
    "def plot_map(ra,dec,signal, verbose = False, map_type = 'cartesian',**kwargs):\n",
    "\n",
    "    ###-------------------------------------------###\n",
    "    #                Key informations               #\n",
    "    ###-------------------------------------------###\n",
    "    \n",
    "    nside = 4096\n",
    "    steradian_in_degrees = (180./np.pi)**2\n",
    "    sky_area = 4*np.pi*steradian_in_degrees   #Area of an sphere measured in degrees^2. Read more on https://www.mathsisfun.com/geometry/steradian.html\n",
    "    npixels = hp.nside2npix(nside)            #Númeto de pixeis em um Healpix pixelization scheme => 12.0*(nside)**2.0\n",
    "    area_of_each_pixel = sky_area/(npixels)   #In degrees^2.\n",
    "    pix_area_arcmin = 3600*area_of_each_pixel #Pixel area in (minutes of degree)².\n",
    "    \n",
    "    if verbose == True:\n",
    "        print('Number of pixels:',npixels,\n",
    "              '\\nSky area:', sky_area,'degrees²',\n",
    "              '\\nArea of each pixel:', area_of_each_pixel, 'degrees²;', pix_area_arcmin,'min^2')\n",
    "    \n",
    "    ###-------------------------------------------###\n",
    "    #                     Mask                      #\n",
    "    ###-------------------------------------------###\n",
    "    mask = mask_func(signal, kwargs['mask_dict'])\n",
    "    \n",
    "    ###-------------------------------------------###\n",
    "    #                     Plot                      #\n",
    "    ###-------------------------------------------###\n",
    "    \n",
    "    if map_type == 'cartesian':\n",
    "        \n",
    "        # Fig config\n",
    "        plt.clf()\n",
    "        fig, ax = plt.subplots(1, figsize = (16,9))\n",
    "        ax.set_facecolor('#696969')\n",
    "    \n",
    "        # To plot\n",
    "        sc = ax.scatter(ra[mask], dec[mask], c = signal[mask],\n",
    "                        vmin = kwargs['vmin'], vmax = kwargs['vmax'], cmap = kwargs['cmap'], \n",
    "                        marker = kwargs['marker'], s=kwargs['marker_size'], linewidths=kwargs['marker_linewidths'])\n",
    "\n",
    "        # Axis Stuff\n",
    "        ax.set_xlim(30,40)\n",
    "        ax.set_ylim(-9,-2)\n",
    "        ax.invert_xaxis()\n",
    "\n",
    "        # Labels\n",
    "        ax.set_xlabel('R.A. (degrees)', fontsize = 16)\n",
    "        ax.set_ylabel('DEC. (degrees)', fontsize = 16)\n",
    "        ax.set_title(kwargs['title'], fontsize = 20, weight='bold')\n",
    "        ax.tick_params(axis='both', which='major', labelsize=16)\n",
    "\n",
    "        # Colorbar\n",
    "        if kwargs['colorbar'] == True:\n",
    "            cbar = fig.colorbar(sc, ax = [ax], location = 'right', pad = 0)\n",
    "            cbar.set_label(kwargs['barlabel'], fontsize = 16, labelpad = 12.0)\n",
    "            cbar.set_ticks(kwargs['setticks'])\n",
    "            cbar.ax.tick_params(labelsize=16)\n",
    "\n",
    "        plt.show()  "
   ]
  },
  {
   "cell_type": "markdown",
   "id": "3d969eb2",
   "metadata": {},
   "source": [
    "### Detection Fraction Map (grizY bands)"
   ]
  },
  {
   "cell_type": "code",
   "execution_count": null,
   "id": "1f7103ac",
   "metadata": {},
   "outputs": [],
   "source": [
    "params = {'title':f\"Detection Fraction Map\",\n",
    "          'barlabel':\"Detection Fraction\",\n",
    "          'vmin':0,\n",
    "          'vmax':1,\n",
    "          'cmap':cm.inferno_r,\n",
    "          'setticks':[0.0, 0.1, 0.2, 0.3, 0.4, 0.5, 0.6, 0.7, 0.8, 0.9, 1.0],\n",
    "          'mask_dict': {'relation': 'greater', 'value':0},\n",
    "          'colorbar': True,\n",
    "          'marker':',',\n",
    "          'marker_size':1.0,\n",
    "          'marker_linewidths':1.0\n",
    "         }\n",
    "\n",
    "plot_map(det_frac_table['ra'], det_frac_table['dec'], det_frac_table['signal'],'cartesian', **params)"
   ]
  },
  {
   "cell_type": "markdown",
   "id": "f7d0a008",
   "metadata": {},
   "source": [
    "### N-images Map (grizY bands)"
   ]
  },
  {
   "cell_type": "code",
   "execution_count": null,
   "id": "24c74c03",
   "metadata": {},
   "outputs": [],
   "source": [
    "params = {'title':f\"N-images Map\",\n",
    "          'barlabel':\"N-images\",\n",
    "          'vmin':0,\n",
    "          'vmax':12,\n",
    "          'cmap':cm.inferno_r,\n",
    "          'setticks':[2,4,6,8,10,12],\n",
    "          'mask_dict': {'relation': 'greater', 'value':1},\n",
    "          'colorbar': True,\n",
    "          'marker':',',\n",
    "          'marker_size':1.0,\n",
    "          'marker_linewidths':1.0\n",
    "         }\n",
    "plot_map(n_images_table['ra'],n_images_table['dec'],n_images_table['signal'],'cartesian', **params)"
   ]
  },
  {
   "cell_type": "markdown",
   "id": "8cea96c8",
   "metadata": {},
   "source": [
    "### Foreground objects mask map"
   ]
  },
  {
   "cell_type": "code",
   "execution_count": null,
   "id": "3f8a8482",
   "metadata": {},
   "outputs": [],
   "source": [
    "params = {'title':f\"Foreground objects mask map\",\n",
    "          'barlabel':\"Bitmap code\",\n",
    "          'vmin':1,\n",
    "          'vmax':60,\n",
    "          'cmap':cm.inferno_r,\n",
    "          'setticks':[0,10,20,30,40,50,60],\n",
    "          'mask_dict': {'relation': 'greater', 'value':0},\n",
    "          'colorbar': True,\n",
    "          'marker':',',\n",
    "          'marker_size':1.0,\n",
    "          'marker_linewidths':1.0\n",
    "         }\n",
    "\n",
    "plot_map(fore_obj_mask_table['ra'],fore_obj_mask_table['dec'],fore_obj_mask_table['signal'],'cartesian', **params)"
   ]
  },
  {
   "cell_type": "markdown",
   "id": "549168ae",
   "metadata": {},
   "source": [
    "### Footprint Map"
   ]
  },
  {
   "cell_type": "code",
   "execution_count": null,
   "id": "741c5f73",
   "metadata": {},
   "outputs": [],
   "source": [
    "params = {'title':f\"Footprint Map\",\n",
    "          'barlabel':\"Signal\",\n",
    "          'vmin':0,\n",
    "          'vmax':2,\n",
    "          'cmap':cm.inferno_r,\n",
    "          'setticks':[0,1,2],\n",
    "          'mask_dict': {'relation': 'greater', 'value':0},\n",
    "          'colorbar': False,\n",
    "          'marker':',',\n",
    "          'marker_size':1.0,\n",
    "          'marker_linewidths':1.0\n",
    "         }\n",
    "\n",
    "plot_map(footprint_table['ra'],footprint_table['dec'], footprint_table['signal'],'cartesian', **params)"
   ]
  },
  {
   "cell_type": "markdown",
   "id": "44d5b218",
   "metadata": {},
   "source": [
    "### Depth Maps"
   ]
  },
  {
   "cell_type": "code",
   "execution_count": null,
   "id": "10de3a2d",
   "metadata": {},
   "outputs": [],
   "source": [
    "params = {'title':f\"Depth Map at 5 sigma in band {depth_band}\",\n",
    "          'barlabel':\"Magnitude\",\n",
    "          'vmin':None,\n",
    "          'vmax':None,\n",
    "          'cmap':cm.inferno_r,\n",
    "          'setticks':None,\n",
    "          'mask_dict': {'relation': 'greater', 'value':21.5},\n",
    "          'colorbar': True,\n",
    "          'marker':',',\n",
    "          'marker_size':1.0,\n",
    "          'marker_linewidths':0.7\n",
    "         }\n",
    "plot_map(depth_table_sn5['ra'],depth_table_sn5['dec'],depth_table_sn5['signal'], **params)"
   ]
  },
  {
   "cell_type": "code",
   "execution_count": null,
   "id": "043588b3",
   "metadata": {},
   "outputs": [],
   "source": [
    "params = {'title':f\"Depth Map at 10 sigma; larger than 21.5 in band {depth_band}\",\n",
    "          'barlabel':\"Magnitude\",\n",
    "          'vmin':None,\n",
    "          'vmax':None,\n",
    "          'cmap':cm.inferno_r,\n",
    "          'setticks':None,\n",
    "          'mask_dict': {'relation': 'greater', 'value': 21.5},\n",
    "          'colorbar': True,\n",
    "          'marker':',',\n",
    "          'marker_size':1.0,\n",
    "          'marker_linewidths':0.7\n",
    "         }\n",
    "plot_map(depth_table_sn10['ra'],depth_table_sn10['dec'],depth_table_sn10['signal'], **params)"
   ]
  },
  {
   "cell_type": "markdown",
   "id": "dccd344c",
   "metadata": {},
   "source": [
    "### Effective area map"
   ]
  },
  {
   "cell_type": "code",
   "execution_count": null,
   "id": "5d8c93bd",
   "metadata": {},
   "outputs": [],
   "source": [
    "params = {'title':f\"Effective area map\",\n",
    "          'barlabel':\"Fraction of pixel area\",\n",
    "          'vmin':None,\n",
    "          'vmax':None,\n",
    "          'cmap':cm.inferno,\n",
    "          'setticks':None,\n",
    "          'mask_dict': None,\n",
    "          'colorbar': True,\n",
    "          'marker':',',\n",
    "          'marker_size':1.0,\n",
    "          'marker_linewidths':0.7\n",
    "         }\n",
    "plot_map(det_frac_table['ra'],det_frac_table['dec'],det_frac_table['effective_pixel_area']/pix_area_arcmin, **params)\n",
    "print('Total footprint area:', len(det_frac_table['effective_pixel_area'])*pix_area_arcmin/3600, 'degrees')\n",
    "print('Effective total area:', np.sum(det_frac_table['effective_pixel_area'])*pix_area_arcmin/3600, 'degrees')"
   ]
  }
 ],
 "metadata": {
  "kernelspec": {
   "display_name": "goenv",
   "language": "python",
   "name": "goenv"
  },
  "language_info": {
   "codemirror_mode": {
    "name": "ipython",
    "version": 3
   },
   "file_extension": ".py",
   "mimetype": "text/x-python",
   "name": "python",
   "nbconvert_exporter": "python",
   "pygments_lexer": "ipython3",
   "version": "3.8.5"
  }
 },
 "nbformat": 4,
 "nbformat_minor": 5
}
