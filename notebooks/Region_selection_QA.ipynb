{
 "cells": [
  {
   "cell_type": "markdown",
   "metadata": {},
   "source": [
    "# ***QA-VAC NOTEBOOK - Region Selection Plots***\n",
    "\n",
    "Author: Gabriel Luan Souza de Oliveira.\n",
    "\n",
    "Last update: 16/03/2022."
   ]
  },
  {
   "cell_type": "markdown",
   "metadata": {},
   "source": [
    "## ***Imported Modules***"
   ]
  },
  {
   "cell_type": "code",
   "execution_count": null,
   "metadata": {},
   "outputs": [],
   "source": [
    "%load_ext autoreload\n",
    "%autoreload 2\n",
    "\n",
    "import numpy as np\n",
    "import matplotlib.pyplot as plt\n",
    "from matplotlib.pyplot import cm\n",
    "from astropy.table import Table\n",
    "import healpy as hp\n",
    "import copy\n",
    "from gavodb import DBManager"
   ]
  },
  {
   "cell_type": "markdown",
   "metadata": {},
   "source": [
    "## ***Loading Data***"
   ]
  },
  {
   "cell_type": "markdown",
   "metadata": {},
   "source": [
    "### Loading Function"
   ]
  },
  {
   "cell_type": "code",
   "execution_count": null,
   "metadata": {},
   "outputs": [],
   "source": [
    "%reload_ext autoreload\n",
    "def table_loading(pid, ntable, columns = None, limit = False,verbose = False,\n",
    "                  indexs = None, column_indexs_name = None, footprint_table_name = None, sorting_column = None):\n",
    "    ''' Assign a table from a especific process to a variable using DBManager from gavodb.py. \n",
    "        The rows and columns of the table can be altered according to the args options.\n",
    "    \n",
    "    Args:\n",
    "    -----\n",
    "        pid (int): process id on DES Science Portal.\n",
    "        ntable (int): each process id can contain more than one table associated. So you can choose what you want.\n",
    "        columns (string array or None): the columns to add to the table. If None, all columns will be added to the table.\n",
    "        limit (integer or False): number of rows to add to the table. If False, all rows will be added.\n",
    "        verbose (bool): Print some infos.\n",
    "        \n",
    "        indexs (array): array with values from \"column_indexs_name\" column that are desired to be select. It's very slow for big arrays.\n",
    "        column_indexs_name (str): the name of the column that you want to use to select rows with \"indexs\" values.\n",
    "        - None for both this args gives the complete table.\n",
    "        \n",
    "        footprint_table_name (str): name of the footprint table used for select rows of the table.\n",
    "        sorting_column (str): name of the commom column for both table and footprint table utilized to select rows.\n",
    "    \n",
    "    Returns:\n",
    "        table_cool (astropy table): the desired table.\n",
    "    \n",
    "    Obs: \n",
    "    ----\n",
    "        Make sure that gavodb contains gabolv_features in the end of the script.\n",
    "    '''\n",
    "    dbm = DBManager()\n",
    "    pid_tables = dbm.get_tablelist_from_pid(pid)\n",
    "    table_name = dbm.get_tablelist_from_pid(pid)[int(ntable)]\n",
    "    \n",
    "    if columns == None: columns = dbm.get_db_table_columns_names(table_name)\n",
    "        \n",
    "    table = dbm.get_db_table_new(table_name, columns, \n",
    "                                 limit = limit, indexs = indexs, column_indexs_name = column_indexs_name,\n",
    "                                 footprint_table_name = footprint_table_name, sorting_column = sorting_column)\n",
    "    \n",
    "    table_cool = Table(rows=table.T, names=columns)\n",
    "\n",
    "    if verbose == True:\n",
    "        print(f'Tables in pid {pid}:', pid_tables)\n",
    "        print(f'\\nTable chosen:',table_name)\n",
    "        print(f'\\nColumns of table {table_name}: = ', columns,'\\n')\n",
    "        print(table_cool)\n",
    "        print('\\nDone!')\n",
    "    \n",
    "    return table_cool"
   ]
  },
  {
   "cell_type": "markdown",
   "metadata": {},
   "source": [
    "### Detection fraction table"
   ]
  },
  {
   "cell_type": "code",
   "execution_count": null,
   "metadata": {},
   "outputs": [],
   "source": [
    "%%time\n",
    "pids = ['6617', '6618', '6619', '6620', '6621'] # grizY bands\n",
    "det_frac_table = table_loading(pids[2],0,None,False,False)"
   ]
  },
  {
   "cell_type": "markdown",
   "metadata": {},
   "source": [
    "### N-images table"
   ]
  },
  {
   "cell_type": "code",
   "execution_count": null,
   "metadata": {},
   "outputs": [],
   "source": [
    "%%time\n",
    "pids = ['6622', '6623', '6624', '6625', '6626'] # grizY bands\n",
    "n_images_table = table_loading(pids[2],0,None,False, False)"
   ]
  },
  {
   "cell_type": "markdown",
   "metadata": {},
   "source": [
    "### Foreground objects mask table"
   ]
  },
  {
   "cell_type": "code",
   "execution_count": null,
   "metadata": {},
   "outputs": [],
   "source": [
    "%%time\n",
    "pid = '6627'\n",
    "fore_obj_mask_table = table_loading(pid,0,None,False,False)\n",
    "#1 - Gaia bright stars; #2 - Yale bright stars; #4 - 2MASS bright stars; #8 - Gaia mid stars; \n",
    "#16 - 2MASS faint stars; #32 - Large nearby galaxy (HyperLEDA catalog); #64 - Globular clusters; #128 - Near the LMC "
   ]
  },
  {
   "cell_type": "markdown",
   "metadata": {},
   "source": [
    "### Footprint table"
   ]
  },
  {
   "cell_type": "code",
   "execution_count": null,
   "metadata": {},
   "outputs": [],
   "source": [
    "%%time\n",
    "pid = '6838'\n",
    "footprint_table = table_loading(pid,0,None,False,False)\n",
    "\n",
    "ra,dec = hp.pix2ang(nside=4096, ipix=footprint_table['pixel'], lonlat = True, nest = True)\n",
    "ra[ra>180] -= 360\n",
    "\n",
    "footprint_table['ra'] = ra\n",
    "footprint_table['dec'] = dec"
   ]
  },
  {
   "cell_type": "markdown",
   "metadata": {},
   "source": [
    "### Depth tables"
   ]
  },
  {
   "cell_type": "code",
   "execution_count": null,
   "metadata": {},
   "outputs": [],
   "source": [
    "%%time\n",
    "dbm = DBManager()\n",
    "footprint_table_name = dbm.get_tablelist_from_pid('6838')[0]\n",
    "sorting_column = 'pixel'\n",
    "depth_band = 'z'\n",
    "depth_band_dict = {'i': 0, 'r': 1, 'z': 2}\n",
    "\n",
    "#sn5\n",
    "pid = '6710'\n",
    "depth_table_sn5 = table_loading(pid, depth_band_dict[depth_band], columns = None, verbose = False,\n",
    "                               footprint_table_name = footprint_table_name, sorting_column = sorting_column)\n",
    "\n",
    "ra,dec = hp.pix2ang(nside=4096, ipix=depth_table_sn5['pixel'].astype(int), lonlat = True, nest = True)\n",
    "ra[ra>180] -= 360\n",
    "\n",
    "depth_table_sn5['ra'] = ra\n",
    "depth_table_sn5['dec'] = dec\n",
    "\n",
    "#sn10\n",
    "pid = '6787'\n",
    "depth_table_sn10 = table_loading(pid, depth_band_dict[depth_band], columns = None, verbose = False,\n",
    "                               footprint_table_name = footprint_table_name, sorting_column = sorting_column)\n",
    "\n",
    "ra_2,dec_2 = hp.pix2ang(nside=4096, ipix=depth_table_sn5['pixel'].astype(int), lonlat = True, nest = True)\n",
    "ra_2[ra_2>180] -= 360\n",
    "\n",
    "depth_table_sn10['ra'] = ra_2\n",
    "depth_table_sn10['dec'] = dec_2"
   ]
  },
  {
   "cell_type": "markdown",
   "metadata": {},
   "source": [
    "### Effective Area"
   ]
  },
  {
   "cell_type": "code",
   "execution_count": null,
   "metadata": {},
   "outputs": [],
   "source": [
    "%%time\n",
    "nside = 4096\n",
    "steradian_in_degrees = (180./np.pi)**2\n",
    "sky_area = 4*np.pi*steradian_in_degrees   #Area of an sphere measured in degrees^2. Read more on https://www.mathsisfun.com/geometry/steradian.html\n",
    "npixels = hp.nside2npix(nside)            #Númeto de pixeis em um Healpix pixelization scheme => 12.0*(nside)**2.0\n",
    "area_of_each_pixel = sky_area/(npixels)   #In degrees^2.\n",
    "pix_area_arcmin = 3600*area_of_each_pixel\n",
    "\n",
    "pixel_effective_area_dummy = np.ones_like(det_frac_table['pixel'])*pix_area_arcmin\n",
    "pixel_effective_area = pixel_effective_area_dummy*np.array(det_frac_table['signal'])\n",
    "\n",
    "det_frac_table['effective_pixel_area'] = pixel_effective_area"
   ]
  },
  {
   "cell_type": "markdown",
   "metadata": {},
   "source": [
    "## ***Plots***"
   ]
  },
  {
   "cell_type": "markdown",
   "metadata": {},
   "source": [
    "### Plot Functions"
   ]
  },
  {
   "cell_type": "code",
   "execution_count": null,
   "metadata": {},
   "outputs": [],
   "source": [
    "%reload_ext autoreload\n",
    "def mask_func(signal,mask_dict):\n",
    "    if mask_dict != None:\n",
    "        assert mask_dict['relation'] in ('less','greater','equal'), 'Input key is not a valid string.'\n",
    "        #assert type(signal).__name__ == 'ndarray', 'signal must be an numpy array (ndarray)'\n",
    "\n",
    "        if mask_dict['relation'] == 'less':\n",
    "            mask = signal < mask_dict['value']\n",
    "\n",
    "        elif mask_dict['relation'] == 'greater':\n",
    "            mask = signal > mask_dict['value']\n",
    "\n",
    "        elif mask_dict['relation'] == 'equal':\n",
    "            mask = signal == mask_dict['value']\n",
    "    else:\n",
    "         mask = signal == signal   \n",
    "    return mask\n",
    "\n",
    "def plot_map(ra,dec,signal, verbose = False, map_type = 'cartesian',**kwargs):\n",
    "\n",
    "    ###-------------------------------------------###\n",
    "    #                Key informations               #\n",
    "    ###-------------------------------------------###\n",
    "    \n",
    "    nside = 4096\n",
    "    steradian_in_degrees = (180./np.pi)**2\n",
    "    sky_area = 4*np.pi*steradian_in_degrees   #Area of an sphere measured in degrees^2. Read more on https://www.mathsisfun.com/geometry/steradian.html\n",
    "    npixels = hp.nside2npix(nside)            #Númeto de pixeis em um Healpix pixelization scheme => 12.0*(nside)**2.0\n",
    "    area_of_each_pixel = sky_area/(npixels)   #In degrees^2.\n",
    "    pix_area_arcmin = 3600*area_of_each_pixel #Pixel area in (minutes of degree)².\n",
    "    \n",
    "    if verbose == True:\n",
    "        print('Number of pixels:',npixels,\n",
    "              '\\nSky area:', sky_area,'degrees²',\n",
    "              '\\nArea of each pixel:', area_of_each_pixel, 'degrees²;', pix_area_arcmin,'min^2')\n",
    "    \n",
    "    ###-------------------------------------------###\n",
    "    #                     Mask                      #\n",
    "    ###-------------------------------------------###\n",
    "    mask = mask_func(signal, kwargs['mask_dict'])\n",
    "    \n",
    "    ###-------------------------------------------###\n",
    "    #                     Plot                      #\n",
    "    ###-------------------------------------------###\n",
    "    \n",
    "    if map_type == 'cartesian':\n",
    "        \n",
    "        # Fig config\n",
    "        plt.clf()\n",
    "        fig, ax = plt.subplots(1, figsize = (16,9))\n",
    "        ax.set_facecolor('#696969')\n",
    "    \n",
    "        # To plot\n",
    "        sc = ax.scatter(ra[mask], dec[mask], c = signal[mask],\n",
    "                        vmin = kwargs['vmin'], vmax = kwargs['vmax'], cmap = kwargs['cmap'], \n",
    "                        marker = kwargs['marker'], s=kwargs['marker_size'], linewidths=kwargs['marker_linewidths'])\n",
    "\n",
    "        # Axis Stuff\n",
    "        ax.set_xlim(30,40)\n",
    "        ax.set_ylim(-9,-2)\n",
    "        ax.invert_xaxis()\n",
    "\n",
    "        # Labels\n",
    "        ax.set_xlabel('R.A. (degrees)', fontsize = 16)\n",
    "        ax.set_ylabel('DEC. (degrees)', fontsize = 16)\n",
    "        ax.set_title(kwargs['title'], fontsize = 20, weight='bold')\n",
    "        ax.tick_params(axis='both', which='major', labelsize=16)\n",
    "\n",
    "        # Colorbar\n",
    "        if kwargs['colorbar'] == True:\n",
    "            cbar = fig.colorbar(sc, ax = [ax], location = 'right', pad = 0)\n",
    "            cbar.set_label(kwargs['barlabel'], fontsize = 16, labelpad = 12.0)\n",
    "            cbar.set_ticks(kwargs['setticks'])\n",
    "            cbar.ax.tick_params(labelsize=16)\n",
    "\n",
    "        plt.show()  "
   ]
  },
  {
   "cell_type": "markdown",
   "metadata": {},
   "source": [
    "### Detection Fraction Map (grizY bands)"
   ]
  },
  {
   "cell_type": "code",
   "execution_count": null,
   "metadata": {},
   "outputs": [],
   "source": [
    "params = {'title':f\"Detection Fraction Map\",\n",
    "          'barlabel':\"Detection Fraction\",\n",
    "          'vmin':0,\n",
    "          'vmax':1,\n",
    "          'cmap':cm.inferno_r,\n",
    "          'setticks':[0.0, 0.1, 0.2, 0.3, 0.4, 0.5, 0.6, 0.7, 0.8, 0.9, 1.0],\n",
    "          'mask_dict': {'relation': 'greater', 'value':0},\n",
    "          'colorbar': True,\n",
    "          'marker':',',\n",
    "          'marker_size':1.0,\n",
    "          'marker_linewidths':1.0\n",
    "         }\n",
    "\n",
    "plot_map(det_frac_table['ra'], det_frac_table['dec'], det_frac_table['signal'],'cartesian', **params)"
   ]
  },
  {
   "cell_type": "markdown",
   "metadata": {},
   "source": [
    "### N-images Map (grizY bands)"
   ]
  },
  {
   "cell_type": "code",
   "execution_count": null,
   "metadata": {},
   "outputs": [],
   "source": [
    "params = {'title':f\"N-images Map\",\n",
    "          'barlabel':\"N-images\",\n",
    "          'vmin':0,\n",
    "          'vmax':12,\n",
    "          'cmap':cm.inferno_r,\n",
    "          'setticks':[2,4,6,8,10,12],\n",
    "          'mask_dict': {'relation': 'greater', 'value':1},\n",
    "          'colorbar': True,\n",
    "          'marker':',',\n",
    "          'marker_size':1.0,\n",
    "          'marker_linewidths':1.0\n",
    "         }\n",
    "plot_map(n_images_table['ra'],n_images_table['dec'],n_images_table['signal'],'cartesian', **params)"
   ]
  },
  {
   "cell_type": "markdown",
   "metadata": {},
   "source": [
    "### Foreground objects mask map"
   ]
  },
  {
   "cell_type": "code",
   "execution_count": null,
   "metadata": {},
   "outputs": [],
   "source": [
    "params = {'title':f\"Foreground objects mask map\",\n",
    "          'barlabel':\"Bitmap code\",\n",
    "          'vmin':1,\n",
    "          'vmax':60,\n",
    "          'cmap':cm.inferno_r,\n",
    "          'setticks':[0,10,20,30,40,50,60],\n",
    "          'mask_dict': {'relation': 'greater', 'value':0},\n",
    "          'colorbar': True,\n",
    "          'marker':',',\n",
    "          'marker_size':1.0,\n",
    "          'marker_linewidths':1.0\n",
    "         }\n",
    "\n",
    "plot_map(fore_obj_mask_table['ra'],fore_obj_mask_table['dec'],fore_obj_mask_table['signal'],'cartesian', **params)"
   ]
  },
  {
   "cell_type": "markdown",
   "metadata": {},
   "source": [
    "### Footprint Map"
   ]
  },
  {
   "cell_type": "code",
   "execution_count": null,
   "metadata": {},
   "outputs": [],
   "source": [
    "params = {'title':f\"Footprint Map\",\n",
    "          'barlabel':\"Signal\",\n",
    "          'vmin':0,\n",
    "          'vmax':2,\n",
    "          'cmap':cm.inferno_r,\n",
    "          'setticks':[0,1,2],\n",
    "          'mask_dict': {'relation': 'greater', 'value':0},\n",
    "          'colorbar': False,\n",
    "          'marker':',',\n",
    "          'marker_size':1.0,\n",
    "          'marker_linewidths':1.0\n",
    "         }\n",
    "\n",
    "plot_map(footprint_table['ra'],footprint_table['dec'], footprint_table['signal'],'cartesian', **params)"
   ]
  },
  {
   "cell_type": "markdown",
   "metadata": {},
   "source": [
    "### Depth Maps"
   ]
  },
  {
   "cell_type": "code",
   "execution_count": null,
   "metadata": {},
   "outputs": [],
   "source": [
    "params = {'title':f\"Depth Map at 5 sigma in band {depth_band}\",\n",
    "          'barlabel':\"Magnitude\",\n",
    "          'vmin':None,\n",
    "          'vmax':None,\n",
    "          'cmap':cm.inferno_r,\n",
    "          'setticks':None,\n",
    "          'mask_dict': {'relation': 'greater', 'value':21.5},\n",
    "          'colorbar': True,\n",
    "          'marker':',',\n",
    "          'marker_size':1.0,\n",
    "          'marker_linewidths':0.7\n",
    "         }\n",
    "plot_map(depth_table_sn5['ra'],depth_table_sn5['dec'],depth_table_sn5['signal'], **params)"
   ]
  },
  {
   "cell_type": "code",
   "execution_count": null,
   "metadata": {},
   "outputs": [],
   "source": [
    "params = {'title':f\"Depth Map at 10 sigma; larger than 21.5 in band {depth_band}\",\n",
    "          'barlabel':\"Magnitude\",\n",
    "          'vmin':None,\n",
    "          'vmax':None,\n",
    "          'cmap':cm.inferno_r,\n",
    "          'setticks':None,\n",
    "          'mask_dict': {'relation': 'greater', 'value': 21.5},\n",
    "          'colorbar': True,\n",
    "          'marker':',',\n",
    "          'marker_size':1.0,\n",
    "          'marker_linewidths':0.7\n",
    "         }\n",
    "plot_map(depth_table_sn10['ra'],depth_table_sn10['dec'],depth_table_sn10['signal'], **params)"
   ]
  },
  {
   "cell_type": "markdown",
   "metadata": {},
   "source": [
    "### Effective area map"
   ]
  },
  {
   "cell_type": "code",
   "execution_count": null,
   "metadata": {},
   "outputs": [],
   "source": [
    "params = {'title':f\"Effective area map\",\n",
    "          'barlabel':\"Fraction of pixel area\",\n",
    "          'vmin':None,\n",
    "          'vmax':None,\n",
    "          'cmap':cm.inferno,\n",
    "          'setticks':None,\n",
    "          'mask_dict': None,\n",
    "          'colorbar': True,\n",
    "          'marker':',',\n",
    "          'marker_size':1.0,\n",
    "          'marker_linewidths':0.7\n",
    "         }\n",
    "plot_map(det_frac_table['ra'],det_frac_table['dec'],det_frac_table['effective_pixel_area']/pix_area_arcmin, **params)\n",
    "print('Total footprint area:', len(det_frac_table['effective_pixel_area'])*pix_area_arcmin/3600, 'degrees')\n",
    "print('Effective total area:', np.sum(det_frac_table['effective_pixel_area'])*pix_area_arcmin/3600, 'degrees')"
   ]
  }
 ],
 "metadata": {
  "kernelspec": {
   "display_name": "Python 3",
   "language": "python",
   "name": "python3"
  },
  "language_info": {
   "codemirror_mode": {
    "name": "ipython",
    "version": 3
   },
   "file_extension": ".py",
   "mimetype": "text/x-python",
   "name": "python",
   "nbconvert_exporter": "python",
   "pygments_lexer": "ipython3",
   "version": "3.6.8"
  }
 },
 "nbformat": 4,
 "nbformat_minor": 5
}
