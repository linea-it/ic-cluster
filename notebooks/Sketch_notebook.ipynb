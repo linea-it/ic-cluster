{
 "cells": [
  {
   "cell_type": "markdown",
   "metadata": {},
   "source": [
    "# ***Sketch Notebook***\n",
    "\n",
    "An notebook to just take notes about coding.\n",
    "\n",
    "Author: Gabriel Luan Souza de Oliveira.\n",
    "\n",
    "Last update: 16/03/2022."
   ]
  },
  {
   "cell_type": "markdown",
   "metadata": {},
   "source": [
    "### How to select rows from a table using other table in SQL."
   ]
  },
  {
   "cell_type": "markdown",
   "metadata": {},
   "source": [
    "`SELECT a.pixel,`\n",
    "\n",
    "`1 AS signal`\n",
    "\n",
    "`FROM vac_cluster.systematic_maps_n_images_g_6764 a`\n",
    "\n",
    "`INNER JOIN vac_cluster.systematic_maps_n_images_r_6764 b ON a.pixel= b.pixel`\n",
    "\n",
    "`INNER JOIN vac_cluster.systematic_maps_n_images_i_6764 c ON a.pixel= c.pixel`\n",
    "\n",
    "`INNER JOIN vac_cluster.systematic_maps_n_images_z_6764 d ON a.pixel= d.pixel`"
   ]
  },
  {
   "cell_type": "markdown",
   "metadata": {},
   "source": [
    "### How to get today data."
   ]
  },
  {
   "cell_type": "code",
   "execution_count": 1,
   "metadata": {},
   "outputs": [
    {
     "name": "stdout",
     "output_type": "stream",
     "text": [
      "Today's date: 16/03/2022 06:21:29\n"
     ]
    }
   ],
   "source": [
    "from datetime import datetime\n",
    "today = datetime.today()\n",
    "print(\"Today's date:\", today.strftime(\"%d/%m/%Y %H:%M:%S\"))"
   ]
  },
  {
   "cell_type": "markdown",
   "metadata": {},
   "source": [
    "### Loading Function"
   ]
  },
  {
   "cell_type": "code",
   "execution_count": null,
   "metadata": {},
   "outputs": [],
   "source": [
    "%reload_ext autoreload\n",
    "def table_loading(pid, ntable, columns = None, limit = False,verbose = False,\n",
    "                  indexs = None, column_indexs_name = None, footprint_table_name = None, sorting_column = None):\n",
    "    ''' Assign a table from a especific process to a variable using DBManager from gavodb.py. \n",
    "        The rows and columns of the table can be altered according to the args options.\n",
    "    \n",
    "    Args:\n",
    "    -----\n",
    "        pid (int): process id on DES Science Portal.\n",
    "        ntable (int): each process id can contain more than one table associated. So you can choose what you want.\n",
    "        columns (string array or None): the columns to add to the table. If None, all columns will be added to the table.\n",
    "        limit (integer or False): number of rows to add to the table. If False, all rows will be added.\n",
    "        verbose (bool): Print some infos.\n",
    "        \n",
    "        indexs (array): array with values from \"column_indexs_name\" column that are desired to be select. It's very slow for big arrays.\n",
    "        column_indexs_name (str): the name of the column that you want to use to select rows with \"indexs\" values.\n",
    "        - None for both this args gives the complete table.\n",
    "        \n",
    "        footprint_table_name (str): name of the footprint table used for select rows of the table.\n",
    "        sorting_column (str): name of the commom column for both table and footprint table utilized to select rows.\n",
    "    \n",
    "    Returns:\n",
    "        table_cool (astropy table): the desired table.\n",
    "    \n",
    "    Obs: \n",
    "    ----\n",
    "        Make sure that gavodb contains gabolv_features in the end of the script.\n",
    "    '''\n",
    "    dbm = DBManager()\n",
    "    pid_tables = dbm.get_tablelist_from_pid(pid)\n",
    "    table_name = dbm.get_tablelist_from_pid(pid)[int(ntable)]\n",
    "    \n",
    "    if columns == None: columns = dbm.get_db_table_columns_names(table_name)\n",
    "        \n",
    "    table = dbm.get_db_table_new(table_name, columns, \n",
    "                                 limit = limit, indexs = indexs, column_indexs_name = column_indexs_name,\n",
    "                                 footprint_table_name = footprint_table_name, sorting_column = sorting_column)\n",
    "    \n",
    "    table_cool = Table(rows=table.T, names=columns)\n",
    "\n",
    "    if verbose == True:\n",
    "        print(f'Tables in pid {pid}:', pid_tables)\n",
    "        print(f'\\nTable chosen:',table_name)\n",
    "        print(f'\\nColumns of table {table_name}: = ', columns,'\\n')\n",
    "        print(table_cool)\n",
    "        print('\\nDone!')\n",
    "    \n",
    "    return table_cool"
   ]
  }
 ],
 "metadata": {
  "kernelspec": {
   "display_name": "Python 3",
   "language": "python",
   "name": "python3"
  },
  "language_info": {
   "codemirror_mode": {
    "name": "ipython",
    "version": 3
   },
   "file_extension": ".py",
   "mimetype": "text/x-python",
   "name": "python",
   "nbconvert_exporter": "python",
   "pygments_lexer": "ipython3",
   "version": "3.6.8"
  }
 },
 "nbformat": 4,
 "nbformat_minor": 2
}
