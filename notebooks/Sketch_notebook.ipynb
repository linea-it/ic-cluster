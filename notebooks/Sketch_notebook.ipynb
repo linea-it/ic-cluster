{
 "cells": [
  {
   "cell_type": "markdown",
   "metadata": {},
   "source": [
    "# ***Sketch Notebook***\n",
    "\n",
    "An notebook to just take notes about coding.\n",
    "\n",
    "Author: Gabriel Luan Souza de Oliveira.\n",
    "\n",
    "Last update: 16/03/2022."
   ]
  },
  {
   "cell_type": "markdown",
   "metadata": {},
   "source": [
    "### How to select rows from a table using other table in SQL."
   ]
  },
  {
   "cell_type": "markdown",
   "metadata": {},
   "source": [
    "`SELECT a.pixel,`\n",
    "\n",
    "`1 AS signal`\n",
    "\n",
    "`FROM vac_cluster.systematic_maps_n_images_g_6764 a`\n",
    "\n",
    "`INNER JOIN vac_cluster.systematic_maps_n_images_r_6764 b ON a.pixel= b.pixel`\n",
    "\n",
    "`INNER JOIN vac_cluster.systematic_maps_n_images_i_6764 c ON a.pixel= c.pixel`\n",
    "\n",
    "`INNER JOIN vac_cluster.systematic_maps_n_images_z_6764 d ON a.pixel= d.pixel`"
   ]
  }
 ],
 "metadata": {
  "kernelspec": {
   "display_name": "Python 3",
   "language": "python",
   "name": "python3"
  },
  "language_info": {
   "codemirror_mode": {
    "name": "ipython",
    "version": 3
   },
   "file_extension": ".py",
   "mimetype": "text/x-python",
   "name": "python",
   "nbconvert_exporter": "python",
   "pygments_lexer": "ipython3",
   "version": "3.6.8"
  }
 },
 "nbformat": 4,
 "nbformat_minor": 2
}
