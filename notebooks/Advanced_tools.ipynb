{
 "cells": [
  {
   "cell_type": "markdown",
   "id": "3262f9be",
   "metadata": {},
   "source": [
    "# ***Advanced tools for large datasets***\n",
    "#### Author: Gabriel Luan Souza de Oliveira\n",
    "\n",
    "#### Last update: 15/02/2022 23:22:00"
   ]
  },
  {
   "cell_type": "markdown",
   "id": "255726ec",
   "metadata": {},
   "source": [
    "## ***For local installation***:\n",
    "A useful commmand to avoid any import problems (like circular imports) with holoviews, bokh and datashader, use this command on your terminal:\n",
    "\n",
    "`pip install holoviews[all]`"
   ]
  },
  {
   "cell_type": "markdown",
   "id": "1e51a61f",
   "metadata": {},
   "source": [
    "## ***For jupyterhub installation***:\n",
    "Every time systems crash and your spawn is erased, you have to re-upgrade packages. To do this, just type the commmands below in the terminal:\n",
    "\n",
    "`pip install --upgrade holoviews[all]`"
   ]
  },
  {
   "cell_type": "markdown",
   "id": "de9c8c9d",
   "metadata": {},
   "source": [
    "## ***True Documentation***:\n",
    "https://holoviews.org/Reference_Manual/index.html"
   ]
  },
  {
   "cell_type": "code",
   "execution_count": null,
   "id": "e2a4347a",
   "metadata": {},
   "outputs": [],
   "source": [
    "import numpy as np\n",
    "import healpy as hp\n",
    "from astropy.table import Table\n",
    "import bokeh\n",
    "from bokeh.io import output_notebook, show\n",
    "import holoviews as hv\n",
    "from holoviews import streams, opts\n",
    "from holoviews.operation.datashader import datashade, shade, dynspread, spread, rasterize\n",
    "import inspect\n",
    "hv.extension('bokeh')\n",
    "output_notebook()\n",
    "from gavodb import DBManager"
   ]
  },
  {
   "cell_type": "markdown",
   "id": "79a741f3",
   "metadata": {},
   "source": [
    "## ***Sky and pixels initial information***:"
   ]
  },
  {
   "cell_type": "code",
   "execution_count": null,
   "id": "f96d9c0a",
   "metadata": {},
   "outputs": [],
   "source": [
    "nside=4096\n",
    "steradian_in_degrees = (180./np.pi)**2\n",
    "sky_area = 4*np.pi*steradian_in_degrees   #Area of an sphere measured in degrees^2. Read more on https://www.mathsisfun.com/geometry/steradian.html\n",
    "npixels = hp.nside2npix(nside)            #Númeto de pixeis em um Healpix pixelization scheme => 12.0*(nside)**2.0\n",
    "area_of_each_pixel = sky_area/(npixels)   #In degrees^2.\n",
    "pix_area_arcmin = 3600*area_of_each_pixel #Pixel area in (minutes of degree)²."
   ]
  },
  {
   "cell_type": "markdown",
   "id": "c67f4f3c",
   "metadata": {},
   "source": [
    "# ***Loading catalog***"
   ]
  },
  {
   "cell_type": "markdown",
   "id": "e1acb3e4",
   "metadata": {},
   "source": [
    "### Calling DBManager"
   ]
  },
  {
   "cell_type": "code",
   "execution_count": null,
   "id": "94aa17af",
   "metadata": {},
   "outputs": [],
   "source": [
    "dbm = DBManager()"
   ]
  },
  {
   "cell_type": "code",
   "execution_count": null,
   "id": "e4c6f964",
   "metadata": {},
   "outputs": [],
   "source": [
    "%%time\n",
    "catalog = dbm.table_loading('6838',1,['hpix_4096', 'ra', 'dec', 'z_best', 'err_z'],False,False)\n",
    "#catalog.write('catalog', format='csv')"
   ]
  },
  {
   "cell_type": "code",
   "execution_count": null,
   "id": "925c7801",
   "metadata": {},
   "outputs": [],
   "source": [
    "def loading_catalog(catalog, seed, p_0):\n",
    "    np.random.seed(seed)\n",
    "    random_indexs = np.random.choice(2, size=len(catalog), p=[p_0,1-p_0]).astype('bool')\n",
    "    catalog_reduced = catalog[random_indexs]\n",
    "    \n",
    "    del catalog\n",
    "    \n",
    "    return catalog_reduced\n",
    "\n",
    "seed = 1024\n",
    "p_0 = 0.99\n",
    "\n",
    "#catalog_complete = loading_catalog(catalog, seed, 0)\n",
    "catalog_reduced  = loading_catalog(catalog, seed, 0.99)\n",
    "#print(f'Length of catalog_complete: {len(catalog_complete)} rows.')\n",
    "print(f'Length of catalog_reduced: {len(catalog_reduced)} rows.')"
   ]
  },
  {
   "cell_type": "markdown",
   "id": "1f0714cd",
   "metadata": {},
   "source": [
    "# Object density map"
   ]
  },
  {
   "cell_type": "markdown",
   "id": "63f53635",
   "metadata": {},
   "source": [
    "## Option dicts"
   ]
  },
  {
   "cell_type": "code",
   "execution_count": null,
   "id": "82ce602c",
   "metadata": {},
   "outputs": [],
   "source": [
    "#hv.help(hv.Points)\n",
    "point_options = {'title': 'Object count map',\n",
    "                'toolbar':'right',\n",
    "                'color':'z_best',\n",
    "                'cmap': 'hot',\n",
    "                'marker': 'o',\n",
    "                'size':0.5,\n",
    "                'xlabel':'R.A.(degrees)',\n",
    "                'ylabel': 'DEC. (degrees)',\n",
    "                'bgcolor': '#f7f7f7',\n",
    "                'colorbar': True,\n",
    "                'clabel': 'N° of objects per pixel',\n",
    "                'logz': False,\n",
    "                }\n",
    "\n",
    "rasterize_options = {'title': 'Object density map',\n",
    "                    'toolbar':'right',\n",
    "                    'xlabel':'R.A.(degrees)',\n",
    "                    'ylabel': 'DEC. (degrees)',\n",
    "                    'bgcolor': '#f7f7f7',\n",
    "                    'colorbar': True,\n",
    "                   }\n",
    "\n",
    "datashade_options = {'title': 'Object density map',\n",
    "                    'toolbar':'right',\n",
    "                    'xlabel':'R.A.(degrees)',\n",
    "                    'ylabel': 'DEC. (degrees)',\n",
    "                    'bgcolor': '#f7f7f7',\n",
    "                    \n",
    "                   }\n",
    "#hv.help(rasterize)"
   ]
  },
  {
   "cell_type": "markdown",
   "id": "f9db63b1",
   "metadata": {},
   "source": [
    "## Count"
   ]
  },
  {
   "cell_type": "code",
   "execution_count": null,
   "id": "fc6b3bce",
   "metadata": {},
   "outputs": [],
   "source": [
    "def count(catalog):\n",
    "    count_table = Table()\n",
    "    count_table['pixels'] = np.unique(catalog['hpix_4096'].astype('int'))\n",
    "\n",
    "    count = np.bincount(catalog['hpix_4096'].astype('int'))\n",
    "    n_obj = np.array([count[each] for each in count_table['pixels']])\n",
    "\n",
    "\n",
    "    ra,dec = hp.pix2ang(nside=4096, ipix=count_table['pixels'], lonlat = True, nest = True)\n",
    "    ra[ra>180] -= 360\n",
    "\n",
    "    count_table['ra'] = ra\n",
    "    count_table['dec'] = dec\n",
    "    count_table['n_obj'] = n_obj\n",
    "    \n",
    "    return count_table\n",
    "\n",
    "#print(count(catalog_reduced))"
   ]
  },
  {
   "cell_type": "markdown",
   "id": "61684d8c",
   "metadata": {},
   "source": [
    "## Point plot"
   ]
  },
  {
   "cell_type": "code",
   "execution_count": null,
   "id": "a6d43220",
   "metadata": {},
   "outputs": [],
   "source": [
    "hv.output(size=150)\n",
    "catalog_reduced = loading_catalog(catalog, seed, 0.9)\n",
    "#count_table = count(catalog_reduced)\n",
    "#data_points = zip(count_table['ra'], count_table['dec'], count_table['n_obj'])\n",
    "#points = hv.Points(data_points, vdims = ['N° of objects per pixel'])\n",
    "\n",
    "print('Observações sobre hv.Points:\\n\\n'\\\n",
    "       '- Sem contagem de objetos manual não é possível fazer o mapa de densidades, apenas plota pontinhos\\n'\\\n",
    "       '- Pontos mantém o mesmo tamanho (que pode ser escolhido), independentemente do zoom aplicado.\\n'\\\n",
    "       '- Permite fazer um histograma de praxe.\\n'\\\n",
    "       '- Não consegue rodar para grande quantidade de pontos a menos que seu computador tenha 128 Gb de RAM\\n'\\\n",
    "       '  e você use apenas uma aba aberta no Chrome \\U0001F605.')\n",
    "#points.opts(**point_options).hist(bins = 'fd')\n",
    "data_points = zip(catalog_reduced['ra'], catalog_reduced['dec'],catalog_reduced['z_best'])\n",
    "points = hv.Points(data_points, vdims = ['z_best'])\n",
    "points.opts()"
   ]
  },
  {
   "cell_type": "markdown",
   "id": "8aaed902",
   "metadata": {},
   "source": [
    "## Rasterize plot"
   ]
  },
  {
   "cell_type": "code",
   "execution_count": null,
   "id": "077da143",
   "metadata": {},
   "outputs": [],
   "source": [
    "hv.output(size=150)\n",
    "catalog_reduced = loading_catalog(catalog, seed, 0)\n",
    "data_points = zip(catalog_reduced['ra'], catalog_reduced['dec'])\n",
    "points = hv.Points(data_points)\n",
    "rasterize(points).opts(cmap=\"hot_r\", cnorm=\"eq_hist\").relabel().opts(**rasterize_options).hist()"
   ]
  },
  {
   "cell_type": "markdown",
   "id": "5505f769",
   "metadata": {},
   "source": [
    "## Datashade plot"
   ]
  },
  {
   "cell_type": "code",
   "execution_count": null,
   "id": "670b6ddd",
   "metadata": {},
   "outputs": [],
   "source": [
    "hv.output(size=150)\n",
    "catalog_reduced = loading_catalog(catalog, seed, 0)\n",
    "data_points = zip(catalog_reduced['ra'], catalog_reduced['dec'])\n",
    "points = hv.Points(data_points)\n",
    "datashade(points).opts(**datashade_options)"
   ]
  },
  {
   "cell_type": "markdown",
   "id": "e0f9765e",
   "metadata": {},
   "source": [
    "## Spread"
   ]
  }
 ],
 "metadata": {
  "kernelspec": {
   "display_name": "Python 3 (ipykernel)",
   "language": "python",
   "name": "python3"
  },
  "language_info": {
   "codemirror_mode": {
    "name": "ipython",
    "version": 3
   },
   "file_extension": ".py",
   "mimetype": "text/x-python",
   "name": "python",
   "nbconvert_exporter": "python",
   "pygments_lexer": "ipython3",
   "version": "3.9.10"
  }
 },
 "nbformat": 4,
 "nbformat_minor": 5
}
