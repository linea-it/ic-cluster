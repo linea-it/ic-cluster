{
 "cells": [
  {
   "cell_type": "markdown",
   "id": "6e988650",
   "metadata": {},
   "source": [
    "# ***QA-VAC NOTEBOOK - Region Selection Plots from DP0***\n",
    "\n",
    "Author: Gabriel Luan Souza de Oliveira.\n",
    "\n",
    "Last update: 03/05/2022."
   ]
  },
  {
   "cell_type": "markdown",
   "id": "6a88b4ca",
   "metadata": {},
   "source": [
    "## ***Imported Modules***"
   ]
  },
  {
   "cell_type": "code",
   "execution_count": null,
   "id": "ee4813e6",
   "metadata": {},
   "outputs": [],
   "source": [
    "%load_ext autoreload\n",
    "%autoreload 2\n",
    "\n",
    "import numpy as np\n",
    "import healpy as hp\n",
    "import bokeh as bk\n",
    "import holoviews as hv\n",
    "import matplotlib.pyplot as plt\n",
    "import scipy.stats as sst\n",
    "\n",
    "from matplotlib.pyplot import cm\n",
    "from astropy.table import Table\n",
    "from bokeh.io import output_notebook, show\n",
    "from holoviews import streams, opts\n",
    "from holoviews.operation.datashader import datashade, shade, dynspread, spread, rasterize\n",
    "\n",
    "hv.extension('bokeh')\n",
    "output_notebook()\n",
    "\n",
    "import copy\n",
    "from gavodb import DBManager"
   ]
  },
  {
   "cell_type": "markdown",
   "id": "da7b9664",
   "metadata": {},
   "source": [
    "## ***Loading Data***"
   ]
  },
  {
   "cell_type": "markdown",
   "id": "9eba2d3d",
   "metadata": {},
   "source": [
    "### Calling DBManager"
   ]
  },
  {
   "cell_type": "code",
   "execution_count": null,
   "id": "7150be09",
   "metadata": {},
   "outputs": [],
   "source": [
    "dbm = DBManager()"
   ]
  },
  {
   "cell_type": "markdown",
   "id": "c49cfee8-592a-4e79-b2df-aa25dd37c36f",
   "metadata": {},
   "source": [
    "### Required infos and table names from pid"
   ]
  },
  {
   "cell_type": "code",
   "execution_count": null,
   "id": "d1130ad0-d20a-46e8-8623-f59221ffa85e",
   "metadata": {},
   "outputs": [],
   "source": [
    "main_pid = '6941'\n",
    "nside = 4096\n",
    "footprint_area = 301.77 #degrees² #Tenho uma função que pode aproximar esse valor, caso não tenha esse número.\n",
    "nest = False #False for ring.\n",
    "limit = 50000 #False for complete tables, integer n for n rows.\n",
    "verbose = False\n",
    "table_names_from_pid = dbm.get_tablelist_from_pid(main_pid)\n",
    "print(f'Tables from PID {main_pid}:',table_names_from_pid)"
   ]
  },
  {
   "cell_type": "markdown",
   "id": "9ad3b9d0",
   "metadata": {},
   "source": [
    "### Footprint table"
   ]
  },
  {
   "cell_type": "code",
   "execution_count": null,
   "id": "a312d0c8",
   "metadata": {},
   "outputs": [],
   "source": [
    "%%time\n",
    "footprint_table = dbm.table_loading(main_pid,0,columns = None,limit = limit, verbose = verbose)\n",
    "\n",
    "if 'ra' and 'dec' not in footprint_table.keys():\n",
    "    ra,dec = hp.pix2ang(nside=nside, ipix=footprint_table['pixel'].astype(int), lonlat = True, nest = nest)\n",
    "    ra[ra>180] -= 360\n",
    "    footprint_table['ra'] = ra\n",
    "    footprint_table['dec'] = dec\n",
    "    print(\"'ra' and dec' columns add from healpy pixels.\")\n",
    "    \n",
    "else:\n",
    "    print(\"No columns added.\")"
   ]
  },
  {
   "cell_type": "code",
   "execution_count": null,
   "id": "84a6e04f-2cc4-4552-9857-8d60d56852b8",
   "metadata": {},
   "outputs": [],
   "source": [
    "footprint_table"
   ]
  },
  {
   "cell_type": "markdown",
   "id": "633aea88-41c6-4568-b93f-fe8f8fee6be5",
   "metadata": {},
   "source": [
    "### Full catalog"
   ]
  },
  {
   "cell_type": "code",
   "execution_count": null,
   "id": "b19a1b09-201f-4dfa-bada-0b953ba384da",
   "metadata": {},
   "outputs": [],
   "source": [
    "%%time\n",
    "catalog = dbm.table_loading(main_pid,1,columns = ['ra','dec','coadd_objects_id','z_best'],limit = limit, verbose = verbose)\n",
    "#catalog = dbm.table_loading(main_pid,1,columns = None,limit = limit, verbose = verbose)\n",
    "\n",
    "#If you want to use the footprint over the catalog:\n",
    "#catalog = dbm.table_loading(main_pid,1,columns = ['ra','dec','coadd_objects_id','z_best'],limit = limit, verbose = verbose,\n",
    "#                            footprint_table_name = table_names_from_pid[0], sorting_columns = ['coadd_objects_id','pixel'])"
   ]
  },
  {
   "cell_type": "code",
   "execution_count": null,
   "id": "04535789-d49d-42ee-bf8c-d0cb0fbc8bb0",
   "metadata": {},
   "outputs": [],
   "source": [
    "number_of_points = len(catalog)"
   ]
  },
  {
   "cell_type": "markdown",
   "id": "c47ba2f4",
   "metadata": {
    "tags": []
   },
   "source": [
    "## ***Plots***"
   ]
  },
  {
   "cell_type": "markdown",
   "id": "8efa8f36-2756-48ff-97e1-e7498c428405",
   "metadata": {},
   "source": [
    "#### Density Function"
   ]
  },
  {
   "cell_type": "code",
   "execution_count": null,
   "id": "9bec7e39-3776-4ca1-ac91-5d70fe0d8299",
   "metadata": {
    "tags": []
   },
   "outputs": [],
   "source": [
    "def density_function(ra_in,dec_in, nside, area_of_each_pixel, nest = False):\n",
    "    count_table = Table()\n",
    "    indices = hp.ang2pix(nside,ra_in, dec_in, lonlat = True)\n",
    "    count_table['pixels'] = np.unique(indices.astype('int'))\n",
    "\n",
    "    count = np.bincount(indices.astype('int'))\n",
    "    density_in_pixels = np.array([count[each] for each in count_table['pixels']])/area_of_each_pixel\n",
    "\n",
    "    ra,dec = hp.pix2ang(nside=nside, ipix=count_table['pixels'], lonlat = True, nest = nest)\n",
    "    ra[ra>180] -= 360\n",
    "\n",
    "    count_table['ra'] = ra\n",
    "    count_table['dec'] = dec\n",
    "    count_table['density'] = density_in_pixels\n",
    "    \n",
    "    return count_table"
   ]
  },
  {
   "cell_type": "markdown",
   "id": "cba0d38b",
   "metadata": {},
   "source": [
    "### Plot Functions"
   ]
  },
  {
   "cell_type": "code",
   "execution_count": null,
   "id": "7a02094a",
   "metadata": {},
   "outputs": [],
   "source": [
    "%reload_ext autoreload\n",
    "def mask_func(signal,mask_dict):\n",
    "    if mask_dict is not None and signal is not None:\n",
    "        assert mask_dict['relation'] in ('less','greater','equal'), 'Input key is not a valid string.'\n",
    "        #assert type(signal).__name__ == 'ndarray', 'signal must be an numpy array (ndarray)'\n",
    "\n",
    "        if mask_dict['relation'] == 'less':\n",
    "            mask = signal < mask_dict['value']\n",
    "\n",
    "        elif mask_dict['relation'] == 'greater':\n",
    "            mask = signal > mask_dict['value']\n",
    "\n",
    "        elif mask_dict['relation'] == 'equal':\n",
    "            mask = signal == mask_dict['value']\n",
    "    \n",
    "    if mask_dict is None and signal is not None:\n",
    "         mask = signal == signal\n",
    "    \n",
    "    if mask_dict is None and signal is None:\n",
    "         mask = slice(0, None, None)\n",
    "    return mask\n",
    "\n",
    "def plot_map(ra,dec,signal, verbose = False, map_type = 'scatter',nside = 4096,**kwargs):\n",
    "\n",
    "    ###-------------------------------------------###\n",
    "    #                Key informations               #\n",
    "    ###-------------------------------------------###\n",
    "    \n",
    "    steradian_in_degrees = (180./np.pi)**2\n",
    "    sky_area = 4*np.pi*steradian_in_degrees   #Area of an sphere measured in degrees^2. Read more on https://www.mathsisfun.com/geometry/steradian.html\n",
    "    npixels = hp.nside2npix(nside)            #Númeto de pixeis em um Healpix pixelization scheme => 12.0*(nside)**2.0\n",
    "    area_of_each_pixel = sky_area/(npixels)   #In degrees^2.\n",
    "    pix_area_arcmin = 3600*area_of_each_pixel #Pixel area in (minutes of degree)².\n",
    "    \n",
    "    if verbose == True:\n",
    "        print('Number of pixels:',npixels,\n",
    "              '\\nSky area:', sky_area,'degrees²',\n",
    "              '\\nArea of each pixel:', area_of_each_pixel, 'degrees²;', pix_area_arcmin,'min^2')\n",
    "    \n",
    "    ###-------------------------------------------###\n",
    "    #                     Mask                      #\n",
    "    ###-------------------------------------------###\n",
    "    mask = mask_func(signal, kwargs['mask_dict'])\n",
    "    \n",
    "    ###-------------------------------------------###\n",
    "    #                     Plot                      #\n",
    "    ###-------------------------------------------###\n",
    "\n",
    "    if map_type == 'scatter':\n",
    "        \n",
    "        # Fig config\n",
    "        plt.clf()\n",
    "        fig, ax = plt.subplots(1, figsize = kwargs['figsize'])\n",
    "        ax.set_facecolor('#696969')\n",
    "    \n",
    "        # To plot\n",
    "        if signal is not None: \n",
    "            sc = ax.scatter(ra[mask], dec[mask], c = signal[mask],\n",
    "                            vmin = kwargs['vmin'], vmax = kwargs['vmax'], cmap = kwargs['cmap'], \n",
    "                            marker = kwargs['marker'], s=kwargs['marker_size'], linewidths=kwargs['marker_linewidths'])\n",
    "        else:\n",
    "            sc = ax.scatter(ra[mask], dec[mask], c = None, color = kwargs['color'], \n",
    "                            marker = kwargs['marker'], s=kwargs['marker_size'], linewidths=kwargs['marker_linewidths'])\n",
    "            \n",
    "        \n",
    "\n",
    "        # Axis Stuff\n",
    "        #ax.set_xlim(0.9*np.nanmin(ra[mask]),1.1*np.nanmax(ra[mask]))\n",
    "        #ax.set_ylim(0.9*np.nanmin(dec[mask]),1.1*np.nanmax(dec[mask]))\n",
    "        ax.invert_xaxis()\n",
    "\n",
    "        # Labels\n",
    "        ax.set_xlabel('R.A. (degrees)', fontsize = 16)\n",
    "        ax.set_ylabel('DEC. (degrees)', fontsize = 16)\n",
    "        ax.set_title(kwargs['title'], fontsize = 20, weight='bold')\n",
    "        ax.tick_params(axis='both', which='major', labelsize=16)\n",
    "\n",
    "        # Colorbar\n",
    "        if kwargs['colorbar'] == True:\n",
    "            cbar = fig.colorbar(sc, ax = [ax], location = 'right', pad = 0)\n",
    "            cbar.set_label(kwargs['barlabel'], fontsize = 16, labelpad = 12.0)\n",
    "            cbar.set_ticks(kwargs['setticks'])\n",
    "            cbar.ax.tick_params(labelsize=16)\n",
    "\n",
    "        plt.show()\n",
    "    \n",
    "    if map_type == 'hexbin':\n",
    "        # Fig config\n",
    "        plt.clf()\n",
    "        fig, ax = plt.subplots(1, figsize = kwargs['figsize'])\n",
    "        ax.set_facecolor('#696969')\n",
    "        \n",
    "        # To plot\n",
    "        hexbin = ax.hexbin(ra[mask], dec[mask], gridsize=kwargs['nbins'])\n",
    "        # Axis Stuff\n",
    "        #ax.set_xlim(0.9*np.nanmin(ra[mask]),1.1*np.nanmax(ra[mask]))\n",
    "        #ax.set_ylim(0.9*np.nanmin(dec[mask]),1.1*np.nanmax(dec[mask]))\n",
    "        ax.invert_xaxis()\n",
    "        \n",
    "        # Labels\n",
    "        ax.set_xlabel('R.A. (degrees)', fontsize = 16)\n",
    "        ax.set_ylabel('DEC. (degrees)', fontsize = 16)\n",
    "        ax.set_title(kwargs['title'], fontsize = 20, weight='bold')\n",
    "        ax.tick_params(axis='both', which='major', labelsize=16)\n",
    "\n",
    "        # Colorbar\n",
    "        if kwargs['colorbar'] == True:\n",
    "            cbar = fig.colorbar(hexbin, ax = [ax], location = 'right', pad = 0)\n",
    "            cbar.set_label(kwargs['barlabel'], fontsize = 16, labelpad = 12.0)\n",
    "            cbar.set_ticks(kwargs['setticks'])\n",
    "            cbar.ax.tick_params(labelsize=16)\n",
    "\n",
    "        plt.show()\n",
    "        \n",
    "    if map_type == 'hist2d':\n",
    "        # Fig config\n",
    "        plt.clf()\n",
    "        fig, ax = plt.subplots(1, figsize = kwargs['figsize'])\n",
    "        ax.set_facecolor('#696969')\n",
    "        \n",
    "        # To plot\n",
    "        hist_2d = ax.hist2d(ra[mask], dec[mask], bins = kwargs['nbins'])\n",
    "        # Axis Stuff\n",
    "        #ax.set_xlim(0.9*np.nanmin(ra[mask]),1.1*np.nanmax(ra[mask]))\n",
    "        #ax.set_ylim(0.9*np.nanmin(dec[mask]),1.1*np.nanmax(dec[mask]))\n",
    "        ax.invert_xaxis()\n",
    "        \n",
    "        # Labels\n",
    "        ax.set_xlabel('R.A. (degrees)', fontsize = 16)\n",
    "        ax.set_ylabel('DEC. (degrees)', fontsize = 16)\n",
    "        ax.set_title(kwargs['title'], fontsize = 20, weight='bold')\n",
    "        ax.tick_params(axis='both', which='major', labelsize=16)\n",
    "\n",
    "        # Colorbar\n",
    "        if kwargs['colorbar'] == True:\n",
    "            cbar = fig.colorbar(hist_2d[3], ax = [ax], location = 'right', pad = 0)\n",
    "            cbar.set_label(kwargs['barlabel'], fontsize = 16, labelpad = 12.0)\n",
    "            cbar.set_ticks(kwargs['setticks'])\n",
    "            cbar.ax.tick_params(labelsize=16)\n",
    "\n",
    "        plt.show()\n",
    "        \n",
    "    if map_type == 'gaussian_kde':\n",
    "        # Fig config\n",
    "        plt.clf()\n",
    "        fig, ax = plt.subplots(1, figsize = kwargs['figsize'])\n",
    "        ax.set_facecolor('#696969')\n",
    "        \n",
    "        # To plot\n",
    "        k = sst.gaussian_kde(np.vstack([ra[mask],dec[mask]]))\n",
    "        xi, yi = np.mgrid[ra[mask].min():ra[mask].max():kwargs['nbins']*1j, dec[mask].min():dec[mask].max():kwargs['nbins']*1j]\n",
    "        zi = k(np.vstack([xi.flatten(), yi.flatten()]))*kwargs['number_of_points']\n",
    "        gk = ax.pcolormesh(xi, yi, zi.reshape(xi.shape), vmin=np.min(zi.reshape(xi.shape)), vmax=np.max(zi.reshape(xi.shape)))\n",
    "        \n",
    "        # Axis Stuff\n",
    "        #ax.set_xlim(0.9*np.nanmin(ra[mask]),1.1*np.nanmax(ra[mask]))\n",
    "        #ax.set_ylim(0.9*np.nanmin(dec[mask]),1.1*np.nanmax(dec[mask]))\n",
    "        ax.invert_xaxis()\n",
    "        \n",
    "        # Labels\n",
    "        ax.set_xlabel('R.A. (degrees)', fontsize = 16)\n",
    "        ax.set_ylabel('DEC. (degrees)', fontsize = 16)\n",
    "        ax.set_title(kwargs['title'], fontsize = 20, weight='bold')\n",
    "        ax.tick_params(axis='both', which='major', labelsize=16)\n",
    "\n",
    "        # Colorbar\n",
    "        if kwargs['colorbar'] == True:\n",
    "            cbar = fig.colorbar(gk, ax = [ax], location = 'right', pad = 0)\n",
    "            cbar.set_label(kwargs['barlabel'], fontsize = 16, labelpad = 12.0)\n",
    "            cbar.set_ticks(kwargs['setticks'])\n",
    "            cbar.ax.tick_params(labelsize=16)\n",
    "        \n",
    "        print('Integral on 2D plane = ',k.integrate_box([-np.inf,-np.inf],[np.inf,np.inf]))\n",
    "        plt.show()\n",
    "    \n",
    "    if map_type == 'healpy':\n",
    "        \n",
    "        # To plot\n",
    "        indices = hp.ang2pix(nside,ra[mask], dec[mask], lonlat = True)\n",
    "        density = np.bincount(indices)/area_of_each_pixel\n",
    "        npix = hp.nside2npix(nside)\n",
    "        hpxmap = np.zeros(npix, dtype=float)\n",
    "        \n",
    "        for i in range(len(ra[mask])):\n",
    "            hpxmap[indices[i]] += density[indices[i]]\n",
    "        hp_mask = [hpxmap == 0]\n",
    "        hpxmap[tuple(hp_mask)] = 0 #hp.UNSEEN\n",
    "        \n",
    "        #hp.mollview(hpxmap, title=kwargs['title'], min = kwargs['min'], max = kwargs['max'], unit = kwargs['barlabel'], cbar = kwargs['colorbar'])\n",
    "        #hp.cartview(hpxmap, title=kwargs['title'],lonra = kwargs['lonra'], latra = kwargs['latra'], min = kwargs['min'], max = kwargs['max'], unit = kwargs['barlabel'], cbar = kwargs['colorbar'])\n",
    "        hp.projview(hpxmap,coord=[\"G\"],graticule=kwargs['graticule'],graticule_labels=kwargs['graticule_labels'],unit= kwargs['barlabel'],\n",
    "            xlabel=\"R.A. (degrees)\",ylabel=\"DEC. (degrees)\",cb_orientation=\"vertical\",projection_type=kwargs['hp_type'], title=kwargs['title'], flip = 'astro',\n",
    "                   min = kwargs['min'], max = kwargs['max'], latitude_grid_spacing=kwargs['grid_space'],longitude_grid_spacing=kwargs['grid_space'], hold = kwargs['hold'])\n",
    "            \n",
    "        print(f'Max density value: {np.nanmax(density)}')    \n",
    "        plt.show()\n",
    "    \n",
    "    if map_type == 'holoviews':\n",
    "       \n",
    "        point_options = {'title': kwargs['title'],\n",
    "                'toolbar':kwargs['toolbar'],\n",
    "                'color':kwargs['color'],\n",
    "                'cmap': kwargs['cmap'],\n",
    "                'marker': kwargs['marker'],\n",
    "                'size':kwargs['size'],\n",
    "                'xlabel':kwargs['xlabel'],\n",
    "                'ylabel': kwargs['ylabel'],\n",
    "                'bgcolor': kwargs['bgcolor'],\n",
    "                'colorbar': kwargs['colorbar'],\n",
    "                'clabel': kwargs['clabel'],\n",
    "                'logz': kwargs['logz'],\n",
    "                'invert_xaxis': kwargs['invert_xaxis']\n",
    "                }\n",
    "        \n",
    "        rasterize_options = {'title': kwargs['title'],\n",
    "                    'toolbar':kwargs['toolbar'],\n",
    "                    'xlabel':kwargs['xlabel'],\n",
    "                    'ylabel': kwargs['ylabel'],\n",
    "                    'bgcolor': kwargs['bgcolor'],\n",
    "                    'colorbar': kwargs['colorbar'],\n",
    "                   }\n",
    "\n",
    "        datashade_options = {'title': kwargs['title'],\n",
    "                            'toolbar':kwargs['toolbar'],\n",
    "                            'xlabel':kwargs['xlabel'],\n",
    "                            'ylabel': kwargs['ylabel'],\n",
    "                            'bgcolor': kwargs['bgcolor'],\n",
    "                    \n",
    "                   }\n",
    "        \n",
    "        if kwargs['hv_type'] == 'Density_Points':\n",
    "            count_table = density_function(ra[mask],dec[mask], nside = nside, area_of_each_pixel = area_of_each_pixel, nest = False)\n",
    "            data_points = zip(count_table['ra'], count_table['dec'], count_table['density'])\n",
    "            points = hv.Points(data_points, vdims = [kwargs['clabel']])\n",
    "            hv.output(points.opts(**point_options).hist(bins = 'fd'), size=kwargs['figsize'])\n",
    "        \n",
    "        elif kwargs['hv_type'] == 'Points':\n",
    "            data_points = zip(ra[mask], dec[mask], signal[mask])\n",
    "            points = hv.Points(data_points, vdims = [kwargs['clabel']])\n",
    "            hv.output(points.opts(**point_options).hist(bins = 'fd'), size=kwargs['figsize'])\n",
    "        \n",
    "        elif kwargs['hv_type'] == 'Rasterize':\n",
    "            count_table = density_function(ra[mask],dec[mask], nside = nside, area_of_each_pixel = area_of_each_pixel, nest = False)\n",
    "            data_points = zip(count_table['ra'], count_table['dec'], count_table['density'])\n",
    "            points = hv.Points(data_points, vdims = [kwargs['clabel']])\n",
    "            hv.output(rasterize(points).opts(cmap=kwargs['cmap'], cnorm=\"linear\").relabel( kwargs['title']).opts(**rasterize_options).hist(), size = kwargs['figsize'])\n",
    "        elif kwargs['hv_type'] == 'Datashader':\n",
    "            print('Test')"
   ]
  },
  {
   "cell_type": "markdown",
   "id": "a4d8a6f5",
   "metadata": {
    "jupyter": {
     "source_hidden": true
    },
    "tags": []
   },
   "source": [
    "### Footprint Map"
   ]
  },
  {
   "cell_type": "code",
   "execution_count": null,
   "id": "5e788754",
   "metadata": {
    "jupyter": {
     "source_hidden": true
    },
    "tags": []
   },
   "outputs": [],
   "source": [
    "params = {'title':f\"Footprint Map\",\n",
    "          'barlabel':\"Signal\",\n",
    "          'vmin':0,\n",
    "          'vmax':1,\n",
    "          'cmap':cm.inferno,\n",
    "          'setticks':[0,1],\n",
    "          'mask_dict': None,\n",
    "          'colorbar': True,\n",
    "          'marker':',',\n",
    "          'marker_size':0.5,\n",
    "          'marker_linewidths':0.5,\n",
    "          'figsize': [8,4.5]\n",
    "         }\n",
    "\n",
    "plot_map(footprint_table['ra'],footprint_table['dec'], footprint_table['signal'],'scatter', nside = nside,**params)"
   ]
  },
  {
   "cell_type": "markdown",
   "id": "6ae49554-8a31-40b5-aa27-f34ebe44985c",
   "metadata": {
    "jupyter": {
     "source_hidden": true
    },
    "tags": []
   },
   "source": [
    "### Catalog scatter Map"
   ]
  },
  {
   "cell_type": "code",
   "execution_count": null,
   "id": "194c77d3-e3f7-4cdb-84cd-9f5703b5da8a",
   "metadata": {
    "jupyter": {
     "source_hidden": true
    },
    "tags": []
   },
   "outputs": [],
   "source": [
    "params = {'title':f\"Catalog scatter Map\",\n",
    "          'color':'white',\n",
    "          'setticks':None,\n",
    "          'mask_dict': None,\n",
    "          'colorbar': False,\n",
    "          'marker':'.',\n",
    "          'marker_size':1.0,\n",
    "          'marker_linewidths':0.5,\n",
    "          'figsize': [8,4.5]\n",
    "         }\n",
    "plot_map(catalog['ra'],catalog['dec'], None,'scatter', nside = nside, **params)"
   ]
  },
  {
   "cell_type": "markdown",
   "id": "1e237234-1f92-41ef-89fd-908e856ed78d",
   "metadata": {
    "jupyter": {
     "source_hidden": true
    },
    "tags": []
   },
   "source": [
    "### Catalog Hexbin count Map"
   ]
  },
  {
   "cell_type": "code",
   "execution_count": null,
   "id": "cffe1d2c-b4a6-476d-a349-be5305a7b2bf",
   "metadata": {
    "jupyter": {
     "source_hidden": true
    },
    "tags": []
   },
   "outputs": [],
   "source": [
    "params = {'title':f\"Catalog Hexbin Map\",\n",
    "          'barlabel': 'Counts',\n",
    "          'setticks':None,\n",
    "          'mask_dict': None,\n",
    "          'colorbar': True,\n",
    "          'marker':'.',\n",
    "          'marker_size':1.0,\n",
    "          'marker_linewidths':0.5,\n",
    "          'figsize': [8,4.5],\n",
    "          'nbins': 25\n",
    "         }\n",
    "plot_map(catalog['ra'],catalog['dec'], None,map_type = 'hexbin', nside = nside, **params)"
   ]
  },
  {
   "cell_type": "markdown",
   "id": "19dd9114-63b2-44af-9a7b-4dbd515c4922",
   "metadata": {
    "jupyter": {
     "source_hidden": true
    },
    "tags": []
   },
   "source": [
    "### Catalog Hist2D count Map"
   ]
  },
  {
   "cell_type": "code",
   "execution_count": null,
   "id": "aec1ab53-3d42-4f6c-8c27-4d54b8cb878f",
   "metadata": {
    "jupyter": {
     "source_hidden": true
    },
    "tags": []
   },
   "outputs": [],
   "source": [
    "params = {'title':f\"Catalog Hist2D Map\",\n",
    "          'barlabel': 'Counts',\n",
    "          'setticks':None,\n",
    "          'mask_dict': None,\n",
    "          'colorbar': True,\n",
    "          'marker':'.',\n",
    "          'marker_size':1.0,\n",
    "          'marker_linewidths':0.5,\n",
    "          'figsize': [8,4.5],\n",
    "          'nbins': 25\n",
    "         }\n",
    "plot_map(catalog['ra'],catalog['dec'], None, map_type = 'hist2d', nside = nside, **params)"
   ]
  },
  {
   "cell_type": "markdown",
   "id": "393450ca-8ccb-4e41-8296-9996b6340521",
   "metadata": {
    "jupyter": {
     "source_hidden": true
    },
    "tags": []
   },
   "source": [
    "### Catalog Gaussian_kde Density Map"
   ]
  },
  {
   "cell_type": "code",
   "execution_count": null,
   "id": "963641db-0cdd-47ac-a86d-f294b942c522",
   "metadata": {
    "jupyter": {
     "source_hidden": true
    },
    "tags": []
   },
   "outputs": [],
   "source": [
    "params = {'title':f\"Catalog Gaussian_kde Map\",\n",
    "          'barlabel': 'Density ' r'$(Counts/deg^{2})$',\n",
    "          'setticks':None,\n",
    "          'mask_dict': None,\n",
    "          'colorbar': True,\n",
    "          'marker':'.',\n",
    "          'marker_size':1.0,\n",
    "          'marker_linewidths':0.5,\n",
    "          'figsize': [8,4.5],\n",
    "          'nbins': 25,\n",
    "          'number_of_points': number_of_points\n",
    "         }\n",
    "plot_map(catalog['ra'],catalog['dec'], None, map_type = 'gaussian_kde', nside = nside,**params)"
   ]
  },
  {
   "cell_type": "markdown",
   "id": "b2edf60b-5198-4951-8999-66873f23a99c",
   "metadata": {
    "tags": []
   },
   "source": [
    "### Catalog Healpy Mollweide/Cartview Density Map"
   ]
  },
  {
   "cell_type": "code",
   "execution_count": null,
   "id": "136f3c6d-985c-43bb-ad36-18fc1913e86e",
   "metadata": {
    "tags": []
   },
   "outputs": [],
   "source": [
    "#hp_type = 'cart'\n",
    "hp_type = 'mollweide'\n",
    "#hp_type = '3d'\n",
    "params = {'title':f\"Catalog Healpy {hp_type} Density Map\",\n",
    "          'barlabel': 'Density ' r'$(Counts/deg^{2})$',\n",
    "          'graticule': True,\n",
    "          'graticule_labels': True,\n",
    "          'hp_type':hp_type,\n",
    "          'mask_dict': None,\n",
    "          'lonra': [50.5,52.0],\n",
    "          'latra': [-38.4,-36],\n",
    "          'min': 0,\n",
    "          'max': 336740.30729601387,\n",
    "          'grid_space': 30,\n",
    "          'hold': False #True for cart and mollweide\n",
    "         }\n",
    "plot_map(catalog['ra'],catalog['dec'], None, map_type = 'healpy', nside = nside,**params)"
   ]
  },
  {
   "cell_type": "markdown",
   "id": "9dbf04bb-222c-4f08-b2e8-6d020606adbb",
   "metadata": {},
   "source": [
    "### Catalog Holoviews Density Map"
   ]
  },
  {
   "cell_type": "markdown",
   "id": "dd411ab9-dc61-4228-9178-5207190dadea",
   "metadata": {},
   "source": [
    "#### Points/Rasterize"
   ]
  },
  {
   "cell_type": "code",
   "execution_count": null,
   "id": "51936949-0ef8-4dd4-aae3-62f2fd12ba28",
   "metadata": {},
   "outputs": [],
   "source": [
    "params = {'title': 'Catalog Holoviews Density Map',\n",
    "        'toolbar':'right',\n",
    "        'color':'Density',\n",
    "        'cmap': 'hot',\n",
    "        'marker': 'o',\n",
    "        'size':2.0,\n",
    "        'xlabel':'R.A.(degrees)',\n",
    "        'ylabel': 'DEC. (degrees)',\n",
    "        'bgcolor': '#f7f7f7',\n",
    "        'colorbar': True,\n",
    "        'clabel': 'Density',\n",
    "        'logz': False,\n",
    "        'mask_dict': None,\n",
    "        'invert_xaxis':True,\n",
    "        'figsize': 200,\n",
    "        'hv_type': 'Rasterize'  \n",
    "         }\n",
    "plot_map(catalog['ra'],catalog['dec'], None, map_type = 'holoviews', nside = nside,**params)"
   ]
  },
  {
   "cell_type": "markdown",
   "id": "6b51f1f7-78e4-4b9c-ab7d-83305c4153bc",
   "metadata": {},
   "source": [
    "### Catalog Holoviews Redshift Map"
   ]
  },
  {
   "cell_type": "markdown",
   "id": "f4d1a814-308a-4bf3-9cf4-8bba283d58af",
   "metadata": {},
   "source": [
    "#### Points"
   ]
  },
  {
   "cell_type": "code",
   "execution_count": null,
   "id": "f5e89b7d-b161-4c6d-b6f8-d335e2144f7b",
   "metadata": {},
   "outputs": [],
   "source": [
    "params = {'title': 'Catalog Holoviews Redshift Map',\n",
    "        'toolbar':'right',\n",
    "        'color':'Density',\n",
    "        'cmap': 'hot',\n",
    "        'marker': 'o',\n",
    "        'size':2.0,\n",
    "        'xlabel':'R.A.(degrees)',\n",
    "        'ylabel': 'DEC. (degrees)',\n",
    "        'bgcolor': '#f7f7f7',\n",
    "        'colorbar': True,\n",
    "        'clabel': 'Density',\n",
    "        'logz': False,\n",
    "        'mask_dict': None,\n",
    "        'invert_xaxis':True,\n",
    "        'figsize': 200,\n",
    "        'hv_type': 'Points'  \n",
    "         }\n",
    "plot_map(catalog['ra'],catalog['dec'], catalog['z_best'], map_type = 'holoviews', nside = nside,**params)"
   ]
  },
  {
   "cell_type": "markdown",
   "id": "5b2543b2-9f34-41b5-917e-0e2fa060a813",
   "metadata": {},
   "source": [
    "### Catalog Holoviews Redshift Error Map"
   ]
  },
  {
   "cell_type": "code",
   "execution_count": null,
   "id": "7ae1714b-0128-428d-8ade-3abcbfc6ee58",
   "metadata": {},
   "outputs": [],
   "source": [
    "params = {'title': 'Catalog Holoviews Redshift Error Map',\n",
    "        'toolbar':'right',\n",
    "        'color':'Density',\n",
    "        'cmap': 'hot',\n",
    "        'marker': 'o',\n",
    "        'size':2.0,\n",
    "        'xlabel':'R.A.(degrees)',\n",
    "        'ylabel': 'DEC. (degrees)',\n",
    "        'bgcolor': '#f7f7f7',\n",
    "        'colorbar': True,\n",
    "        'clabel': 'Density',\n",
    "        'logz': False,\n",
    "        'mask_dict': None,\n",
    "        'invert_xaxis':True,\n",
    "        'figsize': 200,\n",
    "        'hv_type': 'Points'  \n",
    "         }\n",
    "#plot_map(catalog['ra'],catalog['dec'], catalog['z_err'], map_type = 'holoviews', nside = nside,**params)"
   ]
  },
  {
   "cell_type": "code",
   "execution_count": null,
   "id": "96b6c61e-52a3-4993-a876-89798cd090ac",
   "metadata": {},
   "outputs": [],
   "source": []
  }
 ],
 "metadata": {
  "kernelspec": {
   "display_name": "goenv",
   "language": "python",
   "name": "goenv"
  },
  "language_info": {
   "codemirror_mode": {
    "name": "ipython",
    "version": 3
   },
   "file_extension": ".py",
   "mimetype": "text/x-python",
   "name": "python",
   "nbconvert_exporter": "python",
   "pygments_lexer": "ipython3",
   "version": "3.8.13"
  }
 },
 "nbformat": 4,
 "nbformat_minor": 5
}
