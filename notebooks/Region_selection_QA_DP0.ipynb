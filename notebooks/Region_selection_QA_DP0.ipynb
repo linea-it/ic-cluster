{
 "cells": [
  {
   "cell_type": "markdown",
   "id": "6e988650",
   "metadata": {},
   "source": [
    "# ***QA-VAC NOTEBOOK - Region Selection Plots from DP0***\n",
    "\n",
    "Author: Gabriel Luan Souza de Oliveira.\n",
    "\n",
    "Last update: 25/04/2022."
   ]
  },
  {
   "cell_type": "markdown",
   "id": "6a88b4ca",
   "metadata": {},
   "source": [
    "## ***Imported Modules***"
   ]
  },
  {
   "cell_type": "code",
   "execution_count": 1,
   "id": "ee4813e6",
   "metadata": {},
   "outputs": [],
   "source": [
    "%load_ext autoreload\n",
    "%autoreload 2\n",
    "\n",
    "import numpy as np\n",
    "import matplotlib.pyplot as plt\n",
    "from matplotlib.pyplot import cm\n",
    "from astropy.table import Table\n",
    "import healpy as hp\n",
    "import copy\n",
    "from gavodb import DBManager"
   ]
  },
  {
   "cell_type": "markdown",
   "id": "da7b9664",
   "metadata": {},
   "source": [
    "## ***Loading Data***"
   ]
  },
  {
   "cell_type": "markdown",
   "id": "9eba2d3d",
   "metadata": {},
   "source": [
    "### Calling DBManager"
   ]
  },
  {
   "cell_type": "code",
   "execution_count": 2,
   "id": "7150be09",
   "metadata": {},
   "outputs": [],
   "source": [
    "dbm = DBManager()"
   ]
  },
  {
   "cell_type": "markdown",
   "id": "c49cfee8-592a-4e79-b2df-aa25dd37c36f",
   "metadata": {},
   "source": [
    "### Required infos and table names from pid"
   ]
  },
  {
   "cell_type": "code",
   "execution_count": 3,
   "id": "d1130ad0-d20a-46e8-8623-f59221ffa85e",
   "metadata": {},
   "outputs": [
    {
     "name": "stdout",
     "output_type": "stream",
     "text": [
      "Tables from PID 6941: ['vac_cluster_simulation.footprint_6941', 'vac_cluster_simulation.catalog_6941']\n"
     ]
    }
   ],
   "source": [
    "main_pid = '6941'\n",
    "nside = 4096\n",
    "nest = False\n",
    "limit = False #False for complete tables, integer n for n rows.\n",
    "verbose = False\n",
    "table_names_from_pid = dbm.get_tablelist_from_pid(main_pid)\n",
    "print(f'Tables from PID {main_pid}:',table_names_from_pid)"
   ]
  },
  {
   "cell_type": "markdown",
   "id": "9ad3b9d0",
   "metadata": {},
   "source": [
    "### Footprint table"
   ]
  },
  {
   "cell_type": "code",
   "execution_count": 4,
   "id": "a312d0c8",
   "metadata": {},
   "outputs": [
    {
     "name": "stdout",
     "output_type": "stream",
     "text": [
      "No columns added.\n",
      "CPU times: user 29.2 s, sys: 1.96 s, total: 31.1 s\n",
      "Wall time: 31.5 s\n"
     ]
    }
   ],
   "source": [
    "%%time\n",
    "footprint_table = dbm.table_loading(main_pid,0,columns = None,limit = limit, verbose = verbose)\n",
    "\n",
    "if 'ra' and 'dec' not in footprint_table.keys():\n",
    "    ra,dec = hp.pix2ang(nside=nside, ipix=footprint_table['pixel'].astype(int), lonlat = True, nest = nest)\n",
    "    ra[ra>180] -= 360\n",
    "    footprint_table['ra'] = ra\n",
    "    footprint_table['dec'] = dec\n",
    "    print(\"'ra' and dec' columns add from healpy pixels.\")\n",
    "    \n",
    "else:\n",
    "    print(\"No columns added.\")"
   ]
  },
  {
   "cell_type": "code",
   "execution_count": 5,
   "id": "84a6e04f-2cc4-4552-9857-8d60d56852b8",
   "metadata": {},
   "outputs": [
    {
     "data": {
      "text/html": [
       "<i>Table length=1472720</i>\n",
       "<table id=\"table140128925338400\" class=\"table-striped table-bordered table-condensed\">\n",
       "<thead><tr><th>ra</th><th>dec</th><th>pixel</th><th>signal</th></tr></thead>\n",
       "<thead><tr><th>float64</th><th>float64</th><th>float64</th><th>float64</th></tr></thead>\n",
       "<tr><td>52.613525390625</td><td>-35.158924463064125</td><td>158624090.0</td><td>1.0</td></tr>\n",
       "<tr><td>52.723388671875</td><td>-31.34448005576511</td><td>153020767.0</td><td>1.0</td></tr>\n",
       "<tr><td>52.569580078125</td><td>-30.95220852676994</td><td>152430936.0</td><td>1.0</td></tr>\n",
       "<tr><td>54.33837890625</td><td>-38.861605383212066</td><td>163817897.0</td><td>1.0</td></tr>\n",
       "<tr><td>51.35009765625</td><td>-33.56599649269043</td><td>156313889.0</td><td>1.0</td></tr>\n",
       "<tr><td>56.370849609375</td><td>-39.113554161266784</td><td>164162053.0</td><td>1.0</td></tr>\n",
       "<tr><td>51.2841796875</td><td>-37.46203997383155</td><td>161884446.0</td><td>1.0</td></tr>\n",
       "<tr><td>52.042236328125</td><td>-31.84811169122737</td><td>153774400.0</td><td>1.0</td></tr>\n",
       "<tr><td>52.14111328125</td><td>-38.17032541731712</td><td>162867525.0</td><td>1.0</td></tr>\n",
       "<tr><td>52.437744140625</td><td>-36.00746300407179</td><td>159836498.0</td><td>1.0</td></tr>\n",
       "<tr><td>...</td><td>...</td><td>...</td><td>...</td></tr>\n",
       "<tr><td>71.99333497901753</td><td>-42.37271525128882</td><td>168500528.0</td><td>1.0</td></tr>\n",
       "<tr><td>62.55615234375</td><td>-38.93349934703476</td><td>163916575.0</td><td>1.0</td></tr>\n",
       "<tr><td>60.64453125000001</td><td>-33.20859916765297</td><td>155790024.0</td><td>1.0</td></tr>\n",
       "<tr><td>50.83503836317136</td><td>-44.12712891574937</td><td>170744780.0</td><td>1.0</td></tr>\n",
       "<tr><td>73.487548828125</td><td>-40.94038668617739</td><td>166620432.0</td><td>1.0</td></tr>\n",
       "<tr><td>64.984130859375</td><td>-36.169021092309045</td><td>160066445.0</td><td>1.0</td></tr>\n",
       "<tr><td>60.150146484375</td><td>-39.25792985098461</td><td>164358833.0</td><td>1.0</td></tr>\n",
       "<tr><td>65.72021484375</td><td>-36.1343735221724</td><td>160017327.0</td><td>1.0</td></tr>\n",
       "<tr><td>61.666259765625</td><td>-35.36450190052378</td><td>158919414.0</td><td>1.0</td></tr>\n",
       "<tr><td>65.22172949002217</td><td>-42.27282242069582</td><td>168370453.0</td><td>1.0</td></tr>\n",
       "</table>"
      ],
      "text/plain": [
       "<Table length=1472720>\n",
       "        ra                dec            pixel     signal\n",
       "     float64            float64         float64   float64\n",
       "----------------- ------------------- ----------- -------\n",
       "  52.613525390625 -35.158924463064125 158624090.0     1.0\n",
       "  52.723388671875  -31.34448005576511 153020767.0     1.0\n",
       "  52.569580078125  -30.95220852676994 152430936.0     1.0\n",
       "   54.33837890625 -38.861605383212066 163817897.0     1.0\n",
       "   51.35009765625  -33.56599649269043 156313889.0     1.0\n",
       "  56.370849609375 -39.113554161266784 164162053.0     1.0\n",
       "    51.2841796875  -37.46203997383155 161884446.0     1.0\n",
       "  52.042236328125  -31.84811169122737 153774400.0     1.0\n",
       "   52.14111328125  -38.17032541731712 162867525.0     1.0\n",
       "  52.437744140625  -36.00746300407179 159836498.0     1.0\n",
       "              ...                 ...         ...     ...\n",
       "71.99333497901753  -42.37271525128882 168500528.0     1.0\n",
       "   62.55615234375  -38.93349934703476 163916575.0     1.0\n",
       "60.64453125000001  -33.20859916765297 155790024.0     1.0\n",
       "50.83503836317136  -44.12712891574937 170744780.0     1.0\n",
       "  73.487548828125  -40.94038668617739 166620432.0     1.0\n",
       "  64.984130859375 -36.169021092309045 160066445.0     1.0\n",
       "  60.150146484375  -39.25792985098461 164358833.0     1.0\n",
       "   65.72021484375   -36.1343735221724 160017327.0     1.0\n",
       "  61.666259765625  -35.36450190052378 158919414.0     1.0\n",
       "65.22172949002217  -42.27282242069582 168370453.0     1.0"
      ]
     },
     "execution_count": 5,
     "metadata": {},
     "output_type": "execute_result"
    }
   ],
   "source": [
    "footprint_table"
   ]
  },
  {
   "cell_type": "markdown",
   "id": "633aea88-41c6-4568-b93f-fe8f8fee6be5",
   "metadata": {},
   "source": [
    "### Full catalog"
   ]
  },
  {
   "cell_type": "code",
   "execution_count": 6,
   "id": "b19a1b09-201f-4dfa-bada-0b953ba384da",
   "metadata": {},
   "outputs": [
    {
     "name": "stdout",
     "output_type": "stream",
     "text": [
      "CPU times: user 9.95 s, sys: 371 ms, total: 10.3 s\n",
      "Wall time: 10.5 s\n"
     ]
    }
   ],
   "source": [
    "%%time\n",
    "#catalog = dbm.table_loading(main_pid,1,columns = ['ra','dec','coadd_objects_id','z_best'],limit = limit, verbose = verbose,\n",
    "#                            footprint_table_name = table_names_from_pid[0], sorting_columns = ['coadd_objects_id','pixel'])\n",
    "catalog = dbm.table_loading(main_pid,1,columns = ['ra','dec','coadd_objects_id','z_best'],limit = 500000, verbose = verbose)"
   ]
  },
  {
   "cell_type": "code",
   "execution_count": 7,
   "id": "04535789-d49d-42ee-bf8c-d0cb0fbc8bb0",
   "metadata": {},
   "outputs": [
    {
     "data": {
      "text/html": [
       "<i>Table length=500000</i>\n",
       "<table id=\"table140128932273840\" class=\"table-striped table-bordered table-condensed\">\n",
       "<thead><tr><th>ra</th><th>dec</th><th>coadd_objects_id</th><th>z_best</th></tr></thead>\n",
       "<thead><tr><th>float64</th><th>float64</th><th>float64</th><th>float64</th></tr></thead>\n",
       "<tr><td>50.7258</td><td>-37.744</td><td>1.5969598939595532e+16</td><td>0.30135003</td></tr>\n",
       "<tr><td>50.729</td><td>-37.7455</td><td>1.5969598939600732e+16</td><td>1.6693203</td></tr>\n",
       "<tr><td>50.7277</td><td>-37.7418</td><td>1.5969598939595552e+16</td><td>0.24109852</td></tr>\n",
       "<tr><td>50.7299</td><td>-37.7434</td><td>1.5969598939597032e+16</td><td>1.5050558</td></tr>\n",
       "<tr><td>50.7345</td><td>-37.7468</td><td>1.5969598939600726e+16</td><td>0.8958819</td></tr>\n",
       "<tr><td>50.7379</td><td>-37.7477</td><td>1.59695989395955e+16</td><td>1.3746054</td></tr>\n",
       "<tr><td>50.7348</td><td>-37.7461</td><td>1.5969598939600724e+16</td><td>0.16310692</td></tr>\n",
       "<tr><td>50.7361</td><td>-37.7461</td><td>1.5969598939600728e+16</td><td>0.8964368</td></tr>\n",
       "<tr><td>50.7355</td><td>-37.7445</td><td>1.596959893959703e+16</td><td>0.6955499</td></tr>\n",
       "<tr><td>50.738</td><td>-37.7451</td><td>1.5969598939600732e+16</td><td>0.6667553</td></tr>\n",
       "<tr><td>...</td><td>...</td><td>...</td><td>...</td></tr>\n",
       "<tr><td>52.7633</td><td>-37.2912</td><td>1.597386813711904e+16</td><td>1.0225211</td></tr>\n",
       "<tr><td>52.769</td><td>-37.2979</td><td>1.5973868137090804e+16</td><td>0.6702064</td></tr>\n",
       "<tr><td>52.7703</td><td>-37.3003</td><td>1.597386813711838e+16</td><td>0.48189345</td></tr>\n",
       "<tr><td>52.7709</td><td>-37.2993</td><td>1.5973868137118378e+16</td><td>1.9157373</td></tr>\n",
       "<tr><td>52.7716</td><td>-37.3005</td><td>1.597386813711838e+16</td><td>1.9123102</td></tr>\n",
       "<tr><td>52.7735</td><td>-37.3014</td><td>1.5973868137118232e+16</td><td>1.0444939</td></tr>\n",
       "<tr><td>52.7652</td><td>-37.2939</td><td>1.5973868137118992e+16</td><td>1.07127</td></tr>\n",
       "<tr><td>52.7658</td><td>-37.2933</td><td>1.5973868137118994e+16</td><td>0.8755384</td></tr>\n",
       "<tr><td>52.7681</td><td>-37.2932</td><td>1.5973868137091012e+16</td><td>1.613323</td></tr>\n",
       "<tr><td>52.7713</td><td>-37.2967</td><td>1.597386813709086e+16</td><td>1.6579515</td></tr>\n",
       "</table>"
      ],
      "text/plain": [
       "<Table length=500000>\n",
       "   ra     dec       coadd_objects_id      z_best  \n",
       "float64 float64         float64          float64  \n",
       "------- -------- ---------------------- ----------\n",
       "50.7258  -37.744 1.5969598939595532e+16 0.30135003\n",
       " 50.729 -37.7455 1.5969598939600732e+16  1.6693203\n",
       "50.7277 -37.7418 1.5969598939595552e+16 0.24109852\n",
       "50.7299 -37.7434 1.5969598939597032e+16  1.5050558\n",
       "50.7345 -37.7468 1.5969598939600726e+16  0.8958819\n",
       "50.7379 -37.7477   1.59695989395955e+16  1.3746054\n",
       "50.7348 -37.7461 1.5969598939600724e+16 0.16310692\n",
       "50.7361 -37.7461 1.5969598939600728e+16  0.8964368\n",
       "50.7355 -37.7445  1.596959893959703e+16  0.6955499\n",
       " 50.738 -37.7451 1.5969598939600732e+16  0.6667553\n",
       "    ...      ...                    ...        ...\n",
       "52.7633 -37.2912  1.597386813711904e+16  1.0225211\n",
       " 52.769 -37.2979 1.5973868137090804e+16  0.6702064\n",
       "52.7703 -37.3003  1.597386813711838e+16 0.48189345\n",
       "52.7709 -37.2993 1.5973868137118378e+16  1.9157373\n",
       "52.7716 -37.3005  1.597386813711838e+16  1.9123102\n",
       "52.7735 -37.3014 1.5973868137118232e+16  1.0444939\n",
       "52.7652 -37.2939 1.5973868137118992e+16    1.07127\n",
       "52.7658 -37.2933 1.5973868137118994e+16  0.8755384\n",
       "52.7681 -37.2932 1.5973868137091012e+16   1.613323\n",
       "52.7713 -37.2967  1.597386813709086e+16  1.6579515"
      ]
     },
     "execution_count": 7,
     "metadata": {},
     "output_type": "execute_result"
    }
   ],
   "source": [
    "catalog"
   ]
  },
  {
   "cell_type": "markdown",
   "id": "c47ba2f4",
   "metadata": {},
   "source": [
    "## ***Plots***"
   ]
  },
  {
   "cell_type": "markdown",
   "id": "cba0d38b",
   "metadata": {},
   "source": [
    "### Plot Functions"
   ]
  },
  {
   "cell_type": "code",
   "execution_count": 14,
   "id": "7a02094a",
   "metadata": {},
   "outputs": [],
   "source": [
    "%reload_ext autoreload\n",
    "def mask_func(signal,mask_dict):\n",
    "    if mask_dict != None:\n",
    "        assert mask_dict['relation'] in ('less','greater','equal'), 'Input key is not a valid string.'\n",
    "        #assert type(signal).__name__ == 'ndarray', 'signal must be an numpy array (ndarray)'\n",
    "\n",
    "        if mask_dict['relation'] == 'less':\n",
    "            mask = signal < mask_dict['value']\n",
    "\n",
    "        elif mask_dict['relation'] == 'greater':\n",
    "            mask = signal > mask_dict['value']\n",
    "\n",
    "        elif mask_dict['relation'] == 'equal':\n",
    "            mask = signal == mask_dict['value']\n",
    "    else:\n",
    "         mask = signal == signal   \n",
    "    return mask\n",
    "\n",
    "def plot_map(ra,dec,signal, verbose = False, map_type = 'cartesian',**kwargs):\n",
    "\n",
    "    ###-------------------------------------------###\n",
    "    #                Key informations               #\n",
    "    ###-------------------------------------------###\n",
    "    \n",
    "    nside = 4096\n",
    "    steradian_in_degrees = (180./np.pi)**2\n",
    "    sky_area = 4*np.pi*steradian_in_degrees   #Area of an sphere measured in degrees^2. Read more on https://www.mathsisfun.com/geometry/steradian.html\n",
    "    npixels = hp.nside2npix(nside)            #Númeto de pixeis em um Healpix pixelization scheme => 12.0*(nside)**2.0\n",
    "    area_of_each_pixel = sky_area/(npixels)   #In degrees^2.\n",
    "    pix_area_arcmin = 3600*area_of_each_pixel #Pixel area in (minutes of degree)².\n",
    "    \n",
    "    if verbose == True:\n",
    "        print('Number of pixels:',npixels,\n",
    "              '\\nSky area:', sky_area,'degrees²',\n",
    "              '\\nArea of each pixel:', area_of_each_pixel, 'degrees²;', pix_area_arcmin,'min^2')\n",
    "    \n",
    "    ###-------------------------------------------###\n",
    "    #                     Mask                      #\n",
    "    ###-------------------------------------------###\n",
    "    mask = mask_func(signal, kwargs['mask_dict'])\n",
    "    \n",
    "    ###-------------------------------------------###\n",
    "    #                     Plot                      #\n",
    "    ###-------------------------------------------###\n",
    "    \n",
    "    if map_type == 'cartesian':\n",
    "        \n",
    "        # Fig config\n",
    "        plt.clf()\n",
    "        fig, ax = plt.subplots(1, figsize = (16,9))\n",
    "        ax.set_facecolor('#696969')\n",
    "    \n",
    "        # To plot\n",
    "        sc = ax.scatter(ra[mask], dec[mask], c = signal[mask],\n",
    "                        vmin = kwargs['vmin'], vmax = kwargs['vmax'], cmap = kwargs['cmap'], \n",
    "                        marker = kwargs['marker'], s=kwargs['marker_size'], linewidths=kwargs['marker_linewidths'])\n",
    "\n",
    "        # Axis Stuff\n",
    "        #ax.set_xlim(0.9*np.nanmin(ra[mask]),1.1*np.nanmax(ra[mask]))\n",
    "        #ax.set_ylim(0.9*np.nanmin(dec[mask]),1.1*np.nanmax(dec[mask]))\n",
    "        ax.invert_xaxis()\n",
    "\n",
    "        # Labels\n",
    "        ax.set_xlabel('R.A. (degrees)', fontsize = 16)\n",
    "        ax.set_ylabel('DEC. (degrees)', fontsize = 16)\n",
    "        ax.set_title(kwargs['title'], fontsize = 20, weight='bold')\n",
    "        ax.tick_params(axis='both', which='major', labelsize=16)\n",
    "\n",
    "        # Colorbar\n",
    "        if kwargs['colorbar'] == True:\n",
    "            cbar = fig.colorbar(sc, ax = [ax], location = 'right', pad = 0)\n",
    "            cbar.set_label(kwargs['barlabel'], fontsize = 16, labelpad = 12.0)\n",
    "            cbar.set_ticks(kwargs['setticks'])\n",
    "            cbar.ax.tick_params(labelsize=16)\n",
    "\n",
    "        plt.show()  "
   ]
  },
  {
   "cell_type": "markdown",
   "id": "a4d8a6f5",
   "metadata": {},
   "source": [
    "### Footprint Map"
   ]
  },
  {
   "cell_type": "code",
   "execution_count": 19,
   "id": "5e788754",
   "metadata": {},
   "outputs": [
    {
     "data": {
      "text/plain": [
       "<Figure size 640x480 with 0 Axes>"
      ]
     },
     "metadata": {},
     "output_type": "display_data"
    },
    {
     "data": {
      "image/png": "[encoded data removed]",
      "text/plain": [
       "<Figure size 1600x900 with 2 Axes>"
      ]
     },
     "metadata": {},
     "output_type": "display_data"
    }
   ],
   "source": [
    "params = {'title':f\"Footprint Map\",\n",
    "          'barlabel':\"Signal\",\n",
    "          'vmin':0,\n",
    "          'vmax':1,\n",
    "          'cmap':cm.inferno,\n",
    "          'setticks':[0,1],\n",
    "          'mask_dict': None,\n",
    "          'colorbar': True,\n",
    "          'marker':',',\n",
    "          'marker_size':0.5,\n",
    "          'marker_linewidths':0.5\n",
    "         }\n",
    "\n",
    "plot_map(footprint_table['ra'],footprint_table['dec'], footprint_table['signal'],'cartesian', **params)"
   ]
  },
  {
   "cell_type": "code",
   "execution_count": null,
   "id": "c3229135-3247-4972-a14c-b91801c284e9",
   "metadata": {},
   "outputs": [],
   "source": []
  }
 ],
 "metadata": {
  "kernelspec": {
   "display_name": "goenv",
   "language": "python",
   "name": "goenv"
  },
  "language_info": {
   "codemirror_mode": {
    "name": "ipython",
    "version": 3
   },
   "file_extension": ".py",
   "mimetype": "text/x-python",
   "name": "python",
   "nbconvert_exporter": "python",
   "pygments_lexer": "ipython3",
   "version": "3.8.5"
  }
 },
 "nbformat": 4,
 "nbformat_minor": 5
}
