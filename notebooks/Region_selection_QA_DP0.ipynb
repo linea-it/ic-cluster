{
 "cells": [
  {
   "cell_type": "markdown",
   "id": "6e988650",
   "metadata": {},
   "source": [
    "# ***QA-VAC NOTEBOOK - Region Selection Plots from DP0***\n",
    "\n",
    "Author: Gabriel Luan Souza de Oliveira.\n",
    "\n",
    "Last update: 25/04/2022."
   ]
  },
  {
   "cell_type": "markdown",
   "id": "6a88b4ca",
   "metadata": {},
   "source": [
    "## ***Imported Modules***"
   ]
  },
  {
   "cell_type": "code",
   "execution_count": null,
   "id": "ee4813e6",
   "metadata": {},
   "outputs": [],
   "source": [
    "%load_ext autoreload\n",
    "%autoreload 2\n",
    "\n",
    "import numpy as np\n",
    "import healpy as hp\n",
    "import bokeh as bk\n",
    "import holoviews as hv\n",
    "import matplotlib.pyplot as plt\n",
    "import scipy.stats as sst\n",
    "\n",
    "from matplotlib.pyplot import cm\n",
    "from astropy.table import Table\n",
    "from bokeh.io import output_notebook, show\n",
    "from holoviews import streams, opts\n",
    "from holoviews.operation.datashader import datashade, shade, dynspread, spread, rasterize\n",
    "\n",
    "hv.extension('bokeh')\n",
    "output_notebook()\n",
    "\n",
    "import copy\n",
    "from gavodb import DBManager"
   ]
  },
  {
   "cell_type": "markdown",
   "id": "da7b9664",
   "metadata": {},
   "source": [
    "## ***Loading Data***"
   ]
  },
  {
   "cell_type": "markdown",
   "id": "9eba2d3d",
   "metadata": {},
   "source": [
    "### Calling DBManager"
   ]
  },
  {
   "cell_type": "code",
   "execution_count": null,
   "id": "7150be09",
   "metadata": {},
   "outputs": [],
   "source": [
    "dbm = DBManager()"
   ]
  },
  {
   "cell_type": "markdown",
   "id": "c49cfee8-592a-4e79-b2df-aa25dd37c36f",
   "metadata": {},
   "source": [
    "### Required infos and table names from pid"
   ]
  },
  {
   "cell_type": "code",
   "execution_count": null,
   "id": "d1130ad0-d20a-46e8-8623-f59221ffa85e",
   "metadata": {},
   "outputs": [],
   "source": [
    "main_pid = '6941'\n",
    "nside = 4096\n",
    "footprint_area = 301.77 #degrees²\n",
    "nest = False\n",
    "limit = False #False for complete tables, integer n for n rows.\n",
    "verbose = False\n",
    "table_names_from_pid = dbm.get_tablelist_from_pid(main_pid)\n",
    "print(f'Tables from PID {main_pid}:',table_names_from_pid)"
   ]
  },
  {
   "cell_type": "markdown",
   "id": "9ad3b9d0",
   "metadata": {},
   "source": [
    "### Footprint table"
   ]
  },
  {
   "cell_type": "code",
   "execution_count": null,
   "id": "a312d0c8",
   "metadata": {},
   "outputs": [],
   "source": [
    "%%time\n",
    "footprint_table = dbm.table_loading(main_pid,0,columns = None,limit = limit, verbose = verbose)\n",
    "\n",
    "if 'ra' and 'dec' not in footprint_table.keys():\n",
    "    ra,dec = hp.pix2ang(nside=nside, ipix=footprint_table['pixel'].astype(int), lonlat = True, nest = nest)\n",
    "    ra[ra>180] -= 360\n",
    "    footprint_table['ra'] = ra\n",
    "    footprint_table['dec'] = dec\n",
    "    print(\"'ra' and dec' columns add from healpy pixels.\")\n",
    "    \n",
    "else:\n",
    "    print(\"No columns added.\")"
   ]
  },
  {
   "cell_type": "code",
   "execution_count": null,
   "id": "84a6e04f-2cc4-4552-9857-8d60d56852b8",
   "metadata": {},
   "outputs": [],
   "source": [
    "footprint_table"
   ]
  },
  {
   "cell_type": "markdown",
   "id": "633aea88-41c6-4568-b93f-fe8f8fee6be5",
   "metadata": {},
   "source": [
    "### Full catalog"
   ]
  },
  {
   "cell_type": "code",
   "execution_count": null,
   "id": "b19a1b09-201f-4dfa-bada-0b953ba384da",
   "metadata": {},
   "outputs": [],
   "source": [
    "%%time\n",
    "#catalog = dbm.table_loading(main_pid,1,columns = ['ra','dec','coadd_objects_id','z_best'],limit = limit, verbose = verbose,\n",
    "#                            footprint_table_name = table_names_from_pid[0], sorting_columns = ['coadd_objects_id','pixel'])\n",
    "#catalog = dbm.table_loading(main_pid,1,columns = ['ra','dec','coadd_objects_id','z_best'],limit = 500000, verbose = verbose)\n",
    "#ra_dec_catalog = dbm.table_loading(main_pid,1,columns = ['ra','dec'],limit = False, verbose = verbose)\n",
    "simple_catalog = catalog = dbm.table_loading(main_pid,1,columns = ['ra','dec','coadd_objects_id','z_best'],limit = 5000, verbose = verbose)"
   ]
  },
  {
   "cell_type": "code",
   "execution_count": null,
   "id": "04535789-d49d-42ee-bf8c-d0cb0fbc8bb0",
   "metadata": {},
   "outputs": [],
   "source": [
    "simple_catalog"
   ]
  },
  {
   "cell_type": "markdown",
   "id": "c47ba2f4",
   "metadata": {
    "tags": []
   },
   "source": [
    "## ***Plots***"
   ]
  },
  {
   "cell_type": "markdown",
   "id": "cba0d38b",
   "metadata": {},
   "source": [
    "### Plot Functions"
   ]
  },
  {
   "cell_type": "code",
   "execution_count": null,
   "id": "7a02094a",
   "metadata": {},
   "outputs": [],
   "source": [
    "%reload_ext autoreload\n",
    "def mask_func(signal,mask_dict):\n",
    "    if mask_dict != None and signal != None:\n",
    "        assert mask_dict['relation'] in ('less','greater','equal'), 'Input key is not a valid string.'\n",
    "        #assert type(signal).__name__ == 'ndarray', 'signal must be an numpy array (ndarray)'\n",
    "\n",
    "        if mask_dict['relation'] == 'less':\n",
    "            mask = signal < mask_dict['value']\n",
    "\n",
    "        elif mask_dict['relation'] == 'greater':\n",
    "            mask = signal > mask_dict['value']\n",
    "\n",
    "        elif mask_dict['relation'] == 'equal':\n",
    "            mask = signal == mask_dict['value']\n",
    "    \n",
    "    if mask_dict == None and signal != None:\n",
    "         mask = signal == signal\n",
    "    \n",
    "    if mask_dict == None and signal == None:\n",
    "         mask = slice(0, None, None)\n",
    "    return mask\n",
    "\n",
    "def plot_map(ra,dec,signal, verbose = False, map_type = 'scatter',**kwargs):\n",
    "\n",
    "    ###-------------------------------------------###\n",
    "    #                Key informations               #\n",
    "    ###-------------------------------------------###\n",
    "    \n",
    "    nside = 4096\n",
    "    steradian_in_degrees = (180./np.pi)**2\n",
    "    sky_area = 4*np.pi*steradian_in_degrees   #Area of an sphere measured in degrees^2. Read more on https://www.mathsisfun.com/geometry/steradian.html\n",
    "    npixels = hp.nside2npix(nside)            #Númeto de pixeis em um Healpix pixelization scheme => 12.0*(nside)**2.0\n",
    "    area_of_each_pixel = sky_area/(npixels)   #In degrees^2.\n",
    "    pix_area_arcmin = 3600*area_of_each_pixel #Pixel area in (minutes of degree)².\n",
    "    \n",
    "    if verbose == True:\n",
    "        print('Number of pixels:',npixels,\n",
    "              '\\nSky area:', sky_area,'degrees²',\n",
    "              '\\nArea of each pixel:', area_of_each_pixel, 'degrees²;', pix_area_arcmin,'min^2')\n",
    "    \n",
    "    ###-------------------------------------------###\n",
    "    #                     Mask                      #\n",
    "    ###-------------------------------------------###\n",
    "    mask = mask_func(signal, kwargs['mask_dict'])\n",
    "    \n",
    "    ###-------------------------------------------###\n",
    "    #                     Plot                      #\n",
    "    ###-------------------------------------------###\n",
    "    \n",
    "    if map_type == 'scatter':\n",
    "        \n",
    "        # Fig config\n",
    "        plt.clf()\n",
    "        fig, ax = plt.subplots(1, figsize = kwargs['figsize'])\n",
    "        ax.set_facecolor('#696969')\n",
    "    \n",
    "        # To plot\n",
    "        if signal is not None: \n",
    "            sc = ax.scatter(ra[mask], dec[mask], c = signal[mask],\n",
    "                            vmin = kwargs['vmin'], vmax = kwargs['vmax'], cmap = kwargs['cmap'], \n",
    "                            marker = kwargs['marker'], s=kwargs['marker_size'], linewidths=kwargs['marker_linewidths'])\n",
    "        else:\n",
    "            sc = ax.scatter(ra[mask], dec[mask], c = None, color = kwargs['color'], \n",
    "                            marker = kwargs['marker'], s=kwargs['marker_size'], linewidths=kwargs['marker_linewidths'])\n",
    "            \n",
    "        \n",
    "\n",
    "        # Axis Stuff\n",
    "        #ax.set_xlim(0.9*np.nanmin(ra[mask]),1.1*np.nanmax(ra[mask]))\n",
    "        #ax.set_ylim(0.9*np.nanmin(dec[mask]),1.1*np.nanmax(dec[mask]))\n",
    "        ax.invert_xaxis()\n",
    "\n",
    "        # Labels\n",
    "        ax.set_xlabel('R.A. (degrees)', fontsize = 16)\n",
    "        ax.set_ylabel('DEC. (degrees)', fontsize = 16)\n",
    "        ax.set_title(kwargs['title'], fontsize = 20, weight='bold')\n",
    "        ax.tick_params(axis='both', which='major', labelsize=16)\n",
    "\n",
    "        # Colorbar\n",
    "        if kwargs['colorbar'] == True:\n",
    "            cbar = fig.colorbar(sc, ax = [ax], location = 'right', pad = 0)\n",
    "            cbar.set_label(kwargs['barlabel'], fontsize = 16, labelpad = 12.0)\n",
    "            cbar.set_ticks(kwargs['setticks'])\n",
    "            cbar.ax.tick_params(labelsize=16)\n",
    "\n",
    "        plt.show()\n",
    "    \n",
    "    if map_type == 'hexbin':\n",
    "        # Fig config\n",
    "        plt.clf()\n",
    "        fig, ax = plt.subplots(1, figsize = kwargs['figsize'])\n",
    "        ax.set_facecolor('#696969')\n",
    "        \n",
    "        # To plot\n",
    "        hexbin = ax.hexbin(ra[mask], dec[mask], gridsize=kwargs['nbins'])\n",
    "        # Axis Stuff\n",
    "        #ax.set_xlim(0.9*np.nanmin(ra[mask]),1.1*np.nanmax(ra[mask]))\n",
    "        #ax.set_ylim(0.9*np.nanmin(dec[mask]),1.1*np.nanmax(dec[mask]))\n",
    "        ax.invert_xaxis()\n",
    "        \n",
    "        # Labels\n",
    "        ax.set_xlabel('R.A. (degrees)', fontsize = 16)\n",
    "        ax.set_ylabel('DEC. (degrees)', fontsize = 16)\n",
    "        ax.set_title(kwargs['title'], fontsize = 20, weight='bold')\n",
    "        ax.tick_params(axis='both', which='major', labelsize=16)\n",
    "\n",
    "        # Colorbar\n",
    "        if kwargs['colorbar'] == True:\n",
    "            cbar = fig.colorbar(hexbin, ax = [ax], location = 'right', pad = 0)\n",
    "            cbar.set_label(kwargs['barlabel'], fontsize = 16, labelpad = 12.0)\n",
    "            cbar.set_ticks(kwargs['setticks'])\n",
    "            cbar.ax.tick_params(labelsize=16)\n",
    "\n",
    "        plt.show()\n",
    "        \n",
    "    if map_type == 'hist2d':\n",
    "        # Fig config\n",
    "        plt.clf()\n",
    "        fig, ax = plt.subplots(1, figsize = kwargs['figsize'])\n",
    "        ax.set_facecolor('#696969')\n",
    "        \n",
    "        # To plot\n",
    "        hist_2d = ax.hist2d(ra[mask], dec[mask], bins = kwargs['nbins'])\n",
    "        # Axis Stuff\n",
    "        #ax.set_xlim(0.9*np.nanmin(ra[mask]),1.1*np.nanmax(ra[mask]))\n",
    "        #ax.set_ylim(0.9*np.nanmin(dec[mask]),1.1*np.nanmax(dec[mask]))\n",
    "        ax.invert_xaxis()\n",
    "        \n",
    "        # Labels\n",
    "        ax.set_xlabel('R.A. (degrees)', fontsize = 16)\n",
    "        ax.set_ylabel('DEC. (degrees)', fontsize = 16)\n",
    "        ax.set_title(kwargs['title'], fontsize = 20, weight='bold')\n",
    "        ax.tick_params(axis='both', which='major', labelsize=16)\n",
    "\n",
    "        # Colorbar\n",
    "        if kwargs['colorbar'] == True:\n",
    "            cbar = fig.colorbar(hist_2d[3], ax = [ax], location = 'right', pad = 0)\n",
    "            cbar.set_label(kwargs['barlabel'], fontsize = 16, labelpad = 12.0)\n",
    "            cbar.set_ticks(kwargs['setticks'])\n",
    "            cbar.ax.tick_params(labelsize=16)\n",
    "\n",
    "        plt.show()\n",
    "        \n",
    "    if map_type == 'gaussian_kde':\n",
    "        # Fig config\n",
    "        plt.clf()\n",
    "        fig, ax = plt.subplots(1, figsize = kwargs['figsize'])\n",
    "        ax.set_facecolor('#696969')\n",
    "        \n",
    "        # To plot\n",
    "        k = sst.gaussian_kde(np.vstack([ra[mask],dec[mask]]))\n",
    "        xi, yi = np.mgrid[ra[mask].min():ra[mask].max():kwargs['nbins']*1j, dec[mask].min():dec[mask].max():kwargs['nbins']*1j]\n",
    "        zi = k(np.vstack([xi.flatten(), yi.flatten()]))/kwargs['footprint_area']\n",
    "        gk = ax.pcolormesh(xi, yi, zi.reshape(xi.shape), vmin=np.min(zi.reshape(xi.shape)), vmax=np.max(zi.reshape(xi.shape)))\n",
    "        \n",
    "        # Axis Stuff\n",
    "        #ax.set_xlim(0.9*np.nanmin(ra[mask]),1.1*np.nanmax(ra[mask]))\n",
    "        #ax.set_ylim(0.9*np.nanmin(dec[mask]),1.1*np.nanmax(dec[mask]))\n",
    "        ax.invert_xaxis()\n",
    "        \n",
    "        # Labels\n",
    "        ax.set_xlabel('R.A. (degrees)', fontsize = 16)\n",
    "        ax.set_ylabel('DEC. (degrees)', fontsize = 16)\n",
    "        ax.set_title(kwargs['title'], fontsize = 20, weight='bold')\n",
    "        ax.tick_params(axis='both', which='major', labelsize=16)\n",
    "\n",
    "        # Colorbar\n",
    "        if kwargs['colorbar'] == True:\n",
    "            cbar = fig.colorbar(gk, ax = [ax], location = 'right', pad = 0)\n",
    "            cbar.set_label(kwargs['barlabel'], fontsize = 16, labelpad = 12.0)\n",
    "            cbar.set_ticks(kwargs['setticks'])\n",
    "            cbar.ax.tick_params(labelsize=16)\n",
    "        \n",
    "        print('Integral on 2D plane = ',k.integrate_box([-np.inf,-np.inf],[np.inf,np.inf]))\n",
    "        plt.show()"
   ]
  },
  {
   "cell_type": "markdown",
   "id": "a4d8a6f5",
   "metadata": {},
   "source": [
    "### Footprint Map"
   ]
  },
  {
   "cell_type": "code",
   "execution_count": null,
   "id": "5e788754",
   "metadata": {},
   "outputs": [],
   "source": [
    "params = {'title':f\"Footprint Map\",\n",
    "          'barlabel':\"Signal\",\n",
    "          'vmin':0,\n",
    "          'vmax':1,\n",
    "          'cmap':cm.inferno,\n",
    "          'setticks':[0,1],\n",
    "          'mask_dict': None,\n",
    "          'colorbar': True,\n",
    "          'marker':',',\n",
    "          'marker_size':0.5,\n",
    "          'marker_linewidths':0.5,\n",
    "          'figsize': [16,9]\n",
    "         }\n",
    "\n",
    "plot_map(footprint_table['ra'],footprint_table['dec'], footprint_table['signal'],'scatter', **params)\n",
    "del footprint_table"
   ]
  },
  {
   "cell_type": "markdown",
   "id": "6ae49554-8a31-40b5-aa27-f34ebe44985c",
   "metadata": {},
   "source": [
    "### Catalog scatter Map"
   ]
  },
  {
   "cell_type": "code",
   "execution_count": null,
   "id": "194c77d3-e3f7-4cdb-84cd-9f5703b5da8a",
   "metadata": {},
   "outputs": [],
   "source": [
    "params = {'title':f\"Catalog scatter Map\",\n",
    "          'color':'white',\n",
    "          'setticks':None,\n",
    "          'mask_dict': None,\n",
    "          'colorbar': False,\n",
    "          'marker':'.',\n",
    "          'marker_size':1.0,\n",
    "          'marker_linewidths':0.5,\n",
    "          'figsize': [16,9]\n",
    "         }\n",
    "plot_map(simple_catalog['ra'],simple_catalog['dec'], None,'scatter', **params)"
   ]
  },
  {
   "cell_type": "markdown",
   "id": "1e237234-1f92-41ef-89fd-908e856ed78d",
   "metadata": {},
   "source": [
    "### Catalog Hexbin count Map"
   ]
  },
  {
   "cell_type": "code",
   "execution_count": null,
   "id": "cffe1d2c-b4a6-476d-a349-be5305a7b2bf",
   "metadata": {},
   "outputs": [],
   "source": [
    "params = {'title':f\"Catalog Hexbin Map\",\n",
    "          'barlabel': 'Counts',\n",
    "          'setticks':None,\n",
    "          'mask_dict': None,\n",
    "          'colorbar': True,\n",
    "          'marker':'.',\n",
    "          'marker_size':1.0,\n",
    "          'marker_linewidths':0.5,\n",
    "          'figsize': [16,9],\n",
    "          'nbins': 25\n",
    "         }\n",
    "plot_map(simple_catalog['ra'],simple_catalog['dec'], None,map_type = 'hexbin', **params)"
   ]
  },
  {
   "cell_type": "markdown",
   "id": "19dd9114-63b2-44af-9a7b-4dbd515c4922",
   "metadata": {},
   "source": [
    "### Catalog Hist2D count Map"
   ]
  },
  {
   "cell_type": "code",
   "execution_count": null,
   "id": "aec1ab53-3d42-4f6c-8c27-4d54b8cb878f",
   "metadata": {},
   "outputs": [],
   "source": [
    "params = {'title':f\"Catalog Hist2D Map\",\n",
    "          'barlabel': 'Counts',\n",
    "          'setticks':None,\n",
    "          'mask_dict': None,\n",
    "          'colorbar': True,\n",
    "          'marker':'.',\n",
    "          'marker_size':1.0,\n",
    "          'marker_linewidths':0.5,\n",
    "          'figsize': [16,9],\n",
    "          'nbins': 25\n",
    "         }\n",
    "plot_map(simple_catalog['ra'],simple_catalog['dec'], None, map_type = 'hist2d', **params)"
   ]
  },
  {
   "cell_type": "markdown",
   "id": "393450ca-8ccb-4e41-8296-9996b6340521",
   "metadata": {},
   "source": [
    "### Catalog Gaussian_kde Density Map"
   ]
  },
  {
   "cell_type": "code",
   "execution_count": null,
   "id": "963641db-0cdd-47ac-a86d-f294b942c522",
   "metadata": {},
   "outputs": [],
   "source": [
    "params = {'title':f\"Catalog Gaussian_kde Map\",\n",
    "          'barlabel': 'Density ' r'$(Counts/deg^{2})$',\n",
    "          'setticks':None,\n",
    "          'mask_dict': None,\n",
    "          'colorbar': True,\n",
    "          'marker':'.',\n",
    "          'marker_size':1.0,\n",
    "          'marker_linewidths':0.5,\n",
    "          'figsize': [16,9],\n",
    "          'nbins': 25,\n",
    "          'footprint_area': footprint_area\n",
    "         }\n",
    "plot_map(simple_catalog['ra'],simple_catalog['dec'], None, map_type = 'gaussian_kde', **params)"
   ]
  }
 ],
 "metadata": {
  "kernelspec": {
   "display_name": "goenv",
   "language": "python",
   "name": "goenv"
  },
  "language_info": {
   "codemirror_mode": {
    "name": "ipython",
    "version": 3
   },
   "file_extension": ".py",
   "mimetype": "text/x-python",
   "name": "python",
   "nbconvert_exporter": "python",
   "pygments_lexer": "ipython3",
   "version": "3.8.13"
  }
 },
 "nbformat": 4,
 "nbformat_minor": 5
}
